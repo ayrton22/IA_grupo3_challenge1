{
 "cells": [
  {
   "cell_type": "code",
   "execution_count": 10,
   "metadata": {},
   "outputs": [],
   "source": [
    "import pandas as pd\n",
    "import numpy as np\n",
    "from sklearn.feature_extraction.text import CountVectorizer\n",
    "from nltk.corpus import stopwords\n",
    "from sklearn.model_selection import train_test_split\n",
    "import unidecode\n",
    "import seaborn as sns\n",
    "from sklearn.feature_extraction.text import TfidfVectorizer\n",
    "from sklearn.metrics import accuracy_score\n",
    "import matplotlib.pyplot as plt"
   ]
  },
  {
   "cell_type": "markdown",
   "metadata": {},
   "source": [
    "## Clasificación binaria de noticias Fake o True"
   ]
  },
  {
   "cell_type": "code",
   "execution_count": 11,
   "metadata": {
    "jupyter": {
     "source_hidden": true
    }
   },
   "outputs": [],
   "source": [
    "#! conda install --yes nltk==3.4.5\n",
    "#! conda install --yes unidecode"
   ]
  },
  {
   "cell_type": "code",
   "execution_count": 12,
   "metadata": {},
   "outputs": [],
   "source": [
    "df_fake =pd.read_csv(\"../Fakenews/Fake.csv\")\n",
    "df_true =pd.read_csv(\"../Fakenews/True.csv\")\n",
    "\n",
    "#df_fake =pd.read_csv(\"Fake.csv\")\n",
    "#df_true =pd.read_csv(\"True.csv\")"
   ]
  },
  {
   "cell_type": "code",
   "execution_count": 13,
   "metadata": {},
   "outputs": [],
   "source": [
    "#PARA IMPORTAR CON GOOGLE COLAB\n",
    "\n",
    "#import io \n",
    "\n",
    "#from google.colab import files \n",
    "#uploaded = files.upload()\n",
    "#df_true = pd.read_csv(io.BytesIO(uploaded['True.csv'])) \n",
    "#df_fake = pd.read_csv(io.BytesIO(uploaded['Fake.csv'])) "
   ]
  },
  {
   "cell_type": "code",
   "execution_count": 14,
   "metadata": {},
   "outputs": [
    {
     "name": "stdout",
     "output_type": "stream",
     "text": [
      "(23481, 4)\n"
     ]
    },
    {
     "data": {
      "text/html": [
       "<div>\n",
       "<style scoped>\n",
       "    .dataframe tbody tr th:only-of-type {\n",
       "        vertical-align: middle;\n",
       "    }\n",
       "\n",
       "    .dataframe tbody tr th {\n",
       "        vertical-align: top;\n",
       "    }\n",
       "\n",
       "    .dataframe thead th {\n",
       "        text-align: right;\n",
       "    }\n",
       "</style>\n",
       "<table border=\"1\" class=\"dataframe\">\n",
       "  <thead>\n",
       "    <tr style=\"text-align: right;\">\n",
       "      <th></th>\n",
       "      <th>title</th>\n",
       "      <th>text</th>\n",
       "      <th>subject</th>\n",
       "      <th>date</th>\n",
       "    </tr>\n",
       "  </thead>\n",
       "  <tbody>\n",
       "    <tr>\n",
       "      <th>0</th>\n",
       "      <td>Donald Trump Sends Out Embarrassing New Year’...</td>\n",
       "      <td>Donald Trump just couldn t wish all Americans ...</td>\n",
       "      <td>News</td>\n",
       "      <td>December 31, 2017</td>\n",
       "    </tr>\n",
       "    <tr>\n",
       "      <th>1</th>\n",
       "      <td>Drunk Bragging Trump Staffer Started Russian ...</td>\n",
       "      <td>House Intelligence Committee Chairman Devin Nu...</td>\n",
       "      <td>News</td>\n",
       "      <td>December 31, 2017</td>\n",
       "    </tr>\n",
       "    <tr>\n",
       "      <th>2</th>\n",
       "      <td>Sheriff David Clarke Becomes An Internet Joke...</td>\n",
       "      <td>On Friday, it was revealed that former Milwauk...</td>\n",
       "      <td>News</td>\n",
       "      <td>December 30, 2017</td>\n",
       "    </tr>\n",
       "    <tr>\n",
       "      <th>3</th>\n",
       "      <td>Trump Is So Obsessed He Even Has Obama’s Name...</td>\n",
       "      <td>On Christmas day, Donald Trump announced that ...</td>\n",
       "      <td>News</td>\n",
       "      <td>December 29, 2017</td>\n",
       "    </tr>\n",
       "    <tr>\n",
       "      <th>4</th>\n",
       "      <td>Pope Francis Just Called Out Donald Trump Dur...</td>\n",
       "      <td>Pope Francis used his annual Christmas Day mes...</td>\n",
       "      <td>News</td>\n",
       "      <td>December 25, 2017</td>\n",
       "    </tr>\n",
       "  </tbody>\n",
       "</table>\n",
       "</div>"
      ],
      "text/plain": [
       "                                               title  \\\n",
       "0   Donald Trump Sends Out Embarrassing New Year’...   \n",
       "1   Drunk Bragging Trump Staffer Started Russian ...   \n",
       "2   Sheriff David Clarke Becomes An Internet Joke...   \n",
       "3   Trump Is So Obsessed He Even Has Obama’s Name...   \n",
       "4   Pope Francis Just Called Out Donald Trump Dur...   \n",
       "\n",
       "                                                text subject  \\\n",
       "0  Donald Trump just couldn t wish all Americans ...    News   \n",
       "1  House Intelligence Committee Chairman Devin Nu...    News   \n",
       "2  On Friday, it was revealed that former Milwauk...    News   \n",
       "3  On Christmas day, Donald Trump announced that ...    News   \n",
       "4  Pope Francis used his annual Christmas Day mes...    News   \n",
       "\n",
       "                date  \n",
       "0  December 31, 2017  \n",
       "1  December 31, 2017  \n",
       "2  December 30, 2017  \n",
       "3  December 29, 2017  \n",
       "4  December 25, 2017  "
      ]
     },
     "execution_count": 14,
     "metadata": {},
     "output_type": "execute_result"
    }
   ],
   "source": [
    "print(df_fake.shape)\n",
    "df_fake.head()"
   ]
  },
  {
   "cell_type": "code",
   "execution_count": 15,
   "metadata": {},
   "outputs": [
    {
     "name": "stdout",
     "output_type": "stream",
     "text": [
      "(21417, 4)\n"
     ]
    },
    {
     "data": {
      "text/html": [
       "<div>\n",
       "<style scoped>\n",
       "    .dataframe tbody tr th:only-of-type {\n",
       "        vertical-align: middle;\n",
       "    }\n",
       "\n",
       "    .dataframe tbody tr th {\n",
       "        vertical-align: top;\n",
       "    }\n",
       "\n",
       "    .dataframe thead th {\n",
       "        text-align: right;\n",
       "    }\n",
       "</style>\n",
       "<table border=\"1\" class=\"dataframe\">\n",
       "  <thead>\n",
       "    <tr style=\"text-align: right;\">\n",
       "      <th></th>\n",
       "      <th>title</th>\n",
       "      <th>text</th>\n",
       "      <th>subject</th>\n",
       "      <th>date</th>\n",
       "    </tr>\n",
       "  </thead>\n",
       "  <tbody>\n",
       "    <tr>\n",
       "      <th>0</th>\n",
       "      <td>As U.S. budget fight looms, Republicans flip t...</td>\n",
       "      <td>WASHINGTON (Reuters) - The head of a conservat...</td>\n",
       "      <td>politicsNews</td>\n",
       "      <td>December 31, 2017</td>\n",
       "    </tr>\n",
       "    <tr>\n",
       "      <th>1</th>\n",
       "      <td>U.S. military to accept transgender recruits o...</td>\n",
       "      <td>WASHINGTON (Reuters) - Transgender people will...</td>\n",
       "      <td>politicsNews</td>\n",
       "      <td>December 29, 2017</td>\n",
       "    </tr>\n",
       "    <tr>\n",
       "      <th>2</th>\n",
       "      <td>Senior U.S. Republican senator: 'Let Mr. Muell...</td>\n",
       "      <td>WASHINGTON (Reuters) - The special counsel inv...</td>\n",
       "      <td>politicsNews</td>\n",
       "      <td>December 31, 2017</td>\n",
       "    </tr>\n",
       "    <tr>\n",
       "      <th>3</th>\n",
       "      <td>FBI Russia probe helped by Australian diplomat...</td>\n",
       "      <td>WASHINGTON (Reuters) - Trump campaign adviser ...</td>\n",
       "      <td>politicsNews</td>\n",
       "      <td>December 30, 2017</td>\n",
       "    </tr>\n",
       "    <tr>\n",
       "      <th>4</th>\n",
       "      <td>Trump wants Postal Service to charge 'much mor...</td>\n",
       "      <td>SEATTLE/WASHINGTON (Reuters) - President Donal...</td>\n",
       "      <td>politicsNews</td>\n",
       "      <td>December 29, 2017</td>\n",
       "    </tr>\n",
       "  </tbody>\n",
       "</table>\n",
       "</div>"
      ],
      "text/plain": [
       "                                               title  \\\n",
       "0  As U.S. budget fight looms, Republicans flip t...   \n",
       "1  U.S. military to accept transgender recruits o...   \n",
       "2  Senior U.S. Republican senator: 'Let Mr. Muell...   \n",
       "3  FBI Russia probe helped by Australian diplomat...   \n",
       "4  Trump wants Postal Service to charge 'much mor...   \n",
       "\n",
       "                                                text       subject  \\\n",
       "0  WASHINGTON (Reuters) - The head of a conservat...  politicsNews   \n",
       "1  WASHINGTON (Reuters) - Transgender people will...  politicsNews   \n",
       "2  WASHINGTON (Reuters) - The special counsel inv...  politicsNews   \n",
       "3  WASHINGTON (Reuters) - Trump campaign adviser ...  politicsNews   \n",
       "4  SEATTLE/WASHINGTON (Reuters) - President Donal...  politicsNews   \n",
       "\n",
       "                 date  \n",
       "0  December 31, 2017   \n",
       "1  December 29, 2017   \n",
       "2  December 31, 2017   \n",
       "3  December 30, 2017   \n",
       "4  December 29, 2017   "
      ]
     },
     "execution_count": 15,
     "metadata": {},
     "output_type": "execute_result"
    }
   ],
   "source": [
    "print(df_true.shape)\n",
    "df_true.head()"
   ]
  },
  {
   "cell_type": "code",
   "execution_count": 16,
   "metadata": {},
   "outputs": [
    {
     "data": {
      "text/html": [
       "<div>\n",
       "<style scoped>\n",
       "    .dataframe tbody tr th:only-of-type {\n",
       "        vertical-align: middle;\n",
       "    }\n",
       "\n",
       "    .dataframe tbody tr th {\n",
       "        vertical-align: top;\n",
       "    }\n",
       "\n",
       "    .dataframe thead th {\n",
       "        text-align: right;\n",
       "    }\n",
       "</style>\n",
       "<table border=\"1\" class=\"dataframe\">\n",
       "  <thead>\n",
       "    <tr style=\"text-align: right;\">\n",
       "      <th></th>\n",
       "      <th>title</th>\n",
       "      <th>text</th>\n",
       "      <th>subject</th>\n",
       "      <th>date</th>\n",
       "      <th>class</th>\n",
       "    </tr>\n",
       "  </thead>\n",
       "  <tbody>\n",
       "    <tr>\n",
       "      <th>0</th>\n",
       "      <td>Donald Trump Sends Out Embarrassing New Year’...</td>\n",
       "      <td>Donald Trump just couldn t wish all Americans ...</td>\n",
       "      <td>News</td>\n",
       "      <td>December 31, 2017</td>\n",
       "      <td>1</td>\n",
       "    </tr>\n",
       "    <tr>\n",
       "      <th>1</th>\n",
       "      <td>Drunk Bragging Trump Staffer Started Russian ...</td>\n",
       "      <td>House Intelligence Committee Chairman Devin Nu...</td>\n",
       "      <td>News</td>\n",
       "      <td>December 31, 2017</td>\n",
       "      <td>1</td>\n",
       "    </tr>\n",
       "    <tr>\n",
       "      <th>2</th>\n",
       "      <td>Sheriff David Clarke Becomes An Internet Joke...</td>\n",
       "      <td>On Friday, it was revealed that former Milwauk...</td>\n",
       "      <td>News</td>\n",
       "      <td>December 30, 2017</td>\n",
       "      <td>1</td>\n",
       "    </tr>\n",
       "    <tr>\n",
       "      <th>3</th>\n",
       "      <td>Trump Is So Obsessed He Even Has Obama’s Name...</td>\n",
       "      <td>On Christmas day, Donald Trump announced that ...</td>\n",
       "      <td>News</td>\n",
       "      <td>December 29, 2017</td>\n",
       "      <td>1</td>\n",
       "    </tr>\n",
       "    <tr>\n",
       "      <th>4</th>\n",
       "      <td>Pope Francis Just Called Out Donald Trump Dur...</td>\n",
       "      <td>Pope Francis used his annual Christmas Day mes...</td>\n",
       "      <td>News</td>\n",
       "      <td>December 25, 2017</td>\n",
       "      <td>1</td>\n",
       "    </tr>\n",
       "  </tbody>\n",
       "</table>\n",
       "</div>"
      ],
      "text/plain": [
       "                                               title  \\\n",
       "0   Donald Trump Sends Out Embarrassing New Year’...   \n",
       "1   Drunk Bragging Trump Staffer Started Russian ...   \n",
       "2   Sheriff David Clarke Becomes An Internet Joke...   \n",
       "3   Trump Is So Obsessed He Even Has Obama’s Name...   \n",
       "4   Pope Francis Just Called Out Donald Trump Dur...   \n",
       "\n",
       "                                                text subject  \\\n",
       "0  Donald Trump just couldn t wish all Americans ...    News   \n",
       "1  House Intelligence Committee Chairman Devin Nu...    News   \n",
       "2  On Friday, it was revealed that former Milwauk...    News   \n",
       "3  On Christmas day, Donald Trump announced that ...    News   \n",
       "4  Pope Francis used his annual Christmas Day mes...    News   \n",
       "\n",
       "                date  class  \n",
       "0  December 31, 2017      1  \n",
       "1  December 31, 2017      1  \n",
       "2  December 30, 2017      1  \n",
       "3  December 29, 2017      1  \n",
       "4  December 25, 2017      1  "
      ]
     },
     "execution_count": 16,
     "metadata": {},
     "output_type": "execute_result"
    }
   ],
   "source": [
    "#Agregamos una columna de clase 1 para las fake\n",
    "df_fake[\"class\"] = 1\n",
    "df_fake.head()"
   ]
  },
  {
   "cell_type": "code",
   "execution_count": 17,
   "metadata": {},
   "outputs": [
    {
     "data": {
      "text/html": [
       "<div>\n",
       "<style scoped>\n",
       "    .dataframe tbody tr th:only-of-type {\n",
       "        vertical-align: middle;\n",
       "    }\n",
       "\n",
       "    .dataframe tbody tr th {\n",
       "        vertical-align: top;\n",
       "    }\n",
       "\n",
       "    .dataframe thead th {\n",
       "        text-align: right;\n",
       "    }\n",
       "</style>\n",
       "<table border=\"1\" class=\"dataframe\">\n",
       "  <thead>\n",
       "    <tr style=\"text-align: right;\">\n",
       "      <th></th>\n",
       "      <th>title</th>\n",
       "      <th>text</th>\n",
       "      <th>subject</th>\n",
       "      <th>date</th>\n",
       "      <th>class</th>\n",
       "    </tr>\n",
       "  </thead>\n",
       "  <tbody>\n",
       "    <tr>\n",
       "      <th>0</th>\n",
       "      <td>As U.S. budget fight looms, Republicans flip t...</td>\n",
       "      <td>WASHINGTON (Reuters) - The head of a conservat...</td>\n",
       "      <td>politicsNews</td>\n",
       "      <td>December 31, 2017</td>\n",
       "      <td>0</td>\n",
       "    </tr>\n",
       "    <tr>\n",
       "      <th>1</th>\n",
       "      <td>U.S. military to accept transgender recruits o...</td>\n",
       "      <td>WASHINGTON (Reuters) - Transgender people will...</td>\n",
       "      <td>politicsNews</td>\n",
       "      <td>December 29, 2017</td>\n",
       "      <td>0</td>\n",
       "    </tr>\n",
       "    <tr>\n",
       "      <th>2</th>\n",
       "      <td>Senior U.S. Republican senator: 'Let Mr. Muell...</td>\n",
       "      <td>WASHINGTON (Reuters) - The special counsel inv...</td>\n",
       "      <td>politicsNews</td>\n",
       "      <td>December 31, 2017</td>\n",
       "      <td>0</td>\n",
       "    </tr>\n",
       "    <tr>\n",
       "      <th>3</th>\n",
       "      <td>FBI Russia probe helped by Australian diplomat...</td>\n",
       "      <td>WASHINGTON (Reuters) - Trump campaign adviser ...</td>\n",
       "      <td>politicsNews</td>\n",
       "      <td>December 30, 2017</td>\n",
       "      <td>0</td>\n",
       "    </tr>\n",
       "    <tr>\n",
       "      <th>4</th>\n",
       "      <td>Trump wants Postal Service to charge 'much mor...</td>\n",
       "      <td>SEATTLE/WASHINGTON (Reuters) - President Donal...</td>\n",
       "      <td>politicsNews</td>\n",
       "      <td>December 29, 2017</td>\n",
       "      <td>0</td>\n",
       "    </tr>\n",
       "  </tbody>\n",
       "</table>\n",
       "</div>"
      ],
      "text/plain": [
       "                                               title  \\\n",
       "0  As U.S. budget fight looms, Republicans flip t...   \n",
       "1  U.S. military to accept transgender recruits o...   \n",
       "2  Senior U.S. Republican senator: 'Let Mr. Muell...   \n",
       "3  FBI Russia probe helped by Australian diplomat...   \n",
       "4  Trump wants Postal Service to charge 'much mor...   \n",
       "\n",
       "                                                text       subject  \\\n",
       "0  WASHINGTON (Reuters) - The head of a conservat...  politicsNews   \n",
       "1  WASHINGTON (Reuters) - Transgender people will...  politicsNews   \n",
       "2  WASHINGTON (Reuters) - The special counsel inv...  politicsNews   \n",
       "3  WASHINGTON (Reuters) - Trump campaign adviser ...  politicsNews   \n",
       "4  SEATTLE/WASHINGTON (Reuters) - President Donal...  politicsNews   \n",
       "\n",
       "                 date  class  \n",
       "0  December 31, 2017       0  \n",
       "1  December 29, 2017       0  \n",
       "2  December 31, 2017       0  \n",
       "3  December 30, 2017       0  \n",
       "4  December 29, 2017       0  "
      ]
     },
     "execution_count": 17,
     "metadata": {},
     "output_type": "execute_result"
    }
   ],
   "source": [
    "#Agregamos una columnas de clase 0 para las noticias True\n",
    "df_true[\"class\"] = 0\n",
    "df_true.head()"
   ]
  },
  {
   "cell_type": "code",
   "execution_count": 18,
   "metadata": {},
   "outputs": [
    {
     "name": "stdout",
     "output_type": "stream",
     "text": [
      "(44898, 5)\n"
     ]
    },
    {
     "data": {
      "text/html": [
       "<div>\n",
       "<style scoped>\n",
       "    .dataframe tbody tr th:only-of-type {\n",
       "        vertical-align: middle;\n",
       "    }\n",
       "\n",
       "    .dataframe tbody tr th {\n",
       "        vertical-align: top;\n",
       "    }\n",
       "\n",
       "    .dataframe thead th {\n",
       "        text-align: right;\n",
       "    }\n",
       "</style>\n",
       "<table border=\"1\" class=\"dataframe\">\n",
       "  <thead>\n",
       "    <tr style=\"text-align: right;\">\n",
       "      <th></th>\n",
       "      <th>title</th>\n",
       "      <th>text</th>\n",
       "      <th>subject</th>\n",
       "      <th>date</th>\n",
       "      <th>class</th>\n",
       "    </tr>\n",
       "  </thead>\n",
       "  <tbody>\n",
       "    <tr>\n",
       "      <th>0</th>\n",
       "      <td>Donald Trump Sends Out Embarrassing New Year’...</td>\n",
       "      <td>Donald Trump just couldn t wish all Americans ...</td>\n",
       "      <td>News</td>\n",
       "      <td>December 31, 2017</td>\n",
       "      <td>1</td>\n",
       "    </tr>\n",
       "    <tr>\n",
       "      <th>1</th>\n",
       "      <td>Drunk Bragging Trump Staffer Started Russian ...</td>\n",
       "      <td>House Intelligence Committee Chairman Devin Nu...</td>\n",
       "      <td>News</td>\n",
       "      <td>December 31, 2017</td>\n",
       "      <td>1</td>\n",
       "    </tr>\n",
       "    <tr>\n",
       "      <th>2</th>\n",
       "      <td>Sheriff David Clarke Becomes An Internet Joke...</td>\n",
       "      <td>On Friday, it was revealed that former Milwauk...</td>\n",
       "      <td>News</td>\n",
       "      <td>December 30, 2017</td>\n",
       "      <td>1</td>\n",
       "    </tr>\n",
       "    <tr>\n",
       "      <th>3</th>\n",
       "      <td>Trump Is So Obsessed He Even Has Obama’s Name...</td>\n",
       "      <td>On Christmas day, Donald Trump announced that ...</td>\n",
       "      <td>News</td>\n",
       "      <td>December 29, 2017</td>\n",
       "      <td>1</td>\n",
       "    </tr>\n",
       "    <tr>\n",
       "      <th>4</th>\n",
       "      <td>Pope Francis Just Called Out Donald Trump Dur...</td>\n",
       "      <td>Pope Francis used his annual Christmas Day mes...</td>\n",
       "      <td>News</td>\n",
       "      <td>December 25, 2017</td>\n",
       "      <td>1</td>\n",
       "    </tr>\n",
       "  </tbody>\n",
       "</table>\n",
       "</div>"
      ],
      "text/plain": [
       "                                               title  \\\n",
       "0   Donald Trump Sends Out Embarrassing New Year’...   \n",
       "1   Drunk Bragging Trump Staffer Started Russian ...   \n",
       "2   Sheriff David Clarke Becomes An Internet Joke...   \n",
       "3   Trump Is So Obsessed He Even Has Obama’s Name...   \n",
       "4   Pope Francis Just Called Out Donald Trump Dur...   \n",
       "\n",
       "                                                text subject  \\\n",
       "0  Donald Trump just couldn t wish all Americans ...    News   \n",
       "1  House Intelligence Committee Chairman Devin Nu...    News   \n",
       "2  On Friday, it was revealed that former Milwauk...    News   \n",
       "3  On Christmas day, Donald Trump announced that ...    News   \n",
       "4  Pope Francis used his annual Christmas Day mes...    News   \n",
       "\n",
       "                date  class  \n",
       "0  December 31, 2017      1  \n",
       "1  December 31, 2017      1  \n",
       "2  December 30, 2017      1  \n",
       "3  December 29, 2017      1  \n",
       "4  December 25, 2017      1  "
      ]
     },
     "execution_count": 18,
     "metadata": {},
     "output_type": "execute_result"
    }
   ],
   "source": [
    "#Concatenamos ambos datasets\n",
    "df = pd.concat([df_fake, df_true], ignore_index = True)\n",
    "print(df.shape)\n",
    "df.head()\n"
   ]
  },
  {
   "cell_type": "code",
   "execution_count": 19,
   "metadata": {},
   "outputs": [],
   "source": [
    "from wordcloud import WordCloud, STOPWORDS, ImageColorGenerator\n",
    "from PIL import Image"
   ]
  },
  {
   "cell_type": "code",
   "execution_count": 20,
   "metadata": {},
   "outputs": [
    {
     "data": {
      "image/png": "[encoded data removed]",
      "text/plain": [
       "<Figure size 432x288 with 1 Axes>"
      ]
     },
     "metadata": {
      "needs_background": "light"
     },
     "output_type": "display_data"
    }
   ],
   "source": [
    "# Mostramos con Wordcloud una nube de palabras de Fake\n",
    "\n",
    "text = \" \".join(i for i in df_fake.title)\n",
    "wordcloud = WordCloud(max_words=200).generate(text)\n",
    "\n",
    "plt.imshow(wordcloud, interpolation='bilinear')\n",
    "plt.axis(\"off\")\n",
    "plt.show()"
   ]
  },
  {
   "cell_type": "code",
   "execution_count": 21,
   "metadata": {},
   "outputs": [
    {
     "data": {
      "image/png": "[encoded data removed]",
      "text/plain": [
       "<Figure size 432x288 with 1 Axes>"
      ]
     },
     "metadata": {
      "needs_background": "light"
     },
     "output_type": "display_data"
    }
   ],
   "source": [
    "# Mostramos con Wordcloud una nube de palabras de True\n",
    "\n",
    "text2 = \" \".join(i for i in df_true.title)\n",
    "\n",
    "wordcloud = WordCloud(max_words=200).generate(text2)\n",
    "\n",
    "plt.imshow(wordcloud, interpolation='bilinear')\n",
    "plt.axis(\"off\")\n",
    "plt.show()"
   ]
  },
  {
   "cell_type": "code",
   "execution_count": 22,
   "metadata": {},
   "outputs": [
    {
     "data": {
      "text/html": [
       "<div>\n",
       "<style scoped>\n",
       "    .dataframe tbody tr th:only-of-type {\n",
       "        vertical-align: middle;\n",
       "    }\n",
       "\n",
       "    .dataframe tbody tr th {\n",
       "        vertical-align: top;\n",
       "    }\n",
       "\n",
       "    .dataframe thead th {\n",
       "        text-align: right;\n",
       "    }\n",
       "</style>\n",
       "<table border=\"1\" class=\"dataframe\">\n",
       "  <thead>\n",
       "    <tr style=\"text-align: right;\">\n",
       "      <th></th>\n",
       "      <th>title</th>\n",
       "      <th>text</th>\n",
       "      <th>subject</th>\n",
       "      <th>date</th>\n",
       "      <th>class</th>\n",
       "    </tr>\n",
       "  </thead>\n",
       "  <tbody>\n",
       "    <tr>\n",
       "      <th>44893</th>\n",
       "      <td>'Fully committed' NATO backs new U.S. approach...</td>\n",
       "      <td>BRUSSELS (Reuters) - NATO allies on Tuesday we...</td>\n",
       "      <td>worldnews</td>\n",
       "      <td>August 22, 2017</td>\n",
       "      <td>0</td>\n",
       "    </tr>\n",
       "    <tr>\n",
       "      <th>44894</th>\n",
       "      <td>LexisNexis withdrew two products from Chinese ...</td>\n",
       "      <td>LONDON (Reuters) - LexisNexis, a provider of l...</td>\n",
       "      <td>worldnews</td>\n",
       "      <td>August 22, 2017</td>\n",
       "      <td>0</td>\n",
       "    </tr>\n",
       "    <tr>\n",
       "      <th>44895</th>\n",
       "      <td>Minsk cultural hub becomes haven from authorities</td>\n",
       "      <td>MINSK (Reuters) - In the shadow of disused Sov...</td>\n",
       "      <td>worldnews</td>\n",
       "      <td>August 22, 2017</td>\n",
       "      <td>0</td>\n",
       "    </tr>\n",
       "    <tr>\n",
       "      <th>44896</th>\n",
       "      <td>Vatican upbeat on possibility of Pope Francis ...</td>\n",
       "      <td>MOSCOW (Reuters) - Vatican Secretary of State ...</td>\n",
       "      <td>worldnews</td>\n",
       "      <td>August 22, 2017</td>\n",
       "      <td>0</td>\n",
       "    </tr>\n",
       "    <tr>\n",
       "      <th>44897</th>\n",
       "      <td>Indonesia to buy $1.14 billion worth of Russia...</td>\n",
       "      <td>JAKARTA (Reuters) - Indonesia will buy 11 Sukh...</td>\n",
       "      <td>worldnews</td>\n",
       "      <td>August 22, 2017</td>\n",
       "      <td>0</td>\n",
       "    </tr>\n",
       "  </tbody>\n",
       "</table>\n",
       "</div>"
      ],
      "text/plain": [
       "                                                   title  \\\n",
       "44893  'Fully committed' NATO backs new U.S. approach...   \n",
       "44894  LexisNexis withdrew two products from Chinese ...   \n",
       "44895  Minsk cultural hub becomes haven from authorities   \n",
       "44896  Vatican upbeat on possibility of Pope Francis ...   \n",
       "44897  Indonesia to buy $1.14 billion worth of Russia...   \n",
       "\n",
       "                                                    text    subject  \\\n",
       "44893  BRUSSELS (Reuters) - NATO allies on Tuesday we...  worldnews   \n",
       "44894  LONDON (Reuters) - LexisNexis, a provider of l...  worldnews   \n",
       "44895  MINSK (Reuters) - In the shadow of disused Sov...  worldnews   \n",
       "44896  MOSCOW (Reuters) - Vatican Secretary of State ...  worldnews   \n",
       "44897  JAKARTA (Reuters) - Indonesia will buy 11 Sukh...  worldnews   \n",
       "\n",
       "                   date  class  \n",
       "44893  August 22, 2017       0  \n",
       "44894  August 22, 2017       0  \n",
       "44895  August 22, 2017       0  \n",
       "44896  August 22, 2017       0  \n",
       "44897  August 22, 2017       0  "
      ]
     },
     "execution_count": 22,
     "metadata": {},
     "output_type": "execute_result"
    }
   ],
   "source": [
    "df.tail()"
   ]
  },
  {
   "cell_type": "code",
   "execution_count": 23,
   "metadata": {},
   "outputs": [
    {
     "data": {
      "text/plain": [
       "209"
      ]
     },
     "execution_count": 23,
     "metadata": {},
     "output_type": "execute_result"
    }
   ],
   "source": [
    "# Hay algunas lineas cuyos valores son exactamente identicas\n",
    "df.duplicated().sum()"
   ]
  },
  {
   "cell_type": "code",
   "execution_count": 24,
   "metadata": {},
   "outputs": [
    {
     "data": {
      "text/plain": [
       "11798"
      ]
     },
     "execution_count": 24,
     "metadata": {},
     "output_type": "execute_result"
    }
   ],
   "source": [
    "# Valores duplicados en titulo\n",
    "df.title.duplicated(keep=False).sum()"
   ]
  },
  {
   "cell_type": "code",
   "execution_count": 25,
   "metadata": {},
   "outputs": [
    {
     "data": {
      "text/html": [
       "<div>\n",
       "<style scoped>\n",
       "    .dataframe tbody tr th:only-of-type {\n",
       "        vertical-align: middle;\n",
       "    }\n",
       "\n",
       "    .dataframe tbody tr th {\n",
       "        vertical-align: top;\n",
       "    }\n",
       "\n",
       "    .dataframe thead th {\n",
       "        text-align: right;\n",
       "    }\n",
       "</style>\n",
       "<table border=\"1\" class=\"dataframe\">\n",
       "  <thead>\n",
       "    <tr style=\"text-align: right;\">\n",
       "      <th></th>\n",
       "      <th>title</th>\n",
       "      <th>text</th>\n",
       "      <th>subject</th>\n",
       "      <th>date</th>\n",
       "      <th>class</th>\n",
       "    </tr>\n",
       "  </thead>\n",
       "  <tbody>\n",
       "    <tr>\n",
       "      <th>1535</th>\n",
       "      <td>McConnell Says He’ll Obstruct ANY Effort To H...</td>\n",
       "      <td>Siding with Trump s Attorney General Jeff Sess...</td>\n",
       "      <td>News</td>\n",
       "      <td>May 10, 2017</td>\n",
       "      <td>1</td>\n",
       "    </tr>\n",
       "    <tr>\n",
       "      <th>9942</th>\n",
       "      <td>HILLARY TWEETS MESSAGE In Defense Of DACA…OOPS...</td>\n",
       "      <td>No time to waste   we've got to fight with eve...</td>\n",
       "      <td>politics</td>\n",
       "      <td>Sep 9, 2017</td>\n",
       "      <td>1</td>\n",
       "    </tr>\n",
       "    <tr>\n",
       "      <th>10920</th>\n",
       "      <td>MEDIA IGNORES Time That Bill Clinton FIRED His...</td>\n",
       "      <td>At the recommendation of both Attorney General...</td>\n",
       "      <td>politics</td>\n",
       "      <td>May 10, 2017</td>\n",
       "      <td>1</td>\n",
       "    </tr>\n",
       "    <tr>\n",
       "      <th>10924</th>\n",
       "      <td>MEDIA IGNORES Time That Bill Clinton FIRED His...</td>\n",
       "      <td>In its 109-year history, only one F.B.I. direc...</td>\n",
       "      <td>politics</td>\n",
       "      <td>May 10, 2017</td>\n",
       "      <td>1</td>\n",
       "    </tr>\n",
       "    <tr>\n",
       "      <th>10930</th>\n",
       "      <td>FORMER FBI ASST DIRECTOR: “Jim Comey ‘Danced W...</td>\n",
       "      <td>He threw the reputation of the FBI under the ...</td>\n",
       "      <td>politics</td>\n",
       "      <td>May 9, 2017</td>\n",
       "      <td>1</td>\n",
       "    </tr>\n",
       "    <tr>\n",
       "      <th>...</th>\n",
       "      <td>...</td>\n",
       "      <td>...</td>\n",
       "      <td>...</td>\n",
       "      <td>...</td>\n",
       "      <td>...</td>\n",
       "    </tr>\n",
       "    <tr>\n",
       "      <th>44883</th>\n",
       "      <td>Exclusive: Trump's Afghan decision may increas...</td>\n",
       "      <td>ON BOARD A U.S. MILITARY AIRCRAFT (Reuters) - ...</td>\n",
       "      <td>worldnews</td>\n",
       "      <td>August 22, 2017</td>\n",
       "      <td>0</td>\n",
       "    </tr>\n",
       "    <tr>\n",
       "      <th>44884</th>\n",
       "      <td>U.S. puts more pressure on Pakistan to help wi...</td>\n",
       "      <td>WASHINGTON (Reuters) - The United States sugge...</td>\n",
       "      <td>worldnews</td>\n",
       "      <td>August 21, 2017</td>\n",
       "      <td>0</td>\n",
       "    </tr>\n",
       "    <tr>\n",
       "      <th>44886</th>\n",
       "      <td>Trump talks tough on Pakistan's 'terrorist' ha...</td>\n",
       "      <td>ISLAMABAD (Reuters) - Outlining a new strategy...</td>\n",
       "      <td>worldnews</td>\n",
       "      <td>August 22, 2017</td>\n",
       "      <td>0</td>\n",
       "    </tr>\n",
       "    <tr>\n",
       "      <th>44889</th>\n",
       "      <td>U.S., North Korea clash at U.N. forum over nuc...</td>\n",
       "      <td>GENEVA (Reuters) - North Korea and the United ...</td>\n",
       "      <td>worldnews</td>\n",
       "      <td>August 22, 2017</td>\n",
       "      <td>0</td>\n",
       "    </tr>\n",
       "    <tr>\n",
       "      <th>44893</th>\n",
       "      <td>'Fully committed' NATO backs new U.S. approach...</td>\n",
       "      <td>BRUSSELS (Reuters) - NATO allies on Tuesday we...</td>\n",
       "      <td>worldnews</td>\n",
       "      <td>August 22, 2017</td>\n",
       "      <td>0</td>\n",
       "    </tr>\n",
       "  </tbody>\n",
       "</table>\n",
       "<p>6169 rows × 5 columns</p>\n",
       "</div>"
      ],
      "text/plain": [
       "                                                   title  \\\n",
       "1535    McConnell Says He’ll Obstruct ANY Effort To H...   \n",
       "9942   HILLARY TWEETS MESSAGE In Defense Of DACA…OOPS...   \n",
       "10920  MEDIA IGNORES Time That Bill Clinton FIRED His...   \n",
       "10924  MEDIA IGNORES Time That Bill Clinton FIRED His...   \n",
       "10930  FORMER FBI ASST DIRECTOR: “Jim Comey ‘Danced W...   \n",
       "...                                                  ...   \n",
       "44883  Exclusive: Trump's Afghan decision may increas...   \n",
       "44884  U.S. puts more pressure on Pakistan to help wi...   \n",
       "44886  Trump talks tough on Pakistan's 'terrorist' ha...   \n",
       "44889  U.S., North Korea clash at U.N. forum over nuc...   \n",
       "44893  'Fully committed' NATO backs new U.S. approach...   \n",
       "\n",
       "                                                    text    subject  \\\n",
       "1535   Siding with Trump s Attorney General Jeff Sess...       News   \n",
       "9942   No time to waste   we've got to fight with eve...   politics   \n",
       "10920  At the recommendation of both Attorney General...   politics   \n",
       "10924  In its 109-year history, only one F.B.I. direc...   politics   \n",
       "10930   He threw the reputation of the FBI under the ...   politics   \n",
       "...                                                  ...        ...   \n",
       "44883  ON BOARD A U.S. MILITARY AIRCRAFT (Reuters) - ...  worldnews   \n",
       "44884  WASHINGTON (Reuters) - The United States sugge...  worldnews   \n",
       "44886  ISLAMABAD (Reuters) - Outlining a new strategy...  worldnews   \n",
       "44889  GENEVA (Reuters) - North Korea and the United ...  worldnews   \n",
       "44893  BRUSSELS (Reuters) - NATO allies on Tuesday we...  worldnews   \n",
       "\n",
       "                   date  class  \n",
       "1535       May 10, 2017      1  \n",
       "9942        Sep 9, 2017      1  \n",
       "10920      May 10, 2017      1  \n",
       "10924      May 10, 2017      1  \n",
       "10930       May 9, 2017      1  \n",
       "...                 ...    ...  \n",
       "44883  August 22, 2017       0  \n",
       "44884  August 21, 2017       0  \n",
       "44886  August 22, 2017       0  \n",
       "44889  August 22, 2017       0  \n",
       "44893  August 22, 2017       0  \n",
       "\n",
       "[6169 rows x 5 columns]"
      ]
     },
     "execution_count": 25,
     "metadata": {},
     "output_type": "execute_result"
    }
   ],
   "source": [
    "#Mostramos algunos de los que tienen duplicado en el título\n",
    "df.loc[df.title.duplicated()]"
   ]
  },
  {
   "cell_type": "code",
   "execution_count": 26,
   "metadata": {},
   "outputs": [
    {
     "data": {
      "text/html": [
       "<div>\n",
       "<style scoped>\n",
       "    .dataframe tbody tr th:only-of-type {\n",
       "        vertical-align: middle;\n",
       "    }\n",
       "\n",
       "    .dataframe tbody tr th {\n",
       "        vertical-align: top;\n",
       "    }\n",
       "\n",
       "    .dataframe thead th {\n",
       "        text-align: right;\n",
       "    }\n",
       "</style>\n",
       "<table border=\"1\" class=\"dataframe\">\n",
       "  <thead>\n",
       "    <tr style=\"text-align: right;\">\n",
       "      <th></th>\n",
       "      <th>title</th>\n",
       "      <th>text</th>\n",
       "      <th>subject</th>\n",
       "      <th>date</th>\n",
       "      <th>class</th>\n",
       "    </tr>\n",
       "  </thead>\n",
       "  <tbody>\n",
       "    <tr>\n",
       "      <th>10920</th>\n",
       "      <td>MEDIA IGNORES Time That Bill Clinton FIRED His...</td>\n",
       "      <td>At the recommendation of both Attorney General...</td>\n",
       "      <td>politics</td>\n",
       "      <td>May 10, 2017</td>\n",
       "      <td>1</td>\n",
       "    </tr>\n",
       "    <tr>\n",
       "      <th>10924</th>\n",
       "      <td>MEDIA IGNORES Time That Bill Clinton FIRED His...</td>\n",
       "      <td>In its 109-year history, only one F.B.I. direc...</td>\n",
       "      <td>politics</td>\n",
       "      <td>May 10, 2017</td>\n",
       "      <td>1</td>\n",
       "    </tr>\n",
       "  </tbody>\n",
       "</table>\n",
       "</div>"
      ],
      "text/plain": [
       "                                                   title  \\\n",
       "10920  MEDIA IGNORES Time That Bill Clinton FIRED His...   \n",
       "10924  MEDIA IGNORES Time That Bill Clinton FIRED His...   \n",
       "\n",
       "                                                    text   subject  \\\n",
       "10920  At the recommendation of both Attorney General...  politics   \n",
       "10924  In its 109-year history, only one F.B.I. direc...  politics   \n",
       "\n",
       "               date  class  \n",
       "10920  May 10, 2017      1  \n",
       "10924  May 10, 2017      1  "
      ]
     },
     "execution_count": 26,
     "metadata": {},
     "output_type": "execute_result"
    }
   ],
   "source": [
    "#Los titulos son exactamente iguales, a pesar de que la noticia es diferente\n",
    "df.loc[[10920,10924],:]"
   ]
  },
  {
   "cell_type": "code",
   "execution_count": 27,
   "metadata": {},
   "outputs": [
    {
     "data": {
      "text/plain": [
       "11798"
      ]
     },
     "execution_count": 27,
     "metadata": {},
     "output_type": "execute_result"
    }
   ],
   "source": [
    "# El número de duplicados por título y clase coincide con el de duplicados solo por clase \n",
    "# (es decir, todos los títulos duplicados pertenecen a la misma clase)\n",
    "\n",
    "df[[\"title\",\"class\"]].duplicated(keep=False).sum()"
   ]
  },
  {
   "cell_type": "code",
   "execution_count": 28,
   "metadata": {},
   "outputs": [
    {
     "data": {
      "text/plain": [
       "(38729, 5)"
      ]
     },
     "execution_count": 28,
     "metadata": {},
     "output_type": "execute_result"
    }
   ],
   "source": [
    "# Eliminamos las noticias con título duplicado, nos quedamos con los primeros\n",
    "df.drop_duplicates(subset=[\"title\"], keep='first', inplace=True)\n",
    "df.reset_index()\n",
    "df.shape"
   ]
  },
  {
   "cell_type": "code",
   "execution_count": 29,
   "metadata": {},
   "outputs": [
    {
     "data": {
      "text/plain": [
       "0    0.537737\n",
       "1    0.462263\n",
       "Name: class, dtype: float64"
      ]
     },
     "execution_count": 29,
     "metadata": {},
     "output_type": "execute_result"
    }
   ],
   "source": [
    "df[\"class\"].value_counts(1)"
   ]
  },
  {
   "cell_type": "code",
   "execution_count": 30,
   "metadata": {},
   "outputs": [
    {
     "data": {
      "image/png": "[encoded data removed]",
      "text/plain": [
       "<Figure size 288x288 with 1 Axes>"
      ]
     },
     "metadata": {
      "needs_background": "light"
     },
     "output_type": "display_data"
    }
   ],
   "source": [
    "df.hist(figsize=(4,4), color='skyblue');"
   ]
  },
  {
   "cell_type": "code",
   "execution_count": 31,
   "metadata": {},
   "outputs": [
    {
     "name": "stdout",
     "output_type": "stream",
     "text": [
      "<class 'pandas.core.frame.DataFrame'>\n",
      "Int64Index: 38729 entries, 0 to 44897\n",
      "Data columns (total 5 columns):\n",
      " #   Column   Non-Null Count  Dtype \n",
      "---  ------   --------------  ----- \n",
      " 0   title    38729 non-null  object\n",
      " 1   text     38729 non-null  object\n",
      " 2   subject  38729 non-null  object\n",
      " 3   date     38729 non-null  object\n",
      " 4   class    38729 non-null  int64 \n",
      "dtypes: int64(1), object(4)\n",
      "memory usage: 1.8+ MB\n"
     ]
    }
   ],
   "source": [
    "df.info()"
   ]
  },
  {
   "cell_type": "code",
   "execution_count": 32,
   "metadata": {},
   "outputs": [
    {
     "data": {
      "text/plain": [
       "politicsNews       0.287898\n",
       "worldnews          0.249839\n",
       "News               0.233649\n",
       "politics           0.176457\n",
       "US_News            0.020217\n",
       "left-news          0.018203\n",
       "Government News    0.013736\n",
       "Name: subject, dtype: float64"
      ]
     },
     "execution_count": 32,
     "metadata": {},
     "output_type": "execute_result"
    }
   ],
   "source": [
    "df[\"subject\"].value_counts(1)"
   ]
  },
  {
   "cell_type": "code",
   "execution_count": 33,
   "metadata": {},
   "outputs": [
    {
     "data": {
      "image/png": "[encoded data removed]",
      "text/plain": [
       "<Figure size 720x432 with 1 Axes>"
      ]
     },
     "metadata": {
      "needs_background": "light"
     },
     "output_type": "display_data"
    }
   ],
   "source": [
    "plt.figure(figsize=(10,6))\n",
    "sns.countplot(df['subject']);\n",
    "\n",
    "plt.title('Subject noticias'.title() , fontsize=15);\n",
    "plt.ylabel('count'.title(), fontsize=8);\n",
    "plt.xlabel('sección'.title(), fontsize=8);"
   ]
  },
  {
   "cell_type": "code",
   "execution_count": 34,
   "metadata": {},
   "outputs": [
    {
     "data": {
      "text/plain": [
       "2017    22951\n",
       "2016    14093\n",
       "2015     1646\n",
       "Name: year, dtype: int64"
      ]
     },
     "execution_count": 34,
     "metadata": {},
     "output_type": "execute_result"
    }
   ],
   "source": [
    "#Extraemos el año de date\n",
    "\n",
    "pattern_year = r\"(\\d{4})\"\n",
    "\n",
    "df[\"year\"] = df.date.str.extract(pattern_year)\n",
    "df[\"year\"].value_counts()"
   ]
  },
  {
   "cell_type": "code",
   "execution_count": 35,
   "metadata": {},
   "outputs": [
    {
     "data": {
      "text/plain": [
       "title       0\n",
       "text        0\n",
       "subject     0\n",
       "date        0\n",
       "class       0\n",
       "year       39\n",
       "dtype: int64"
      ]
     },
     "execution_count": 35,
     "metadata": {},
     "output_type": "execute_result"
    }
   ],
   "source": [
    "df.isnull().sum() #dropeamos esos 39 registros que quedaron con year nulo"
   ]
  },
  {
   "cell_type": "code",
   "execution_count": 36,
   "metadata": {},
   "outputs": [
    {
     "data": {
      "text/plain": [
       "title      0.0\n",
       "text       0.0\n",
       "subject    0.0\n",
       "date       0.0\n",
       "class      0.0\n",
       "year       0.0\n",
       "dtype: float64"
      ]
     },
     "execution_count": 36,
     "metadata": {},
     "output_type": "execute_result"
    }
   ],
   "source": [
    "df.dropna(subset=['year'], inplace=True)\n",
    "df.isnull().sum()*100/len(df)"
   ]
  },
  {
   "cell_type": "code",
   "execution_count": 37,
   "metadata": {},
   "outputs": [
    {
     "data": {
      "text/html": [
       "<div>\n",
       "<style scoped>\n",
       "    .dataframe tbody tr th:only-of-type {\n",
       "        vertical-align: middle;\n",
       "    }\n",
       "\n",
       "    .dataframe tbody tr th {\n",
       "        vertical-align: top;\n",
       "    }\n",
       "\n",
       "    .dataframe thead th {\n",
       "        text-align: right;\n",
       "    }\n",
       "</style>\n",
       "<table border=\"1\" class=\"dataframe\">\n",
       "  <thead>\n",
       "    <tr style=\"text-align: right;\">\n",
       "      <th></th>\n",
       "      <th>title</th>\n",
       "      <th>text</th>\n",
       "      <th>subject</th>\n",
       "      <th>date</th>\n",
       "      <th>class</th>\n",
       "      <th>year</th>\n",
       "    </tr>\n",
       "  </thead>\n",
       "  <tbody>\n",
       "    <tr>\n",
       "      <th>0</th>\n",
       "      <td>Donald Trump Sends Out Embarrassing New Year’...</td>\n",
       "      <td>Donald Trump just couldn t wish all Americans ...</td>\n",
       "      <td>News</td>\n",
       "      <td>December 31, 2017</td>\n",
       "      <td>1</td>\n",
       "      <td>2017</td>\n",
       "    </tr>\n",
       "    <tr>\n",
       "      <th>1</th>\n",
       "      <td>Drunk Bragging Trump Staffer Started Russian ...</td>\n",
       "      <td>House Intelligence Committee Chairman Devin Nu...</td>\n",
       "      <td>News</td>\n",
       "      <td>December 31, 2017</td>\n",
       "      <td>1</td>\n",
       "      <td>2017</td>\n",
       "    </tr>\n",
       "    <tr>\n",
       "      <th>2</th>\n",
       "      <td>Sheriff David Clarke Becomes An Internet Joke...</td>\n",
       "      <td>On Friday, it was revealed that former Milwauk...</td>\n",
       "      <td>News</td>\n",
       "      <td>December 30, 2017</td>\n",
       "      <td>1</td>\n",
       "      <td>2017</td>\n",
       "    </tr>\n",
       "    <tr>\n",
       "      <th>3</th>\n",
       "      <td>Trump Is So Obsessed He Even Has Obama’s Name...</td>\n",
       "      <td>On Christmas day, Donald Trump announced that ...</td>\n",
       "      <td>News</td>\n",
       "      <td>December 29, 2017</td>\n",
       "      <td>1</td>\n",
       "      <td>2017</td>\n",
       "    </tr>\n",
       "    <tr>\n",
       "      <th>4</th>\n",
       "      <td>Pope Francis Just Called Out Donald Trump Dur...</td>\n",
       "      <td>Pope Francis used his annual Christmas Day mes...</td>\n",
       "      <td>News</td>\n",
       "      <td>December 25, 2017</td>\n",
       "      <td>1</td>\n",
       "      <td>2017</td>\n",
       "    </tr>\n",
       "  </tbody>\n",
       "</table>\n",
       "</div>"
      ],
      "text/plain": [
       "                                               title  \\\n",
       "0   Donald Trump Sends Out Embarrassing New Year’...   \n",
       "1   Drunk Bragging Trump Staffer Started Russian ...   \n",
       "2   Sheriff David Clarke Becomes An Internet Joke...   \n",
       "3   Trump Is So Obsessed He Even Has Obama’s Name...   \n",
       "4   Pope Francis Just Called Out Donald Trump Dur...   \n",
       "\n",
       "                                                text subject  \\\n",
       "0  Donald Trump just couldn t wish all Americans ...    News   \n",
       "1  House Intelligence Committee Chairman Devin Nu...    News   \n",
       "2  On Friday, it was revealed that former Milwauk...    News   \n",
       "3  On Christmas day, Donald Trump announced that ...    News   \n",
       "4  Pope Francis used his annual Christmas Day mes...    News   \n",
       "\n",
       "                date  class  year  \n",
       "0  December 31, 2017      1  2017  \n",
       "1  December 31, 2017      1  2017  \n",
       "2  December 30, 2017      1  2017  \n",
       "3  December 29, 2017      1  2017  \n",
       "4  December 25, 2017      1  2017  "
      ]
     },
     "execution_count": 37,
     "metadata": {},
     "output_type": "execute_result"
    }
   ],
   "source": [
    "df.head()"
   ]
  },
  {
   "cell_type": "code",
   "execution_count": 38,
   "metadata": {},
   "outputs": [
    {
     "data": {
      "text/plain": [
       "'WHAT THESE YOUNG ILLEGAL ‘DREAMERS’ Do To Trump Supporters Will Make Your Blood Boil [Video] What kind of monsters teach their children to behave like this? Young illegal  dreamers  and their parents flip off Trump supporters while yelling expletives you would expect to hear in a prison, and not from young boys who look to be between the ages of 8 and 12. Wearing sombreros and ironically holding signs reading  No hate,  screamed  F*ck you!  These vulgar children give us a little insight into the flagrant disrespect the illegal alien community has for the rule of law in our nation. The Mexican flags add a special touch, reminding us of where these protesters true loyalties lie.One of the most vulgar children in the center of the action could be seen wearing a Bernie Sanders sticker.Hillary Clinton campaign signs could also be seen in the crowd.One sign reads  F*ck You Puto. Puto  means  male prostitute  in Spanish.Obama s America  '"
      ]
     },
     "execution_count": 38,
     "metadata": {},
     "output_type": "execute_result"
    }
   ],
   "source": [
    "#Unificamos en un único campo la concatenación de los títulos y las noticias, para que sea nuestra \"x\"\n",
    "df['news']=df['title']+ ' '+df['text'];\n",
    "df['news'][14000]"
   ]
  },
  {
   "cell_type": "code",
   "execution_count": 39,
   "metadata": {},
   "outputs": [
    {
     "data": {
      "text/html": [
       "<div>\n",
       "<style scoped>\n",
       "    .dataframe tbody tr th:only-of-type {\n",
       "        vertical-align: middle;\n",
       "    }\n",
       "\n",
       "    .dataframe tbody tr th {\n",
       "        vertical-align: top;\n",
       "    }\n",
       "\n",
       "    .dataframe thead th {\n",
       "        text-align: right;\n",
       "    }\n",
       "</style>\n",
       "<table border=\"1\" class=\"dataframe\">\n",
       "  <thead>\n",
       "    <tr style=\"text-align: right;\">\n",
       "      <th></th>\n",
       "      <th>title</th>\n",
       "      <th>text</th>\n",
       "      <th>subject</th>\n",
       "      <th>date</th>\n",
       "      <th>class</th>\n",
       "      <th>year</th>\n",
       "      <th>news</th>\n",
       "    </tr>\n",
       "  </thead>\n",
       "  <tbody>\n",
       "    <tr>\n",
       "      <th>0</th>\n",
       "      <td>Donald Trump Sends Out Embarrassing New Year’...</td>\n",
       "      <td>Donald Trump just couldn t wish all Americans ...</td>\n",
       "      <td>News</td>\n",
       "      <td>December 31, 2017</td>\n",
       "      <td>1</td>\n",
       "      <td>2017</td>\n",
       "      <td>Donald Trump Sends Out Embarrassing New Year’...</td>\n",
       "    </tr>\n",
       "    <tr>\n",
       "      <th>1</th>\n",
       "      <td>Drunk Bragging Trump Staffer Started Russian ...</td>\n",
       "      <td>House Intelligence Committee Chairman Devin Nu...</td>\n",
       "      <td>News</td>\n",
       "      <td>December 31, 2017</td>\n",
       "      <td>1</td>\n",
       "      <td>2017</td>\n",
       "      <td>Drunk Bragging Trump Staffer Started Russian ...</td>\n",
       "    </tr>\n",
       "    <tr>\n",
       "      <th>2</th>\n",
       "      <td>Sheriff David Clarke Becomes An Internet Joke...</td>\n",
       "      <td>On Friday, it was revealed that former Milwauk...</td>\n",
       "      <td>News</td>\n",
       "      <td>December 30, 2017</td>\n",
       "      <td>1</td>\n",
       "      <td>2017</td>\n",
       "      <td>Sheriff David Clarke Becomes An Internet Joke...</td>\n",
       "    </tr>\n",
       "  </tbody>\n",
       "</table>\n",
       "</div>"
      ],
      "text/plain": [
       "                                               title  \\\n",
       "0   Donald Trump Sends Out Embarrassing New Year’...   \n",
       "1   Drunk Bragging Trump Staffer Started Russian ...   \n",
       "2   Sheriff David Clarke Becomes An Internet Joke...   \n",
       "\n",
       "                                                text subject  \\\n",
       "0  Donald Trump just couldn t wish all Americans ...    News   \n",
       "1  House Intelligence Committee Chairman Devin Nu...    News   \n",
       "2  On Friday, it was revealed that former Milwauk...    News   \n",
       "\n",
       "                date  class  year  \\\n",
       "0  December 31, 2017      1  2017   \n",
       "1  December 31, 2017      1  2017   \n",
       "2  December 30, 2017      1  2017   \n",
       "\n",
       "                                                news  \n",
       "0   Donald Trump Sends Out Embarrassing New Year’...  \n",
       "1   Drunk Bragging Trump Staffer Started Russian ...  \n",
       "2   Sheriff David Clarke Becomes An Internet Joke...  "
      ]
     },
     "execution_count": 39,
     "metadata": {},
     "output_type": "execute_result"
    }
   ],
   "source": [
    "df.head(3)"
   ]
  },
  {
   "cell_type": "markdown",
   "metadata": {},
   "source": [
    "---------------------"
   ]
  },
  {
   "cell_type": "code",
   "execution_count": 40,
   "metadata": {},
   "outputs": [
    {
     "data": {
      "text/plain": [
       "politicsNews       0.288188\n",
       "worldnews          0.250090\n",
       "News               0.233885\n",
       "politics           0.175653\n",
       "US_News            0.020238\n",
       "left-news          0.018196\n",
       "Government News    0.013750\n",
       "Name: subject, dtype: float64"
      ]
     },
     "execution_count": 40,
     "metadata": {},
     "output_type": "execute_result"
    }
   ],
   "source": [
    "df[\"subject\"].value_counts(1)"
   ]
  },
  {
   "cell_type": "code",
   "execution_count": 41,
   "metadata": {},
   "outputs": [
    {
     "data": {
      "text/plain": [
       "subject          class\n",
       "Government News  1          532\n",
       "News             1         9049\n",
       "US_News          1          783\n",
       "left-news        1          704\n",
       "politics         1         6796\n",
       "politicsNews     0        11150\n",
       "worldnews        0         9676\n",
       "Name: news, dtype: int64"
      ]
     },
     "execution_count": 41,
     "metadata": {},
     "output_type": "execute_result"
    }
   ],
   "source": [
    "#Analizamos como es la variedad de noticias según sección, considerando los True y False \n",
    "#Esto puede generar un problema de prediccion porque le va a poner 0 a todas las de la clase poiticsNews y worldnews\n",
    "df.groupby([\"subject\", \"class\"])[\"news\"].count()"
   ]
  },
  {
   "cell_type": "code",
   "execution_count": null,
   "metadata": {},
   "outputs": [],
   "source": [
    "# Clases a unificar:\n",
    "# Vemos que las clases \"politics\" y \"politicsNews\" tienen diferente nombre porque provienen de data sets diferentes \n",
    "# Como la clase \"left-news\" y \"Goverment news\" son minoritarias (< 2% cada una) las incluímos dentro de la clase \"politics\""
   ]
  },
  {
   "cell_type": "code",
   "execution_count": null,
   "metadata": {},
   "outputs": [],
   "source": [
    "text_news = \" \".join(i for i in df.title if (df.subject == \"News\").any())\n",
    "\n",
    "wordcloud_news = WordCloud(max_words=200).generate(text_news)\n",
    "\n",
    "plt.imshow(wordcloud_news, interpolation='bilinear')\n",
    "plt.axis(\"off\")\n",
    "plt.show()"
   ]
  },
  {
   "cell_type": "code",
   "execution_count": null,
   "metadata": {},
   "outputs": [],
   "source": [
    "text_us_news = \" \".join(i for i in df.title if (df.subject == \"US_News\").any())\n",
    "\n",
    "wordcloud_us_news = WordCloud(max_words=200).generate(text_us_news)\n",
    "\n",
    "plt.imshow(wordcloud_us_news, interpolation='bilinear')\n",
    "plt.axis(\"off\")\n",
    "plt.show()\n",
    "#mirando las palabras que más se repiten, podemos unir \"News\" y \"US_News\")"
   ]
  },
  {
   "cell_type": "code",
   "execution_count": 33,
   "metadata": {},
   "outputs": [
    {
     "data": {
      "text/html": [
       "<div>\n",
       "<style scoped>\n",
       "    .dataframe tbody tr th:only-of-type {\n",
       "        vertical-align: middle;\n",
       "    }\n",
       "\n",
       "    .dataframe tbody tr th {\n",
       "        vertical-align: top;\n",
       "    }\n",
       "\n",
       "    .dataframe thead th {\n",
       "        text-align: right;\n",
       "    }\n",
       "</style>\n",
       "<table border=\"1\" class=\"dataframe\">\n",
       "  <thead>\n",
       "    <tr style=\"text-align: right;\">\n",
       "      <th></th>\n",
       "      <th>title</th>\n",
       "      <th>text</th>\n",
       "      <th>subject</th>\n",
       "      <th>date</th>\n",
       "      <th>class</th>\n",
       "      <th>year</th>\n",
       "      <th>news</th>\n",
       "    </tr>\n",
       "  </thead>\n",
       "  <tbody>\n",
       "    <tr>\n",
       "      <th>0</th>\n",
       "      <td>Donald Trump Sends Out Embarrassing New Year’...</td>\n",
       "      <td>Donald Trump just couldn t wish all Americans ...</td>\n",
       "      <td>News</td>\n",
       "      <td>December 31, 2017</td>\n",
       "      <td>1</td>\n",
       "      <td>2017</td>\n",
       "      <td>Donald Trump Sends Out Embarrassing New Year’...</td>\n",
       "    </tr>\n",
       "    <tr>\n",
       "      <th>1</th>\n",
       "      <td>Drunk Bragging Trump Staffer Started Russian ...</td>\n",
       "      <td>House Intelligence Committee Chairman Devin Nu...</td>\n",
       "      <td>News</td>\n",
       "      <td>December 31, 2017</td>\n",
       "      <td>1</td>\n",
       "      <td>2017</td>\n",
       "      <td>Drunk Bragging Trump Staffer Started Russian ...</td>\n",
       "    </tr>\n",
       "    <tr>\n",
       "      <th>2</th>\n",
       "      <td>Sheriff David Clarke Becomes An Internet Joke...</td>\n",
       "      <td>On Friday, it was revealed that former Milwauk...</td>\n",
       "      <td>News</td>\n",
       "      <td>December 30, 2017</td>\n",
       "      <td>1</td>\n",
       "      <td>2017</td>\n",
       "      <td>Sheriff David Clarke Becomes An Internet Joke...</td>\n",
       "    </tr>\n",
       "    <tr>\n",
       "      <th>3</th>\n",
       "      <td>Trump Is So Obsessed He Even Has Obama’s Name...</td>\n",
       "      <td>On Christmas day, Donald Trump announced that ...</td>\n",
       "      <td>News</td>\n",
       "      <td>December 29, 2017</td>\n",
       "      <td>1</td>\n",
       "      <td>2017</td>\n",
       "      <td>Trump Is So Obsessed He Even Has Obama’s Name...</td>\n",
       "    </tr>\n",
       "    <tr>\n",
       "      <th>4</th>\n",
       "      <td>Pope Francis Just Called Out Donald Trump Dur...</td>\n",
       "      <td>Pope Francis used his annual Christmas Day mes...</td>\n",
       "      <td>News</td>\n",
       "      <td>December 25, 2017</td>\n",
       "      <td>1</td>\n",
       "      <td>2017</td>\n",
       "      <td>Pope Francis Just Called Out Donald Trump Dur...</td>\n",
       "    </tr>\n",
       "  </tbody>\n",
       "</table>\n",
       "</div>"
      ],
      "text/plain": [
       "                                               title  \\\n",
       "0   Donald Trump Sends Out Embarrassing New Year’...   \n",
       "1   Drunk Bragging Trump Staffer Started Russian ...   \n",
       "2   Sheriff David Clarke Becomes An Internet Joke...   \n",
       "3   Trump Is So Obsessed He Even Has Obama’s Name...   \n",
       "4   Pope Francis Just Called Out Donald Trump Dur...   \n",
       "\n",
       "                                                text subject  \\\n",
       "0  Donald Trump just couldn t wish all Americans ...    News   \n",
       "1  House Intelligence Committee Chairman Devin Nu...    News   \n",
       "2  On Friday, it was revealed that former Milwauk...    News   \n",
       "3  On Christmas day, Donald Trump announced that ...    News   \n",
       "4  Pope Francis used his annual Christmas Day mes...    News   \n",
       "\n",
       "                date  class  year  \\\n",
       "0  December 31, 2017      1  2017   \n",
       "1  December 31, 2017      1  2017   \n",
       "2  December 30, 2017      1  2017   \n",
       "3  December 29, 2017      1  2017   \n",
       "4  December 25, 2017      1  2017   \n",
       "\n",
       "                                                news  \n",
       "0   Donald Trump Sends Out Embarrassing New Year’...  \n",
       "1   Drunk Bragging Trump Staffer Started Russian ...  \n",
       "2   Sheriff David Clarke Becomes An Internet Joke...  \n",
       "3   Trump Is So Obsessed He Even Has Obama’s Name...  \n",
       "4   Pope Francis Just Called Out Donald Trump Dur...  "
      ]
     },
     "execution_count": 33,
     "metadata": {},
     "output_type": "execute_result"
    }
   ],
   "source": [
    "df.head()"
   ]
  },
  {
   "cell_type": "code",
   "execution_count": 42,
   "metadata": {},
   "outputs": [
    {
     "data": {
      "text/plain": [
       "politics     0.495787\n",
       "News         0.254123\n",
       "worldnews    0.250090\n",
       "Name: new_subject, dtype: float64"
      ]
     },
     "execution_count": 42,
     "metadata": {},
     "output_type": "execute_result"
    }
   ],
   "source": [
    "#unificamos categorías similares\n",
    "\n",
    "subject_replace = {\n",
    "    \"politicsNews\" : \"politics\",\n",
    "    \"US_News\" : \"News\",\n",
    "    \"Government News\" : \"politics\",\n",
    "    \"left-news\" : \"politics\"\n",
    "     }\n",
    "\n",
    "df[\"new_subject\"] = df[\"subject\"]\n",
    "\n",
    "for key in subject_replace:\n",
    "    df[\"new_subject\"] = df.new_subject.str.replace(key, subject_replace[key])\n",
    "    \n",
    "df.new_subject.value_counts(1)"
   ]
  },
  {
   "cell_type": "code",
   "execution_count": 43,
   "metadata": {},
   "outputs": [
    {
     "data": {
      "text/html": [
       "<div>\n",
       "<style scoped>\n",
       "    .dataframe tbody tr th:only-of-type {\n",
       "        vertical-align: middle;\n",
       "    }\n",
       "\n",
       "    .dataframe tbody tr th {\n",
       "        vertical-align: top;\n",
       "    }\n",
       "\n",
       "    .dataframe thead th {\n",
       "        text-align: right;\n",
       "    }\n",
       "</style>\n",
       "<table border=\"1\" class=\"dataframe\">\n",
       "  <thead>\n",
       "    <tr style=\"text-align: right;\">\n",
       "      <th></th>\n",
       "      <th>title</th>\n",
       "      <th>text</th>\n",
       "      <th>date</th>\n",
       "      <th>class</th>\n",
       "      <th>year</th>\n",
       "      <th>news</th>\n",
       "      <th>new_subject</th>\n",
       "    </tr>\n",
       "  </thead>\n",
       "  <tbody>\n",
       "    <tr>\n",
       "      <th>0</th>\n",
       "      <td>Donald Trump Sends Out Embarrassing New Year’...</td>\n",
       "      <td>Donald Trump just couldn t wish all Americans ...</td>\n",
       "      <td>December 31, 2017</td>\n",
       "      <td>1</td>\n",
       "      <td>2017</td>\n",
       "      <td>Donald Trump Sends Out Embarrassing New Year’...</td>\n",
       "      <td>News</td>\n",
       "    </tr>\n",
       "    <tr>\n",
       "      <th>1</th>\n",
       "      <td>Drunk Bragging Trump Staffer Started Russian ...</td>\n",
       "      <td>House Intelligence Committee Chairman Devin Nu...</td>\n",
       "      <td>December 31, 2017</td>\n",
       "      <td>1</td>\n",
       "      <td>2017</td>\n",
       "      <td>Drunk Bragging Trump Staffer Started Russian ...</td>\n",
       "      <td>News</td>\n",
       "    </tr>\n",
       "    <tr>\n",
       "      <th>2</th>\n",
       "      <td>Sheriff David Clarke Becomes An Internet Joke...</td>\n",
       "      <td>On Friday, it was revealed that former Milwauk...</td>\n",
       "      <td>December 30, 2017</td>\n",
       "      <td>1</td>\n",
       "      <td>2017</td>\n",
       "      <td>Sheriff David Clarke Becomes An Internet Joke...</td>\n",
       "      <td>News</td>\n",
       "    </tr>\n",
       "    <tr>\n",
       "      <th>3</th>\n",
       "      <td>Trump Is So Obsessed He Even Has Obama’s Name...</td>\n",
       "      <td>On Christmas day, Donald Trump announced that ...</td>\n",
       "      <td>December 29, 2017</td>\n",
       "      <td>1</td>\n",
       "      <td>2017</td>\n",
       "      <td>Trump Is So Obsessed He Even Has Obama’s Name...</td>\n",
       "      <td>News</td>\n",
       "    </tr>\n",
       "    <tr>\n",
       "      <th>4</th>\n",
       "      <td>Pope Francis Just Called Out Donald Trump Dur...</td>\n",
       "      <td>Pope Francis used his annual Christmas Day mes...</td>\n",
       "      <td>December 25, 2017</td>\n",
       "      <td>1</td>\n",
       "      <td>2017</td>\n",
       "      <td>Pope Francis Just Called Out Donald Trump Dur...</td>\n",
       "      <td>News</td>\n",
       "    </tr>\n",
       "  </tbody>\n",
       "</table>\n",
       "</div>"
      ],
      "text/plain": [
       "                                               title  \\\n",
       "0   Donald Trump Sends Out Embarrassing New Year’...   \n",
       "1   Drunk Bragging Trump Staffer Started Russian ...   \n",
       "2   Sheriff David Clarke Becomes An Internet Joke...   \n",
       "3   Trump Is So Obsessed He Even Has Obama’s Name...   \n",
       "4   Pope Francis Just Called Out Donald Trump Dur...   \n",
       "\n",
       "                                                text               date  \\\n",
       "0  Donald Trump just couldn t wish all Americans ...  December 31, 2017   \n",
       "1  House Intelligence Committee Chairman Devin Nu...  December 31, 2017   \n",
       "2  On Friday, it was revealed that former Milwauk...  December 30, 2017   \n",
       "3  On Christmas day, Donald Trump announced that ...  December 29, 2017   \n",
       "4  Pope Francis used his annual Christmas Day mes...  December 25, 2017   \n",
       "\n",
       "   class  year                                               news new_subject  \n",
       "0      1  2017   Donald Trump Sends Out Embarrassing New Year’...        News  \n",
       "1      1  2017   Drunk Bragging Trump Staffer Started Russian ...        News  \n",
       "2      1  2017   Sheriff David Clarke Becomes An Internet Joke...        News  \n",
       "3      1  2017   Trump Is So Obsessed He Even Has Obama’s Name...        News  \n",
       "4      1  2017   Pope Francis Just Called Out Donald Trump Dur...        News  "
      ]
     },
     "execution_count": 43,
     "metadata": {},
     "output_type": "execute_result"
    }
   ],
   "source": [
    "df.drop(['subject'], axis=1, inplace=True)\n",
    "df.head()#dropeamos subject porque son las categorías viejas que confundirían al modelo"
   ]
  },
  {
   "cell_type": "code",
   "execution_count": 44,
   "metadata": {},
   "outputs": [
    {
     "data": {
      "text/plain": [
       "title          object\n",
       "text           object\n",
       "date           object\n",
       "class           int64\n",
       "year           object\n",
       "news           object\n",
       "new_subject    object\n",
       "dtype: object"
      ]
     },
     "execution_count": 44,
     "metadata": {},
     "output_type": "execute_result"
    }
   ],
   "source": [
    "df.dtypes"
   ]
  },
  {
   "cell_type": "code",
   "execution_count": 45,
   "metadata": {},
   "outputs": [
    {
     "name": "stderr",
     "output_type": "stream",
     "text": [
      "C:\\Users\\krist_21mtz37\\anaconda3\\envs\\dhdsblend\\lib\\site-packages\\pandas\\core\\strings.py:1954: UserWarning: This pattern has match groups. To actually get the groups, use str.extract.\n",
      "  return func(self, *args, **kwargs)\n"
     ]
    },
    {
     "data": {
      "text/html": [
       "<div>\n",
       "<style scoped>\n",
       "    .dataframe tbody tr th:only-of-type {\n",
       "        vertical-align: middle;\n",
       "    }\n",
       "\n",
       "    .dataframe tbody tr th {\n",
       "        vertical-align: top;\n",
       "    }\n",
       "\n",
       "    .dataframe thead th {\n",
       "        text-align: right;\n",
       "    }\n",
       "</style>\n",
       "<table border=\"1\" class=\"dataframe\">\n",
       "  <thead>\n",
       "    <tr style=\"text-align: right;\">\n",
       "      <th></th>\n",
       "      <th>title</th>\n",
       "      <th>text</th>\n",
       "      <th>date</th>\n",
       "      <th>class</th>\n",
       "      <th>year</th>\n",
       "      <th>news</th>\n",
       "      <th>new_subject</th>\n",
       "      <th>diciembre</th>\n",
       "      <th>enero</th>\n",
       "      <th>febrero</th>\n",
       "      <th>marzo</th>\n",
       "      <th>abril</th>\n",
       "      <th>mayo</th>\n",
       "      <th>junio</th>\n",
       "      <th>julio</th>\n",
       "      <th>agosto</th>\n",
       "      <th>septiembre</th>\n",
       "      <th>octubre</th>\n",
       "      <th>noviembre</th>\n",
       "    </tr>\n",
       "  </thead>\n",
       "  <tbody>\n",
       "    <tr>\n",
       "      <th>0</th>\n",
       "      <td>Donald Trump Sends Out Embarrassing New Year’...</td>\n",
       "      <td>Donald Trump just couldn t wish all Americans ...</td>\n",
       "      <td>December 31, 2017</td>\n",
       "      <td>1</td>\n",
       "      <td>2017</td>\n",
       "      <td>Donald Trump Sends Out Embarrassing New Year’...</td>\n",
       "      <td>News</td>\n",
       "      <td>True</td>\n",
       "      <td>False</td>\n",
       "      <td>False</td>\n",
       "      <td>False</td>\n",
       "      <td>False</td>\n",
       "      <td>False</td>\n",
       "      <td>False</td>\n",
       "      <td>False</td>\n",
       "      <td>False</td>\n",
       "      <td>False</td>\n",
       "      <td>False</td>\n",
       "      <td>False</td>\n",
       "    </tr>\n",
       "    <tr>\n",
       "      <th>1</th>\n",
       "      <td>Drunk Bragging Trump Staffer Started Russian ...</td>\n",
       "      <td>House Intelligence Committee Chairman Devin Nu...</td>\n",
       "      <td>December 31, 2017</td>\n",
       "      <td>1</td>\n",
       "      <td>2017</td>\n",
       "      <td>Drunk Bragging Trump Staffer Started Russian ...</td>\n",
       "      <td>News</td>\n",
       "      <td>True</td>\n",
       "      <td>False</td>\n",
       "      <td>False</td>\n",
       "      <td>False</td>\n",
       "      <td>False</td>\n",
       "      <td>False</td>\n",
       "      <td>False</td>\n",
       "      <td>False</td>\n",
       "      <td>False</td>\n",
       "      <td>False</td>\n",
       "      <td>False</td>\n",
       "      <td>False</td>\n",
       "    </tr>\n",
       "    <tr>\n",
       "      <th>2</th>\n",
       "      <td>Sheriff David Clarke Becomes An Internet Joke...</td>\n",
       "      <td>On Friday, it was revealed that former Milwauk...</td>\n",
       "      <td>December 30, 2017</td>\n",
       "      <td>1</td>\n",
       "      <td>2017</td>\n",
       "      <td>Sheriff David Clarke Becomes An Internet Joke...</td>\n",
       "      <td>News</td>\n",
       "      <td>True</td>\n",
       "      <td>False</td>\n",
       "      <td>False</td>\n",
       "      <td>False</td>\n",
       "      <td>False</td>\n",
       "      <td>False</td>\n",
       "      <td>False</td>\n",
       "      <td>False</td>\n",
       "      <td>False</td>\n",
       "      <td>False</td>\n",
       "      <td>False</td>\n",
       "      <td>False</td>\n",
       "    </tr>\n",
       "    <tr>\n",
       "      <th>3</th>\n",
       "      <td>Trump Is So Obsessed He Even Has Obama’s Name...</td>\n",
       "      <td>On Christmas day, Donald Trump announced that ...</td>\n",
       "      <td>December 29, 2017</td>\n",
       "      <td>1</td>\n",
       "      <td>2017</td>\n",
       "      <td>Trump Is So Obsessed He Even Has Obama’s Name...</td>\n",
       "      <td>News</td>\n",
       "      <td>True</td>\n",
       "      <td>False</td>\n",
       "      <td>False</td>\n",
       "      <td>False</td>\n",
       "      <td>False</td>\n",
       "      <td>False</td>\n",
       "      <td>False</td>\n",
       "      <td>False</td>\n",
       "      <td>False</td>\n",
       "      <td>False</td>\n",
       "      <td>False</td>\n",
       "      <td>False</td>\n",
       "    </tr>\n",
       "    <tr>\n",
       "      <th>4</th>\n",
       "      <td>Pope Francis Just Called Out Donald Trump Dur...</td>\n",
       "      <td>Pope Francis used his annual Christmas Day mes...</td>\n",
       "      <td>December 25, 2017</td>\n",
       "      <td>1</td>\n",
       "      <td>2017</td>\n",
       "      <td>Pope Francis Just Called Out Donald Trump Dur...</td>\n",
       "      <td>News</td>\n",
       "      <td>True</td>\n",
       "      <td>False</td>\n",
       "      <td>False</td>\n",
       "      <td>False</td>\n",
       "      <td>False</td>\n",
       "      <td>False</td>\n",
       "      <td>False</td>\n",
       "      <td>False</td>\n",
       "      <td>False</td>\n",
       "      <td>False</td>\n",
       "      <td>False</td>\n",
       "      <td>False</td>\n",
       "    </tr>\n",
       "  </tbody>\n",
       "</table>\n",
       "</div>"
      ],
      "text/plain": [
       "                                               title  \\\n",
       "0   Donald Trump Sends Out Embarrassing New Year’...   \n",
       "1   Drunk Bragging Trump Staffer Started Russian ...   \n",
       "2   Sheriff David Clarke Becomes An Internet Joke...   \n",
       "3   Trump Is So Obsessed He Even Has Obama’s Name...   \n",
       "4   Pope Francis Just Called Out Donald Trump Dur...   \n",
       "\n",
       "                                                text               date  \\\n",
       "0  Donald Trump just couldn t wish all Americans ...  December 31, 2017   \n",
       "1  House Intelligence Committee Chairman Devin Nu...  December 31, 2017   \n",
       "2  On Friday, it was revealed that former Milwauk...  December 30, 2017   \n",
       "3  On Christmas day, Donald Trump announced that ...  December 29, 2017   \n",
       "4  Pope Francis used his annual Christmas Day mes...  December 25, 2017   \n",
       "\n",
       "   class  year                                               news new_subject  \\\n",
       "0      1  2017   Donald Trump Sends Out Embarrassing New Year’...        News   \n",
       "1      1  2017   Drunk Bragging Trump Staffer Started Russian ...        News   \n",
       "2      1  2017   Sheriff David Clarke Becomes An Internet Joke...        News   \n",
       "3      1  2017   Trump Is So Obsessed He Even Has Obama’s Name...        News   \n",
       "4      1  2017   Pope Francis Just Called Out Donald Trump Dur...        News   \n",
       "\n",
       "   diciembre  enero  febrero  marzo  abril   mayo  junio  julio  agosto  \\\n",
       "0       True  False    False  False  False  False  False  False   False   \n",
       "1       True  False    False  False  False  False  False  False   False   \n",
       "2       True  False    False  False  False  False  False  False   False   \n",
       "3       True  False    False  False  False  False  False  False   False   \n",
       "4       True  False    False  False  False  False  False  False   False   \n",
       "\n",
       "   septiembre  octubre  noviembre  \n",
       "0       False    False      False  \n",
       "1       False    False      False  \n",
       "2       False    False      False  \n",
       "3       False    False      False  \n",
       "4       False    False      False  "
      ]
     },
     "execution_count": 45,
     "metadata": {},
     "output_type": "execute_result"
    }
   ],
   "source": [
    "#Extraemos el mes de date y rellenamos en una columna nueva 'month' cada uno\n",
    "\n",
    "december = r\"(December)\"\n",
    "df[\"diciembre\"] = df[\"date\"].str.contains(december)\n",
    "\n",
    "jan = r\"(January)\"\n",
    "df[\"enero\"] = df[\"date\"].str.contains(jan)\n",
    "\n",
    "feb = r\"(February)\"\n",
    "df[\"febrero\"] = df[\"date\"].str.contains(feb)\n",
    "\n",
    "mar = r\"(March)\"\n",
    "df[\"marzo\"] = df[\"date\"].str.contains(mar)\n",
    "\n",
    "apr = r\"(April)\"\n",
    "df[\"abril\"] = df[\"date\"].str.contains(apr)\n",
    "\n",
    "may = r\"(May)\"\n",
    "df[\"mayo\"] = df[\"date\"].str.contains(may)\n",
    "\n",
    "jun = r\"(June)\"\n",
    "df[\"junio\"] = df[\"date\"].str.contains(jun)\n",
    "\n",
    "jul = r\"(July)\"\n",
    "df[\"julio\"] = df[\"date\"].str.contains(jul)\n",
    "\n",
    "aug = r\"(August)\"\n",
    "df[\"agosto\"] = df[\"date\"].str.contains(aug)\n",
    "\n",
    "sep = r\"(September)\"\n",
    "df[\"septiembre\"] = df[\"date\"].str.contains(sep)\n",
    "\n",
    "octo = r\"(October)\"\n",
    "df[\"octubre\"] = df[\"date\"].str.contains(octo)\n",
    "\n",
    "nov = r\"(November)\"\n",
    "df[\"noviembre\"] = df[\"date\"].str.contains(nov)\n",
    "\n",
    "\n",
    "df.head()\n",
    "#ahora pasamos a numericas las booleanas de meses"
   ]
  },
  {
   "cell_type": "code",
   "execution_count": 46,
   "metadata": {},
   "outputs": [],
   "source": [
    "df.enero = df.enero.replace({True: 1, False: 0})\n",
    "df.febrero = df.febrero.replace({True: 1, False: 0})\n",
    "df.marzo = df.marzo.replace({True: 1, False: 0})\n",
    "df.abril = df.abril.replace({True: 1, False: 0})\n",
    "df.mayo = df.mayo.replace({True: 1, False: 0})\n",
    "df.junio = df.junio.replace({True: 1, False: 0})\n",
    "df.julio = df.julio.replace({True: 1, False: 0})\n",
    "df.agosto = df.agosto.replace({True: 1, False: 0})\n",
    "df.septiembre = df.septiembre.replace({True: 1, False: 0})\n",
    "df.octubre = df.octubre.replace({True: 1, False: 0})\n",
    "df.noviembre = df.noviembre.replace({True: 1, False: 0})\n",
    "df.diciembre = df.diciembre.replace({True: 1, False: 0})"
   ]
  },
  {
   "cell_type": "code",
   "execution_count": 47,
   "metadata": {},
   "outputs": [
    {
     "data": {
      "text/plain": [
       "False"
      ]
     },
     "execution_count": 47,
     "metadata": {},
     "output_type": "execute_result"
    }
   ],
   "source": [
    "(df['news'] == 0).all() #chequeamos que no queden valores con 0 en todos los meses"
   ]
  },
  {
   "cell_type": "code",
   "execution_count": 48,
   "metadata": {},
   "outputs": [
    {
     "data": {
      "text/plain": [
       "Index(['title', 'text', 'date', 'class', 'year', 'news', 'new_subject',\n",
       "       'diciembre', 'enero', 'febrero', 'marzo', 'abril', 'mayo', 'junio',\n",
       "       'julio', 'agosto', 'septiembre', 'octubre', 'noviembre'],\n",
       "      dtype='object')"
      ]
     },
     "execution_count": 48,
     "metadata": {},
     "output_type": "execute_result"
    }
   ],
   "source": [
    "df.columns"
   ]
  },
  {
   "cell_type": "code",
   "execution_count": 49,
   "metadata": {},
   "outputs": [
    {
     "data": {
      "text/plain": [
       "title          object\n",
       "text           object\n",
       "date           object\n",
       "class           int64\n",
       "year           object\n",
       "news           object\n",
       "new_subject    object\n",
       "diciembre       int64\n",
       "enero           int64\n",
       "febrero         int64\n",
       "marzo           int64\n",
       "abril           int64\n",
       "mayo            int64\n",
       "junio           int64\n",
       "julio           int64\n",
       "agosto          int64\n",
       "septiembre      int64\n",
       "octubre         int64\n",
       "noviembre       int64\n",
       "dtype: object"
      ]
     },
     "execution_count": 49,
     "metadata": {},
     "output_type": "execute_result"
    }
   ],
   "source": [
    "df.dtypes"
   ]
  },
  {
   "cell_type": "code",
   "execution_count": 50,
   "metadata": {},
   "outputs": [],
   "source": [
    "#X = df.drop(columns=['class','title','text','date'])\n",
    "#y = df[\"class\"]\n",
    "#X_train, X_test, y_train, y_test = train_test_split(X, y, stratify=y, test_size=0.22, random_state=42)\n",
    "#print(X_train.shape)\n",
    "#print(X_test.shape)\n",
    "#print(y_train.shape)\n",
    "#print(y_test.shape)"
   ]
  },
  {
   "cell_type": "code",
   "execution_count": 59,
   "metadata": {},
   "outputs": [
    {
     "name": "stdout",
     "output_type": "stream",
     "text": [
      "Requirement already satisfied: nltk in c:\\users\\krist_21mtz37\\anaconda3\\envs\\dhdsblend\\lib\\site-packages (3.4.5)\n",
      "Requirement already satisfied: six in c:\\users\\krist_21mtz37\\anaconda3\\envs\\dhdsblend\\lib\\site-packages (from nltk) (1.15.0)\n"
     ]
    },
    {
     "name": "stderr",
     "output_type": "stream",
     "text": [
      "[nltk_data] Downloading package stopwords to\n",
      "[nltk_data]     C:\\Users\\krist_21mtz37\\AppData\\Roaming\\nltk_data...\n",
      "[nltk_data]   Package stopwords is already up-to-date!\n"
     ]
    }
   ],
   "source": [
    "from sklearn.feature_extraction.text import CountVectorizer\n",
    "from nltk.corpus import stopwords\n",
    "!pip install nltk\n",
    "import nltk\n",
    "nltk.download('stopwords')\n",
    "stop_words=stopwords.words('english');\n",
    "\n",
    "vec= CountVectorizer(stop_words=stop_words,lowercase=True,strip_accents='unicode')\n",
    "train,test=train_test_split(df,stratify=df['class'],random_state=42);\n",
    "\n",
    "X_train=vec.fit_transform(train['news'])\n",
    "y_train=train['class'];\n",
    "\n",
    "X_test=vec.transform(test['news'])\n",
    "y_test=test['class'];"
   ]
  },
  {
   "cell_type": "code",
   "execution_count": 60,
   "metadata": {},
   "outputs": [
    {
     "data": {
      "text/plain": [
       "((29017,), (9673,))"
      ]
     },
     "execution_count": 60,
     "metadata": {},
     "output_type": "execute_result"
    }
   ],
   "source": [
    "#from tensorflow.keras.utils import to_categorical\n",
    "\n",
    "#y_train = to_categorical(y_train)\n",
    "#y_test = to_categorical(y_test)\n",
    "\n",
    "y_train.shape, y_test.shape"
   ]
  },
  {
   "cell_type": "code",
   "execution_count": 61,
   "metadata": {},
   "outputs": [
    {
     "data": {
      "text/plain": [
       "((29017, 105902), (9673, 105902))"
      ]
     },
     "execution_count": 61,
     "metadata": {},
     "output_type": "execute_result"
    }
   ],
   "source": [
    "X_train.shape, X_test.shape"
   ]
  },
  {
   "cell_type": "code",
   "execution_count": 62,
   "metadata": {},
   "outputs": [],
   "source": [
    "x_val = X_train[:10000]\n",
    "par_x_train = X_train[10000:]\n",
    "\n",
    "y_val = y_train[:10000]\n",
    "par_y_train = y_train[10000:]"
   ]
  },
  {
   "cell_type": "code",
   "execution_count": 63,
   "metadata": {},
   "outputs": [
    {
     "data": {
      "text/plain": [
       "(10000, 105902)"
      ]
     },
     "execution_count": 63,
     "metadata": {},
     "output_type": "execute_result"
    }
   ],
   "source": [
    "x_val.shape"
   ]
  },
  {
   "cell_type": "code",
   "execution_count": 64,
   "metadata": {},
   "outputs": [
    {
     "data": {
      "text/plain": [
       "(10000,)"
      ]
     },
     "execution_count": 64,
     "metadata": {},
     "output_type": "execute_result"
    }
   ],
   "source": [
    "y_val.shape"
   ]
  },
  {
   "cell_type": "code",
   "execution_count": 65,
   "metadata": {},
   "outputs": [],
   "source": [
    "from tensorflow.keras.wrappers.scikit_learn import KerasClassifier\n",
    "from tensorflow.keras.callbacks import EarlyStopping, ReduceLROnPlateau"
   ]
  },
  {
   "cell_type": "code",
   "execution_count": 107,
   "metadata": {},
   "outputs": [
    {
     "name": "stdout",
     "output_type": "stream",
     "text": [
      "Model: \"prueba\"\n",
      "_________________________________________________________________\n",
      "Layer (type)                 Output Shape              Param #   \n",
      "=================================================================\n",
      "dense_66 (Dense)             (None, 150)               15885450  \n",
      "_________________________________________________________________\n",
      "dense_67 (Dense)             (None, 1)                 151       \n",
      "=================================================================\n",
      "Total params: 15,885,601\n",
      "Trainable params: 15,885,601\n",
      "Non-trainable params: 0\n",
      "_________________________________________________________________\n"
     ]
    }
   ],
   "source": [
    "#Primero probamos armar una red neuronal sin callbacks con dos capas para ver cómo performa\n",
    "from tensorflow.keras.models import Sequential\n",
    "from tensorflow.keras.layers import Flatten, Dense, Dropout \n",
    "from tensorflow.keras import regularizers\n",
    "\n",
    "\n",
    "dropout_rate=0.2\n",
    "\n",
    "model = Sequential(name=\"prueba\")\n",
    "model.add(Dense(150, activation='relu', input_shape=(105902,),\n",
    "                kernel_regularizer=regularizers.l1(0.001)))\n",
    "#model.add(Dropout(dropout_rate))\n",
    "model.add(Dense(1, activation='sigmoid'))\n",
    "\n",
    "model.summary()\n",
    "#Fuimos probando con Dropout de entrada pero funcionaba mejor sin\n",
    "#Sin regularizar overfiteaba"
   ]
  },
  {
   "cell_type": "code",
   "execution_count": 108,
   "metadata": {},
   "outputs": [],
   "source": [
    "#La compilamos\n",
    "from keras import optimizers\n",
    "model.compile(optimizer='rmsprop',\n",
    "              loss='binary_crossentropy',\n",
    "              metrics=['accuracy'])"
   ]
  },
  {
   "cell_type": "code",
   "execution_count": 111,
   "metadata": {},
   "outputs": [
    {
     "name": "stdout",
     "output_type": "stream",
     "text": [
      "Train on 29017 samples, validate on 10000 samples\n",
      "Epoch 1/12\n",
      "29017/29017 [==============================] - 117s 4ms/sample - loss: 7.5522 - acc: 0.9795 - val_loss: 7.9279 - val_acc: 0.9625\n",
      "Epoch 2/12\n",
      "29017/29017 [==============================] - 116s 4ms/sample - loss: 7.7027 - acc: 0.9803 - val_loss: 7.8415 - val_acc: 0.9928\n",
      "Epoch 3/12\n",
      "29017/29017 [==============================] - 122s 4ms/sample - loss: 7.7464 - acc: 0.9834 - val_loss: 7.8669 - val_acc: 0.9938\n",
      "Epoch 4/12\n",
      "29017/29017 [==============================] - 116s 4ms/sample - loss: 7.7561 - acc: 0.9834 - val_loss: 7.8564 - val_acc: 0.9954\n",
      "Epoch 5/12\n",
      "29017/29017 [==============================] - 115s 4ms/sample - loss: 7.7858 - acc: 0.9804 - val_loss: 7.8541 - val_acc: 0.9955\n",
      "Epoch 6/12\n",
      "29017/29017 [==============================] - 114s 4ms/sample - loss: 7.7928 - acc: 0.9829 - val_loss: 7.8739 - val_acc: 0.9960\n",
      "Epoch 7/12\n",
      "29017/29017 [==============================] - 133s 5ms/sample - loss: 7.7800 - acc: 0.9869 - val_loss: 7.8908 - val_acc: 0.9962\n",
      "Epoch 8/12\n",
      "29017/29017 [==============================] - 117s 4ms/sample - loss: 7.8230 - acc: 0.9799 - val_loss: 7.8846 - val_acc: 0.9960\n",
      "Epoch 9/12\n",
      "29017/29017 [==============================] - 124s 4ms/sample - loss: 7.8019 - acc: 0.9841 - val_loss: 7.9905 - val_acc: 0.9949\n",
      "Epoch 10/12\n",
      "29017/29017 [==============================] - 136s 5ms/sample - loss: 7.7866 - acc: 0.9893 - val_loss: 7.9085 - val_acc: 0.9931\n",
      "Epoch 11/12\n",
      "29017/29017 [==============================] - 130s 4ms/sample - loss: 7.8295 - acc: 0.9833 - val_loss: 7.8942 - val_acc: 0.9961\n",
      "Epoch 12/12\n",
      "29017/29017 [==============================] - 133s 5ms/sample - loss: 7.8353 - acc: 0.9824 - val_loss: 7.8895 - val_acc: 0.9956\n"
     ]
    }
   ],
   "source": [
    "#Validamos\n",
    "history = model.fit(X_train,\n",
    "                    y_train,\n",
    "                    epochs=12,\n",
    "                    batch_size=700,\n",
    "                    validation_data=(x_val, y_val))"
   ]
  },
  {
   "cell_type": "code",
   "execution_count": 112,
   "metadata": {},
   "outputs": [
    {
     "data": {
      "text/plain": [
       "dict_keys(['loss', 'acc', 'val_loss', 'val_acc'])"
      ]
     },
     "execution_count": 112,
     "metadata": {},
     "output_type": "execute_result"
    }
   ],
   "source": [
    "history_dict = history.history\n",
    "history_dict.keys()"
   ]
  },
  {
   "cell_type": "code",
   "execution_count": 113,
   "metadata": {},
   "outputs": [
    {
     "data": {
      "image/png": "[encoded data removed]",
      "text/plain": [
       "<Figure size 864x576 with 1 Axes>"
      ]
     },
     "metadata": {
      "needs_background": "light"
     },
     "output_type": "display_data"
    },
    {
     "data": {
      "image/png": "[encoded data removed]",
      "text/plain": [
       "<Figure size 864x576 with 1 Axes>"
      ]
     },
     "metadata": {
      "needs_background": "light"
     },
     "output_type": "display_data"
    }
   ],
   "source": [
    "acc = history.history['acc']\n",
    "val_acc = history.history['val_acc']\n",
    "loss = history.history['loss']\n",
    "val_loss = history.history['val_loss']\n",
    "epochs = range(1, len(acc) + 1)\n",
    "\n",
    "plt.figure(figsize=(12,8))\n",
    "plt.title('Modelo de base')\n",
    "plt.plot(epochs, loss)\n",
    "plt.plot(epochs, val_loss)\n",
    "plt.xticks(ticks=epochs)\n",
    "plt.ylabel('Loss')\n",
    "plt.legend(['Training loss', 'Validation loss'])\n",
    "\n",
    "plt.figure(figsize=(12,8))\n",
    "plt.plot(epochs, acc)\n",
    "plt.plot(epochs, val_acc)\n",
    "plt.xticks(ticks=list(epochs))\n",
    "plt.xlabel('Epochs')\n",
    "plt.ylabel('Accuracy')\n",
    "plt.legend(['Training accuracy', 'Validation accuracy']);"
   ]
  },
  {
   "cell_type": "code",
   "execution_count": 86,
   "metadata": {},
   "outputs": [],
   "source": [
    "#Armamos una funcion nueva con otra NN\n",
    "def model2(train_data=X_train, units=256, dropout_rate=0.2):\n",
    "    \n",
    "    model2 = Sequential()\n",
    "    model2.add(Dense(units, activation='relu', input_shape=(105902,),\n",
    "                     kernel_regularizer=regularizers.l2(0.01)))\n",
    "    model2.add(Dropout(dropout_rate))\n",
    "    model2.add(Dense(1, activation='sigmoid'))\n",
    "\n",
    "    model2.compile(optimizer='rmsprop', loss='binary_crossentropy', metrics=['accuracy'])\n",
    "\n",
    "    \n",
    "    return model2"
   ]
  },
  {
   "cell_type": "code",
   "execution_count": 87,
   "metadata": {},
   "outputs": [],
   "source": [
    "wrapper = KerasClassifier(model2, batch_size=512, epochs=10, verbose=0)"
   ]
  },
  {
   "cell_type": "code",
   "execution_count": 88,
   "metadata": {},
   "outputs": [],
   "source": [
    "from sklearn.model_selection import RandomizedSearchCV\n",
    "params = {'units':[100, 256, 512],\n",
    "          'dropout_rate':[0.1, 0.25, 0.5]}\n",
    "\n",
    "grid = RandomizedSearchCV(wrapper, params, cv=3)"
   ]
  },
  {
   "cell_type": "code",
   "execution_count": 89,
   "metadata": {},
   "outputs": [
    {
     "name": "stdout",
     "output_type": "stream",
     "text": [
      "Train on 15475 samples, validate on 3869 samples\n",
      "Epoch 1/13\n",
      "15475/15475 [==============================] - 58s 4ms/sample - loss: 0.4074 - acc: 0.9351 - val_loss: 0.1805 - val_acc: 0.9814\n",
      "Epoch 2/13\n",
      "15475/15475 [==============================] - 56s 4ms/sample - loss: 0.1857 - acc: 0.9816 - val_loss: 0.1939 - val_acc: 0.9801\n",
      "Epoch 3/13\n",
      "15475/15475 [==============================] - 51s 3ms/sample - loss: 0.1763 - acc: 0.9823 - val_loss: 0.1503 - val_acc: 0.9886\n",
      "Epoch 4/13\n",
      "15475/15475 [==============================] - 51s 3ms/sample - loss: 0.1636 - acc: 0.9842 - val_loss: 0.1826 - val_acc: 0.9739\n",
      "Epoch 5/13\n",
      "15475/15475 [==============================] - 50s 3ms/sample - loss: 0.1499 - acc: 0.9875 - val_loss: 0.1300 - val_acc: 0.9891\n",
      "Epoch 6/13\n",
      "15475/15475 [==============================] - 51s 3ms/sample - loss: 0.1538 - acc: 0.9842 - val_loss: 0.1250 - val_acc: 0.9912\n",
      "Epoch 7/13\n",
      "15475/15475 [==============================] - 50s 3ms/sample - loss: 0.1469 - acc: 0.9853 - val_loss: 0.1272 - val_acc: 0.9915\n",
      "Epoch 8/13\n",
      "15475/15475 [==============================] - 51s 3ms/sample - loss: 0.1404 - acc: 0.9880 - val_loss: 0.2507 - val_acc: 0.9480\n",
      "Epoch 9/13\n",
      "15475/15475 [==============================] - 51s 3ms/sample - loss: 0.1403 - acc: 0.9868 - val_loss: 0.1731 - val_acc: 0.9775\n",
      "Train on 15476 samples, validate on 3869 samples\n",
      "Epoch 1/13\n",
      "15476/15476 [==============================] - 53s 3ms/sample - loss: 0.4184 - acc: 0.9314 - val_loss: 0.1890 - val_acc: 0.9832\n",
      "Epoch 2/13\n",
      "15476/15476 [==============================] - 51s 3ms/sample - loss: 0.1857 - acc: 0.9823 - val_loss: 0.1692 - val_acc: 0.9819\n",
      "Epoch 3/13\n",
      "15476/15476 [==============================] - 51s 3ms/sample - loss: 0.1590 - acc: 0.9880 - val_loss: 0.1996 - val_acc: 0.9749\n",
      "Epoch 4/13\n",
      "15476/15476 [==============================] - 51s 3ms/sample - loss: 0.1560 - acc: 0.9857 - val_loss: 0.2150 - val_acc: 0.9574\n",
      "Epoch 5/13\n",
      "15476/15476 [==============================] - 50s 3ms/sample - loss: 0.1498 - acc: 0.9870 - val_loss: 0.1293 - val_acc: 0.9897\n",
      "Epoch 6/13\n",
      "15476/15476 [==============================] - 51s 3ms/sample - loss: 0.1365 - acc: 0.9880 - val_loss: 0.1769 - val_acc: 0.9765\n",
      "Epoch 7/13\n",
      "15476/15476 [==============================] - 50s 3ms/sample - loss: 0.1327 - acc: 0.9908 - val_loss: 0.1376 - val_acc: 0.9899\n",
      "Epoch 8/13\n",
      "15476/15476 [==============================] - 50s 3ms/sample - loss: 0.1454 - acc: 0.9864 - val_loss: 0.1216 - val_acc: 0.9930\n",
      "Epoch 9/13\n",
      "15476/15476 [==============================] - 51s 3ms/sample - loss: 0.1325 - acc: 0.9884 - val_loss: 0.1166 - val_acc: 0.9933\n",
      "Epoch 10/13\n",
      "15476/15476 [==============================] - 50s 3ms/sample - loss: 0.1235 - acc: 0.9907 - val_loss: 0.1144 - val_acc: 0.9925\n",
      "Epoch 11/13\n",
      "15476/15476 [==============================] - 51s 3ms/sample - loss: 0.1385 - acc: 0.9876 - val_loss: 0.1103 - val_acc: 0.9935\n",
      "Epoch 12/13\n",
      "15476/15476 [==============================] - 51s 3ms/sample - loss: 0.1413 - acc: 0.9864 - val_loss: 0.1155 - val_acc: 0.9917\n",
      "Epoch 13/13\n",
      "15476/15476 [==============================] - 51s 3ms/sample - loss: 0.1196 - acc: 0.9905 - val_loss: 0.1228 - val_acc: 0.9910\n",
      "Train on 15476 samples, validate on 3869 samples\n",
      "Epoch 1/13\n",
      "15476/15476 [==============================] - 52s 3ms/sample - loss: 0.3995 - acc: 0.9398 - val_loss: 0.1802 - val_acc: 0.9809\n",
      "Epoch 2/13\n",
      "15476/15476 [==============================] - 51s 3ms/sample - loss: 0.1871 - acc: 0.9818 - val_loss: 0.1722 - val_acc: 0.9850\n",
      "Epoch 3/13\n",
      "15476/15476 [==============================] - 51s 3ms/sample - loss: 0.1721 - acc: 0.9839 - val_loss: 0.1535 - val_acc: 0.9876\n",
      "Epoch 4/13\n",
      "15476/15476 [==============================] - 51s 3ms/sample - loss: 0.1558 - acc: 0.9866 - val_loss: 0.1375 - val_acc: 0.9873\n",
      "Epoch 5/13\n",
      "15476/15476 [==============================] - 50s 3ms/sample - loss: 0.1571 - acc: 0.9851 - val_loss: 0.1308 - val_acc: 0.9871\n",
      "Epoch 6/13\n",
      "15476/15476 [==============================] - 50s 3ms/sample - loss: 0.1459 - acc: 0.9862 - val_loss: 0.1485 - val_acc: 0.9899\n",
      "Epoch 7/13\n",
      "15476/15476 [==============================] - 51s 3ms/sample - loss: 0.1297 - acc: 0.9925 - val_loss: 0.1339 - val_acc: 0.9876\n",
      "Epoch 8/13\n",
      "15476/15476 [==============================] - 52s 3ms/sample - loss: 0.1366 - acc: 0.9892 - val_loss: 0.1425 - val_acc: 0.9824\n",
      "Train on 15475 samples, validate on 3869 samples\n",
      "Epoch 1/13\n",
      "15475/15475 [==============================] - 84s 5ms/sample - loss: 0.6102 - acc: 0.9312 - val_loss: 0.2155 - val_acc: 0.9816\n",
      "Epoch 2/13\n",
      "15475/15475 [==============================] - 85s 5ms/sample - loss: 0.2578 - acc: 0.9741 - val_loss: 0.2212 - val_acc: 0.9858\n",
      "Epoch 3/13\n",
      "15475/15475 [==============================] - 80s 5ms/sample - loss: 0.2569 - acc: 0.9754 - val_loss: 0.2119 - val_acc: 0.9860\n",
      "Epoch 4/13\n",
      "15475/15475 [==============================] - 79s 5ms/sample - loss: 0.2385 - acc: 0.9785 - val_loss: 0.2478 - val_acc: 0.9736\n",
      "Epoch 5/13\n",
      "15475/15475 [==============================] - 80s 5ms/sample - loss: 0.2511 - acc: 0.9752 - val_loss: 0.1868 - val_acc: 0.9886\n",
      "Epoch 6/13\n",
      "15475/15475 [==============================] - 80s 5ms/sample - loss: 0.2270 - acc: 0.9796 - val_loss: 0.1841 - val_acc: 0.9899\n",
      "Epoch 7/13\n",
      "15475/15475 [==============================] - 83s 5ms/sample - loss: 0.2275 - acc: 0.9790 - val_loss: 0.2535 - val_acc: 0.9628\n",
      "Epoch 8/13\n",
      "15475/15475 [==============================] - 80s 5ms/sample - loss: 0.2146 - acc: 0.9828 - val_loss: 0.1811 - val_acc: 0.9917\n",
      "Epoch 9/13\n",
      "15475/15475 [==============================] - 80s 5ms/sample - loss: 0.2151 - acc: 0.9824 - val_loss: 0.1796 - val_acc: 0.9915\n",
      "Train on 15476 samples, validate on 3869 samples\n",
      "Epoch 1/13\n",
      "15476/15476 [==============================] - 84s 5ms/sample - loss: 0.6049 - acc: 0.9258 - val_loss: 0.5017 - val_acc: 0.8790\n",
      "Epoch 2/13\n",
      "15476/15476 [==============================] - 80s 5ms/sample - loss: 0.2392 - acc: 0.9780 - val_loss: 0.2590 - val_acc: 0.9747\n",
      "Epoch 3/13\n",
      "15476/15476 [==============================] - 79s 5ms/sample - loss: 0.2590 - acc: 0.9724 - val_loss: 0.2791 - val_acc: 0.9804\n",
      "Epoch 4/13\n",
      "15476/15476 [==============================] - 79s 5ms/sample - loss: 0.2180 - acc: 0.9844 - val_loss: 0.2314 - val_acc: 0.9736\n",
      "Epoch 5/13\n",
      "15476/15476 [==============================] - 79s 5ms/sample - loss: 0.2260 - acc: 0.9815 - val_loss: 0.2114 - val_acc: 0.9840\n",
      "Epoch 6/13\n",
      "15476/15476 [==============================] - 82s 5ms/sample - loss: 0.2352 - acc: 0.9791 - val_loss: 0.1806 - val_acc: 0.9891\n",
      "Epoch 7/13\n",
      "15476/15476 [==============================] - 79s 5ms/sample - loss: 0.2096 - acc: 0.9809 - val_loss: 0.2472 - val_acc: 0.9840\n",
      "Epoch 8/13\n",
      "15476/15476 [==============================] - 80s 5ms/sample - loss: 0.2189 - acc: 0.9833 - val_loss: 0.1800 - val_acc: 0.9873\n",
      "Epoch 9/13\n",
      "15476/15476 [==============================] - 79s 5ms/sample - loss: 0.1809 - acc: 0.9888 - val_loss: 0.1651 - val_acc: 0.9915\n",
      "Epoch 10/13\n",
      "15476/15476 [==============================] - 79s 5ms/sample - loss: 0.2200 - acc: 0.9804 - val_loss: 0.1682 - val_acc: 0.9879\n",
      "Epoch 11/13\n",
      "15476/15476 [==============================] - 79s 5ms/sample - loss: 0.2333 - acc: 0.9769 - val_loss: 0.2557 - val_acc: 0.9651\n",
      "Epoch 12/13\n",
      "15476/15476 [==============================] - 81s 5ms/sample - loss: 0.2349 - acc: 0.9766 - val_loss: 0.1665 - val_acc: 0.9904\n",
      "Epoch 13/13\n",
      "15476/15476 [==============================] - 80s 5ms/sample - loss: 0.1906 - acc: 0.9862 - val_loss: 0.1841 - val_acc: 0.9881\n",
      "Train on 15476 samples, validate on 3869 samples\n",
      "Epoch 1/13\n",
      "15476/15476 [==============================] - 85s 5ms/sample - loss: 0.6069 - acc: 0.9325 - val_loss: 0.2311 - val_acc: 0.9767\n",
      "Epoch 2/13\n",
      "15476/15476 [==============================] - 79s 5ms/sample - loss: 0.2704 - acc: 0.9676 - val_loss: 0.2925 - val_acc: 0.9770\n",
      "Epoch 3/13\n",
      "15476/15476 [==============================] - 79s 5ms/sample - loss: 0.2264 - acc: 0.9825 - val_loss: 0.1979 - val_acc: 0.9842\n",
      "Epoch 4/13\n",
      "15476/15476 [==============================] - 79s 5ms/sample - loss: 0.2253 - acc: 0.9798 - val_loss: 0.3490 - val_acc: 0.9356\n",
      "Epoch 5/13\n",
      "15476/15476 [==============================] - 79s 5ms/sample - loss: 0.2388 - acc: 0.9774 - val_loss: 0.1810 - val_acc: 0.9866\n",
      "Epoch 6/13\n",
      "15476/15476 [==============================] - 79s 5ms/sample - loss: 0.2306 - acc: 0.9793 - val_loss: 0.1867 - val_acc: 0.9863\n",
      "Epoch 7/13\n",
      "15476/15476 [==============================] - 79s 5ms/sample - loss: 0.2150 - acc: 0.9830 - val_loss: 0.1791 - val_acc: 0.9868\n",
      "Epoch 8/13\n",
      "15476/15476 [==============================] - 79s 5ms/sample - loss: 0.2136 - acc: 0.9808 - val_loss: 0.1863 - val_acc: 0.9809\n",
      "Epoch 9/13\n",
      "15476/15476 [==============================] - 80s 5ms/sample - loss: 0.2241 - acc: 0.9779 - val_loss: 0.1982 - val_acc: 0.9835\n",
      "Train on 15475 samples, validate on 3869 samples\n",
      "Epoch 1/13\n",
      "15475/15475 [==============================] - 146s 9ms/sample - loss: 0.9416 - acc: 0.9222 - val_loss: 0.6755 - val_acc: 0.8511\n",
      "Epoch 2/13\n",
      "15475/15475 [==============================] - 134s 9ms/sample - loss: 0.3631 - acc: 0.9659 - val_loss: 0.3164 - val_acc: 0.9853\n",
      "Epoch 3/13\n",
      "15475/15475 [==============================] - 131s 8ms/sample - loss: 0.3368 - acc: 0.9712 - val_loss: 0.4896 - val_acc: 0.9359\n",
      "Epoch 4/13\n",
      "15475/15475 [==============================] - 132s 9ms/sample - loss: 0.3257 - acc: 0.9760 - val_loss: 0.3143 - val_acc: 0.9811\n",
      "Epoch 5/13\n",
      "15475/15475 [==============================] - 132s 9ms/sample - loss: 0.3249 - acc: 0.9747 - val_loss: 0.2638 - val_acc: 0.9868\n",
      "Epoch 6/13\n",
      "15475/15475 [==============================] - 133s 9ms/sample - loss: 0.3478 - acc: 0.9674 - val_loss: 0.2872 - val_acc: 0.9899\n",
      "Epoch 7/13\n",
      "15475/15475 [==============================] - 133s 9ms/sample - loss: 0.2940 - acc: 0.9805 - val_loss: 0.3920 - val_acc: 0.9824\n",
      "Epoch 8/13\n",
      "15475/15475 [==============================] - 133s 9ms/sample - loss: 0.3115 - acc: 0.9804 - val_loss: 0.2455 - val_acc: 0.9910\n",
      "Epoch 9/13\n",
      "15475/15475 [==============================] - 132s 9ms/sample - loss: 0.3295 - acc: 0.9738 - val_loss: 0.2470 - val_acc: 0.9912\n",
      "Epoch 10/13\n",
      "15475/15475 [==============================] - 133s 9ms/sample - loss: 0.3084 - acc: 0.9767 - val_loss: 0.2344 - val_acc: 0.9907\n",
      "Epoch 11/13\n",
      "15475/15475 [==============================] - 136s 9ms/sample - loss: 0.2947 - acc: 0.9774 - val_loss: 0.3943 - val_acc: 0.9537\n",
      "Epoch 12/13\n",
      "15475/15475 [==============================] - 132s 9ms/sample - loss: 0.3547 - acc: 0.9678 - val_loss: 0.2571 - val_acc: 0.9917\n",
      "Epoch 13/13\n",
      "15475/15475 [==============================] - 133s 9ms/sample - loss: 0.2935 - acc: 0.9801 - val_loss: 0.2417 - val_acc: 0.9876\n",
      "Train on 15476 samples, validate on 3869 samples\n",
      "Epoch 1/13\n",
      "15476/15476 [==============================] - 144s 9ms/sample - loss: 0.9691 - acc: 0.9238 - val_loss: 0.2548 - val_acc: 0.9775\n",
      "Epoch 2/13\n",
      "15476/15476 [==============================] - 133s 9ms/sample - loss: 0.3613 - acc: 0.9627 - val_loss: 0.3329 - val_acc: 0.9824\n",
      "Epoch 3/13\n",
      "15476/15476 [==============================] - 132s 9ms/sample - loss: 0.3289 - acc: 0.9745 - val_loss: 0.6061 - val_acc: 0.9028\n",
      "Epoch 4/13\n",
      "15476/15476 [==============================] - 134s 9ms/sample - loss: 0.3657 - acc: 0.9681 - val_loss: 0.2900 - val_acc: 0.9806\n",
      "Epoch 5/13\n",
      "15476/15476 [==============================] - 136s 9ms/sample - loss: 0.3404 - acc: 0.9742 - val_loss: 0.2645 - val_acc: 0.9876\n",
      "Train on 15476 samples, validate on 3869 samples\n",
      "Epoch 1/13\n",
      "15476/15476 [==============================] - 138s 9ms/sample - loss: 0.9415 - acc: 0.9269 - val_loss: 0.2883 - val_acc: 0.9661\n",
      "Epoch 2/13\n",
      "15476/15476 [==============================] - 135s 9ms/sample - loss: 0.3795 - acc: 0.9589 - val_loss: 0.2899 - val_acc: 0.9866\n",
      "Epoch 3/13\n",
      "15476/15476 [==============================] - 133s 9ms/sample - loss: 0.3382 - acc: 0.9739 - val_loss: 0.2569 - val_acc: 0.9850\n",
      "Epoch 4/13\n",
      "15476/15476 [==============================] - 133s 9ms/sample - loss: 0.3226 - acc: 0.9743 - val_loss: 0.2655 - val_acc: 0.9822\n",
      "Epoch 5/13\n",
      "15476/15476 [==============================] - 132s 9ms/sample - loss: 0.4058 - acc: 0.9552 - val_loss: 0.3501 - val_acc: 0.9850\n",
      "Epoch 6/13\n",
      "15476/15476 [==============================] - 134s 9ms/sample - loss: 0.3223 - acc: 0.9762 - val_loss: 0.2699 - val_acc: 0.9850\n",
      "Epoch 7/13\n",
      "15476/15476 [==============================] - 133s 9ms/sample - loss: 0.2993 - acc: 0.9776 - val_loss: 0.4056 - val_acc: 0.9633\n",
      "Train on 15475 samples, validate on 3869 samples\n",
      "Epoch 1/13\n",
      "15475/15475 [==============================] - 54s 3ms/sample - loss: 0.4127 - acc: 0.9413 - val_loss: 0.2382 - val_acc: 0.9780\n",
      "Epoch 2/13\n",
      "15475/15475 [==============================] - 51s 3ms/sample - loss: 0.1928 - acc: 0.9826 - val_loss: 0.2010 - val_acc: 0.9752\n",
      "Epoch 3/13\n",
      "15475/15475 [==============================] - 53s 3ms/sample - loss: 0.1775 - acc: 0.9849 - val_loss: 0.1614 - val_acc: 0.9832\n",
      "Epoch 4/13\n",
      "15475/15475 [==============================] - 51s 3ms/sample - loss: 0.1610 - acc: 0.9863 - val_loss: 0.1474 - val_acc: 0.9894\n",
      "Epoch 5/13\n",
      "15475/15475 [==============================] - 51s 3ms/sample - loss: 0.1514 - acc: 0.9886 - val_loss: 0.1356 - val_acc: 0.9907\n",
      "Epoch 6/13\n",
      "15475/15475 [==============================] - 50s 3ms/sample - loss: 0.1538 - acc: 0.9853 - val_loss: 0.1537 - val_acc: 0.9904\n",
      "Epoch 7/13\n",
      "15475/15475 [==============================] - 52s 3ms/sample - loss: 0.1423 - acc: 0.9900 - val_loss: 0.1301 - val_acc: 0.9889\n",
      "Epoch 8/13\n",
      "15475/15475 [==============================] - 67s 4ms/sample - loss: 0.1528 - acc: 0.9852 - val_loss: 0.1307 - val_acc: 0.9897\n",
      "Epoch 9/13\n",
      "15475/15475 [==============================] - 65s 4ms/sample - loss: 0.1352 - acc: 0.9889 - val_loss: 0.1223 - val_acc: 0.9917\n",
      "Epoch 10/13\n",
      "15475/15475 [==============================] - 61s 4ms/sample - loss: 0.1318 - acc: 0.9902 - val_loss: 0.1156 - val_acc: 0.9928\n",
      "Epoch 11/13\n",
      "15475/15475 [==============================] - 54s 3ms/sample - loss: 0.1338 - acc: 0.9889 - val_loss: 0.1180 - val_acc: 0.9935\n",
      "Epoch 12/13\n",
      "15475/15475 [==============================] - 66s 4ms/sample - loss: 0.1344 - acc: 0.9891 - val_loss: 0.1260 - val_acc: 0.9894\n",
      "Epoch 13/13\n",
      "15475/15475 [==============================] - 55s 4ms/sample - loss: 0.1498 - acc: 0.9837 - val_loss: 0.1149 - val_acc: 0.9925\n",
      "Train on 15476 samples, validate on 3869 samples\n",
      "Epoch 1/13\n",
      "15476/15476 [==============================] - 62s 4ms/sample - loss: 0.4029 - acc: 0.9373 - val_loss: 0.2529 - val_acc: 0.9462\n",
      "Epoch 2/13\n",
      "15476/15476 [==============================] - 51s 3ms/sample - loss: 0.1894 - acc: 0.9791 - val_loss: 0.1613 - val_acc: 0.9853\n",
      "Epoch 3/13\n",
      "15476/15476 [==============================] - 54s 3ms/sample - loss: 0.1605 - acc: 0.9855 - val_loss: 0.1534 - val_acc: 0.9881\n",
      "Epoch 4/13\n",
      "15476/15476 [==============================] - 51s 3ms/sample - loss: 0.1519 - acc: 0.9866 - val_loss: 0.1432 - val_acc: 0.9819\n",
      "Epoch 5/13\n",
      "15476/15476 [==============================] - 50s 3ms/sample - loss: 0.1437 - acc: 0.9883 - val_loss: 0.1302 - val_acc: 0.9894\n",
      "Epoch 6/13\n",
      "15476/15476 [==============================] - 51s 3ms/sample - loss: 0.1544 - acc: 0.9849 - val_loss: 0.1397 - val_acc: 0.9850\n",
      "Epoch 7/13\n",
      "15476/15476 [==============================] - 51s 3ms/sample - loss: 0.1279 - acc: 0.9908 - val_loss: 0.1204 - val_acc: 0.9904\n",
      "Epoch 8/13\n",
      "15476/15476 [==============================] - 52s 3ms/sample - loss: 0.1348 - acc: 0.9885 - val_loss: 0.1335 - val_acc: 0.9886\n",
      "Epoch 9/13\n",
      "15476/15476 [==============================] - 54s 3ms/sample - loss: 0.1292 - acc: 0.9902 - val_loss: 0.1108 - val_acc: 0.9920\n",
      "Epoch 10/13\n",
      "15476/15476 [==============================] - 55s 4ms/sample - loss: 0.1238 - acc: 0.9907 - val_loss: 0.1236 - val_acc: 0.9915\n",
      "Epoch 11/13\n",
      "15476/15476 [==============================] - 55s 4ms/sample - loss: 0.1376 - acc: 0.9876 - val_loss: 0.1464 - val_acc: 0.9910\n",
      "Epoch 12/13\n",
      "15476/15476 [==============================] - 55s 4ms/sample - loss: 0.1074 - acc: 0.9948 - val_loss: 0.1310 - val_acc: 0.9884\n",
      "Epoch 13/13\n",
      "15476/15476 [==============================] - 54s 3ms/sample - loss: 0.1263 - acc: 0.9900 - val_loss: 0.1030 - val_acc: 0.9922\n",
      "Train on 15476 samples, validate on 3869 samples\n",
      "Epoch 1/13\n",
      "15476/15476 [==============================] - 56s 4ms/sample - loss: 0.3999 - acc: 0.9439 - val_loss: 0.1808 - val_acc: 0.9837\n",
      "Epoch 2/13\n",
      "15476/15476 [==============================] - 52s 3ms/sample - loss: 0.1870 - acc: 0.9826 - val_loss: 0.1610 - val_acc: 0.9829\n",
      "Epoch 3/13\n",
      "15476/15476 [==============================] - 52s 3ms/sample - loss: 0.1606 - acc: 0.9863 - val_loss: 0.1589 - val_acc: 0.9853\n",
      "Epoch 4/13\n",
      "15476/15476 [==============================] - 51s 3ms/sample - loss: 0.1599 - acc: 0.9842 - val_loss: 0.1505 - val_acc: 0.9858\n",
      "Epoch 5/13\n",
      "15476/15476 [==============================] - 51s 3ms/sample - loss: 0.1417 - acc: 0.9896 - val_loss: 0.1320 - val_acc: 0.9894\n",
      "Epoch 6/13\n",
      "15476/15476 [==============================] - 51s 3ms/sample - loss: 0.1435 - acc: 0.9883 - val_loss: 0.2179 - val_acc: 0.9617\n",
      "Epoch 7/13\n",
      "15476/15476 [==============================] - 52s 3ms/sample - loss: 0.1513 - acc: 0.9860 - val_loss: 0.1201 - val_acc: 0.9920\n",
      "Epoch 8/13\n",
      "15476/15476 [==============================] - 51s 3ms/sample - loss: 0.1337 - acc: 0.9901 - val_loss: 0.1206 - val_acc: 0.9894\n",
      "Epoch 9/13\n",
      "15476/15476 [==============================] - 52s 3ms/sample - loss: 0.1341 - acc: 0.9888 - val_loss: 0.1256 - val_acc: 0.9886\n",
      "Epoch 10/13\n",
      "15476/15476 [==============================] - 52s 3ms/sample - loss: 0.1461 - acc: 0.9864 - val_loss: 0.1210 - val_acc: 0.9920\n",
      "Epoch 11/13\n",
      "15476/15476 [==============================] - 55s 4ms/sample - loss: 0.1134 - acc: 0.9940 - val_loss: 0.1123 - val_acc: 0.9910\n",
      "Train on 15475 samples, validate on 3869 samples\n",
      "Epoch 1/13\n",
      "15475/15475 [==============================] - 92s 6ms/sample - loss: 0.6111 - acc: 0.9283 - val_loss: 0.2647 - val_acc: 0.9623\n",
      "Epoch 2/13\n",
      "15475/15475 [==============================] - 96s 6ms/sample - loss: 0.2752 - acc: 0.9714 - val_loss: 0.2292 - val_acc: 0.9868\n",
      "Epoch 3/13\n",
      "15475/15475 [==============================] - 93s 6ms/sample - loss: 0.2438 - acc: 0.9793 - val_loss: 0.1949 - val_acc: 0.9873\n",
      "Epoch 4/13\n",
      "15475/15475 [==============================] - 90s 6ms/sample - loss: 0.2422 - acc: 0.9775 - val_loss: 0.1830 - val_acc: 0.9902\n",
      "Epoch 5/13\n",
      "15475/15475 [==============================] - 93s 6ms/sample - loss: 0.2228 - acc: 0.9805 - val_loss: 0.1831 - val_acc: 0.9897\n",
      "Epoch 6/13\n",
      "15475/15475 [==============================] - 92s 6ms/sample - loss: 0.2296 - acc: 0.9803 - val_loss: 0.1954 - val_acc: 0.9902\n",
      "Epoch 7/13\n",
      "15475/15475 [==============================] - 106s 7ms/sample - loss: 0.2310 - acc: 0.9793 - val_loss: 0.1743 - val_acc: 0.9915\n",
      "Epoch 8/13\n",
      "15475/15475 [==============================] - 97s 6ms/sample - loss: 0.2297 - acc: 0.9793 - val_loss: 0.1938 - val_acc: 0.9879\n",
      "Train on 15476 samples, validate on 3869 samples\n",
      "Epoch 1/13\n",
      "15476/15476 [==============================] - 99s 6ms/sample - loss: 0.6170 - acc: 0.9280 - val_loss: 0.2089 - val_acc: 0.9814\n",
      "Epoch 2/13\n",
      "15476/15476 [==============================] - 93s 6ms/sample - loss: 0.2529 - acc: 0.9747 - val_loss: 0.2184 - val_acc: 0.9860\n",
      "Epoch 3/13\n",
      "15476/15476 [==============================] - 86s 6ms/sample - loss: 0.2306 - acc: 0.9818 - val_loss: 0.2306 - val_acc: 0.9708\n",
      "Epoch 4/13\n",
      "15476/15476 [==============================] - 94s 6ms/sample - loss: 0.2365 - acc: 0.9775 - val_loss: 0.1865 - val_acc: 0.9873\n",
      "Epoch 5/13\n",
      "15476/15476 [==============================] - 85s 5ms/sample - loss: 0.2157 - acc: 0.9810 - val_loss: 0.4734 - val_acc: 0.8966\n",
      "Epoch 6/13\n",
      "15476/15476 [==============================] - 82s 5ms/sample - loss: 0.2372 - acc: 0.9788 - val_loss: 0.1804 - val_acc: 0.9884\n",
      "Epoch 7/13\n",
      "15476/15476 [==============================] - 83s 5ms/sample - loss: 0.2232 - acc: 0.9818 - val_loss: 0.1732 - val_acc: 0.9922\n",
      "Epoch 8/13\n",
      "15476/15476 [==============================] - 82s 5ms/sample - loss: 0.1980 - acc: 0.9862 - val_loss: 0.1982 - val_acc: 0.9837\n",
      "Epoch 9/13\n",
      "15476/15476 [==============================] - 84s 5ms/sample - loss: 0.2167 - acc: 0.9809 - val_loss: 0.1725 - val_acc: 0.9891\n",
      "Epoch 10/13\n",
      "15476/15476 [==============================] - 82s 5ms/sample - loss: 0.2194 - acc: 0.9815 - val_loss: 0.1600 - val_acc: 0.9917\n",
      "Epoch 11/13\n",
      "15476/15476 [==============================] - 100s 6ms/sample - loss: 0.2302 - acc: 0.9788 - val_loss: 0.1617 - val_acc: 0.9920\n",
      "Epoch 12/13\n",
      "15476/15476 [==============================] - 93s 6ms/sample - loss: 0.1927 - acc: 0.9863 - val_loss: 0.1709 - val_acc: 0.9904\n",
      "Epoch 13/13\n",
      "15476/15476 [==============================] - 91s 6ms/sample - loss: 0.2151 - acc: 0.9820 - val_loss: 0.1675 - val_acc: 0.9907\n",
      "Train on 15476 samples, validate on 3869 samples\n",
      "Epoch 1/13\n",
      "15476/15476 [==============================] - 96s 6ms/sample - loss: 0.6387 - acc: 0.9324 - val_loss: 0.2215 - val_acc: 0.9767\n",
      "Epoch 2/13\n",
      "15476/15476 [==============================] - 82s 5ms/sample - loss: 0.2453 - acc: 0.9782 - val_loss: 0.2183 - val_acc: 0.9827\n",
      "Epoch 3/13\n",
      "15476/15476 [==============================] - 81s 5ms/sample - loss: 0.2548 - acc: 0.9751 - val_loss: 0.2255 - val_acc: 0.9840\n",
      "Epoch 4/13\n",
      "15476/15476 [==============================] - 81s 5ms/sample - loss: 0.1989 - acc: 0.9875 - val_loss: 0.2217 - val_acc: 0.9791\n",
      "Epoch 5/13\n",
      "15476/15476 [==============================] - 82s 5ms/sample - loss: 0.2441 - acc: 0.9753 - val_loss: 0.2679 - val_acc: 0.9819\n",
      "Train on 15475 samples, validate on 3869 samples\n",
      "Epoch 1/13\n",
      "15475/15475 [==============================] - 142s 9ms/sample - loss: 0.9345 - acc: 0.9278 - val_loss: 0.3580 - val_acc: 0.9452\n",
      "Epoch 2/13\n",
      "15475/15475 [==============================] - 134s 9ms/sample - loss: 0.3905 - acc: 0.9592 - val_loss: 0.3235 - val_acc: 0.9773\n",
      "Epoch 3/13\n",
      "15475/15475 [==============================] - 177s 11ms/sample - loss: 0.3632 - acc: 0.9672 - val_loss: 0.3153 - val_acc: 0.9873\n",
      "Epoch 4/13\n",
      "15475/15475 [==============================] - 197s 13ms/sample - loss: 0.3325 - acc: 0.9766 - val_loss: 0.2875 - val_acc: 0.9822\n",
      "Epoch 5/13\n",
      "15475/15475 [==============================] - 191s 12ms/sample - loss: 0.3355 - acc: 0.9724 - val_loss: 0.2468 - val_acc: 0.9891\n",
      "Epoch 6/13\n",
      "15475/15475 [==============================] - 194s 13ms/sample - loss: 0.3509 - acc: 0.9684 - val_loss: 0.2936 - val_acc: 0.9889\n",
      "Epoch 7/13\n",
      "15475/15475 [==============================] - 200s 13ms/sample - loss: 0.3268 - acc: 0.9763 - val_loss: 0.2532 - val_acc: 0.9894\n",
      "Epoch 8/13\n",
      "15475/15475 [==============================] - 198s 13ms/sample - loss: 0.3123 - acc: 0.9752 - val_loss: 0.3275 - val_acc: 0.9840\n",
      "Epoch 9/13\n",
      "15475/15475 [==============================] - 203s 13ms/sample - loss: 0.3388 - acc: 0.9725 - val_loss: 0.2892 - val_acc: 0.9767\n",
      "Train on 15476 samples, validate on 3869 samples\n",
      "Epoch 1/13\n",
      "15476/15476 [==============================] - 212s 14ms/sample - loss: 0.9653 - acc: 0.9130 - val_loss: 0.2622 - val_acc: 0.9791\n",
      "Epoch 2/13\n",
      "15476/15476 [==============================] - 197s 13ms/sample - loss: 0.3336 - acc: 0.9710 - val_loss: 0.3591 - val_acc: 0.9589\n",
      "Epoch 3/13\n",
      "15476/15476 [==============================] - 196s 13ms/sample - loss: 0.3334 - acc: 0.9764 - val_loss: 0.2660 - val_acc: 0.9889\n",
      "Epoch 4/13\n",
      "15476/15476 [==============================] - 134s 9ms/sample - loss: 0.3645 - acc: 0.9700 - val_loss: 0.2745 - val_acc: 0.9850\n",
      "Epoch 5/13\n",
      "15476/15476 [==============================] - 135s 9ms/sample - loss: 0.3607 - acc: 0.9700 - val_loss: 0.2478 - val_acc: 0.9886\n",
      "Epoch 6/13\n",
      "15476/15476 [==============================] - 134s 9ms/sample - loss: 0.3369 - acc: 0.9696 - val_loss: 0.3608 - val_acc: 0.9829\n",
      "Epoch 7/13\n",
      "15476/15476 [==============================] - 134s 9ms/sample - loss: 0.2975 - acc: 0.9835 - val_loss: 0.2447 - val_acc: 0.9904\n",
      "Epoch 8/13\n",
      "15476/15476 [==============================] - 134s 9ms/sample - loss: 0.3348 - acc: 0.9708 - val_loss: 0.3480 - val_acc: 0.9819\n",
      "Epoch 9/13\n",
      "15476/15476 [==============================] - 136s 9ms/sample - loss: 0.2999 - acc: 0.9805 - val_loss: 0.2532 - val_acc: 0.9879\n",
      "Train on 15476 samples, validate on 3869 samples\n",
      "Epoch 1/13\n",
      "15476/15476 [==============================] - 139s 9ms/sample - loss: 0.9357 - acc: 0.9171 - val_loss: 0.3411 - val_acc: 0.9517\n",
      "Epoch 2/13\n",
      "15476/15476 [==============================] - 132s 9ms/sample - loss: 0.3433 - acc: 0.9698 - val_loss: 0.2892 - val_acc: 0.9819\n",
      "Epoch 3/13\n",
      "15476/15476 [==============================] - 141s 9ms/sample - loss: 0.3467 - acc: 0.9709 - val_loss: 0.2675 - val_acc: 0.9848\n",
      "Epoch 4/13\n",
      "15476/15476 [==============================] - 137s 9ms/sample - loss: 0.3877 - acc: 0.9621 - val_loss: 0.2951 - val_acc: 0.9848\n",
      "Epoch 5/13\n",
      "15476/15476 [==============================] - 131s 8ms/sample - loss: 0.3515 - acc: 0.9722 - val_loss: 0.2650 - val_acc: 0.9879\n",
      "Epoch 6/13\n",
      "15476/15476 [==============================] - 133s 9ms/sample - loss: 0.3021 - acc: 0.9811 - val_loss: 0.2526 - val_acc: 0.9899\n",
      "Epoch 7/13\n",
      "15476/15476 [==============================] - 133s 9ms/sample - loss: 0.3364 - acc: 0.9751 - val_loss: 0.2582 - val_acc: 0.9811\n",
      "Epoch 8/13\n",
      "15476/15476 [==============================] - 135s 9ms/sample - loss: 0.3123 - acc: 0.9772 - val_loss: 0.2929 - val_acc: 0.9801\n",
      "Epoch 9/13\n",
      "15476/15476 [==============================] - 132s 8ms/sample - loss: 0.3406 - acc: 0.9725 - val_loss: 0.2515 - val_acc: 0.9897\n",
      "Epoch 10/13\n",
      "15476/15476 [==============================] - 133s 9ms/sample - loss: 0.2990 - acc: 0.9784 - val_loss: 0.4222 - val_acc: 0.9434\n",
      "Train on 15475 samples, validate on 3869 samples\n",
      "Epoch 1/13\n",
      "15475/15475 [==============================] - 54s 4ms/sample - loss: 0.4197 - acc: 0.9395 - val_loss: 0.1994 - val_acc: 0.9804\n",
      "Epoch 2/13\n",
      "15475/15475 [==============================] - 50s 3ms/sample - loss: 0.1865 - acc: 0.9842 - val_loss: 0.1706 - val_acc: 0.9863\n",
      "Epoch 3/13\n",
      "15475/15475 [==============================] - 50s 3ms/sample - loss: 0.1718 - acc: 0.9854 - val_loss: 0.1712 - val_acc: 0.9814\n",
      "Epoch 4/13\n",
      "15475/15475 [==============================] - 50s 3ms/sample - loss: 0.1562 - acc: 0.9896 - val_loss: 0.1458 - val_acc: 0.9891\n",
      "Epoch 5/13\n",
      "15475/15475 [==============================] - 51s 3ms/sample - loss: 0.1567 - acc: 0.9870 - val_loss: 0.1405 - val_acc: 0.9917\n",
      "Epoch 6/13\n",
      "15475/15475 [==============================] - 51s 3ms/sample - loss: 0.1490 - acc: 0.9871 - val_loss: 0.1540 - val_acc: 0.9904\n",
      "Epoch 7/13\n",
      "15475/15475 [==============================] - 50s 3ms/sample - loss: 0.1361 - acc: 0.9921 - val_loss: 0.1507 - val_acc: 0.9806\n",
      "Epoch 8/13\n",
      "15475/15475 [==============================] - 51s 3ms/sample - loss: 0.1379 - acc: 0.9899 - val_loss: 0.1251 - val_acc: 0.9925\n",
      "Epoch 9/13\n",
      "15475/15475 [==============================] - 50s 3ms/sample - loss: 0.1551 - acc: 0.9858 - val_loss: 0.1368 - val_acc: 0.9930\n",
      "Epoch 10/13\n",
      "15475/15475 [==============================] - 50s 3ms/sample - loss: 0.1293 - acc: 0.9922 - val_loss: 0.1168 - val_acc: 0.9922\n",
      "Epoch 11/13\n",
      "15475/15475 [==============================] - 50s 3ms/sample - loss: 0.1280 - acc: 0.9905 - val_loss: 0.1479 - val_acc: 0.9819\n",
      "Epoch 12/13\n",
      "15475/15475 [==============================] - 51s 3ms/sample - loss: 0.1411 - acc: 0.9873 - val_loss: 0.1302 - val_acc: 0.9897\n",
      "Train on 15476 samples, validate on 3869 samples\n",
      "Epoch 1/13\n",
      "15476/15476 [==============================] - 53s 3ms/sample - loss: 0.4095 - acc: 0.9382 - val_loss: 0.1912 - val_acc: 0.9816\n",
      "Epoch 2/13\n",
      "15476/15476 [==============================] - 50s 3ms/sample - loss: 0.1870 - acc: 0.9838 - val_loss: 0.1651 - val_acc: 0.9868\n",
      "Epoch 3/13\n",
      "15476/15476 [==============================] - 51s 3ms/sample - loss: 0.1594 - acc: 0.9878 - val_loss: 0.1540 - val_acc: 0.9863\n",
      "Epoch 4/13\n",
      "15476/15476 [==============================] - 50s 3ms/sample - loss: 0.1528 - acc: 0.9880 - val_loss: 0.1368 - val_acc: 0.9907\n",
      "Epoch 5/13\n",
      "15476/15476 [==============================] - 51s 3ms/sample - loss: 0.1406 - acc: 0.9893 - val_loss: 0.1359 - val_acc: 0.9920\n",
      "Epoch 6/13\n",
      "15476/15476 [==============================] - 51s 3ms/sample - loss: 0.1404 - acc: 0.9896 - val_loss: 0.1252 - val_acc: 0.9902\n",
      "Epoch 7/13\n",
      "15476/15476 [==============================] - 52s 3ms/sample - loss: 0.1324 - acc: 0.9909 - val_loss: 0.1214 - val_acc: 0.9922\n",
      "Epoch 8/13\n",
      "15476/15476 [==============================] - 50s 3ms/sample - loss: 0.1243 - acc: 0.9917 - val_loss: 0.1362 - val_acc: 0.9899\n",
      "Epoch 9/13\n",
      "15476/15476 [==============================] - 51s 3ms/sample - loss: 0.1310 - acc: 0.9907 - val_loss: 0.1128 - val_acc: 0.9915\n",
      "Epoch 10/13\n",
      "15476/15476 [==============================] - 50s 3ms/sample - loss: 0.1266 - acc: 0.9904 - val_loss: 0.1097 - val_acc: 0.9920\n",
      "Epoch 11/13\n",
      "15476/15476 [==============================] - 50s 3ms/sample - loss: 0.1326 - acc: 0.9898 - val_loss: 0.1086 - val_acc: 0.9938\n",
      "Epoch 12/13\n",
      "15476/15476 [==============================] - 50s 3ms/sample - loss: 0.1199 - acc: 0.9912 - val_loss: 0.1277 - val_acc: 0.9848\n",
      "Epoch 13/13\n",
      "15476/15476 [==============================] - 52s 3ms/sample - loss: 0.1295 - acc: 0.9895 - val_loss: 0.1214 - val_acc: 0.9897\n",
      "Train on 15476 samples, validate on 3869 samples\n",
      "Epoch 1/13\n",
      "15476/15476 [==============================] - 54s 3ms/sample - loss: 0.4090 - acc: 0.9381 - val_loss: 0.1887 - val_acc: 0.9793\n",
      "Epoch 2/13\n",
      "15476/15476 [==============================] - 53s 3ms/sample - loss: 0.1872 - acc: 0.9816 - val_loss: 0.1700 - val_acc: 0.9860\n",
      "Epoch 3/13\n",
      "15476/15476 [==============================] - 51s 3ms/sample - loss: 0.1682 - acc: 0.9845 - val_loss: 0.1680 - val_acc: 0.9842\n",
      "Epoch 4/13\n",
      "15476/15476 [==============================] - 52s 3ms/sample - loss: 0.1544 - acc: 0.9882 - val_loss: 0.1581 - val_acc: 0.9879\n",
      "Epoch 5/13\n",
      "15476/15476 [==============================] - 51s 3ms/sample - loss: 0.1452 - acc: 0.9909 - val_loss: 0.1579 - val_acc: 0.9842\n",
      "Epoch 6/13\n",
      "15476/15476 [==============================] - 51s 3ms/sample - loss: 0.1355 - acc: 0.9912 - val_loss: 0.1440 - val_acc: 0.9850\n",
      "Epoch 7/13\n",
      "15476/15476 [==============================] - 51s 3ms/sample - loss: 0.1401 - acc: 0.9875 - val_loss: 0.1310 - val_acc: 0.9915\n",
      "Epoch 8/13\n",
      "15476/15476 [==============================] - 51s 3ms/sample - loss: 0.1389 - acc: 0.9893 - val_loss: 0.1266 - val_acc: 0.9897\n",
      "Epoch 9/13\n",
      "15476/15476 [==============================] - 51s 3ms/sample - loss: 0.1230 - acc: 0.9917 - val_loss: 0.1285 - val_acc: 0.9891\n",
      "Epoch 10/13\n",
      "15476/15476 [==============================] - 51s 3ms/sample - loss: 0.1401 - acc: 0.9880 - val_loss: 0.1157 - val_acc: 0.9915\n",
      "Epoch 11/13\n",
      "15476/15476 [==============================] - 50s 3ms/sample - loss: 0.1276 - acc: 0.9904 - val_loss: 0.1219 - val_acc: 0.9904\n",
      "Epoch 12/13\n",
      "15476/15476 [==============================] - 50s 3ms/sample - loss: 0.1246 - acc: 0.9904 - val_loss: 0.1235 - val_acc: 0.9912\n",
      "Epoch 13/13\n",
      "15476/15476 [==============================] - 50s 3ms/sample - loss: 0.1182 - acc: 0.9925 - val_loss: 0.1317 - val_acc: 0.9876\n",
      "Train on 15475 samples, validate on 3869 samples\n",
      "Epoch 1/13\n",
      "15475/15475 [==============================] - 85s 6ms/sample - loss: 0.6261 - acc: 0.9317 - val_loss: 0.2423 - val_acc: 0.9791\n",
      "Epoch 2/13\n",
      "15475/15475 [==============================] - 83s 5ms/sample - loss: 0.2707 - acc: 0.9732 - val_loss: 0.2431 - val_acc: 0.9842\n",
      "Epoch 3/13\n",
      "15475/15475 [==============================] - 80s 5ms/sample - loss: 0.2531 - acc: 0.9786 - val_loss: 0.2330 - val_acc: 0.9863\n",
      "Epoch 4/13\n",
      "15475/15475 [==============================] - 82s 5ms/sample - loss: 0.2599 - acc: 0.9772 - val_loss: 0.2187 - val_acc: 0.9853\n",
      "Epoch 5/13\n",
      "15475/15475 [==============================] - 80s 5ms/sample - loss: 0.2207 - acc: 0.9839 - val_loss: 0.2219 - val_acc: 0.9871\n",
      "Epoch 6/13\n",
      "15475/15475 [==============================] - 81s 5ms/sample - loss: 0.2260 - acc: 0.9835 - val_loss: 0.1934 - val_acc: 0.9897\n",
      "Epoch 7/13\n",
      "15475/15475 [==============================] - 80s 5ms/sample - loss: 0.2188 - acc: 0.9845 - val_loss: 0.1810 - val_acc: 0.9899\n",
      "Epoch 8/13\n",
      "15475/15475 [==============================] - 80s 5ms/sample - loss: 0.2282 - acc: 0.9803 - val_loss: 0.2064 - val_acc: 0.9876\n",
      "Epoch 9/13\n",
      "15475/15475 [==============================] - 81s 5ms/sample - loss: 0.2370 - acc: 0.9802 - val_loss: 0.1939 - val_acc: 0.9842\n",
      "Epoch 10/13\n",
      "15475/15475 [==============================] - 81s 5ms/sample - loss: 0.2023 - acc: 0.9875 - val_loss: 0.1740 - val_acc: 0.9920\n",
      "Epoch 11/13\n",
      "15475/15475 [==============================] - 81s 5ms/sample - loss: 0.2362 - acc: 0.9795 - val_loss: 0.1651 - val_acc: 0.9912\n",
      "Epoch 12/13\n",
      "15475/15475 [==============================] - 81s 5ms/sample - loss: 0.2292 - acc: 0.9789 - val_loss: 0.1781 - val_acc: 0.9879\n",
      "Epoch 13/13\n",
      "15475/15475 [==============================] - 85s 5ms/sample - loss: 0.2100 - acc: 0.9837 - val_loss: 0.1996 - val_acc: 0.9829\n",
      "Train on 15476 samples, validate on 3869 samples\n",
      "Epoch 1/13\n",
      "15476/15476 [==============================] - 86s 6ms/sample - loss: 0.6303 - acc: 0.9306 - val_loss: 0.2194 - val_acc: 0.9840\n",
      "Epoch 2/13\n",
      "15476/15476 [==============================] - 81s 5ms/sample - loss: 0.2491 - acc: 0.9789 - val_loss: 0.2615 - val_acc: 0.9773\n",
      "Epoch 3/13\n",
      "15476/15476 [==============================] - 81s 5ms/sample - loss: 0.2415 - acc: 0.9804 - val_loss: 0.2021 - val_acc: 0.9884\n",
      "Epoch 4/13\n",
      "15476/15476 [==============================] - 80s 5ms/sample - loss: 0.2370 - acc: 0.9800 - val_loss: 0.1834 - val_acc: 0.9886\n",
      "Epoch 5/13\n",
      "15476/15476 [==============================] - 79s 5ms/sample - loss: 0.2293 - acc: 0.9816 - val_loss: 0.2084 - val_acc: 0.9845\n",
      "Epoch 6/13\n",
      "15476/15476 [==============================] - 80s 5ms/sample - loss: 0.2288 - acc: 0.9802 - val_loss: 0.2342 - val_acc: 0.9897\n",
      "Epoch 7/13\n",
      "15476/15476 [==============================] - 80s 5ms/sample - loss: 0.2155 - acc: 0.9852 - val_loss: 0.2078 - val_acc: 0.9907\n",
      "Epoch 8/13\n",
      "15476/15476 [==============================] - 81s 5ms/sample - loss: 0.1995 - acc: 0.9875 - val_loss: 0.2006 - val_acc: 0.9922\n",
      "Train on 15476 samples, validate on 3869 samples\n",
      "Epoch 1/13\n",
      "15476/15476 [==============================] - 84s 5ms/sample - loss: 0.6158 - acc: 0.9312 - val_loss: 0.2201 - val_acc: 0.9801\n",
      "Epoch 2/13\n",
      "15476/15476 [==============================] - 81s 5ms/sample - loss: 0.2496 - acc: 0.9793 - val_loss: 0.2150 - val_acc: 0.9858\n",
      "Epoch 3/13\n",
      "15476/15476 [==============================] - 86s 6ms/sample - loss: 0.2607 - acc: 0.9762 - val_loss: 0.1978 - val_acc: 0.9889\n",
      "Epoch 4/13\n",
      "15476/15476 [==============================] - 79s 5ms/sample - loss: 0.2129 - acc: 0.9849 - val_loss: 0.1911 - val_acc: 0.9873\n",
      "Epoch 5/13\n",
      "15476/15476 [==============================] - 81s 5ms/sample - loss: 0.2488 - acc: 0.9789 - val_loss: 0.1848 - val_acc: 0.9845\n",
      "Epoch 6/13\n",
      "15476/15476 [==============================] - 80s 5ms/sample - loss: 0.2211 - acc: 0.9832 - val_loss: 0.1880 - val_acc: 0.9886\n",
      "Epoch 7/13\n",
      "15476/15476 [==============================] - 80s 5ms/sample - loss: 0.2295 - acc: 0.9814 - val_loss: 0.1734 - val_acc: 0.9902\n",
      "Epoch 8/13\n",
      "15476/15476 [==============================] - 102s 7ms/sample - loss: 0.2326 - acc: 0.9806 - val_loss: 0.1727 - val_acc: 0.9910\n",
      "Epoch 9/13\n",
      "15476/15476 [==============================] - 89s 6ms/sample - loss: 0.1963 - acc: 0.9871 - val_loss: 0.1690 - val_acc: 0.9904\n",
      "Epoch 10/13\n",
      "15476/15476 [==============================] - 93s 6ms/sample - loss: 0.2018 - acc: 0.9850 - val_loss: 0.1675 - val_acc: 0.9881\n",
      "Epoch 11/13\n",
      "15476/15476 [==============================] - 96s 6ms/sample - loss: 0.2364 - acc: 0.9794 - val_loss: 0.1643 - val_acc: 0.9891\n",
      "Train on 15475 samples, validate on 3869 samples\n",
      "Epoch 1/13\n",
      "15475/15475 [==============================] - 163s 11ms/sample - loss: 0.9497 - acc: 0.9268 - val_loss: 0.2488 - val_acc: 0.9853\n",
      "Epoch 2/13\n",
      "15475/15475 [==============================] - 154s 10ms/sample - loss: 0.3885 - acc: 0.9638 - val_loss: 0.3839 - val_acc: 0.9845\n",
      "Epoch 3/13\n",
      "15475/15475 [==============================] - 155s 10ms/sample - loss: 0.3627 - acc: 0.9736 - val_loss: 0.2960 - val_acc: 0.9873\n",
      "Epoch 4/13\n",
      "15475/15475 [==============================] - 157s 10ms/sample - loss: 0.3607 - acc: 0.9712 - val_loss: 0.2737 - val_acc: 0.9894\n",
      "Epoch 5/13\n",
      "15475/15475 [==============================] - 139s 9ms/sample - loss: 0.3519 - acc: 0.9749 - val_loss: 0.2652 - val_acc: 0.9894\n",
      "Train on 15476 samples, validate on 3869 samples\n",
      "Epoch 1/13\n",
      "15476/15476 [==============================] - 147s 10ms/sample - loss: 0.9644 - acc: 0.9211 - val_loss: 0.2793 - val_acc: 0.9783\n",
      "Epoch 2/13\n",
      "15476/15476 [==============================] - 138s 9ms/sample - loss: 0.3426 - acc: 0.9723 - val_loss: 0.3051 - val_acc: 0.9853\n",
      "Epoch 3/13\n",
      "15476/15476 [==============================] - 145s 9ms/sample - loss: 0.3386 - acc: 0.9753 - val_loss: 0.2982 - val_acc: 0.9816\n",
      "Epoch 4/13\n",
      "15476/15476 [==============================] - 154s 10ms/sample - loss: 0.3487 - acc: 0.9733 - val_loss: 0.7337 - val_acc: 0.8589\n",
      "Epoch 5/13\n",
      "15476/15476 [==============================] - 154s 10ms/sample - loss: 0.3767 - acc: 0.9664 - val_loss: 0.4421 - val_acc: 0.9731\n",
      "Train on 15476 samples, validate on 3869 samples\n",
      "Epoch 1/13\n",
      "15476/15476 [==============================] - 146s 9ms/sample - loss: 0.9536 - acc: 0.9203 - val_loss: 0.3230 - val_acc: 0.9692\n",
      "Epoch 2/13\n",
      "15476/15476 [==============================] - 137s 9ms/sample - loss: 0.3364 - acc: 0.9742 - val_loss: 0.2945 - val_acc: 0.9868\n",
      "Epoch 3/13\n",
      "15476/15476 [==============================] - 139s 9ms/sample - loss: 0.3739 - acc: 0.9694 - val_loss: 0.3046 - val_acc: 0.9791\n",
      "Epoch 4/13\n",
      "15476/15476 [==============================] - 137s 9ms/sample - loss: 0.3537 - acc: 0.9746 - val_loss: 0.2737 - val_acc: 0.9866\n",
      "Epoch 5/13\n",
      "15476/15476 [==============================] - 138s 9ms/sample - loss: 0.3501 - acc: 0.9736 - val_loss: 0.2572 - val_acc: 0.9863\n",
      "Epoch 6/13\n",
      "15476/15476 [==============================] - 137s 9ms/sample - loss: 0.3550 - acc: 0.9709 - val_loss: 0.2618 - val_acc: 0.9884\n",
      "Epoch 7/13\n",
      "15476/15476 [==============================] - 136s 9ms/sample - loss: 0.3322 - acc: 0.9758 - val_loss: 0.2870 - val_acc: 0.9889\n",
      "Epoch 8/13\n",
      "15476/15476 [==============================] - 149s 10ms/sample - loss: 0.3344 - acc: 0.9768 - val_loss: 0.3018 - val_acc: 0.9884\n",
      "Epoch 9/13\n",
      "15476/15476 [==============================] - 138s 9ms/sample - loss: 0.3404 - acc: 0.9745 - val_loss: 0.2716 - val_acc: 0.9886\n",
      "Train on 23213 samples, validate on 5804 samples\n",
      "Epoch 1/13\n",
      "23213/23213 [==============================] - 96s 4ms/sample - loss: 0.3372 - acc: 0.9534 - val_loss: 0.1838 - val_acc: 0.9847\n",
      "Epoch 2/13\n",
      "23213/23213 [==============================] - 89s 4ms/sample - loss: 0.1806 - acc: 0.9813 - val_loss: 0.1592 - val_acc: 0.9847\n",
      "Epoch 3/13\n",
      "23213/23213 [==============================] - 86s 4ms/sample - loss: 0.1537 - acc: 0.9863 - val_loss: 0.1404 - val_acc: 0.9898\n",
      "Epoch 4/13\n",
      "23213/23213 [==============================] - 91s 4ms/sample - loss: 0.1507 - acc: 0.9858 - val_loss: 0.1290 - val_acc: 0.9905\n",
      "Epoch 5/13\n",
      "23213/23213 [==============================] - 88s 4ms/sample - loss: 0.1493 - acc: 0.9859 - val_loss: 0.1404 - val_acc: 0.9912\n",
      "Epoch 6/13\n",
      "23213/23213 [==============================] - 89s 4ms/sample - loss: 0.1380 - acc: 0.9885 - val_loss: 0.1162 - val_acc: 0.9910\n",
      "Epoch 7/13\n",
      "23213/23213 [==============================] - 79s 3ms/sample - loss: 0.1356 - acc: 0.9888 - val_loss: 0.1129 - val_acc: 0.9916\n",
      "Epoch 8/13\n",
      "23213/23213 [==============================] - 77s 3ms/sample - loss: 0.1443 - acc: 0.9843 - val_loss: 0.1518 - val_acc: 0.9900\n",
      "Epoch 9/13\n",
      "23213/23213 [==============================] - 91s 4ms/sample - loss: 0.1245 - acc: 0.9916 - val_loss: 0.1145 - val_acc: 0.9924\n",
      "Epoch 10/13\n",
      "23213/23213 [==============================] - 90s 4ms/sample - loss: 0.1312 - acc: 0.9884 - val_loss: 0.1229 - val_acc: 0.9883\n"
     ]
    },
    {
     "data": {
      "text/plain": [
       "RandomizedSearchCV(cv=3,\n",
       "                   estimator=<tensorflow.python.keras.wrappers.scikit_learn.KerasClassifier object at 0x000001316FE64088>,\n",
       "                   param_distributions={'dropout_rate': [0.1, 0.25, 0.5],\n",
       "                                        'units': [100, 256, 512]})"
      ]
     },
     "execution_count": 89,
     "metadata": {},
     "output_type": "execute_result"
    }
   ],
   "source": [
    "reduce_lr = ReduceLROnPlateau(monitor='val_loss', patience=5, verbose=0)\n",
    "early_stopping = EarlyStopping(monitor='val_loss', min_delta=0.01, patience=4, restore_best_weights=True, verbose=0)\n",
    "callbacks_list = [reduce_lr, early_stopping]\n",
    "\n",
    "grid.fit(X_train, y_train, validation_split=0.2,\n",
    "         batch_size=512, epochs=13, callbacks=callbacks_list,verbose=1)"
   ]
  },
  {
   "cell_type": "code",
   "execution_count": 115,
   "metadata": {},
   "outputs": [
    {
     "name": "stdout",
     "output_type": "stream",
     "text": [
      "0.9926\n",
      "100\n",
      "0.25\n"
     ]
    }
   ],
   "source": [
    "print(grid.best_score_.round(4))\n",
    "print(grid.best_estimator_.get_params()['units'])\n",
    "print(grid.best_estimator_.get_params()['dropout_rate'])"
   ]
  },
  {
   "cell_type": "code",
   "execution_count": 100,
   "metadata": {},
   "outputs": [
    {
     "name": "stdout",
     "output_type": "stream",
     "text": [
      "29017/29017 [==============================] - 187s 6ms/sample - loss: 7.4985 - acc: 0.9948\n",
      "99.47961568832397\n",
      "9673/9673 [==============================] - 56s 6ms/sample - loss: 7.4972 - acc: 0.9959\n",
      "99.5864748954773\n"
     ]
    }
   ],
   "source": [
    "#Modelo 1\n",
    "\n",
    "print(model.evaluate(X_train, y_train)[1]*100)\n",
    "print(model.evaluate(X_test, y_test)[1]*100)"
   ]
  },
  {
   "cell_type": "code",
   "execution_count": null,
   "metadata": {},
   "outputs": [],
   "source": []
  }
 ],
 "metadata": {
  "kernelspec": {
   "display_name": "Python 3",
   "language": "python",
   "name": "python3"
  },
  "language_info": {
   "codemirror_mode": {
    "name": "ipython",
    "version": 3
   },
   "file_extension": ".py",
   "mimetype": "text/x-python",
   "name": "python",
   "nbconvert_exporter": "python",
   "pygments_lexer": "ipython3",
   "version": "3.7.7"
  }
 },
 "nbformat": 4,
 "nbformat_minor": 4
}
