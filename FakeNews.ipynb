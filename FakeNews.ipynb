{
 "cells": [
  {
   "cell_type": "code",
   "execution_count": 1,
   "metadata": {
    "id": "d7JqpBKZmTuL"
   },
   "outputs": [],
   "source": [
    "import pandas as pd \n",
    "import numpy as np\n",
    "from sklearn.feature_extraction.text import CountVectorizer\n",
    "from nltk.corpus import stopwords\n",
    "from sklearn.model_selection import train_test_split\n",
    "#import unidecode\n",
    "import seaborn as sns\n",
    "from sklearn.feature_extraction.text import TfidfVectorizer\n",
    "from sklearn.metrics import accuracy_score\n",
    "import matplotlib.pyplot as plt"
   ]
  },
  {
   "cell_type": "markdown",
   "metadata": {
    "id": "SG3U5eKKmTuc"
   },
   "source": [
    "## Clasificacion binaria de noticias Fake o True"
   ]
  },
  {
   "cell_type": "code",
   "execution_count": 2,
   "metadata": {
    "id": "rkElbCsv-43H"
   },
   "outputs": [],
   "source": [
    "df_true=pd.read_csv('../Data/True.csv')\n",
    "df_fake=pd.read_csv('../Data/Fake.csv')"
   ]
  },
  {
   "cell_type": "code",
   "execution_count": 3,
   "metadata": {
    "colab": {
     "base_uri": "https://localhost:8080/",
     "height": 221
    },
    "id": "YFI6UBfBmTun",
    "outputId": "e2dd1df0-c36d-4403-a85c-c3f3c389b12e"
   },
   "outputs": [
    {
     "name": "stdout",
     "output_type": "stream",
     "text": [
      "(23481, 4)\n"
     ]
    },
    {
     "data": {
      "text/html": [
       "<div>\n",
       "<style scoped>\n",
       "    .dataframe tbody tr th:only-of-type {\n",
       "        vertical-align: middle;\n",
       "    }\n",
       "\n",
       "    .dataframe tbody tr th {\n",
       "        vertical-align: top;\n",
       "    }\n",
       "\n",
       "    .dataframe thead th {\n",
       "        text-align: right;\n",
       "    }\n",
       "</style>\n",
       "<table border=\"1\" class=\"dataframe\">\n",
       "  <thead>\n",
       "    <tr style=\"text-align: right;\">\n",
       "      <th></th>\n",
       "      <th>title</th>\n",
       "      <th>text</th>\n",
       "      <th>subject</th>\n",
       "      <th>date</th>\n",
       "    </tr>\n",
       "  </thead>\n",
       "  <tbody>\n",
       "    <tr>\n",
       "      <th>0</th>\n",
       "      <td>Donald Trump Sends Out Embarrassing New Year’...</td>\n",
       "      <td>Donald Trump just couldn t wish all Americans ...</td>\n",
       "      <td>News</td>\n",
       "      <td>December 31, 2017</td>\n",
       "    </tr>\n",
       "    <tr>\n",
       "      <th>1</th>\n",
       "      <td>Drunk Bragging Trump Staffer Started Russian ...</td>\n",
       "      <td>House Intelligence Committee Chairman Devin Nu...</td>\n",
       "      <td>News</td>\n",
       "      <td>December 31, 2017</td>\n",
       "    </tr>\n",
       "    <tr>\n",
       "      <th>2</th>\n",
       "      <td>Sheriff David Clarke Becomes An Internet Joke...</td>\n",
       "      <td>On Friday, it was revealed that former Milwauk...</td>\n",
       "      <td>News</td>\n",
       "      <td>December 30, 2017</td>\n",
       "    </tr>\n",
       "    <tr>\n",
       "      <th>3</th>\n",
       "      <td>Trump Is So Obsessed He Even Has Obama’s Name...</td>\n",
       "      <td>On Christmas day, Donald Trump announced that ...</td>\n",
       "      <td>News</td>\n",
       "      <td>December 29, 2017</td>\n",
       "    </tr>\n",
       "    <tr>\n",
       "      <th>4</th>\n",
       "      <td>Pope Francis Just Called Out Donald Trump Dur...</td>\n",
       "      <td>Pope Francis used his annual Christmas Day mes...</td>\n",
       "      <td>News</td>\n",
       "      <td>December 25, 2017</td>\n",
       "    </tr>\n",
       "  </tbody>\n",
       "</table>\n",
       "</div>"
      ],
      "text/plain": [
       "                                               title  \\\n",
       "0   Donald Trump Sends Out Embarrassing New Year’...   \n",
       "1   Drunk Bragging Trump Staffer Started Russian ...   \n",
       "2   Sheriff David Clarke Becomes An Internet Joke...   \n",
       "3   Trump Is So Obsessed He Even Has Obama’s Name...   \n",
       "4   Pope Francis Just Called Out Donald Trump Dur...   \n",
       "\n",
       "                                                text subject  \\\n",
       "0  Donald Trump just couldn t wish all Americans ...    News   \n",
       "1  House Intelligence Committee Chairman Devin Nu...    News   \n",
       "2  On Friday, it was revealed that former Milwauk...    News   \n",
       "3  On Christmas day, Donald Trump announced that ...    News   \n",
       "4  Pope Francis used his annual Christmas Day mes...    News   \n",
       "\n",
       "                date  \n",
       "0  December 31, 2017  \n",
       "1  December 31, 2017  \n",
       "2  December 30, 2017  \n",
       "3  December 29, 2017  \n",
       "4  December 25, 2017  "
      ]
     },
     "execution_count": 3,
     "metadata": {},
     "output_type": "execute_result"
    }
   ],
   "source": [
    "print(df_fake.shape) ; df_fake.head()"
   ]
  },
  {
   "cell_type": "code",
   "execution_count": 4,
   "metadata": {
    "colab": {
     "base_uri": "https://localhost:8080/",
     "height": 221
    },
    "id": "mOme21QomTuy",
    "outputId": "17a5e451-1f33-4aaa-da47-5b5b4bbab165"
   },
   "outputs": [
    {
     "name": "stdout",
     "output_type": "stream",
     "text": [
      "(21417, 4)\n"
     ]
    },
    {
     "data": {
      "text/html": [
       "<div>\n",
       "<style scoped>\n",
       "    .dataframe tbody tr th:only-of-type {\n",
       "        vertical-align: middle;\n",
       "    }\n",
       "\n",
       "    .dataframe tbody tr th {\n",
       "        vertical-align: top;\n",
       "    }\n",
       "\n",
       "    .dataframe thead th {\n",
       "        text-align: right;\n",
       "    }\n",
       "</style>\n",
       "<table border=\"1\" class=\"dataframe\">\n",
       "  <thead>\n",
       "    <tr style=\"text-align: right;\">\n",
       "      <th></th>\n",
       "      <th>title</th>\n",
       "      <th>text</th>\n",
       "      <th>subject</th>\n",
       "      <th>date</th>\n",
       "    </tr>\n",
       "  </thead>\n",
       "  <tbody>\n",
       "    <tr>\n",
       "      <th>0</th>\n",
       "      <td>As U.S. budget fight looms, Republicans flip t...</td>\n",
       "      <td>WASHINGTON (Reuters) - The head of a conservat...</td>\n",
       "      <td>politicsNews</td>\n",
       "      <td>December 31, 2017</td>\n",
       "    </tr>\n",
       "    <tr>\n",
       "      <th>1</th>\n",
       "      <td>U.S. military to accept transgender recruits o...</td>\n",
       "      <td>WASHINGTON (Reuters) - Transgender people will...</td>\n",
       "      <td>politicsNews</td>\n",
       "      <td>December 29, 2017</td>\n",
       "    </tr>\n",
       "    <tr>\n",
       "      <th>2</th>\n",
       "      <td>Senior U.S. Republican senator: 'Let Mr. Muell...</td>\n",
       "      <td>WASHINGTON (Reuters) - The special counsel inv...</td>\n",
       "      <td>politicsNews</td>\n",
       "      <td>December 31, 2017</td>\n",
       "    </tr>\n",
       "    <tr>\n",
       "      <th>3</th>\n",
       "      <td>FBI Russia probe helped by Australian diplomat...</td>\n",
       "      <td>WASHINGTON (Reuters) - Trump campaign adviser ...</td>\n",
       "      <td>politicsNews</td>\n",
       "      <td>December 30, 2017</td>\n",
       "    </tr>\n",
       "    <tr>\n",
       "      <th>4</th>\n",
       "      <td>Trump wants Postal Service to charge 'much mor...</td>\n",
       "      <td>SEATTLE/WASHINGTON (Reuters) - President Donal...</td>\n",
       "      <td>politicsNews</td>\n",
       "      <td>December 29, 2017</td>\n",
       "    </tr>\n",
       "  </tbody>\n",
       "</table>\n",
       "</div>"
      ],
      "text/plain": [
       "                                               title  \\\n",
       "0  As U.S. budget fight looms, Republicans flip t...   \n",
       "1  U.S. military to accept transgender recruits o...   \n",
       "2  Senior U.S. Republican senator: 'Let Mr. Muell...   \n",
       "3  FBI Russia probe helped by Australian diplomat...   \n",
       "4  Trump wants Postal Service to charge 'much mor...   \n",
       "\n",
       "                                                text       subject  \\\n",
       "0  WASHINGTON (Reuters) - The head of a conservat...  politicsNews   \n",
       "1  WASHINGTON (Reuters) - Transgender people will...  politicsNews   \n",
       "2  WASHINGTON (Reuters) - The special counsel inv...  politicsNews   \n",
       "3  WASHINGTON (Reuters) - Trump campaign adviser ...  politicsNews   \n",
       "4  SEATTLE/WASHINGTON (Reuters) - President Donal...  politicsNews   \n",
       "\n",
       "                 date  \n",
       "0  December 31, 2017   \n",
       "1  December 29, 2017   \n",
       "2  December 31, 2017   \n",
       "3  December 30, 2017   \n",
       "4  December 29, 2017   "
      ]
     },
     "execution_count": 4,
     "metadata": {},
     "output_type": "execute_result"
    }
   ],
   "source": [
    "print(df_true.shape) ; df_true.head()"
   ]
  },
  {
   "cell_type": "code",
   "execution_count": 5,
   "metadata": {
    "id": "AleNbwiPmTu6"
   },
   "outputs": [],
   "source": [
    "#Agregamos una coluna de clase 1 para las noticias fake y 0 par las true\n",
    "df_fake['class']=1\n",
    "df_true['class']=0"
   ]
  },
  {
   "cell_type": "code",
   "execution_count": 6,
   "metadata": {
    "colab": {
     "base_uri": "https://localhost:8080/",
     "height": 221
    },
    "id": "mAzrra7vmTvE",
    "outputId": "a41393d8-d62d-453e-acd1-59633205de05"
   },
   "outputs": [
    {
     "name": "stdout",
     "output_type": "stream",
     "text": [
      "(44898, 5)\n"
     ]
    },
    {
     "data": {
      "text/html": [
       "<div>\n",
       "<style scoped>\n",
       "    .dataframe tbody tr th:only-of-type {\n",
       "        vertical-align: middle;\n",
       "    }\n",
       "\n",
       "    .dataframe tbody tr th {\n",
       "        vertical-align: top;\n",
       "    }\n",
       "\n",
       "    .dataframe thead th {\n",
       "        text-align: right;\n",
       "    }\n",
       "</style>\n",
       "<table border=\"1\" class=\"dataframe\">\n",
       "  <thead>\n",
       "    <tr style=\"text-align: right;\">\n",
       "      <th></th>\n",
       "      <th>title</th>\n",
       "      <th>text</th>\n",
       "      <th>subject</th>\n",
       "      <th>date</th>\n",
       "      <th>class</th>\n",
       "    </tr>\n",
       "  </thead>\n",
       "  <tbody>\n",
       "    <tr>\n",
       "      <th>34443</th>\n",
       "      <td>Texas prosecutor offers probation to anti-abor...</td>\n",
       "      <td>HOUSTON (Reuters) - An anti-abortion activist ...</td>\n",
       "      <td>politicsNews</td>\n",
       "      <td>February 4, 2016</td>\n",
       "      <td>0</td>\n",
       "    </tr>\n",
       "    <tr>\n",
       "      <th>22057</th>\n",
       "      <td>‘Trump, Russia, Possible Collusion’ (REMIX)</td>\n",
       "      <td>Russiagate. First it was Russian hacking our e...</td>\n",
       "      <td>US_News</td>\n",
       "      <td>July 28, 2017</td>\n",
       "      <td>1</td>\n",
       "    </tr>\n",
       "    <tr>\n",
       "      <th>34566</th>\n",
       "      <td>Senate Democrats united on debt restructuring ...</td>\n",
       "      <td>SAN JUAN (Reuters) - U.S. Senate Democrats, in...</td>\n",
       "      <td>politicsNews</td>\n",
       "      <td>January 27, 2016</td>\n",
       "      <td>0</td>\n",
       "    </tr>\n",
       "    <tr>\n",
       "      <th>38954</th>\n",
       "      <td>Egypt Western Desert attack exposes front outs...</td>\n",
       "      <td>CAIRO (Reuters) - A deadly attack on the polic...</td>\n",
       "      <td>worldnews</td>\n",
       "      <td>November 7, 2017</td>\n",
       "      <td>0</td>\n",
       "    </tr>\n",
       "    <tr>\n",
       "      <th>1908</th>\n",
       "      <td>Racist NYPD Cops Threaten To Tase Black Child...</td>\n",
       "      <td>Now that Donald Trump is president and Jeff Se...</td>\n",
       "      <td>News</td>\n",
       "      <td>April 3, 2017</td>\n",
       "      <td>1</td>\n",
       "    </tr>\n",
       "  </tbody>\n",
       "</table>\n",
       "</div>"
      ],
      "text/plain": [
       "                                                   title  \\\n",
       "34443  Texas prosecutor offers probation to anti-abor...   \n",
       "22057        ‘Trump, Russia, Possible Collusion’ (REMIX)   \n",
       "34566  Senate Democrats united on debt restructuring ...   \n",
       "38954  Egypt Western Desert attack exposes front outs...   \n",
       "1908    Racist NYPD Cops Threaten To Tase Black Child...   \n",
       "\n",
       "                                                    text       subject  \\\n",
       "34443  HOUSTON (Reuters) - An anti-abortion activist ...  politicsNews   \n",
       "22057  Russiagate. First it was Russian hacking our e...       US_News   \n",
       "34566  SAN JUAN (Reuters) - U.S. Senate Democrats, in...  politicsNews   \n",
       "38954  CAIRO (Reuters) - A deadly attack on the polic...     worldnews   \n",
       "1908   Now that Donald Trump is president and Jeff Se...          News   \n",
       "\n",
       "                    date  class  \n",
       "34443  February 4, 2016       0  \n",
       "22057      July 28, 2017      1  \n",
       "34566  January 27, 2016       0  \n",
       "38954  November 7, 2017       0  \n",
       "1908       April 3, 2017      1  "
      ]
     },
     "execution_count": 6,
     "metadata": {},
     "output_type": "execute_result"
    }
   ],
   "source": [
    "#Concatenamos ambos datasets\n",
    "df=pd.concat([df_fake,df_true],ignore_index=True)\n",
    "print(df.shape)\n",
    "df.sample(5)"
   ]
  },
  {
   "cell_type": "markdown",
   "metadata": {},
   "source": [
    "# Exploratory Data Analysis (EDA) and Data Wrangling"
   ]
  },
  {
   "cell_type": "code",
   "execution_count": 7,
   "metadata": {
    "id": "_BF_ug3XmTvS"
   },
   "outputs": [],
   "source": [
    "from wordcloud import WordCloud, STOPWORDS, ImageColorGenerator\n",
    "from PIL import Image"
   ]
  },
  {
   "cell_type": "markdown",
   "metadata": {},
   "source": [
    "### WordCloud de noticias falsas"
   ]
  },
  {
   "cell_type": "code",
   "execution_count": 8,
   "metadata": {
    "colab": {
     "base_uri": "https://localhost:8080/",
     "height": 198
    },
    "id": "n-WtGAAimTvj",
    "outputId": "b4cad83f-bef5-4f5e-f02e-5df01b3a1a1d"
   },
   "outputs": [
    {
     "data": {
      "image/png": "[encoded data removed]",
      "text/plain": [
       "<Figure size 432x288 with 1 Axes>"
      ]
     },
     "metadata": {
      "needs_background": "light"
     },
     "output_type": "display_data"
    }
   ],
   "source": [
    "text=' '.join(i for i in df_fake.title)\n",
    "wordcloud=WordCloud(max_words=200).generate(text)\n",
    "plt.imshow(wordcloud, interpolation='bilinear')\n",
    "plt.axis('off')\n",
    "plt.show()"
   ]
  },
  {
   "cell_type": "markdown",
   "metadata": {},
   "source": [
    "### WordCloud de noticias reales "
   ]
  },
  {
   "cell_type": "code",
   "execution_count": 9,
   "metadata": {
    "colab": {
     "base_uri": "https://localhost:8080/",
     "height": 198
    },
    "id": "4T7oSMFlmTvs",
    "outputId": "c992c528-e7d1-4b26-ab57-c3642dafe706"
   },
   "outputs": [
    {
     "data": {
      "image/png": "[encoded data removed]",
      "text/plain": [
       "<Figure size 432x288 with 1 Axes>"
      ]
     },
     "metadata": {
      "needs_background": "light"
     },
     "output_type": "display_data"
    }
   ],
   "source": [
    "#Armamos una nube de palabras para las true news\n",
    "\n",
    "text=' '.join(i for i in df_true.title)\n",
    "wordcloud=WordCloud(max_words=200).generate(text)\n",
    "plt.imshow(wordcloud, interpolation='bilinear')\n",
    "plt.axis('off')\n",
    "plt.show()"
   ]
  },
  {
   "cell_type": "code",
   "execution_count": 10,
   "metadata": {
    "colab": {
     "base_uri": "https://localhost:8080/",
     "height": 34
    },
    "id": "zldoyyComTv2",
    "outputId": "af70b5b5-fb90-4a56-e3d7-2a3d459eab15"
   },
   "outputs": [
    {
     "data": {
      "text/plain": [
       "209"
      ]
     },
     "execution_count": 10,
     "metadata": {},
     "output_type": "execute_result"
    }
   ],
   "source": [
    "df.duplicated().sum()"
   ]
  },
  {
   "cell_type": "code",
   "execution_count": 11,
   "metadata": {
    "colab": {
     "base_uri": "https://localhost:8080/",
     "height": 436
    },
    "id": "RUQDyUh6mTv9",
    "outputId": "6935b409-e17d-446f-ee8c-63d43c9ec3d2"
   },
   "outputs": [
    {
     "name": "stdout",
     "output_type": "stream",
     "text": [
      "11798\n"
     ]
    },
    {
     "data": {
      "text/html": [
       "<div>\n",
       "<style scoped>\n",
       "    .dataframe tbody tr th:only-of-type {\n",
       "        vertical-align: middle;\n",
       "    }\n",
       "\n",
       "    .dataframe tbody tr th {\n",
       "        vertical-align: top;\n",
       "    }\n",
       "\n",
       "    .dataframe thead th {\n",
       "        text-align: right;\n",
       "    }\n",
       "</style>\n",
       "<table border=\"1\" class=\"dataframe\">\n",
       "  <thead>\n",
       "    <tr style=\"text-align: right;\">\n",
       "      <th></th>\n",
       "      <th>title</th>\n",
       "      <th>text</th>\n",
       "      <th>subject</th>\n",
       "      <th>date</th>\n",
       "      <th>class</th>\n",
       "    </tr>\n",
       "  </thead>\n",
       "  <tbody>\n",
       "    <tr>\n",
       "      <th>1535</th>\n",
       "      <td>McConnell Says He’ll Obstruct ANY Effort To H...</td>\n",
       "      <td>Siding with Trump s Attorney General Jeff Sess...</td>\n",
       "      <td>News</td>\n",
       "      <td>May 10, 2017</td>\n",
       "      <td>1</td>\n",
       "    </tr>\n",
       "    <tr>\n",
       "      <th>9942</th>\n",
       "      <td>HILLARY TWEETS MESSAGE In Defense Of DACA…OOPS...</td>\n",
       "      <td>No time to waste   we've got to fight with eve...</td>\n",
       "      <td>politics</td>\n",
       "      <td>Sep 9, 2017</td>\n",
       "      <td>1</td>\n",
       "    </tr>\n",
       "    <tr>\n",
       "      <th>10920</th>\n",
       "      <td>MEDIA IGNORES Time That Bill Clinton FIRED His...</td>\n",
       "      <td>At the recommendation of both Attorney General...</td>\n",
       "      <td>politics</td>\n",
       "      <td>May 10, 2017</td>\n",
       "      <td>1</td>\n",
       "    </tr>\n",
       "    <tr>\n",
       "      <th>10924</th>\n",
       "      <td>MEDIA IGNORES Time That Bill Clinton FIRED His...</td>\n",
       "      <td>In its 109-year history, only one F.B.I. direc...</td>\n",
       "      <td>politics</td>\n",
       "      <td>May 10, 2017</td>\n",
       "      <td>1</td>\n",
       "    </tr>\n",
       "    <tr>\n",
       "      <th>10930</th>\n",
       "      <td>FORMER FBI ASST DIRECTOR: “Jim Comey ‘Danced W...</td>\n",
       "      <td>He threw the reputation of the FBI under the ...</td>\n",
       "      <td>politics</td>\n",
       "      <td>May 9, 2017</td>\n",
       "      <td>1</td>\n",
       "    </tr>\n",
       "    <tr>\n",
       "      <th>...</th>\n",
       "      <td>...</td>\n",
       "      <td>...</td>\n",
       "      <td>...</td>\n",
       "      <td>...</td>\n",
       "      <td>...</td>\n",
       "    </tr>\n",
       "    <tr>\n",
       "      <th>44883</th>\n",
       "      <td>Exclusive: Trump's Afghan decision may increas...</td>\n",
       "      <td>ON BOARD A U.S. MILITARY AIRCRAFT (Reuters) - ...</td>\n",
       "      <td>worldnews</td>\n",
       "      <td>August 22, 2017</td>\n",
       "      <td>0</td>\n",
       "    </tr>\n",
       "    <tr>\n",
       "      <th>44884</th>\n",
       "      <td>U.S. puts more pressure on Pakistan to help wi...</td>\n",
       "      <td>WASHINGTON (Reuters) - The United States sugge...</td>\n",
       "      <td>worldnews</td>\n",
       "      <td>August 21, 2017</td>\n",
       "      <td>0</td>\n",
       "    </tr>\n",
       "    <tr>\n",
       "      <th>44886</th>\n",
       "      <td>Trump talks tough on Pakistan's 'terrorist' ha...</td>\n",
       "      <td>ISLAMABAD (Reuters) - Outlining a new strategy...</td>\n",
       "      <td>worldnews</td>\n",
       "      <td>August 22, 2017</td>\n",
       "      <td>0</td>\n",
       "    </tr>\n",
       "    <tr>\n",
       "      <th>44889</th>\n",
       "      <td>U.S., North Korea clash at U.N. forum over nuc...</td>\n",
       "      <td>GENEVA (Reuters) - North Korea and the United ...</td>\n",
       "      <td>worldnews</td>\n",
       "      <td>August 22, 2017</td>\n",
       "      <td>0</td>\n",
       "    </tr>\n",
       "    <tr>\n",
       "      <th>44893</th>\n",
       "      <td>'Fully committed' NATO backs new U.S. approach...</td>\n",
       "      <td>BRUSSELS (Reuters) - NATO allies on Tuesday we...</td>\n",
       "      <td>worldnews</td>\n",
       "      <td>August 22, 2017</td>\n",
       "      <td>0</td>\n",
       "    </tr>\n",
       "  </tbody>\n",
       "</table>\n",
       "<p>6169 rows × 5 columns</p>\n",
       "</div>"
      ],
      "text/plain": [
       "                                                   title  \\\n",
       "1535    McConnell Says He’ll Obstruct ANY Effort To H...   \n",
       "9942   HILLARY TWEETS MESSAGE In Defense Of DACA…OOPS...   \n",
       "10920  MEDIA IGNORES Time That Bill Clinton FIRED His...   \n",
       "10924  MEDIA IGNORES Time That Bill Clinton FIRED His...   \n",
       "10930  FORMER FBI ASST DIRECTOR: “Jim Comey ‘Danced W...   \n",
       "...                                                  ...   \n",
       "44883  Exclusive: Trump's Afghan decision may increas...   \n",
       "44884  U.S. puts more pressure on Pakistan to help wi...   \n",
       "44886  Trump talks tough on Pakistan's 'terrorist' ha...   \n",
       "44889  U.S., North Korea clash at U.N. forum over nuc...   \n",
       "44893  'Fully committed' NATO backs new U.S. approach...   \n",
       "\n",
       "                                                    text    subject  \\\n",
       "1535   Siding with Trump s Attorney General Jeff Sess...       News   \n",
       "9942   No time to waste   we've got to fight with eve...   politics   \n",
       "10920  At the recommendation of both Attorney General...   politics   \n",
       "10924  In its 109-year history, only one F.B.I. direc...   politics   \n",
       "10930   He threw the reputation of the FBI under the ...   politics   \n",
       "...                                                  ...        ...   \n",
       "44883  ON BOARD A U.S. MILITARY AIRCRAFT (Reuters) - ...  worldnews   \n",
       "44884  WASHINGTON (Reuters) - The United States sugge...  worldnews   \n",
       "44886  ISLAMABAD (Reuters) - Outlining a new strategy...  worldnews   \n",
       "44889  GENEVA (Reuters) - North Korea and the United ...  worldnews   \n",
       "44893  BRUSSELS (Reuters) - NATO allies on Tuesday we...  worldnews   \n",
       "\n",
       "                   date  class  \n",
       "1535       May 10, 2017      1  \n",
       "9942        Sep 9, 2017      1  \n",
       "10920      May 10, 2017      1  \n",
       "10924      May 10, 2017      1  \n",
       "10930       May 9, 2017      1  \n",
       "...                 ...    ...  \n",
       "44883  August 22, 2017       0  \n",
       "44884  August 21, 2017       0  \n",
       "44886  August 22, 2017       0  \n",
       "44889  August 22, 2017       0  \n",
       "44893  August 22, 2017       0  \n",
       "\n",
       "[6169 rows x 5 columns]"
      ]
     },
     "execution_count": 11,
     "metadata": {},
     "output_type": "execute_result"
    }
   ],
   "source": [
    "#Valores duplicados en titulos\n",
    "print(df.title.duplicated(keep=False).sum())\n",
    "#Observamos algunos duplicados \n",
    "df.loc[df.title.duplicated()]"
   ]
  },
  {
   "cell_type": "code",
   "execution_count": 12,
   "metadata": {
    "colab": {
     "base_uri": "https://localhost:8080/",
     "height": 111
    },
    "id": "5wXyqKlKmTwE",
    "outputId": "6bb52bc1-80ee-48f6-fa48-69915ed95f40"
   },
   "outputs": [
    {
     "data": {
      "text/html": [
       "<div>\n",
       "<style scoped>\n",
       "    .dataframe tbody tr th:only-of-type {\n",
       "        vertical-align: middle;\n",
       "    }\n",
       "\n",
       "    .dataframe tbody tr th {\n",
       "        vertical-align: top;\n",
       "    }\n",
       "\n",
       "    .dataframe thead th {\n",
       "        text-align: right;\n",
       "    }\n",
       "</style>\n",
       "<table border=\"1\" class=\"dataframe\">\n",
       "  <thead>\n",
       "    <tr style=\"text-align: right;\">\n",
       "      <th></th>\n",
       "      <th>title</th>\n",
       "      <th>text</th>\n",
       "      <th>subject</th>\n",
       "      <th>date</th>\n",
       "      <th>class</th>\n",
       "    </tr>\n",
       "  </thead>\n",
       "  <tbody>\n",
       "    <tr>\n",
       "      <th>10920</th>\n",
       "      <td>MEDIA IGNORES Time That Bill Clinton FIRED His...</td>\n",
       "      <td>At the recommendation of both Attorney General...</td>\n",
       "      <td>politics</td>\n",
       "      <td>May 10, 2017</td>\n",
       "      <td>1</td>\n",
       "    </tr>\n",
       "    <tr>\n",
       "      <th>10924</th>\n",
       "      <td>MEDIA IGNORES Time That Bill Clinton FIRED His...</td>\n",
       "      <td>In its 109-year history, only one F.B.I. direc...</td>\n",
       "      <td>politics</td>\n",
       "      <td>May 10, 2017</td>\n",
       "      <td>1</td>\n",
       "    </tr>\n",
       "  </tbody>\n",
       "</table>\n",
       "</div>"
      ],
      "text/plain": [
       "                                                   title  \\\n",
       "10920  MEDIA IGNORES Time That Bill Clinton FIRED His...   \n",
       "10924  MEDIA IGNORES Time That Bill Clinton FIRED His...   \n",
       "\n",
       "                                                    text   subject  \\\n",
       "10920  At the recommendation of both Attorney General...  politics   \n",
       "10924  In its 109-year history, only one F.B.I. direc...  politics   \n",
       "\n",
       "               date  class  \n",
       "10920  May 10, 2017      1  \n",
       "10924  May 10, 2017      1  "
      ]
     },
     "execution_count": 12,
     "metadata": {},
     "output_type": "execute_result"
    }
   ],
   "source": [
    "#Vemos que hay casos en los cuales los titulos son exactamente iguales pero el texto no \n",
    "df.loc[[10920,10924],:]"
   ]
  },
  {
   "cell_type": "code",
   "execution_count": 13,
   "metadata": {
    "colab": {
     "base_uri": "https://localhost:8080/",
     "height": 34
    },
    "id": "YTSGiSBbmTwL",
    "outputId": "1adc87f4-40f5-4b42-d38a-60ddb667799c"
   },
   "outputs": [
    {
     "data": {
      "text/plain": [
       "11798"
      ]
     },
     "execution_count": 13,
     "metadata": {},
     "output_type": "execute_result"
    }
   ],
   "source": [
    "#El numero de duplicados por titulo y clase coincide con el de duplicados solo por clase (es decir que todos los titulos duplicados pertenecen a la misma clase)\n",
    "df[['title','class']].duplicated(keep=False).sum()"
   ]
  },
  {
   "cell_type": "code",
   "execution_count": 14,
   "metadata": {
    "colab": {
     "base_uri": "https://localhost:8080/",
     "height": 34
    },
    "id": "NCIQOU7dmTwW",
    "outputId": "17038ba4-a40a-48a2-bdab-a7ed342a1b49"
   },
   "outputs": [
    {
     "data": {
      "text/plain": [
       "(38729, 5)"
      ]
     },
     "execution_count": 14,
     "metadata": {},
     "output_type": "execute_result"
    }
   ],
   "source": [
    "#Eliminamos las noticias con titulo duplicado, quedandonos solo con los primeros \n",
    "df.drop_duplicates(subset=['title'],keep='first',inplace=True)\n",
    "df.reset_index()\n",
    "df.shape"
   ]
  },
  {
   "cell_type": "code",
   "execution_count": 15,
   "metadata": {
    "colab": {
     "base_uri": "https://localhost:8080/",
     "height": 68
    },
    "id": "LUwpy2KkmTwi",
    "outputId": "c33715b1-a647-4f4c-ae6e-b14dc84aa34b"
   },
   "outputs": [
    {
     "data": {
      "text/plain": [
       "0    0.537737\n",
       "1    0.462263\n",
       "Name: class, dtype: float64"
      ]
     },
     "execution_count": 15,
     "metadata": {},
     "output_type": "execute_result"
    }
   ],
   "source": [
    "df['class'].value_counts(1)"
   ]
  },
  {
   "cell_type": "code",
   "execution_count": 16,
   "metadata": {
    "colab": {
     "base_uri": "https://localhost:8080/",
     "height": 281
    },
    "id": "0t4hDLK9mTwz",
    "outputId": "48851efa-6f1b-4cc2-ca69-fa460cd5d9a1"
   },
   "outputs": [
    {
     "data": {
      "image/png": "[encoded data removed]",
      "text/plain": [
       "<Figure size 288x288 with 1 Axes>"
      ]
     },
     "metadata": {
      "needs_background": "light"
     },
     "output_type": "display_data"
    }
   ],
   "source": [
    "df.hist(figsize=(4,4), color='skyblue');"
   ]
  },
  {
   "cell_type": "code",
   "execution_count": 17,
   "metadata": {
    "colab": {
     "base_uri": "https://localhost:8080/",
     "height": 221
    },
    "id": "97Uaa7nKmTxA",
    "outputId": "96a166e0-84c7-4632-e1f2-ff8fb087800a"
   },
   "outputs": [
    {
     "name": "stdout",
     "output_type": "stream",
     "text": [
      "<class 'pandas.core.frame.DataFrame'>\n",
      "Int64Index: 38729 entries, 0 to 44897\n",
      "Data columns (total 5 columns):\n",
      " #   Column   Non-Null Count  Dtype \n",
      "---  ------   --------------  ----- \n",
      " 0   title    38729 non-null  object\n",
      " 1   text     38729 non-null  object\n",
      " 2   subject  38729 non-null  object\n",
      " 3   date     38729 non-null  object\n",
      " 4   class    38729 non-null  int64 \n",
      "dtypes: int64(1), object(4)\n",
      "memory usage: 1.8+ MB\n"
     ]
    }
   ],
   "source": [
    "df.info()"
   ]
  },
  {
   "cell_type": "code",
   "execution_count": 88,
   "metadata": {
    "colab": {
     "base_uri": "https://localhost:8080/",
     "height": 153
    },
    "id": "pqw6LXtgmTxU",
    "outputId": "051b7916-faeb-4227-d91e-82b81f7c80e2"
   },
   "outputs": [],
   "source": [
    "df['subject'].value_counts(1)"
   ]
  },
  {
   "cell_type": "code",
   "execution_count": 19,
   "metadata": {
    "colab": {
     "base_uri": "https://localhost:8080/",
     "height": 477
    },
    "id": "BM2FtZWpmTx7",
    "outputId": "6cc2b359-0769-4c39-a8c8-2201b9c77493"
   },
   "outputs": [
    {
     "data": {
      "text/plain": [
       "Text(0.5, 0, 'Seccion')"
      ]
     },
     "execution_count": 19,
     "metadata": {},
     "output_type": "execute_result"
    },
    {
     "data": {
      "image/png": "[encoded data removed]",
      "text/plain": [
       "<Figure size 720x432 with 1 Axes>"
      ]
     },
     "metadata": {
      "needs_background": "light"
     },
     "output_type": "display_data"
    }
   ],
   "source": [
    "plt.figure(figsize=(10,6))\n",
    "sns.set(style='white',context='notebook')\n",
    "sns.countplot(df['subject'],palette='afmhot_r');\n",
    "\n",
    "plt.title('Subject noticias'.title(),fontsize=15);\n",
    "plt.ylabel('count'.title(), fontsize=8)\n",
    "plt.xlabel('seccion'.title(), fontsize=8)"
   ]
  },
  {
   "cell_type": "code",
   "execution_count": 20,
   "metadata": {
    "colab": {
     "base_uri": "https://localhost:8080/",
     "height": 85
    },
    "id": "8H1Co2xUmTyN",
    "outputId": "7e3c722f-f79f-477b-84f9-2d66dbc0095c"
   },
   "outputs": [
    {
     "data": {
      "text/plain": [
       "2017    22951\n",
       "2016    14093\n",
       "2015     1646\n",
       "Name: year, dtype: int64"
      ]
     },
     "execution_count": 20,
     "metadata": {},
     "output_type": "execute_result"
    }
   ],
   "source": [
    "#Extraemos el anno de date\n",
    "\n",
    "pattern_year=r'(\\d{4})'\n",
    "\n",
    "df['year']=df.date.str.extract(pattern_year)\n",
    "df.year.value_counts()"
   ]
  },
  {
   "cell_type": "code",
   "execution_count": 21,
   "metadata": {
    "colab": {
     "base_uri": "https://localhost:8080/",
     "height": 136
    },
    "id": "9TBXMGIfmTyc",
    "outputId": "e444184f-18ed-4855-8665-ace2c859c60c"
   },
   "outputs": [
    {
     "data": {
      "text/plain": [
       "title       0\n",
       "text        0\n",
       "subject     0\n",
       "date        0\n",
       "class       0\n",
       "year       39\n",
       "dtype: int64"
      ]
     },
     "execution_count": 21,
     "metadata": {},
     "output_type": "execute_result"
    }
   ],
   "source": [
    "df.isnull().sum()"
   ]
  },
  {
   "cell_type": "code",
   "execution_count": 22,
   "metadata": {
    "colab": {
     "base_uri": "https://localhost:8080/",
     "height": 136
    },
    "id": "BLU5PDI9mTyu",
    "outputId": "3e6fd400-34e0-40cc-cc29-401418f153e3"
   },
   "outputs": [
    {
     "data": {
      "text/plain": [
       "title      0\n",
       "text       0\n",
       "subject    0\n",
       "date       0\n",
       "class      0\n",
       "year       0\n",
       "dtype: int64"
      ]
     },
     "execution_count": 22,
     "metadata": {},
     "output_type": "execute_result"
    }
   ],
   "source": [
    "#Dropeamos los 39 casos que quedaron con el year nulo\n",
    "df.dropna(subset=['year'],inplace=True)\n",
    "df.isnull().sum()"
   ]
  },
  {
   "cell_type": "code",
   "execution_count": 23,
   "metadata": {
    "colab": {
     "base_uri": "https://localhost:8080/",
     "height": 204
    },
    "id": "JowTIg7RmTy9",
    "outputId": "18a583f7-1dad-4b62-eece-6b48028d77f0"
   },
   "outputs": [
    {
     "data": {
      "text/html": [
       "<div>\n",
       "<style scoped>\n",
       "    .dataframe tbody tr th:only-of-type {\n",
       "        vertical-align: middle;\n",
       "    }\n",
       "\n",
       "    .dataframe tbody tr th {\n",
       "        vertical-align: top;\n",
       "    }\n",
       "\n",
       "    .dataframe thead th {\n",
       "        text-align: right;\n",
       "    }\n",
       "</style>\n",
       "<table border=\"1\" class=\"dataframe\">\n",
       "  <thead>\n",
       "    <tr style=\"text-align: right;\">\n",
       "      <th></th>\n",
       "      <th>title</th>\n",
       "      <th>text</th>\n",
       "      <th>subject</th>\n",
       "      <th>date</th>\n",
       "      <th>class</th>\n",
       "      <th>year</th>\n",
       "    </tr>\n",
       "  </thead>\n",
       "  <tbody>\n",
       "    <tr>\n",
       "      <th>0</th>\n",
       "      <td>Donald Trump Sends Out Embarrassing New Year’...</td>\n",
       "      <td>Donald Trump just couldn t wish all Americans ...</td>\n",
       "      <td>News</td>\n",
       "      <td>December 31, 2017</td>\n",
       "      <td>1</td>\n",
       "      <td>2017</td>\n",
       "    </tr>\n",
       "    <tr>\n",
       "      <th>1</th>\n",
       "      <td>Drunk Bragging Trump Staffer Started Russian ...</td>\n",
       "      <td>House Intelligence Committee Chairman Devin Nu...</td>\n",
       "      <td>News</td>\n",
       "      <td>December 31, 2017</td>\n",
       "      <td>1</td>\n",
       "      <td>2017</td>\n",
       "    </tr>\n",
       "    <tr>\n",
       "      <th>2</th>\n",
       "      <td>Sheriff David Clarke Becomes An Internet Joke...</td>\n",
       "      <td>On Friday, it was revealed that former Milwauk...</td>\n",
       "      <td>News</td>\n",
       "      <td>December 30, 2017</td>\n",
       "      <td>1</td>\n",
       "      <td>2017</td>\n",
       "    </tr>\n",
       "    <tr>\n",
       "      <th>3</th>\n",
       "      <td>Trump Is So Obsessed He Even Has Obama’s Name...</td>\n",
       "      <td>On Christmas day, Donald Trump announced that ...</td>\n",
       "      <td>News</td>\n",
       "      <td>December 29, 2017</td>\n",
       "      <td>1</td>\n",
       "      <td>2017</td>\n",
       "    </tr>\n",
       "    <tr>\n",
       "      <th>4</th>\n",
       "      <td>Pope Francis Just Called Out Donald Trump Dur...</td>\n",
       "      <td>Pope Francis used his annual Christmas Day mes...</td>\n",
       "      <td>News</td>\n",
       "      <td>December 25, 2017</td>\n",
       "      <td>1</td>\n",
       "      <td>2017</td>\n",
       "    </tr>\n",
       "  </tbody>\n",
       "</table>\n",
       "</div>"
      ],
      "text/plain": [
       "                                               title  \\\n",
       "0   Donald Trump Sends Out Embarrassing New Year’...   \n",
       "1   Drunk Bragging Trump Staffer Started Russian ...   \n",
       "2   Sheriff David Clarke Becomes An Internet Joke...   \n",
       "3   Trump Is So Obsessed He Even Has Obama’s Name...   \n",
       "4   Pope Francis Just Called Out Donald Trump Dur...   \n",
       "\n",
       "                                                text subject  \\\n",
       "0  Donald Trump just couldn t wish all Americans ...    News   \n",
       "1  House Intelligence Committee Chairman Devin Nu...    News   \n",
       "2  On Friday, it was revealed that former Milwauk...    News   \n",
       "3  On Christmas day, Donald Trump announced that ...    News   \n",
       "4  Pope Francis used his annual Christmas Day mes...    News   \n",
       "\n",
       "                date  class  year  \n",
       "0  December 31, 2017      1  2017  \n",
       "1  December 31, 2017      1  2017  \n",
       "2  December 30, 2017      1  2017  \n",
       "3  December 29, 2017      1  2017  \n",
       "4  December 25, 2017      1  2017  "
      ]
     },
     "execution_count": 23,
     "metadata": {},
     "output_type": "execute_result"
    }
   ],
   "source": [
    "df.head()"
   ]
  },
  {
   "cell_type": "code",
   "execution_count": 24,
   "metadata": {
    "id": "JJwSL7vDmTzJ"
   },
   "outputs": [],
   "source": [
    "#Unificamos en un unico campo la concatenacion de los titulos y las noticias para que sea nuestra x\n",
    "df['news']=df.title+' '+df.text"
   ]
  },
  {
   "cell_type": "code",
   "execution_count": 25,
   "metadata": {
    "colab": {
     "base_uri": "https://localhost:8080/",
     "height": 193
    },
    "id": "rfvC51EymTzg",
    "outputId": "b3dba19d-eb8c-4634-e8e9-bfd2edbbf7f0"
   },
   "outputs": [
    {
     "data": {
      "text/html": [
       "<div>\n",
       "<style scoped>\n",
       "    .dataframe tbody tr th:only-of-type {\n",
       "        vertical-align: middle;\n",
       "    }\n",
       "\n",
       "    .dataframe tbody tr th {\n",
       "        vertical-align: top;\n",
       "    }\n",
       "\n",
       "    .dataframe thead th {\n",
       "        text-align: right;\n",
       "    }\n",
       "</style>\n",
       "<table border=\"1\" class=\"dataframe\">\n",
       "  <thead>\n",
       "    <tr style=\"text-align: right;\">\n",
       "      <th></th>\n",
       "      <th>title</th>\n",
       "      <th>text</th>\n",
       "      <th>subject</th>\n",
       "      <th>date</th>\n",
       "      <th>class</th>\n",
       "      <th>year</th>\n",
       "      <th>news</th>\n",
       "    </tr>\n",
       "  </thead>\n",
       "  <tbody>\n",
       "    <tr>\n",
       "      <th>0</th>\n",
       "      <td>Donald Trump Sends Out Embarrassing New Year’...</td>\n",
       "      <td>Donald Trump just couldn t wish all Americans ...</td>\n",
       "      <td>News</td>\n",
       "      <td>December 31, 2017</td>\n",
       "      <td>1</td>\n",
       "      <td>2017</td>\n",
       "      <td>Donald Trump Sends Out Embarrassing New Year’...</td>\n",
       "    </tr>\n",
       "    <tr>\n",
       "      <th>1</th>\n",
       "      <td>Drunk Bragging Trump Staffer Started Russian ...</td>\n",
       "      <td>House Intelligence Committee Chairman Devin Nu...</td>\n",
       "      <td>News</td>\n",
       "      <td>December 31, 2017</td>\n",
       "      <td>1</td>\n",
       "      <td>2017</td>\n",
       "      <td>Drunk Bragging Trump Staffer Started Russian ...</td>\n",
       "    </tr>\n",
       "    <tr>\n",
       "      <th>2</th>\n",
       "      <td>Sheriff David Clarke Becomes An Internet Joke...</td>\n",
       "      <td>On Friday, it was revealed that former Milwauk...</td>\n",
       "      <td>News</td>\n",
       "      <td>December 30, 2017</td>\n",
       "      <td>1</td>\n",
       "      <td>2017</td>\n",
       "      <td>Sheriff David Clarke Becomes An Internet Joke...</td>\n",
       "    </tr>\n",
       "  </tbody>\n",
       "</table>\n",
       "</div>"
      ],
      "text/plain": [
       "                                               title  \\\n",
       "0   Donald Trump Sends Out Embarrassing New Year’...   \n",
       "1   Drunk Bragging Trump Staffer Started Russian ...   \n",
       "2   Sheriff David Clarke Becomes An Internet Joke...   \n",
       "\n",
       "                                                text subject  \\\n",
       "0  Donald Trump just couldn t wish all Americans ...    News   \n",
       "1  House Intelligence Committee Chairman Devin Nu...    News   \n",
       "2  On Friday, it was revealed that former Milwauk...    News   \n",
       "\n",
       "                date  class  year  \\\n",
       "0  December 31, 2017      1  2017   \n",
       "1  December 31, 2017      1  2017   \n",
       "2  December 30, 2017      1  2017   \n",
       "\n",
       "                                                news  \n",
       "0   Donald Trump Sends Out Embarrassing New Year’...  \n",
       "1   Drunk Bragging Trump Staffer Started Russian ...  \n",
       "2   Sheriff David Clarke Becomes An Internet Joke...  "
      ]
     },
     "execution_count": 25,
     "metadata": {},
     "output_type": "execute_result"
    }
   ],
   "source": [
    "df.head(3)"
   ]
  },
  {
   "cell_type": "code",
   "execution_count": null,
   "metadata": {
    "id": "ceNgK-SJmTz4"
   },
   "outputs": [],
   "source": []
  },
  {
   "cell_type": "code",
   "execution_count": 26,
   "metadata": {
    "colab": {
     "base_uri": "https://localhost:8080/",
     "height": 153
    },
    "id": "8ngQrX_nmT0T",
    "outputId": "87bf51b1-3759-42c2-aaab-10fc352283d6"
   },
   "outputs": [
    {
     "data": {
      "text/plain": [
       "politicsNews       11150\n",
       "worldnews           9676\n",
       "News                9049\n",
       "politics            6796\n",
       "US_News              783\n",
       "left-news            704\n",
       "Government News      532\n",
       "Name: subject, dtype: int64"
      ]
     },
     "execution_count": 26,
     "metadata": {},
     "output_type": "execute_result"
    }
   ],
   "source": [
    "df['subject'].value_counts()"
   ]
  },
  {
   "cell_type": "code",
   "execution_count": 27,
   "metadata": {
    "colab": {
     "base_uri": "https://localhost:8080/",
     "height": 170
    },
    "id": "BSAB9TIwmT0z",
    "outputId": "d1e8023a-2966-46ea-b1ae-7a7e8f005ed6"
   },
   "outputs": [
    {
     "data": {
      "text/plain": [
       "subject          class\n",
       "Government News  1          532\n",
       "News             1         9049\n",
       "US_News          1          783\n",
       "left-news        1          704\n",
       "politics         1         6796\n",
       "politicsNews     0        11150\n",
       "worldnews        0         9676\n",
       "Name: news, dtype: int64"
      ]
     },
     "execution_count": 27,
     "metadata": {},
     "output_type": "execute_result"
    }
   ],
   "source": [
    "df.groupby(['subject','class'])['news'].count()"
   ]
  },
  {
   "cell_type": "markdown",
   "metadata": {
    "id": "Pov35JTvmT1J"
   },
   "source": [
    "Arriba vimos como es la variedad de noricias segun la seccion, considerando los True y los False.\n",
    "Esto puede generar un problame de prediccion porque le va a porner 0 a todas las de la clase politicsNews y worldnews.\n",
    "\n",
    "Para solucionar esto, unificamos algunas clases. En primer lugar, vemos que las clases 'politics' y 'politicsNews' tienen diferente nombre porque provienen de datasets diferentes. Ademas, como la clase 'left_news' y 'Government News' son minoritarias, las incluimos dentro de la clase 'politics'."
   ]
  },
  {
   "cell_type": "code",
   "execution_count": 28,
   "metadata": {
    "colab": {
     "base_uri": "https://localhost:8080/",
     "height": 85
    },
    "id": "JfS06VLNmT1L",
    "outputId": "11dbad01-e207-4c07-ab72-9b99de78665e"
   },
   "outputs": [
    {
     "data": {
      "text/plain": [
       "politics     0.495787\n",
       "News         0.254123\n",
       "worldnews    0.250090\n",
       "Name: new_subject, dtype: float64"
      ]
     },
     "execution_count": 28,
     "metadata": {},
     "output_type": "execute_result"
    }
   ],
   "source": [
    "subject_replace={\n",
    "    'politicsNews':'politics',\n",
    "    'US_News':'News',\n",
    "    'Government News':'politics',\n",
    "    'left-news':'politics'}\n",
    "df['new_subject']=df.subject\n",
    "\n",
    "for key in subject_replace:\n",
    "    df['new_subject']=df.new_subject.str.replace(key,subject_replace[key])\n",
    "df.new_subject.value_counts(1)"
   ]
  },
  {
   "cell_type": "code",
   "execution_count": 29,
   "metadata": {},
   "outputs": [
    {
     "data": {
      "text/plain": [
       "Text(0.5, 0, 'Seccion')"
      ]
     },
     "execution_count": 29,
     "metadata": {},
     "output_type": "execute_result"
    },
    {
     "data": {
      "image/png": "[encoded data removed]",
      "text/plain": [
       "<Figure size 720x432 with 1 Axes>"
      ]
     },
     "metadata": {},
     "output_type": "display_data"
    }
   ],
   "source": [
    "plt.figure(figsize=(10,6))\n",
    "sns.countplot(df['new_subject'],palette='afmhot_r');\n",
    "\n",
    "plt.title('Nuevo subject noticias'.title(),fontsize=15);\n",
    "plt.ylabel('count'.title(), fontsize=10)\n",
    "plt.xlabel('seccion'.title(), fontsize=10)"
   ]
  },
  {
   "cell_type": "code",
   "execution_count": 30,
   "metadata": {
    "colab": {
     "base_uri": "https://localhost:8080/",
     "height": 289
    },
    "id": "11L0Qo1rmT1g",
    "outputId": "be44c875-e4e0-42bf-b5fc-d119e2ae6222"
   },
   "outputs": [
    {
     "data": {
      "text/html": [
       "<div>\n",
       "<style scoped>\n",
       "    .dataframe tbody tr th:only-of-type {\n",
       "        vertical-align: middle;\n",
       "    }\n",
       "\n",
       "    .dataframe tbody tr th {\n",
       "        vertical-align: top;\n",
       "    }\n",
       "\n",
       "    .dataframe thead th {\n",
       "        text-align: right;\n",
       "    }\n",
       "</style>\n",
       "<table border=\"1\" class=\"dataframe\">\n",
       "  <thead>\n",
       "    <tr style=\"text-align: right;\">\n",
       "      <th></th>\n",
       "      <th>title</th>\n",
       "      <th>text</th>\n",
       "      <th>date</th>\n",
       "      <th>class</th>\n",
       "      <th>year</th>\n",
       "      <th>news</th>\n",
       "      <th>new_subject</th>\n",
       "    </tr>\n",
       "  </thead>\n",
       "  <tbody>\n",
       "    <tr>\n",
       "      <th>0</th>\n",
       "      <td>Donald Trump Sends Out Embarrassing New Year’...</td>\n",
       "      <td>Donald Trump just couldn t wish all Americans ...</td>\n",
       "      <td>December 31, 2017</td>\n",
       "      <td>1</td>\n",
       "      <td>2017</td>\n",
       "      <td>Donald Trump Sends Out Embarrassing New Year’...</td>\n",
       "      <td>News</td>\n",
       "    </tr>\n",
       "    <tr>\n",
       "      <th>1</th>\n",
       "      <td>Drunk Bragging Trump Staffer Started Russian ...</td>\n",
       "      <td>House Intelligence Committee Chairman Devin Nu...</td>\n",
       "      <td>December 31, 2017</td>\n",
       "      <td>1</td>\n",
       "      <td>2017</td>\n",
       "      <td>Drunk Bragging Trump Staffer Started Russian ...</td>\n",
       "      <td>News</td>\n",
       "    </tr>\n",
       "    <tr>\n",
       "      <th>2</th>\n",
       "      <td>Sheriff David Clarke Becomes An Internet Joke...</td>\n",
       "      <td>On Friday, it was revealed that former Milwauk...</td>\n",
       "      <td>December 30, 2017</td>\n",
       "      <td>1</td>\n",
       "      <td>2017</td>\n",
       "      <td>Sheriff David Clarke Becomes An Internet Joke...</td>\n",
       "      <td>News</td>\n",
       "    </tr>\n",
       "    <tr>\n",
       "      <th>3</th>\n",
       "      <td>Trump Is So Obsessed He Even Has Obama’s Name...</td>\n",
       "      <td>On Christmas day, Donald Trump announced that ...</td>\n",
       "      <td>December 29, 2017</td>\n",
       "      <td>1</td>\n",
       "      <td>2017</td>\n",
       "      <td>Trump Is So Obsessed He Even Has Obama’s Name...</td>\n",
       "      <td>News</td>\n",
       "    </tr>\n",
       "    <tr>\n",
       "      <th>4</th>\n",
       "      <td>Pope Francis Just Called Out Donald Trump Dur...</td>\n",
       "      <td>Pope Francis used his annual Christmas Day mes...</td>\n",
       "      <td>December 25, 2017</td>\n",
       "      <td>1</td>\n",
       "      <td>2017</td>\n",
       "      <td>Pope Francis Just Called Out Donald Trump Dur...</td>\n",
       "      <td>News</td>\n",
       "    </tr>\n",
       "  </tbody>\n",
       "</table>\n",
       "</div>"
      ],
      "text/plain": [
       "                                               title  \\\n",
       "0   Donald Trump Sends Out Embarrassing New Year’...   \n",
       "1   Drunk Bragging Trump Staffer Started Russian ...   \n",
       "2   Sheriff David Clarke Becomes An Internet Joke...   \n",
       "3   Trump Is So Obsessed He Even Has Obama’s Name...   \n",
       "4   Pope Francis Just Called Out Donald Trump Dur...   \n",
       "\n",
       "                                                text               date  \\\n",
       "0  Donald Trump just couldn t wish all Americans ...  December 31, 2017   \n",
       "1  House Intelligence Committee Chairman Devin Nu...  December 31, 2017   \n",
       "2  On Friday, it was revealed that former Milwauk...  December 30, 2017   \n",
       "3  On Christmas day, Donald Trump announced that ...  December 29, 2017   \n",
       "4  Pope Francis used his annual Christmas Day mes...  December 25, 2017   \n",
       "\n",
       "   class  year                                               news new_subject  \n",
       "0      1  2017   Donald Trump Sends Out Embarrassing New Year’...        News  \n",
       "1      1  2017   Drunk Bragging Trump Staffer Started Russian ...        News  \n",
       "2      1  2017   Sheriff David Clarke Becomes An Internet Joke...        News  \n",
       "3      1  2017   Trump Is So Obsessed He Even Has Obama’s Name...        News  \n",
       "4      1  2017   Pope Francis Just Called Out Donald Trump Dur...        News  "
      ]
     },
     "execution_count": 30,
     "metadata": {},
     "output_type": "execute_result"
    }
   ],
   "source": [
    "#Dropeamos las categorias originales para no confundie al modelo\n",
    "df.drop(['subject'], axis=1,inplace=True)\n",
    "df.head()"
   ]
  },
  {
   "cell_type": "markdown",
   "metadata": {
    "id": "2JQvU8EBmT2K"
   },
   "source": [
    "## Extraemos el año y el mes de la columna date"
   ]
  },
  {
   "cell_type": "code",
   "execution_count": 31,
   "metadata": {
    "colab": {
     "base_uri": "https://localhost:8080/",
     "height": 85
    },
    "id": "tk_Q_OGTmT2M",
    "outputId": "f65b20b1-f714-4b94-bc73-5edf23d79d48"
   },
   "outputs": [
    {
     "data": {
      "text/plain": [
       "2017    22951\n",
       "2016    14093\n",
       "2015     1646\n",
       "Name: year, dtype: int64"
      ]
     },
     "execution_count": 31,
     "metadata": {},
     "output_type": "execute_result"
    }
   ],
   "source": [
    "#Extraemos los annos\n",
    "pattern_year=r'(\\d{4})'\n",
    "df['year']=df.date.str.extract(pattern_year)\n",
    "df.year.value_counts()"
   ]
  },
  {
   "cell_type": "code",
   "execution_count": 32,
   "metadata": {
    "colab": {
     "base_uri": "https://localhost:8080/",
     "height": 255
    },
    "id": "Ofyde-XYmT2c",
    "outputId": "a90fdffa-39f5-425c-ef0b-3d2d218f3a1f"
   },
   "outputs": [
    {
     "data": {
      "text/plain": [
       "Nov    4912\n",
       "Oct    4836\n",
       "Sep    4675\n",
       "Dec    3995\n",
       "Mar    2856\n",
       "Jan    2691\n",
       "Feb    2570\n",
       "May    2560\n",
       "Apr    2479\n",
       "Jun    2429\n",
       "Aug    2348\n",
       "Jul    2337\n",
       "htt       2\n",
       "Name: month, dtype: int64"
      ]
     },
     "execution_count": 32,
     "metadata": {},
     "output_type": "execute_result"
    }
   ],
   "source": [
    "#Extraemos los meses de date\n",
    "pattern_month = r\"([a-zA-Z]{3})\"\n",
    "df['month']=df.date.str.extract(pattern_month)\n",
    "df.month.value_counts()"
   ]
  },
  {
   "cell_type": "code",
   "execution_count": 33,
   "metadata": {
    "id": "np7hHNG8mT3H"
   },
   "outputs": [],
   "source": [
    "mask_htt=df['month']=='htt'\n",
    "df.drop(df[mask_htt].index,inplace=True)"
   ]
  },
  {
   "cell_type": "code",
   "execution_count": 34,
   "metadata": {
    "colab": {
     "base_uri": "https://localhost:8080/",
     "height": 85
    },
    "id": "NgSqeQNimT3W",
    "outputId": "991341a8-c2bd-47b6-913d-f267cfacf467"
   },
   "outputs": [
    {
     "data": {
      "text/plain": [
       "politics     19180\n",
       "News          9832\n",
       "worldnews     9676\n",
       "Name: new_subject, dtype: int64"
      ]
     },
     "execution_count": 34,
     "metadata": {},
     "output_type": "execute_result"
    }
   ],
   "source": [
    "df.new_subject.value_counts()"
   ]
  },
  {
   "cell_type": "code",
   "execution_count": 35,
   "metadata": {
    "colab": {
     "base_uri": "https://localhost:8080/",
     "height": 34
    },
    "id": "0ahBWF3JmT3x",
    "outputId": "1719a734-9944-4c1b-9b29-4e601033cb88"
   },
   "outputs": [
    {
     "data": {
      "text/plain": [
       "False"
      ]
     },
     "execution_count": 35,
     "metadata": {},
     "output_type": "execute_result"
    }
   ],
   "source": [
    "(df['news']==0).all()"
   ]
  },
  {
   "cell_type": "code",
   "execution_count": 36,
   "metadata": {},
   "outputs": [
    {
     "data": {
      "image/png": "[encoded data removed]",
      "text/plain": [
       "<Figure size 720x432 with 1 Axes>"
      ]
     },
     "metadata": {},
     "output_type": "display_data"
    }
   ],
   "source": [
    "plt.figure(figsize=(10,6))\n",
    "ax=sns.countplot(df['year'],hue=df['class'],data=df,palette='afmhot_r');\n",
    "\n",
    "plt.title('Noticias reales y falsas por año'.title(),fontsize=15);\n",
    "plt.ylabel('count'.title(), fontsize=10);\n",
    "plt.xlabel('Año'.title(), fontsize=10);"
   ]
  },
  {
   "cell_type": "code",
   "execution_count": 37,
   "metadata": {},
   "outputs": [
    {
     "data": {
      "image/png": "[encoded data removed]",
      "text/plain": [
       "<Figure size 720x432 with 1 Axes>"
      ]
     },
     "metadata": {},
     "output_type": "display_data"
    }
   ],
   "source": [
    "sns.set(style='white',context='talk')\n",
    "plt.figure(figsize=(10,6))\n",
    "ax=sns.countplot(df['month'],hue=df['class'],data=df,palette='afmhot_r')\n",
    "\n",
    "plt.title('Noticias reales y falsas por mes'.title(),fontsize=15);\n",
    "plt.ylabel('count'.title(), fontsize=10)\n",
    "plt.xlabel('Mes'.title(), fontsize=10);"
   ]
  },
  {
   "cell_type": "code",
   "execution_count": 38,
   "metadata": {
    "id": "IeP5Uy3JJ5m9"
   },
   "outputs": [],
   "source": [
    "#Encodeamos las variables categoricas del modelo\n",
    "df=pd.get_dummies(df,prefix=['subject','month','year'],columns=['new_subject','month','year'])"
   ]
  },
  {
   "cell_type": "code",
   "execution_count": 45,
   "metadata": {},
   "outputs": [
    {
     "data": {
      "image/png": "[encoded data removed]",
      "text/plain": [
       "<Figure size 864x720 with 2 Axes>"
      ]
     },
     "metadata": {},
     "output_type": "display_data"
    }
   ],
   "source": [
    "plt.figure(figsize=(12,10))\n",
    "sns.set(style='white',context='notebook')\n",
    "sns_plot=sns.heatmap(df.corr().round(2), xticklabels=df.corr().columns, yticklabels=df.corr().columns, cmap='RdYlGn',vmin=-0.4, vmax=0.4, center=0,annot=True)\n",
    "plt.title('Correlograma', fontsize=22)\n",
    "plt.xticks(fontsize=12)\n",
    "plt.yticks(fontsize=12)\n",
    "#sns_plot.figure.savefig(\"correlograma.png\")\n",
    "plt.show()"
   ]
  },
  {
   "cell_type": "markdown",
   "metadata": {},
   "source": [
    "## Instanciamos el CountVectorizer con un maximo de 15000 palabras"
   ]
  },
  {
   "cell_type": "code",
   "execution_count": 40,
   "metadata": {
    "colab": {
     "base_uri": "https://localhost:8080/",
     "height": 68
    },
    "id": "wA97sWpeKvk_",
    "outputId": "23c039e1-70ad-433a-a9e5-cbb34d1db4a5"
   },
   "outputs": [
    {
     "name": "stderr",
     "output_type": "stream",
     "text": [
      "[nltk_data] Downloading package stopwords to C:\\Users\\Acer\n",
      "[nltk_data]     E15\\AppData\\Roaming\\nltk_data...\n",
      "[nltk_data]   Package stopwords is already up-to-date!\n"
     ]
    },
    {
     "data": {
      "text/plain": [
       "True"
      ]
     },
     "execution_count": 40,
     "metadata": {},
     "output_type": "execute_result"
    }
   ],
   "source": [
    "import nltk\n",
    "nltk.download('stopwords')"
   ]
  },
  {
   "cell_type": "code",
   "execution_count": 41,
   "metadata": {
    "id": "8GTPuOI-mT4E"
   },
   "outputs": [],
   "source": [
    "#Instanciamos el CountVectorizer\n",
    "stop_words=stopwords.words('english')\n",
    "\n",
    "vec= CountVectorizer(stop_words=stop_words,lowercase=True,strip_accents='unicode',max_features=15000)"
   ]
  },
  {
   "cell_type": "markdown",
   "metadata": {},
   "source": [
    "## Split"
   ]
  },
  {
   "cell_type": "code",
   "execution_count": 42,
   "metadata": {
    "colab": {
     "base_uri": "https://localhost:8080/",
     "height": 34
    },
    "id": "jydfR4r8mT4P",
    "outputId": "ffaba640-a0da-4d27-dd45-3ffe3c30a079"
   },
   "outputs": [
    {
     "data": {
      "text/plain": [
       "((29016, 19), (9672, 19), (29016,), (9672,))"
      ]
     },
     "execution_count": 42,
     "metadata": {},
     "output_type": "execute_result"
    }
   ],
   "source": [
    "#Separamos en train y test\n",
    "X=df.drop(columns=['class','text','title','date'])\n",
    "y=df['class']\n",
    "\n",
    "X_train,X_test,y_train,y_test=train_test_split(X,y,stratify=df['class'],random_state=42,test_size=0.25)\n",
    "X_train.shape,X_test.shape,y_train.shape,y_test.shape"
   ]
  },
  {
   "cell_type": "code",
   "execution_count": 43,
   "metadata": {
    "colab": {
     "base_uri": "https://localhost:8080/",
     "height": 34
    },
    "id": "SCt7ws-QmT4g",
    "outputId": "d1e56e61-39d2-4fb6-b86c-cdae8e750f8e"
   },
   "outputs": [
    {
     "name": "stdout",
     "output_type": "stream",
     "text": [
      "--- 43.736916303634644 seconds ---\n"
     ]
    }
   ],
   "source": [
    "import time\n",
    "tok=time.time()\n",
    "X_train_news=vec.fit_transform(X_train['news'])\n",
    "print(\"--- %s seconds ---\" % (time.time() - tok))"
   ]
  },
  {
   "cell_type": "code",
   "execution_count": 44,
   "metadata": {
    "colab": {
     "base_uri": "https://localhost:8080/",
     "height": 34
    },
    "id": "hM6sfCb4mT43",
    "outputId": "8d17f6e7-1895-440f-90ff-ba7bcbbbb58f"
   },
   "outputs": [
    {
     "name": "stdout",
     "output_type": "stream",
     "text": [
      "--- 16.90877056121826 seconds ---\n"
     ]
    }
   ],
   "source": [
    "tok=time.time()\n",
    "X_test_news=vec.transform(X_test['news'])\n",
    "print(\"--- %s seconds ---\" % (time.time() - tok))"
   ]
  },
  {
   "cell_type": "code",
   "execution_count": 46,
   "metadata": {
    "id": "Qv4GS_eTmT5D"
   },
   "outputs": [],
   "source": [
    "X_train_news=X_train_news.todense()"
   ]
  },
  {
   "cell_type": "code",
   "execution_count": 47,
   "metadata": {
    "id": "8_vAYYFKmT5Q"
   },
   "outputs": [],
   "source": [
    "X_train_news=pd.DataFrame(X_train_news)"
   ]
  },
  {
   "cell_type": "code",
   "execution_count": 48,
   "metadata": {
    "colab": {
     "base_uri": "https://localhost:8080/",
     "height": 34
    },
    "id": "3BjV-JEKmT5z",
    "outputId": "f2a841a4-a3aa-4a43-f421-f840d2fe7bf8"
   },
   "outputs": [
    {
     "data": {
      "text/plain": [
       "((29016, 19), (29016, 15000))"
      ]
     },
     "execution_count": 48,
     "metadata": {},
     "output_type": "execute_result"
    }
   ],
   "source": [
    "X_train.shape,X_train_news.shape"
   ]
  },
  {
   "cell_type": "code",
   "execution_count": 49,
   "metadata": {
    "id": "YMAFmDoKmT5-"
   },
   "outputs": [],
   "source": [
    "X_train_news.index=X_train.index\n"
   ]
  },
  {
   "cell_type": "code",
   "execution_count": 50,
   "metadata": {
    "id": "TZIcH7XcmT6Z"
   },
   "outputs": [],
   "source": [
    "X_train=pd.concat([X_train.drop(columns=['news']),X_train_news],axis=1)"
   ]
  },
  {
   "cell_type": "code",
   "execution_count": 51,
   "metadata": {},
   "outputs": [
    {
     "data": {
      "text/plain": [
       "(29016, 15018)"
      ]
     },
     "execution_count": 51,
     "metadata": {},
     "output_type": "execute_result"
    }
   ],
   "source": [
    "X_train.shape"
   ]
  },
  {
   "cell_type": "code",
   "execution_count": 52,
   "metadata": {
    "id": "2ES0MEImmT6u"
   },
   "outputs": [],
   "source": [
    "X_test_news=X_test_news.todense()"
   ]
  },
  {
   "cell_type": "code",
   "execution_count": 53,
   "metadata": {
    "id": "rJgpdvIcmT7A"
   },
   "outputs": [],
   "source": [
    "X_test_news=pd.DataFrame(X_test_news)"
   ]
  },
  {
   "cell_type": "code",
   "execution_count": 54,
   "metadata": {
    "id": "EclTGGJnmT7K"
   },
   "outputs": [],
   "source": [
    "X_test_news.index=X_test.index"
   ]
  },
  {
   "cell_type": "code",
   "execution_count": 55,
   "metadata": {
    "id": "0Mfgj-KxmT7X"
   },
   "outputs": [],
   "source": [
    "X_test=pd.concat([X_test.drop(columns=['news']),X_test_news],axis=1)"
   ]
  },
  {
   "cell_type": "code",
   "execution_count": 56,
   "metadata": {
    "colab": {
     "base_uri": "https://localhost:8080/",
     "height": 34
    },
    "id": "_y1k9a2PmT7k",
    "outputId": "756c2239-090f-4ff8-a672-87a390846bd2"
   },
   "outputs": [
    {
     "data": {
      "text/plain": [
       "((9672, 15018), (29016, 15018))"
      ]
     },
     "execution_count": 56,
     "metadata": {},
     "output_type": "execute_result"
    }
   ],
   "source": [
    "X_test.shape,X_train.shape"
   ]
  },
  {
   "cell_type": "code",
   "execution_count": 57,
   "metadata": {
    "colab": {
     "base_uri": "https://localhost:8080/",
     "height": 34
    },
    "id": "p4pXO6eXEtDC",
    "outputId": "5e6b36c2-dacb-40a2-a569-3d8bc5e957b0"
   },
   "outputs": [
    {
     "data": {
      "text/plain": [
       "((5803, 15018), (3869, 15018), (5803,), (3869,))"
      ]
     },
     "execution_count": 57,
     "metadata": {},
     "output_type": "execute_result"
    }
   ],
   "source": [
    "#Separamos el conjunto de validacion\n",
    "X_val, X_test, y_val, y_test = train_test_split(X_test, y_test, test_size=0.4)\n",
    "X_val.shape,X_test.shape,y_val.shape,y_test.shape"
   ]
  },
  {
   "cell_type": "markdown",
   "metadata": {},
   "source": [
    "# Redes Neuronales"
   ]
  },
  {
   "cell_type": "code",
   "execution_count": 58,
   "metadata": {
    "id": "qqMlRwyVF2of"
   },
   "outputs": [
    {
     "name": "stderr",
     "output_type": "stream",
     "text": [
      "C:\\Anaconda\\envs\\dhdsblend\\lib\\site-packages\\tensorflow\\python\\framework\\dtypes.py:516: FutureWarning: Passing (type, 1) or '1type' as a synonym of type is deprecated; in a future version of numpy, it will be understood as (type, (1,)) / '(1,)type'.\n",
      "  _np_qint8 = np.dtype([(\"qint8\", np.int8, 1)])\n",
      "C:\\Anaconda\\envs\\dhdsblend\\lib\\site-packages\\tensorflow\\python\\framework\\dtypes.py:517: FutureWarning: Passing (type, 1) or '1type' as a synonym of type is deprecated; in a future version of numpy, it will be understood as (type, (1,)) / '(1,)type'.\n",
      "  _np_quint8 = np.dtype([(\"quint8\", np.uint8, 1)])\n",
      "C:\\Anaconda\\envs\\dhdsblend\\lib\\site-packages\\tensorflow\\python\\framework\\dtypes.py:518: FutureWarning: Passing (type, 1) or '1type' as a synonym of type is deprecated; in a future version of numpy, it will be understood as (type, (1,)) / '(1,)type'.\n",
      "  _np_qint16 = np.dtype([(\"qint16\", np.int16, 1)])\n",
      "C:\\Anaconda\\envs\\dhdsblend\\lib\\site-packages\\tensorflow\\python\\framework\\dtypes.py:519: FutureWarning: Passing (type, 1) or '1type' as a synonym of type is deprecated; in a future version of numpy, it will be understood as (type, (1,)) / '(1,)type'.\n",
      "  _np_quint16 = np.dtype([(\"quint16\", np.uint16, 1)])\n",
      "C:\\Anaconda\\envs\\dhdsblend\\lib\\site-packages\\tensorflow\\python\\framework\\dtypes.py:520: FutureWarning: Passing (type, 1) or '1type' as a synonym of type is deprecated; in a future version of numpy, it will be understood as (type, (1,)) / '(1,)type'.\n",
      "  _np_qint32 = np.dtype([(\"qint32\", np.int32, 1)])\n",
      "C:\\Anaconda\\envs\\dhdsblend\\lib\\site-packages\\tensorflow\\python\\framework\\dtypes.py:525: FutureWarning: Passing (type, 1) or '1type' as a synonym of type is deprecated; in a future version of numpy, it will be understood as (type, (1,)) / '(1,)type'.\n",
      "  np_resource = np.dtype([(\"resource\", np.ubyte, 1)])\n",
      "C:\\Anaconda\\envs\\dhdsblend\\lib\\site-packages\\tensorboard\\compat\\tensorflow_stub\\dtypes.py:541: FutureWarning: Passing (type, 1) or '1type' as a synonym of type is deprecated; in a future version of numpy, it will be understood as (type, (1,)) / '(1,)type'.\n",
      "  _np_qint8 = np.dtype([(\"qint8\", np.int8, 1)])\n",
      "C:\\Anaconda\\envs\\dhdsblend\\lib\\site-packages\\tensorboard\\compat\\tensorflow_stub\\dtypes.py:542: FutureWarning: Passing (type, 1) or '1type' as a synonym of type is deprecated; in a future version of numpy, it will be understood as (type, (1,)) / '(1,)type'.\n",
      "  _np_quint8 = np.dtype([(\"quint8\", np.uint8, 1)])\n",
      "C:\\Anaconda\\envs\\dhdsblend\\lib\\site-packages\\tensorboard\\compat\\tensorflow_stub\\dtypes.py:543: FutureWarning: Passing (type, 1) or '1type' as a synonym of type is deprecated; in a future version of numpy, it will be understood as (type, (1,)) / '(1,)type'.\n",
      "  _np_qint16 = np.dtype([(\"qint16\", np.int16, 1)])\n",
      "C:\\Anaconda\\envs\\dhdsblend\\lib\\site-packages\\tensorboard\\compat\\tensorflow_stub\\dtypes.py:544: FutureWarning: Passing (type, 1) or '1type' as a synonym of type is deprecated; in a future version of numpy, it will be understood as (type, (1,)) / '(1,)type'.\n",
      "  _np_quint16 = np.dtype([(\"quint16\", np.uint16, 1)])\n",
      "C:\\Anaconda\\envs\\dhdsblend\\lib\\site-packages\\tensorboard\\compat\\tensorflow_stub\\dtypes.py:545: FutureWarning: Passing (type, 1) or '1type' as a synonym of type is deprecated; in a future version of numpy, it will be understood as (type, (1,)) / '(1,)type'.\n",
      "  _np_qint32 = np.dtype([(\"qint32\", np.int32, 1)])\n",
      "C:\\Anaconda\\envs\\dhdsblend\\lib\\site-packages\\tensorboard\\compat\\tensorflow_stub\\dtypes.py:550: FutureWarning: Passing (type, 1) or '1type' as a synonym of type is deprecated; in a future version of numpy, it will be understood as (type, (1,)) / '(1,)type'.\n",
      "  np_resource = np.dtype([(\"resource\", np.ubyte, 1)])\n"
     ]
    }
   ],
   "source": [
    "#Importamos lo que necesitamos para la red\n",
    "from tensorflow.keras.models import Sequential\n",
    "from tensorflow.keras.wrappers.scikit_learn import KerasClassifier\n",
    "from tensorflow.keras.callbacks import EarlyStopping, ReduceLROnPlateau, ModelCheckpoint\n",
    "from tensorflow.keras.layers import Dense, Dropout\n",
    "from tensorflow.keras import regularizers"
   ]
  },
  {
   "cell_type": "code",
   "execution_count": 59,
   "metadata": {
    "colab": {
     "base_uri": "https://localhost:8080/",
     "height": 187
    },
    "id": "fqV1BJAON1cJ",
    "outputId": "18772d55-8d9a-4d3d-87c3-7983638eec8b"
   },
   "outputs": [
    {
     "data": {
      "text/plain": [
       "Index([     'subject_News',  'subject_politics', 'subject_worldnews',\n",
       "               'month_Apr',         'month_Aug',         'month_Dec',\n",
       "               'month_Feb',         'month_Jan',         'month_Jul',\n",
       "               'month_Jun',\n",
       "       ...\n",
       "                     14990,               14991,               14992,\n",
       "                     14993,               14994,               14995,\n",
       "                     14996,               14997,               14998,\n",
       "                     14999],\n",
       "      dtype='object', length=15018)"
      ]
     },
     "execution_count": 59,
     "metadata": {},
     "output_type": "execute_result"
    }
   ],
   "source": [
    "X_train.shape,X_train.shape[1]\n",
    "X_train.columns"
   ]
  },
  {
   "cell_type": "markdown",
   "metadata": {},
   "source": [
    "## Modelo 1: simple, sin callbacks ni regularizacion"
   ]
  },
  {
   "cell_type": "code",
   "execution_count": 94,
   "metadata": {
    "colab": {
     "base_uri": "https://localhost:8080/",
     "height": 255
    },
    "id": "CAhBIBvbGtwj",
    "outputId": "778c70ae-1c7e-44ae-ad5b-6e49f26325ad"
   },
   "outputs": [
    {
     "name": "stdout",
     "output_type": "stream",
     "text": [
      "Model: \"sequential_23\"\n",
      "_________________________________________________________________\n",
      "Layer (type)                 Output Shape              Param #   \n",
      "=================================================================\n",
      "dense_65 (Dense)             (None, 15)                225285    \n",
      "_________________________________________________________________\n",
      "dense_66 (Dense)             (None, 10)                160       \n",
      "_________________________________________________________________\n",
      "dense_67 (Dense)             (None, 1)                 11        \n",
      "=================================================================\n",
      "Total params: 225,456\n",
      "Trainable params: 225,456\n",
      "Non-trainable params: 0\n",
      "_________________________________________________________________\n"
     ]
    }
   ],
   "source": [
    "#Primero probamos una red neuronal sin callbacks con dos capas para ver como performa\n",
    "model= Sequential()\n",
    "model.add(Dense(15,activation='relu',input_shape=(15018,)))\n",
    "model.add(Dense(10,activation='sigmoid'))\n",
    "model.add(Dense(1,activation='sigmoid'))\n",
    "model.summary()"
   ]
  },
  {
   "cell_type": "code",
   "execution_count": 101,
   "metadata": {},
   "outputs": [
    {
     "data": {
      "image/png": "[encoded data removed]",
      "text/plain": [
       "<IPython.core.display.Image object>"
      ]
     },
     "execution_count": 101,
     "metadata": {},
     "output_type": "execute_result"
    }
   ],
   "source": [
    "import tensorflow\n",
    "from keras.utils.vis_utils import plot_model\n",
    "tensorflow.keras.utils.plot_model(model, to_file='model1_plot.png', show_shapes=True, show_layer_names=True)"
   ]
  },
  {
   "cell_type": "code",
   "execution_count": 61,
   "metadata": {
    "id": "OTQ5mxobHdL1"
   },
   "outputs": [
    {
     "name": "stdout",
     "output_type": "stream",
     "text": [
      "WARNING:tensorflow:From C:\\Anaconda\\envs\\dhdsblend\\lib\\site-packages\\tensorflow\\python\\ops\\nn_impl.py:180: add_dispatch_support.<locals>.wrapper (from tensorflow.python.ops.array_ops) is deprecated and will be removed in a future version.\n",
      "Instructions for updating:\n",
      "Use tf.where in 2.0, which has the same broadcast rule as np.where\n"
     ]
    }
   ],
   "source": [
    "#Compilamos el modelo\n",
    "model.compile(optimizer='rmsprop',\n",
    "              loss='binary_crossentropy',\n",
    "              metrics=['accuracy'])"
   ]
  },
  {
   "cell_type": "code",
   "execution_count": 62,
   "metadata": {
    "id": "44cq57gIHzh3"
   },
   "outputs": [
    {
     "name": "stdout",
     "output_type": "stream",
     "text": [
      "Train on 29016 samples, validate on 5803 samples\n",
      "Epoch 1/15\n",
      "29016/29016 [==============================] - 64s 2ms/sample - loss: 0.3821 - acc: 0.9315 - val_loss: 0.2647 - val_acc: 0.9807\n",
      "Epoch 2/15\n",
      "29016/29016 [==============================] - 52s 2ms/sample - loss: 0.2083 - acc: 0.9889 - val_loss: 0.1788 - val_acc: 0.9871\n",
      "Epoch 3/15\n",
      "29016/29016 [==============================] - 42s 1ms/sample - loss: 0.1431 - acc: 0.9948 - val_loss: 0.1334 - val_acc: 0.9897\n",
      "Epoch 4/15\n",
      "29016/29016 [==============================] - 47s 2ms/sample - loss: 0.1053 - acc: 0.9973 - val_loss: 0.1037 - val_acc: 0.9900\n",
      "Epoch 5/15\n",
      "29016/29016 [==============================] - 52s 2ms/sample - loss: 0.0784 - acc: 0.9982 - val_loss: 0.0830 - val_acc: 0.9912\n",
      "Epoch 6/15\n",
      "29016/29016 [==============================] - 43s 1ms/sample - loss: 0.0592 - acc: 0.9989 - val_loss: 0.0692 - val_acc: 0.9912\n",
      "Epoch 7/15\n",
      "29016/29016 [==============================] - 42s 1ms/sample - loss: 0.0449 - acc: 0.9992 - val_loss: 0.0586 - val_acc: 0.9919\n",
      "Epoch 8/15\n",
      "29016/29016 [==============================] - 42s 1ms/sample - loss: 0.0342 - acc: 0.9995 - val_loss: 0.0528 - val_acc: 0.9910\n",
      "Epoch 9/15\n",
      "29016/29016 [==============================] - 42s 1ms/sample - loss: 0.0263 - acc: 0.9996 - val_loss: 0.0485 - val_acc: 0.9907\n",
      "Epoch 10/15\n",
      "29016/29016 [==============================] - 42s 1ms/sample - loss: 0.0203 - acc: 0.9996 - val_loss: 0.0458 - val_acc: 0.9912\n",
      "Epoch 11/15\n",
      "29016/29016 [==============================] - 42s 1ms/sample - loss: 0.0159 - acc: 0.9996 - val_loss: 0.0438 - val_acc: 0.9909\n",
      "Epoch 12/15\n",
      "29016/29016 [==============================] - 41s 1ms/sample - loss: 0.0125 - acc: 0.9997 - val_loss: 0.0428 - val_acc: 0.9909\n",
      "Epoch 13/15\n",
      "29016/29016 [==============================] - 44s 2ms/sample - loss: 0.0098 - acc: 0.9997 - val_loss: 0.0426 - val_acc: 0.9905\n",
      "Epoch 14/15\n",
      "29016/29016 [==============================] - 47s 2ms/sample - loss: 0.0079 - acc: 0.9997 - val_loss: 0.0426 - val_acc: 0.9910\n",
      "Epoch 15/15\n",
      "29016/29016 [==============================] - 49s 2ms/sample - loss: 0.0065 - acc: 0.9997 - val_loss: 0.0438 - val_acc: 0.9907\n"
     ]
    }
   ],
   "source": [
    "#Entrenamos el modelo sin callbacks\n",
    "history=model.fit(x=X_train,y=y_train,\n",
    "                 epochs=15,batch_size=512,validation_data=(X_val,y_val))"
   ]
  },
  {
   "cell_type": "code",
   "execution_count": 63,
   "metadata": {
    "colab": {
     "base_uri": "https://localhost:8080/",
     "height": 34
    },
    "id": "bcNhS_H6ILz2",
    "outputId": "8eb47673-b593-40de-9bd7-0a02110730d0"
   },
   "outputs": [
    {
     "data": {
      "text/plain": [
       "dict_keys(['loss', 'acc', 'val_loss', 'val_acc'])"
      ]
     },
     "execution_count": 63,
     "metadata": {},
     "output_type": "execute_result"
    }
   ],
   "source": [
    "history_dict=history.history\n",
    "history_dict.keys()"
   ]
  },
  {
   "cell_type": "code",
   "execution_count": 64,
   "metadata": {
    "id": "12msZWGEIIuj"
   },
   "outputs": [
    {
     "data": {
      "image/png": "[encoded data removed]",
      "text/plain": [
       "<Figure size 864x576 with 1 Axes>"
      ]
     },
     "metadata": {},
     "output_type": "display_data"
    },
    {
     "data": {
      "image/png": "[encoded data removed]",
      "text/plain": [
       "<Figure size 864x576 with 1 Axes>"
      ]
     },
     "metadata": {},
     "output_type": "display_data"
    }
   ],
   "source": [
    "acc=history.history['acc']\n",
    "val_loss=history.history['val_loss']\n",
    "loss=history.history['loss']\n",
    "val_acc=history.history['val_acc']\n",
    "epochs = range(1, len(acc) + 1)\n",
    "\n",
    "plt.figure(figsize=(12,8))\n",
    "plt.title('Modelo de base')\n",
    "plt.plot(epochs,loss)\n",
    "plt.plot(epochs,val_loss)\n",
    "plt.xticks(ticks=epochs)\n",
    "plt.ylabel('Loss')\n",
    "plt.xlabel('Epochs')\n",
    "plt.legend(['Training loss','Validation Loss'])\n",
    "\n",
    "plt.figure(figsize=(12,8))\n",
    "plt.plot(epochs,acc)\n",
    "plt.plot(epochs,val_acc)\n",
    "plt.xticks(ticks=epochs)\n",
    "plt.xlabel('Epochs')\n",
    "plt.ylabel('Accuracy')\n",
    "plt.legend(['Training Accuracy','Validation Accuracy']);"
   ]
  },
  {
   "cell_type": "code",
   "execution_count": 65,
   "metadata": {},
   "outputs": [
    {
     "name": "stdout",
     "output_type": "stream",
     "text": [
      "29016/29016 [==============================] - 47s 2ms/sample - loss: 0.0059 - acc: 0.9997\n",
      "99.96898174285889\n",
      "3869/3869 [==============================] - 4s 994us/sample - loss: 0.0382 - acc: 0.9912\n",
      "99.12121891975403\n"
     ]
    }
   ],
   "source": [
    "#Vemos como performa con el set de test\n",
    "res_1_train=model.evaluate(X_train,y_train)[1]*100\n",
    "print(res_1_train)\n",
    "res_1_test=model.evaluate(X_test,y_test)[1]*100\n",
    "print(res_1_test)\n"
   ]
  },
  {
   "cell_type": "markdown",
   "metadata": {},
   "source": [
    "## Modelo 2: Simple, sin callbacks con regularizacion y dropout"
   ]
  },
  {
   "cell_type": "code",
   "execution_count": 66,
   "metadata": {},
   "outputs": [
    {
     "name": "stdout",
     "output_type": "stream",
     "text": [
      "Model: \"sequential_1\"\n",
      "_________________________________________________________________\n",
      "Layer (type)                 Output Shape              Param #   \n",
      "=================================================================\n",
      "dense_3 (Dense)              (None, 15)                225285    \n",
      "_________________________________________________________________\n",
      "dropout (Dropout)            (None, 15)                0         \n",
      "_________________________________________________________________\n",
      "dense_4 (Dense)              (None, 10)                160       \n",
      "_________________________________________________________________\n",
      "dense_5 (Dense)              (None, 1)                 11        \n",
      "=================================================================\n",
      "Total params: 225,456\n",
      "Trainable params: 225,456\n",
      "Non-trainable params: 0\n",
      "_________________________________________________________________\n"
     ]
    }
   ],
   "source": [
    "dropout_rate=0.2\n",
    "\n",
    "model2=Sequential()\n",
    "model2.add(Dense(15,activation='relu',input_shape=(X_train.shape[1],),kernel_regularizer=regularizers.l1(0.001)))\n",
    "model2.add(Dropout(dropout_rate))\n",
    "model2.add(Dense(10,activation='sigmoid',kernel_regularizer=regularizers.l1(0.001)))\n",
    "model2.add(Dense(1,activation='sigmoid'))\n",
    "\n",
    "model2.summary()"
   ]
  },
  {
   "cell_type": "code",
   "execution_count": 102,
   "metadata": {},
   "outputs": [
    {
     "data": {
      "image/png": "[encoded data removed]",
      "text/plain": [
       "<IPython.core.display.Image object>"
      ]
     },
     "execution_count": 102,
     "metadata": {},
     "output_type": "execute_result"
    }
   ],
   "source": [
    "tensorflow.keras.utils.plot_model(model2, to_file='model2_plot.png', show_shapes=True, show_layer_names=True)"
   ]
  },
  {
   "cell_type": "code",
   "execution_count": 67,
   "metadata": {},
   "outputs": [],
   "source": [
    "model2.compile(optimizer='rmsprop',loss='binary_crossentropy',metrics=['accuracy'])"
   ]
  },
  {
   "cell_type": "code",
   "execution_count": 78,
   "metadata": {},
   "outputs": [
    {
     "name": "stdout",
     "output_type": "stream",
     "text": [
      "Train on 29016 samples, validate on 5803 samples\n",
      "Epoch 1/15\n",
      "29016/29016 [==============================] - 59s 2ms/sample - loss: 0.1829 - acc: 0.9949 - val_loss: 0.1739 - val_acc: 0.9967\n",
      "Epoch 2/15\n",
      "29016/29016 [==============================] - 45s 2ms/sample - loss: 0.1829 - acc: 0.9951 - val_loss: 0.1760 - val_acc: 0.9967\n",
      "Epoch 3/15\n",
      "29016/29016 [==============================] - 50s 2ms/sample - loss: 0.1838 - acc: 0.9949 - val_loss: 0.1787 - val_acc: 0.9967\n",
      "Epoch 4/15\n",
      "29016/29016 [==============================] - 46s 2ms/sample - loss: 0.1826 - acc: 0.9950 - val_loss: 0.1770 - val_acc: 0.9967\n",
      "Epoch 5/15\n",
      "29016/29016 [==============================] - 49s 2ms/sample - loss: 0.1816 - acc: 0.9951 - val_loss: 0.1739 - val_acc: 0.9966\n",
      "Epoch 6/15\n",
      "29016/29016 [==============================] - 54s 2ms/sample - loss: 0.1819 - acc: 0.9950 - val_loss: 0.1845 - val_acc: 0.9967\n",
      "Epoch 7/15\n",
      "29016/29016 [==============================] - 44s 2ms/sample - loss: 0.1825 - acc: 0.9948 - val_loss: 0.1727 - val_acc: 0.9960\n",
      "Epoch 8/15\n",
      "29016/29016 [==============================] - 43s 1ms/sample - loss: 0.1818 - acc: 0.9945 - val_loss: 0.1765 - val_acc: 0.9967\n",
      "Epoch 9/15\n",
      "29016/29016 [==============================] - 43s 1ms/sample - loss: 0.1802 - acc: 0.9946 - val_loss: 0.1739 - val_acc: 0.9967\n",
      "Epoch 10/15\n",
      "29016/29016 [==============================] - 44s 2ms/sample - loss: 0.1806 - acc: 0.9944 - val_loss: 0.1730 - val_acc: 0.9967\n",
      "Epoch 11/15\n",
      "29016/29016 [==============================] - 43s 1ms/sample - loss: 0.1809 - acc: 0.9947 - val_loss: 0.1688 - val_acc: 0.9967\n",
      "Epoch 12/15\n",
      "29016/29016 [==============================] - 46s 2ms/sample - loss: 0.1806 - acc: 0.9944 - val_loss: 0.1724 - val_acc: 0.9964\n",
      "Epoch 13/15\n",
      "29016/29016 [==============================] - 41s 1ms/sample - loss: 0.1803 - acc: 0.9948 - val_loss: 0.1754 - val_acc: 0.9967\n",
      "Epoch 14/15\n",
      "29016/29016 [==============================] - 41s 1ms/sample - loss: 0.1799 - acc: 0.9946 - val_loss: 0.1829 - val_acc: 0.9966\n",
      "Epoch 15/15\n",
      "29016/29016 [==============================] - 43s 1ms/sample - loss: 0.1800 - acc: 0.9947 - val_loss: 0.1751 - val_acc: 0.9967\n",
      "--- 11.985299678643544 minutes ---\n"
     ]
    }
   ],
   "source": [
    "tok=time.time()\n",
    "history2=model2.fit(X_train,\n",
    "                   y_train,\n",
    "                   epochs=15,\n",
    "                   batch_size=512,\n",
    "                   validation_data=(X_val,y_val))\n",
    "tiempo=(time.time()-tok)/60\n",
    "print('--- %s minutes ---' % tiempo)"
   ]
  },
  {
   "cell_type": "code",
   "execution_count": 69,
   "metadata": {},
   "outputs": [
    {
     "data": {
      "text/plain": [
       "dict_keys(['loss', 'acc', 'val_loss', 'val_acc'])"
      ]
     },
     "execution_count": 69,
     "metadata": {},
     "output_type": "execute_result"
    }
   ],
   "source": [
    "history2_dict=history2.history\n",
    "history2_dict.keys()"
   ]
  },
  {
   "cell_type": "code",
   "execution_count": 70,
   "metadata": {},
   "outputs": [
    {
     "data": {
      "image/png": "[encoded data removed]",
      "text/plain": [
       "<Figure size 864x576 with 1 Axes>"
      ]
     },
     "metadata": {},
     "output_type": "display_data"
    },
    {
     "data": {
      "image/png": "[encoded data removed]",
      "text/plain": [
       "<Figure size 864x576 with 1 Axes>"
      ]
     },
     "metadata": {},
     "output_type": "display_data"
    }
   ],
   "source": [
    "acc=history2.history['acc']\n",
    "val_loss=history2.history['val_loss']\n",
    "loss=history2.history['loss']\n",
    "val_acc=history2.history['val_acc']\n",
    "epochs = range(1, len(acc) + 1)\n",
    "\n",
    "plt.figure(figsize=(12,8))\n",
    "plt.title('Modelo de base')\n",
    "plt.plot(epochs,loss)\n",
    "plt.plot(epochs,val_loss)\n",
    "plt.xticks(ticks=epochs)\n",
    "plt.ylabel('Loss')\n",
    "plt.xlabel('Epochs')\n",
    "plt.legend(['Training loss','Validation Loss'])\n",
    "\n",
    "plt.figure(figsize=(12,8))\n",
    "plt.plot(epochs,acc)\n",
    "plt.plot(epochs,val_acc)\n",
    "plt.xticks(ticks=epochs)\n",
    "plt.xlabel('Epochs')\n",
    "plt.ylabel('Accuracy')\n",
    "plt.legend(['Training Accuracy','Validation Accuracy']);"
   ]
  },
  {
   "cell_type": "code",
   "execution_count": 71,
   "metadata": {},
   "outputs": [
    {
     "name": "stdout",
     "output_type": "stream",
     "text": [
      "29016/29016 [==============================] - 57s 2ms/sample - loss: 0.2124 - acc: 0.9957\n",
      "99.5726466178894\n",
      "3869/3869 [==============================] - 4s 1ms/sample - loss: 0.2112 - acc: 0.9961\n",
      "99.61230158805847\n"
     ]
    }
   ],
   "source": [
    "## Vemos como performa con el set de test\n",
    "res_2_train=model2.evaluate(X_train,y_train)[1]*100\n",
    "print(res_2_train)\n",
    "res_2_test=model2.evaluate(X_test,y_test)[1]*100\n",
    "print(res_2_test)"
   ]
  },
  {
   "cell_type": "code",
   "execution_count": 72,
   "metadata": {},
   "outputs": [
    {
     "data": {
      "text/html": [
       "<div>\n",
       "<style scoped>\n",
       "    .dataframe tbody tr th:only-of-type {\n",
       "        vertical-align: middle;\n",
       "    }\n",
       "\n",
       "    .dataframe tbody tr th {\n",
       "        vertical-align: top;\n",
       "    }\n",
       "\n",
       "    .dataframe thead th {\n",
       "        text-align: right;\n",
       "    }\n",
       "</style>\n",
       "<table border=\"1\" class=\"dataframe\">\n",
       "  <thead>\n",
       "    <tr style=\"text-align: right;\">\n",
       "      <th></th>\n",
       "      <th>Model</th>\n",
       "      <th>Train Acc</th>\n",
       "      <th>Test Acc</th>\n",
       "      <th>Train Acc - Test Acc</th>\n",
       "    </tr>\n",
       "  </thead>\n",
       "  <tbody>\n",
       "    <tr>\n",
       "      <th>1</th>\n",
       "      <td>Modelo 1</td>\n",
       "      <td>99.969</td>\n",
       "      <td>99.1212</td>\n",
       "      <td>0.847763</td>\n",
       "    </tr>\n",
       "    <tr>\n",
       "      <th>2</th>\n",
       "      <td>Modelo 2</td>\n",
       "      <td>99.5726</td>\n",
       "      <td>99.6123</td>\n",
       "      <td>-0.039655</td>\n",
       "    </tr>\n",
       "  </tbody>\n",
       "</table>\n",
       "</div>"
      ],
      "text/plain": [
       "      Model Train Acc Test Acc Train Acc - Test Acc\n",
       "1  Modelo 1    99.969  99.1212             0.847763\n",
       "2  Modelo 2   99.5726  99.6123            -0.039655"
      ]
     },
     "execution_count": 72,
     "metadata": {},
     "output_type": "execute_result"
    }
   ],
   "source": [
    "#Creamos un DataFrame para ir almacenando la informacion de los modelos\n",
    "df_Results=pd.DataFrame(columns=['Model','Train Acc','Test Acc','Train Acc - Test Acc'])\n",
    "\n",
    "df_Results.loc[1,'Model']='Modelo 1'\n",
    "df_Results.loc[1,'Train Acc']=res_1_train\n",
    "df_Results.loc[1,'Test Acc']=res_1_test\n",
    "df_Results.loc[1,'Train Acc - Test Acc']=res_1_train-res_1_test\n",
    "\n",
    "df_Results.loc[2,'Model']='Modelo 2'\n",
    "df_Results.loc[2,'Train Acc']=res_2_train\n",
    "df_Results.loc[2,'Test Acc']=res_2_test\n",
    "df_Results.loc[2,'Train Acc - Test Acc']=res_2_train-res_2_test\n",
    "\n",
    "df_Results"
   ]
  },
  {
   "cell_type": "markdown",
   "metadata": {},
   "source": [
    "## Modelo 3: Con callbacks y regularizacion y RandomizedSearch"
   ]
  },
  {
   "cell_type": "code",
   "execution_count": 79,
   "metadata": {},
   "outputs": [],
   "source": [
    "def model3(train_data=X_train,units=256,dropout_rate=0.2):\n",
    "    model3=Sequential()\n",
    "    model3.add(Dense(units,activation='relu',input_shape=(15018,),\n",
    "                    kernel_regularizer=regularizers.l1(0.001)))\n",
    "    model3.add(Dropout(dropout_rate))\n",
    "    model3.add(Dense(units,activation='sigmoid',kernel_regularizer=regularizers.l1(0.001)))\n",
    "    model3.add(Dense(1,activation='sigmoid'))\n",
    "    \n",
    "    model3.compile(optimizer='rmsprop',loss='binary_crossentropy',metrics=['accuracy'])\n",
    "    return model3"
   ]
  },
  {
   "cell_type": "code",
   "execution_count": 80,
   "metadata": {},
   "outputs": [],
   "source": [
    "wrapper = KerasClassifier(model3,batch_size=512,epochs=15,verbose=1)"
   ]
  },
  {
   "cell_type": "code",
   "execution_count": 81,
   "metadata": {},
   "outputs": [],
   "source": [
    "from sklearn.model_selection import RandomizedSearchCV\n",
    "params={'units':[10,25,50],\n",
    "       'dropout_rate':[0.4,0.5]}\n",
    "\n",
    "grid=RandomizedSearchCV(wrapper,params,cv=3)"
   ]
  },
  {
   "cell_type": "code",
   "execution_count": 82,
   "metadata": {},
   "outputs": [
    {
     "name": "stderr",
     "output_type": "stream",
     "text": [
      "C:\\Anaconda\\envs\\dhdsblend\\lib\\site-packages\\sklearn\\model_selection\\_search.py:282: UserWarning: The total space of parameters 6 is smaller than n_iter=10. Running 6 iterations. For exhaustive searches, use GridSearchCV.\n",
      "  % (grid_size, self.n_iter, grid_size), UserWarning)\n"
     ]
    },
    {
     "name": "stdout",
     "output_type": "stream",
     "text": [
      "Train on 15475 samples, validate on 3869 samples\n",
      "Epoch 1/40\n",
      "15475/15475 [==============================] - 24s 2ms/sample - loss: 0.8923 - acc: 0.6969 - val_loss: 0.6434 - val_acc: 0.8325\n",
      "Epoch 2/40\n",
      "15475/15475 [==============================] - 26s 2ms/sample - loss: 0.6229 - acc: 0.8644 - val_loss: 0.5528 - val_acc: 0.9509\n",
      "Epoch 3/40\n",
      "15475/15475 [==============================] - 23s 2ms/sample - loss: 0.5561 - acc: 0.9296 - val_loss: 0.4895 - val_acc: 0.9749\n",
      "Epoch 4/40\n",
      "15475/15475 [==============================] - 24s 2ms/sample - loss: 0.5023 - acc: 0.9552 - val_loss: 0.4404 - val_acc: 0.9757\n",
      "Epoch 5/40\n",
      "15475/15475 [==============================] - 24s 2ms/sample - loss: 0.4573 - acc: 0.9634 - val_loss: 0.3970 - val_acc: 0.9785\n",
      "Epoch 6/40\n",
      "15475/15475 [==============================] - 23s 2ms/sample - loss: 0.4190 - acc: 0.9693 - val_loss: 0.3641 - val_acc: 0.9791\n",
      "Epoch 7/40\n",
      "15475/15475 [==============================] - 24s 2ms/sample - loss: 0.3875 - acc: 0.9712 - val_loss: 0.3354 - val_acc: 0.9837\n",
      "Epoch 8/40\n",
      "15475/15475 [==============================] - 24s 2ms/sample - loss: 0.3584 - acc: 0.9750 - val_loss: 0.3112 - val_acc: 0.9848\n",
      "Epoch 9/40\n",
      "15475/15475 [==============================] - 24s 2ms/sample - loss: 0.3353 - acc: 0.9786 - val_loss: 0.2910 - val_acc: 0.9873\n",
      "Epoch 10/40\n",
      "15475/15475 [==============================] - 24s 2ms/sample - loss: 0.3127 - acc: 0.9823 - val_loss: 0.2860 - val_acc: 0.9835\n",
      "Epoch 11/40\n",
      "15475/15475 [==============================] - 24s 2ms/sample - loss: 0.2978 - acc: 0.9828 - val_loss: 0.2614 - val_acc: 0.9868\n",
      "Epoch 12/40\n",
      "15475/15475 [==============================] - 24s 2ms/sample - loss: 0.2837 - acc: 0.9844 - val_loss: 0.2463 - val_acc: 0.9884\n",
      "Epoch 13/40\n",
      "15475/15475 [==============================] - 23s 2ms/sample - loss: 0.2700 - acc: 0.9857 - val_loss: 0.2346 - val_acc: 0.9902\n",
      "Epoch 14/40\n",
      "15475/15475 [==============================] - 23s 2ms/sample - loss: 0.2565 - acc: 0.9877 - val_loss: 0.2240 - val_acc: 0.9917\n",
      "Epoch 15/40\n",
      "15475/15475 [==============================] - 24s 2ms/sample - loss: 0.2477 - acc: 0.9880 - val_loss: 0.2182 - val_acc: 0.9933\n",
      "Epoch 16/40\n",
      "15475/15475 [==============================] - 28s 2ms/sample - loss: 0.2387 - acc: 0.9900 - val_loss: 0.2043 - val_acc: 0.9935\n",
      "Epoch 17/40\n",
      "15475/15475 [==============================] - 25s 2ms/sample - loss: 0.2290 - acc: 0.9910 - val_loss: 0.2073 - val_acc: 0.9938\n",
      "Epoch 18/40\n",
      "15475/15475 [==============================] - 24s 2ms/sample - loss: 0.2252 - acc: 0.9906 - val_loss: 0.1974 - val_acc: 0.9953\n",
      "Epoch 19/40\n",
      "15475/15475 [==============================] - 24s 2ms/sample - loss: 0.2189 - acc: 0.9913 - val_loss: 0.1936 - val_acc: 0.9951\n",
      "Epoch 20/40\n",
      "15475/15475 [==============================] - 23s 1ms/sample - loss: 0.2122 - acc: 0.9919 - val_loss: 0.1859 - val_acc: 0.9964\n",
      "Epoch 21/40\n",
      "15475/15475 [==============================] - 23s 1ms/sample - loss: 0.2079 - acc: 0.9911 - val_loss: 0.1909 - val_acc: 0.9943\n",
      "Epoch 22/40\n",
      "15475/15475 [==============================] - 23s 1ms/sample - loss: 0.2060 - acc: 0.9924 - val_loss: 0.1789 - val_acc: 0.9948\n",
      "Epoch 23/40\n",
      "15475/15475 [==============================] - 23s 1ms/sample - loss: 0.1995 - acc: 0.9928 - val_loss: 0.1772 - val_acc: 0.9951\n",
      "Epoch 24/40\n",
      "15475/15475 [==============================] - 23s 1ms/sample - loss: 0.1964 - acc: 0.9929 - val_loss: 0.1773 - val_acc: 0.9959\n",
      "Epoch 25/40\n",
      "15475/15475 [==============================] - 23s 1ms/sample - loss: 0.1957 - acc: 0.9924 - val_loss: 0.1696 - val_acc: 0.9953\n",
      "Epoch 26/40\n",
      "15475/15475 [==============================] - 23s 1ms/sample - loss: 0.1905 - acc: 0.9931 - val_loss: 0.1716 - val_acc: 0.9959\n",
      "Epoch 27/40\n",
      "15475/15475 [==============================] - 23s 1ms/sample - loss: 0.1914 - acc: 0.9918 - val_loss: 0.1650 - val_acc: 0.9959\n",
      "Epoch 28/40\n",
      "15475/15475 [==============================] - 23s 1ms/sample - loss: 0.1883 - acc: 0.9922 - val_loss: 0.1747 - val_acc: 0.9961\n",
      "Epoch 29/40\n",
      "15475/15475 [==============================] - 23s 1ms/sample - loss: 0.1885 - acc: 0.9922 - val_loss: 0.1628 - val_acc: 0.9961\n",
      "Epoch 30/40\n",
      "15475/15475 [==============================] - 24s 2ms/sample - loss: 0.1834 - acc: 0.9922 - val_loss: 0.1629 - val_acc: 0.9959\n",
      "Epoch 31/40\n",
      "15475/15475 [==============================] - 23s 1ms/sample - loss: 0.1847 - acc: 0.9905 - val_loss: 0.1611 - val_acc: 0.9959\n",
      "Epoch 32/40\n",
      "15475/15475 [==============================] - 23s 1ms/sample - loss: 0.1815 - acc: 0.9911 - val_loss: 0.1596 - val_acc: 0.9959\n",
      "Epoch 33/40\n",
      "15475/15475 [==============================] - 23s 1ms/sample - loss: 0.1796 - acc: 0.9922 - val_loss: 0.1624 - val_acc: 0.9959\n",
      "Epoch 34/40\n",
      "15475/15475 [==============================] - 23s 1ms/sample - loss: 0.1788 - acc: 0.9919 - val_loss: 0.1596 - val_acc: 0.9953\n",
      "Epoch 35/40\n",
      "15475/15475 [==============================] - 23s 1ms/sample - loss: 0.1798 - acc: 0.9909 - val_loss: 0.1556 - val_acc: 0.9951\n",
      "Epoch 36/40\n",
      "15475/15475 [==============================] - 23s 1ms/sample - loss: 0.1755 - acc: 0.9921 - val_loss: 0.1595 - val_acc: 0.9959\n",
      "Epoch 37/40\n",
      "15475/15475 [==============================] - 23s 1ms/sample - loss: 0.1773 - acc: 0.9907 - val_loss: 0.1599 - val_acc: 0.9959\n",
      "Epoch 38/40\n",
      "15360/15475 [============================>.] - ETA: 0s - loss: 0.1743 - acc: 0.9912\n",
      "Epoch 00038: ReduceLROnPlateau reducing learning rate to 0.00010000000474974513.\n",
      "15475/15475 [==============================] - 23s 1ms/sample - loss: 0.1741 - acc: 0.9913 - val_loss: 0.1557 - val_acc: 0.9951\n",
      "Epoch 39/40\n",
      "15475/15475 [==============================] - 23s 1ms/sample - loss: 0.1138 - acc: 0.9922 - val_loss: 0.0863 - val_acc: 0.9956\n",
      "Epoch 40/40\n",
      "15475/15475 [==============================] - 23s 1ms/sample - loss: 0.1041 - acc: 0.9913 - val_loss: 0.0854 - val_acc: 0.9953\n",
      "9672/9672 [==============================] - 8s 840us/sample - loss: 0.0867 - acc: 0.9956\n",
      "Train on 15475 samples, validate on 3869 samples\n",
      "Epoch 1/40\n",
      "15475/15475 [==============================] - 24s 2ms/sample - loss: 0.9081 - acc: 0.6850 - val_loss: 0.6440 - val_acc: 0.8930\n",
      "Epoch 2/40\n",
      "15475/15475 [==============================] - 23s 1ms/sample - loss: 0.6210 - acc: 0.8910 - val_loss: 0.5430 - val_acc: 0.9687\n",
      "Epoch 3/40\n",
      "15475/15475 [==============================] - 23s 1ms/sample - loss: 0.5482 - acc: 0.9389 - val_loss: 0.4751 - val_acc: 0.9747\n",
      "Epoch 4/40\n",
      "15475/15475 [==============================] - 22s 1ms/sample - loss: 0.4896 - acc: 0.9559 - val_loss: 0.4254 - val_acc: 0.9775\n",
      "Epoch 5/40\n",
      "15475/15475 [==============================] - 23s 1ms/sample - loss: 0.4470 - acc: 0.9629 - val_loss: 0.3846 - val_acc: 0.9785\n",
      "Epoch 6/40\n",
      "15475/15475 [==============================] - 23s 1ms/sample - loss: 0.4083 - acc: 0.9650 - val_loss: 0.3556 - val_acc: 0.9796\n",
      "Epoch 7/40\n",
      "15475/15475 [==============================] - 22s 1ms/sample - loss: 0.3766 - acc: 0.9692 - val_loss: 0.3281 - val_acc: 0.9806\n",
      "Epoch 8/40\n",
      "15475/15475 [==============================] - 23s 1ms/sample - loss: 0.3517 - acc: 0.9714 - val_loss: 0.3050 - val_acc: 0.9850\n",
      "Epoch 9/40\n",
      "15475/15475 [==============================] - 23s 1ms/sample - loss: 0.3283 - acc: 0.9734 - val_loss: 0.2938 - val_acc: 0.9858\n",
      "Epoch 10/40\n",
      "15475/15475 [==============================] - 23s 1ms/sample - loss: 0.3115 - acc: 0.9751 - val_loss: 0.2714 - val_acc: 0.9858\n",
      "Epoch 11/40\n",
      "15475/15475 [==============================] - 23s 1ms/sample - loss: 0.2924 - acc: 0.9782 - val_loss: 0.2581 - val_acc: 0.9876\n",
      "Epoch 12/40\n",
      "15475/15475 [==============================] - 23s 1ms/sample - loss: 0.2774 - acc: 0.9815 - val_loss: 0.2422 - val_acc: 0.9889\n",
      "Epoch 13/40\n",
      "15475/15475 [==============================] - 23s 1ms/sample - loss: 0.2657 - acc: 0.9826 - val_loss: 0.2282 - val_acc: 0.9907\n",
      "Epoch 14/40\n",
      "15475/15475 [==============================] - 23s 2ms/sample - loss: 0.2530 - acc: 0.9839 - val_loss: 0.2226 - val_acc: 0.9920\n",
      "Epoch 15/40\n",
      "15475/15475 [==============================] - 22s 1ms/sample - loss: 0.2461 - acc: 0.9837 - val_loss: 0.2181 - val_acc: 0.9925\n",
      "Epoch 16/40\n",
      "15475/15475 [==============================] - 23s 1ms/sample - loss: 0.2378 - acc: 0.9853 - val_loss: 0.2077 - val_acc: 0.9948\n",
      "Epoch 17/40\n",
      "15475/15475 [==============================] - 23s 1ms/sample - loss: 0.2282 - acc: 0.9866 - val_loss: 0.2121 - val_acc: 0.9925\n",
      "Epoch 18/40\n",
      "15475/15475 [==============================] - 23s 1ms/sample - loss: 0.2245 - acc: 0.9858 - val_loss: 0.1938 - val_acc: 0.9953\n",
      "Epoch 19/40\n",
      "15475/15475 [==============================] - 22s 1ms/sample - loss: 0.2163 - acc: 0.9888 - val_loss: 0.1889 - val_acc: 0.9956\n",
      "Epoch 20/40\n",
      "15475/15475 [==============================] - 23s 1ms/sample - loss: 0.2123 - acc: 0.9881 - val_loss: 0.1872 - val_acc: 0.9956\n",
      "Epoch 21/40\n",
      "15475/15475 [==============================] - 23s 1ms/sample - loss: 0.2075 - acc: 0.9887 - val_loss: 0.1833 - val_acc: 0.9953\n",
      "Epoch 22/40\n",
      "15475/15475 [==============================] - 23s 1ms/sample - loss: 0.2031 - acc: 0.9887 - val_loss: 0.1795 - val_acc: 0.9953\n",
      "Epoch 23/40\n",
      "15475/15475 [==============================] - 22s 1ms/sample - loss: 0.2008 - acc: 0.9890 - val_loss: 0.1809 - val_acc: 0.9959\n",
      "Epoch 24/40\n",
      "15475/15475 [==============================] - 23s 1ms/sample - loss: 0.1981 - acc: 0.9891 - val_loss: 0.1747 - val_acc: 0.9959\n",
      "Epoch 25/40\n",
      "15475/15475 [==============================] - 23s 1ms/sample - loss: 0.1936 - acc: 0.9896 - val_loss: 0.1710 - val_acc: 0.9959\n",
      "Epoch 26/40\n",
      "15475/15475 [==============================] - 23s 1ms/sample - loss: 0.1921 - acc: 0.9891 - val_loss: 0.1709 - val_acc: 0.9956\n",
      "Epoch 27/40\n",
      "15475/15475 [==============================] - 23s 2ms/sample - loss: 0.1898 - acc: 0.9895 - val_loss: 0.1666 - val_acc: 0.9959\n",
      "Epoch 28/40\n",
      "15475/15475 [==============================] - 24s 2ms/sample - loss: 0.1862 - acc: 0.9887 - val_loss: 0.1671 - val_acc: 0.9951\n",
      "Epoch 29/40\n",
      "15475/15475 [==============================] - 23s 1ms/sample - loss: 0.1853 - acc: 0.9893 - val_loss: 0.1675 - val_acc: 0.9956\n",
      "Epoch 30/40\n",
      "15360/15475 [============================>.] - ETA: 0s - loss: 0.1839 - acc: 0.9898\n",
      "Epoch 00030: ReduceLROnPlateau reducing learning rate to 0.00010000000474974513.\n",
      "15475/15475 [==============================] - 23s 1ms/sample - loss: 0.1840 - acc: 0.9897 - val_loss: 0.1727 - val_acc: 0.9956\n",
      "Epoch 31/40\n",
      "15475/15475 [==============================] - 22s 1ms/sample - loss: 0.1304 - acc: 0.9893 - val_loss: 0.0976 - val_acc: 0.9959\n",
      "Epoch 32/40\n",
      "15475/15475 [==============================] - 23s 1ms/sample - loss: 0.1132 - acc: 0.9900 - val_loss: 0.0924 - val_acc: 0.9956\n",
      "Epoch 33/40\n",
      "15475/15475 [==============================] - 22s 1ms/sample - loss: 0.1118 - acc: 0.9883 - val_loss: 0.0917 - val_acc: 0.9956\n",
      "Epoch 34/40\n",
      "15475/15475 [==============================] - 22s 1ms/sample - loss: 0.1090 - acc: 0.9899 - val_loss: 0.0910 - val_acc: 0.9959\n",
      "Epoch 35/40\n",
      "15475/15475 [==============================] - 22s 1ms/sample - loss: 0.1091 - acc: 0.9899 - val_loss: 0.0914 - val_acc: 0.9959\n",
      "Epoch 36/40\n",
      "15475/15475 [==============================] - 23s 1ms/sample - loss: 0.1088 - acc: 0.9893 - val_loss: 0.0908 - val_acc: 0.9956\n",
      "Epoch 37/40\n",
      "15475/15475 [==============================] - 23s 1ms/sample - loss: 0.1084 - acc: 0.9893 - val_loss: 0.0906 - val_acc: 0.9956\n",
      "Epoch 38/40\n",
      "15360/15475 [============================>.] - ETA: 0s - loss: 0.1097 - acc: 0.9885Restoring model weights from the end of the best epoch.\n",
      "15475/15475 [==============================] - 24s 2ms/sample - loss: 0.1103 - acc: 0.9882 - val_loss: 0.0917 - val_acc: 0.9956\n",
      "Epoch 00038: early stopping\n",
      "9672/9672 [==============================] - 8s 827us/sample - loss: 0.0945 - acc: 0.9951\n",
      "Train on 15475 samples, validate on 3869 samples\n",
      "Epoch 1/40\n",
      "15475/15475 [==============================] - 24s 2ms/sample - loss: 0.8711 - acc: 0.7510 - val_loss: 0.6028 - val_acc: 0.9098\n",
      "Epoch 2/40\n",
      "15475/15475 [==============================] - 23s 1ms/sample - loss: 0.5788 - acc: 0.9006 - val_loss: 0.5096 - val_acc: 0.9491\n",
      "Epoch 3/40\n",
      "15475/15475 [==============================] - 23s 2ms/sample - loss: 0.5060 - acc: 0.9416 - val_loss: 0.4377 - val_acc: 0.9729\n",
      "Epoch 4/40\n",
      "15475/15475 [==============================] - 23s 1ms/sample - loss: 0.4458 - acc: 0.9581 - val_loss: 0.3871 - val_acc: 0.9734\n",
      "Epoch 5/40\n",
      "15475/15475 [==============================] - 23s 1ms/sample - loss: 0.3977 - acc: 0.9643 - val_loss: 0.3392 - val_acc: 0.9806\n",
      "Epoch 6/40\n",
      "15475/15475 [==============================] - 23s 1ms/sample - loss: 0.3618 - acc: 0.9685 - val_loss: 0.3093 - val_acc: 0.9816\n",
      "Epoch 7/40\n",
      "15475/15475 [==============================] - 23s 1ms/sample - loss: 0.3320 - acc: 0.9714 - val_loss: 0.2797 - val_acc: 0.9832\n",
      "Epoch 8/40\n",
      "15475/15475 [==============================] - 22s 1ms/sample - loss: 0.3093 - acc: 0.9749 - val_loss: 0.2667 - val_acc: 0.9858\n",
      "Epoch 9/40\n",
      "15475/15475 [==============================] - 22s 1ms/sample - loss: 0.2886 - acc: 0.9777 - val_loss: 0.2498 - val_acc: 0.9879\n",
      "Epoch 10/40\n",
      "15475/15475 [==============================] - 23s 1ms/sample - loss: 0.2731 - acc: 0.9813 - val_loss: 0.2361 - val_acc: 0.9855\n",
      "Epoch 11/40\n",
      "15475/15475 [==============================] - 23s 1ms/sample - loss: 0.2613 - acc: 0.9821 - val_loss: 0.2298 - val_acc: 0.9917\n",
      "Epoch 12/40\n",
      "15475/15475 [==============================] - 23s 1ms/sample - loss: 0.2496 - acc: 0.9826 - val_loss: 0.2180 - val_acc: 0.9910\n",
      "Epoch 13/40\n",
      "15475/15475 [==============================] - 23s 2ms/sample - loss: 0.2387 - acc: 0.9864 - val_loss: 0.2058 - val_acc: 0.9925\n",
      "Epoch 14/40\n",
      "15475/15475 [==============================] - 22s 1ms/sample - loss: 0.2326 - acc: 0.9855 - val_loss: 0.2007 - val_acc: 0.9915\n",
      "Epoch 15/40\n",
      "15475/15475 [==============================] - 22s 1ms/sample - loss: 0.2229 - acc: 0.9870 - val_loss: 0.1957 - val_acc: 0.9933\n",
      "Epoch 16/40\n",
      "15475/15475 [==============================] - 22s 1ms/sample - loss: 0.2170 - acc: 0.9879 - val_loss: 0.1921 - val_acc: 0.9948\n",
      "Epoch 17/40\n",
      "15475/15475 [==============================] - 23s 1ms/sample - loss: 0.2128 - acc: 0.9891 - val_loss: 0.1858 - val_acc: 0.9946\n",
      "Epoch 18/40\n",
      "15475/15475 [==============================] - 23s 1ms/sample - loss: 0.2073 - acc: 0.9888 - val_loss: 0.1886 - val_acc: 0.9946\n",
      "Epoch 19/40\n",
      "15475/15475 [==============================] - 23s 1ms/sample - loss: 0.2018 - acc: 0.9897 - val_loss: 0.1817 - val_acc: 0.9948\n",
      "Epoch 20/40\n",
      "15475/15475 [==============================] - 22s 1ms/sample - loss: 0.2007 - acc: 0.9894 - val_loss: 0.1801 - val_acc: 0.9951\n",
      "Epoch 21/40\n",
      "15475/15475 [==============================] - 23s 1ms/sample - loss: 0.1986 - acc: 0.9895 - val_loss: 0.1840 - val_acc: 0.9943\n",
      "Epoch 22/40\n",
      "15475/15475 [==============================] - 23s 1ms/sample - loss: 0.1960 - acc: 0.9901 - val_loss: 0.1857 - val_acc: 0.9948\n",
      "Epoch 23/40\n",
      "15475/15475 [==============================] - 23s 1ms/sample - loss: 0.1934 - acc: 0.9895 - val_loss: 0.1731 - val_acc: 0.9948\n",
      "Epoch 24/40\n",
      "15475/15475 [==============================] - 22s 1ms/sample - loss: 0.1915 - acc: 0.9892 - val_loss: 0.1727 - val_acc: 0.9943\n",
      "Epoch 25/40\n",
      "15475/15475 [==============================] - 23s 1ms/sample - loss: 0.1875 - acc: 0.9907 - val_loss: 0.1673 - val_acc: 0.9953\n",
      "Epoch 26/40\n",
      "15475/15475 [==============================] - 22s 1ms/sample - loss: 0.1866 - acc: 0.9914 - val_loss: 0.1677 - val_acc: 0.9953\n",
      "Epoch 27/40\n",
      "15475/15475 [==============================] - 24s 2ms/sample - loss: 0.1846 - acc: 0.9904 - val_loss: 0.1767 - val_acc: 0.9941\n",
      "Epoch 28/40\n",
      "15360/15475 [============================>.] - ETA: 0s - loss: 0.1827 - acc: 0.9901\n",
      "Epoch 00028: ReduceLROnPlateau reducing learning rate to 0.00010000000474974513.\n",
      "15475/15475 [==============================] - 23s 1ms/sample - loss: 0.1827 - acc: 0.9901 - val_loss: 0.1673 - val_acc: 0.9953\n",
      "Epoch 29/40\n",
      "15475/15475 [==============================] - 23s 1ms/sample - loss: 0.1236 - acc: 0.9899 - val_loss: 0.0972 - val_acc: 0.9951\n",
      "Epoch 30/40\n",
      "15475/15475 [==============================] - 22s 1ms/sample - loss: 0.1107 - acc: 0.9903 - val_loss: 0.0965 - val_acc: 0.9951\n",
      "Epoch 31/40\n",
      "15475/15475 [==============================] - 22s 1ms/sample - loss: 0.1078 - acc: 0.9908 - val_loss: 0.0959 - val_acc: 0.9953\n",
      "Epoch 32/40\n",
      "15475/15475 [==============================] - 22s 1ms/sample - loss: 0.1078 - acc: 0.9910 - val_loss: 0.0954 - val_acc: 0.9951\n",
      "Epoch 33/40\n",
      "15475/15475 [==============================] - 23s 1ms/sample - loss: 0.1100 - acc: 0.9889 - val_loss: 0.0951 - val_acc: 0.9951\n",
      "Epoch 34/40\n",
      "15475/15475 [==============================] - 23s 1ms/sample - loss: 0.1087 - acc: 0.9902 - val_loss: 0.0952 - val_acc: 0.9951\n",
      "Epoch 35/40\n",
      "15360/15475 [============================>.] - ETA: 0s - loss: 0.1096 - acc: 0.9895Restoring model weights from the end of the best epoch.\n",
      "15475/15475 [==============================] - 23s 1ms/sample - loss: 0.1099 - acc: 0.9895 - val_loss: 0.0954 - val_acc: 0.9951\n",
      "Epoch 00035: early stopping\n",
      "9672/9672 [==============================] - 8s 785us/sample - loss: 0.0918 - acc: 0.9958\n",
      "Train on 15475 samples, validate on 3869 samples\n",
      "Epoch 1/40\n",
      "15475/15475 [==============================] - 25s 2ms/sample - loss: 1.3764 - acc: 0.6515 - val_loss: 0.7895 - val_acc: 0.8586\n",
      "Epoch 2/40\n",
      "15475/15475 [==============================] - 23s 2ms/sample - loss: 0.7322 - acc: 0.8783 - val_loss: 0.6454 - val_acc: 0.9297\n",
      "Epoch 3/40\n",
      "15475/15475 [==============================] - 23s 1ms/sample - loss: 0.6212 - acc: 0.9429 - val_loss: 0.5657 - val_acc: 0.9690\n",
      "Epoch 4/40\n",
      "15475/15475 [==============================] - 23s 1ms/sample - loss: 0.5487 - acc: 0.9670 - val_loss: 0.5109 - val_acc: 0.9819\n",
      "Epoch 5/40\n",
      "15475/15475 [==============================] - 23s 1ms/sample - loss: 0.4991 - acc: 0.9791 - val_loss: 0.4644 - val_acc: 0.9842\n",
      "Epoch 6/40\n",
      "15475/15475 [==============================] - 25s 2ms/sample - loss: 0.4646 - acc: 0.9809 - val_loss: 0.4432 - val_acc: 0.9873\n",
      "Epoch 7/40\n",
      "15475/15475 [==============================] - 23s 2ms/sample - loss: 0.4379 - acc: 0.9853 - val_loss: 0.4255 - val_acc: 0.9889\n",
      "Epoch 8/40\n",
      "15475/15475 [==============================] - 23s 1ms/sample - loss: 0.4144 - acc: 0.9883 - val_loss: 0.4179 - val_acc: 0.9902\n",
      "Epoch 9/40\n",
      "15475/15475 [==============================] - 23s 1ms/sample - loss: 0.4005 - acc: 0.9888 - val_loss: 0.3741 - val_acc: 0.9917\n",
      "Epoch 10/40\n",
      "15475/15475 [==============================] - 23s 1ms/sample - loss: 0.3859 - acc: 0.9900 - val_loss: 0.3603 - val_acc: 0.9920\n",
      "Epoch 11/40\n",
      "15475/15475 [==============================] - 23s 1ms/sample - loss: 0.3757 - acc: 0.9903 - val_loss: 0.3589 - val_acc: 0.9941\n",
      "Epoch 12/40\n",
      "15475/15475 [==============================] - 23s 1ms/sample - loss: 0.3678 - acc: 0.9915 - val_loss: 0.3483 - val_acc: 0.9943\n",
      "Epoch 13/40\n",
      "15475/15475 [==============================] - 23s 2ms/sample - loss: 0.3592 - acc: 0.9924 - val_loss: 0.3464 - val_acc: 0.9946\n",
      "Epoch 14/40\n",
      "15475/15475 [==============================] - 23s 1ms/sample - loss: 0.3530 - acc: 0.9930 - val_loss: 0.3288 - val_acc: 0.9959\n",
      "Epoch 15/40\n",
      "15475/15475 [==============================] - 23s 1ms/sample - loss: 0.3457 - acc: 0.9928 - val_loss: 0.3283 - val_acc: 0.9959\n",
      "Epoch 16/40\n",
      "15475/15475 [==============================] - 23s 2ms/sample - loss: 0.3408 - acc: 0.9937 - val_loss: 0.3299 - val_acc: 0.9959\n",
      "Epoch 17/40\n",
      "15475/15475 [==============================] - 24s 2ms/sample - loss: 0.3367 - acc: 0.9937 - val_loss: 0.3218 - val_acc: 0.9953\n",
      "Epoch 18/40\n",
      "15475/15475 [==============================] - 23s 2ms/sample - loss: 0.3336 - acc: 0.9935 - val_loss: 0.3446 - val_acc: 0.9920\n",
      "Epoch 19/40\n",
      "15475/15475 [==============================] - 24s 2ms/sample - loss: 0.3309 - acc: 0.9935 - val_loss: 0.3110 - val_acc: 0.9956\n",
      "Epoch 20/40\n",
      "15475/15475 [==============================] - 23s 1ms/sample - loss: 0.3233 - acc: 0.9946 - val_loss: 0.3150 - val_acc: 0.9959\n",
      "Epoch 21/40\n",
      "15475/15475 [==============================] - 23s 1ms/sample - loss: 0.3255 - acc: 0.9937 - val_loss: 0.2998 - val_acc: 0.9953\n",
      "Epoch 22/40\n",
      "15475/15475 [==============================] - 23s 1ms/sample - loss: 0.3184 - acc: 0.9945 - val_loss: 0.3001 - val_acc: 0.9959\n",
      "Epoch 23/40\n",
      "15475/15475 [==============================] - 23s 1ms/sample - loss: 0.3166 - acc: 0.9942 - val_loss: 0.2974 - val_acc: 0.9953\n",
      "Epoch 24/40\n",
      "15475/15475 [==============================] - 23s 1ms/sample - loss: 0.3142 - acc: 0.9945 - val_loss: 0.2990 - val_acc: 0.9959\n",
      "Epoch 25/40\n",
      "15475/15475 [==============================] - 23s 2ms/sample - loss: 0.3113 - acc: 0.9944 - val_loss: 0.3035 - val_acc: 0.9953\n",
      "Epoch 26/40\n",
      "15475/15475 [==============================] - 23s 1ms/sample - loss: 0.3112 - acc: 0.9942 - val_loss: 0.2901 - val_acc: 0.9959\n",
      "Epoch 27/40\n",
      "15475/15475 [==============================] - 23s 2ms/sample - loss: 0.3082 - acc: 0.9945 - val_loss: 0.2950 - val_acc: 0.9959\n",
      "Epoch 28/40\n",
      "15475/15475 [==============================] - 23s 2ms/sample - loss: 0.3065 - acc: 0.9944 - val_loss: 0.2920 - val_acc: 0.9959\n",
      "Epoch 29/40\n",
      "15475/15475 [==============================] - 24s 2ms/sample - loss: 0.3052 - acc: 0.9949 - val_loss: 0.2891 - val_acc: 0.9956\n",
      "Epoch 30/40\n",
      "15475/15475 [==============================] - 23s 1ms/sample - loss: 0.3029 - acc: 0.9942 - val_loss: 0.2859 - val_acc: 0.9959\n",
      "Epoch 31/40\n",
      "15475/15475 [==============================] - 24s 2ms/sample - loss: 0.3027 - acc: 0.9940 - val_loss: 0.2978 - val_acc: 0.9956\n",
      "Epoch 32/40\n",
      "15475/15475 [==============================] - 23s 1ms/sample - loss: 0.2996 - acc: 0.9946 - val_loss: 0.2958 - val_acc: 0.9956\n",
      "Epoch 33/40\n",
      "15360/15475 [============================>.] - ETA: 0s - loss: 0.2993 - acc: 0.9946\n",
      "Epoch 00033: ReduceLROnPlateau reducing learning rate to 0.00010000000474974513.\n",
      "15475/15475 [==============================] - 24s 2ms/sample - loss: 0.2995 - acc: 0.9946 - val_loss: 0.2889 - val_acc: 0.9956\n",
      "Epoch 34/40\n",
      "15475/15475 [==============================] - 23s 1ms/sample - loss: 0.1529 - acc: 0.9946 - val_loss: 0.1148 - val_acc: 0.9959\n",
      "Epoch 35/40\n",
      "15475/15475 [==============================] - 23s 1ms/sample - loss: 0.1255 - acc: 0.9946 - val_loss: 0.1124 - val_acc: 0.9956\n",
      "Epoch 36/40\n",
      "15475/15475 [==============================] - 23s 1ms/sample - loss: 0.1249 - acc: 0.9945 - val_loss: 0.1118 - val_acc: 0.9959\n",
      "Epoch 37/40\n",
      "15475/15475 [==============================] - 23s 1ms/sample - loss: 0.1235 - acc: 0.9946 - val_loss: 0.1120 - val_acc: 0.9956\n",
      "Epoch 38/40\n",
      "15475/15475 [==============================] - 23s 1ms/sample - loss: 0.1250 - acc: 0.9944 - val_loss: 0.1111 - val_acc: 0.9956\n",
      "Epoch 39/40\n",
      "15475/15475 [==============================] - 23s 1ms/sample - loss: 0.1248 - acc: 0.9941 - val_loss: 0.1110 - val_acc: 0.9956\n",
      "Epoch 40/40\n",
      "15475/15475 [==============================] - 23s 2ms/sample - loss: 0.1230 - acc: 0.9946 - val_loss: 0.1111 - val_acc: 0.9956\n",
      "9672/9672 [==============================] - 8s 804us/sample - loss: 0.1124 - acc: 0.9960\n",
      "Train on 15475 samples, validate on 3869 samples\n",
      "Epoch 1/40\n",
      "15475/15475 [==============================] - 25s 2ms/sample - loss: 1.2709 - acc: 0.8721 - val_loss: 0.7229 - val_acc: 0.9576\n",
      "Epoch 2/40\n",
      "15475/15475 [==============================] - 23s 1ms/sample - loss: 0.6740 - acc: 0.9552 - val_loss: 0.6053 - val_acc: 0.9749\n",
      "Epoch 3/40\n",
      "15475/15475 [==============================] - 23s 1ms/sample - loss: 0.5831 - acc: 0.9702 - val_loss: 0.5437 - val_acc: 0.9757\n",
      "Epoch 4/40\n",
      "15475/15475 [==============================] - 23s 1ms/sample - loss: 0.5254 - acc: 0.9745 - val_loss: 0.4889 - val_acc: 0.9829\n",
      "Epoch 5/40\n",
      "15475/15475 [==============================] - 23s 1ms/sample - loss: 0.4827 - acc: 0.9800 - val_loss: 0.4812 - val_acc: 0.9840\n",
      "Epoch 6/40\n",
      "15475/15475 [==============================] - 23s 1ms/sample - loss: 0.4559 - acc: 0.9826 - val_loss: 0.4368 - val_acc: 0.9860\n",
      "Epoch 7/40\n",
      "15475/15475 [==============================] - 23s 2ms/sample - loss: 0.4305 - acc: 0.9864 - val_loss: 0.4057 - val_acc: 0.9879\n",
      "Epoch 8/40\n",
      "15475/15475 [==============================] - 23s 1ms/sample - loss: 0.4092 - acc: 0.9883 - val_loss: 0.3925 - val_acc: 0.9881\n",
      "Epoch 9/40\n",
      "15475/15475 [==============================] - 23s 1ms/sample - loss: 0.3969 - acc: 0.9888 - val_loss: 0.3752 - val_acc: 0.9922\n",
      "Epoch 10/40\n",
      "15475/15475 [==============================] - 24s 2ms/sample - loss: 0.3827 - acc: 0.9906 - val_loss: 0.3682 - val_acc: 0.9915\n",
      "Epoch 11/40\n",
      "15475/15475 [==============================] - 23s 2ms/sample - loss: 0.3748 - acc: 0.9906 - val_loss: 0.3772 - val_acc: 0.9917\n",
      "Epoch 12/40\n",
      "15475/15475 [==============================] - 23s 1ms/sample - loss: 0.3646 - acc: 0.9923 - val_loss: 0.3604 - val_acc: 0.9951\n",
      "Epoch 13/40\n",
      "15475/15475 [==============================] - 23s 1ms/sample - loss: 0.3562 - acc: 0.9930 - val_loss: 0.3498 - val_acc: 0.9948\n",
      "Epoch 14/40\n",
      "15475/15475 [==============================] - 23s 1ms/sample - loss: 0.3512 - acc: 0.9934 - val_loss: 0.3310 - val_acc: 0.9941\n",
      "Epoch 15/40\n",
      "15475/15475 [==============================] - 24s 2ms/sample - loss: 0.3421 - acc: 0.9944 - val_loss: 0.3365 - val_acc: 0.9928\n",
      "Epoch 16/40\n",
      "15475/15475 [==============================] - 25s 2ms/sample - loss: 0.3394 - acc: 0.9934 - val_loss: 0.3290 - val_acc: 0.9953\n",
      "Epoch 17/40\n",
      "15475/15475 [==============================] - 25s 2ms/sample - loss: 0.3333 - acc: 0.9942 - val_loss: 0.3240 - val_acc: 0.9951\n",
      "Epoch 18/40\n",
      "15475/15475 [==============================] - 23s 2ms/sample - loss: 0.3289 - acc: 0.9945 - val_loss: 0.3113 - val_acc: 0.9953\n",
      "Epoch 19/40\n",
      "15475/15475 [==============================] - 23s 1ms/sample - loss: 0.3257 - acc: 0.9941 - val_loss: 0.3145 - val_acc: 0.9956\n",
      "Epoch 20/40\n",
      "15475/15475 [==============================] - 23s 1ms/sample - loss: 0.3217 - acc: 0.9944 - val_loss: 0.3292 - val_acc: 0.9951\n",
      "Epoch 21/40\n",
      "15360/15475 [============================>.] - ETA: 0s - loss: 0.3188 - acc: 0.9949\n",
      "Epoch 00021: ReduceLROnPlateau reducing learning rate to 0.00010000000474974513.\n",
      "15475/15475 [==============================] - 23s 2ms/sample - loss: 0.3188 - acc: 0.9948 - val_loss: 0.3157 - val_acc: 0.9953\n",
      "Epoch 22/40\n",
      "15475/15475 [==============================] - 23s 1ms/sample - loss: 0.1759 - acc: 0.9948 - val_loss: 0.1361 - val_acc: 0.9953\n",
      "Epoch 23/40\n",
      "15475/15475 [==============================] - 23s 1ms/sample - loss: 0.1445 - acc: 0.9950 - val_loss: 0.1323 - val_acc: 0.9956\n",
      "Epoch 24/40\n",
      "15475/15475 [==============================] - 23s 1ms/sample - loss: 0.1428 - acc: 0.9948 - val_loss: 0.1317 - val_acc: 0.9956\n",
      "Epoch 25/40\n",
      "15475/15475 [==============================] - 23s 2ms/sample - loss: 0.1421 - acc: 0.9947 - val_loss: 0.1315 - val_acc: 0.9956\n",
      "Epoch 26/40\n",
      "15475/15475 [==============================] - 23s 1ms/sample - loss: 0.1421 - acc: 0.9953 - val_loss: 0.1302 - val_acc: 0.9956\n",
      "Epoch 27/40\n",
      "15475/15475 [==============================] - 24s 2ms/sample - loss: 0.1413 - acc: 0.9951 - val_loss: 0.1308 - val_acc: 0.9956\n",
      "Epoch 28/40\n",
      "15475/15475 [==============================] - 25s 2ms/sample - loss: 0.1409 - acc: 0.9955 - val_loss: 0.1294 - val_acc: 0.9959\n",
      "Epoch 29/40\n",
      "15475/15475 [==============================] - 23s 1ms/sample - loss: 0.1410 - acc: 0.9944 - val_loss: 0.1294 - val_acc: 0.9959\n",
      "Epoch 30/40\n",
      "15360/15475 [============================>.] - ETA: 0s - loss: 0.1406 - acc: 0.9947Restoring model weights from the end of the best epoch.\n",
      "15475/15475 [==============================] - 23s 2ms/sample - loss: 0.1406 - acc: 0.9947 - val_loss: 0.1297 - val_acc: 0.9956\n",
      "Epoch 00030: early stopping\n",
      "9672/9672 [==============================] - 8s 843us/sample - loss: 0.1344 - acc: 0.9949\n",
      "Train on 15475 samples, validate on 3869 samples\n",
      "Epoch 1/40\n",
      "15475/15475 [==============================] - 25s 2ms/sample - loss: 1.2926 - acc: 0.8178 - val_loss: 0.7222 - val_acc: 0.9620\n",
      "Epoch 2/40\n",
      "15475/15475 [==============================] - 23s 1ms/sample - loss: 0.6700 - acc: 0.9606 - val_loss: 0.6015 - val_acc: 0.9736\n",
      "Epoch 3/40\n",
      "15475/15475 [==============================] - 24s 2ms/sample - loss: 0.5790 - acc: 0.9686 - val_loss: 0.5338 - val_acc: 0.9775\n",
      "Epoch 4/40\n",
      "15475/15475 [==============================] - 24s 2ms/sample - loss: 0.5223 - acc: 0.9751 - val_loss: 0.4871 - val_acc: 0.9809\n",
      "Epoch 5/40\n",
      "15475/15475 [==============================] - 23s 1ms/sample - loss: 0.4841 - acc: 0.9795 - val_loss: 0.4523 - val_acc: 0.9835\n",
      "Epoch 6/40\n",
      "15475/15475 [==============================] - 23s 1ms/sample - loss: 0.4541 - acc: 0.9846 - val_loss: 0.4486 - val_acc: 0.9871\n",
      "Epoch 7/40\n",
      "15475/15475 [==============================] - 23s 1ms/sample - loss: 0.4330 - acc: 0.9856 - val_loss: 0.4042 - val_acc: 0.9897\n",
      "Epoch 8/40\n",
      "15475/15475 [==============================] - 23s 1ms/sample - loss: 0.4096 - acc: 0.9891 - val_loss: 0.4033 - val_acc: 0.9863\n",
      "Epoch 9/40\n",
      "15475/15475 [==============================] - 23s 2ms/sample - loss: 0.3969 - acc: 0.9893 - val_loss: 0.3747 - val_acc: 0.9894\n",
      "Epoch 10/40\n",
      "15475/15475 [==============================] - 23s 2ms/sample - loss: 0.3832 - acc: 0.9908 - val_loss: 0.3672 - val_acc: 0.9910\n",
      "Epoch 11/40\n",
      "15475/15475 [==============================] - 23s 1ms/sample - loss: 0.3715 - acc: 0.9922 - val_loss: 0.3502 - val_acc: 0.9935\n",
      "Epoch 12/40\n",
      "15475/15475 [==============================] - 23s 1ms/sample - loss: 0.3628 - acc: 0.9922 - val_loss: 0.3553 - val_acc: 0.9948\n",
      "Epoch 13/40\n",
      "15475/15475 [==============================] - 23s 1ms/sample - loss: 0.3544 - acc: 0.9931 - val_loss: 0.3390 - val_acc: 0.9948\n",
      "Epoch 14/40\n",
      "15475/15475 [==============================] - 23s 1ms/sample - loss: 0.3490 - acc: 0.9930 - val_loss: 0.3330 - val_acc: 0.9941\n",
      "Epoch 15/40\n",
      "15475/15475 [==============================] - 23s 2ms/sample - loss: 0.3416 - acc: 0.9940 - val_loss: 0.3317 - val_acc: 0.9943\n",
      "Epoch 16/40\n",
      "15475/15475 [==============================] - 23s 2ms/sample - loss: 0.3383 - acc: 0.9939 - val_loss: 0.3259 - val_acc: 0.9943\n",
      "Epoch 17/40\n",
      "15475/15475 [==============================] - 24s 2ms/sample - loss: 0.3323 - acc: 0.9935 - val_loss: 0.3220 - val_acc: 0.9943\n",
      "Epoch 18/40\n",
      "15475/15475 [==============================] - 23s 1ms/sample - loss: 0.3307 - acc: 0.9939 - val_loss: 0.3174 - val_acc: 0.9946\n",
      "Epoch 19/40\n",
      "15475/15475 [==============================] - 23s 2ms/sample - loss: 0.3243 - acc: 0.9944 - val_loss: 0.3185 - val_acc: 0.9943\n",
      "Epoch 20/40\n",
      "15475/15475 [==============================] - 23s 1ms/sample - loss: 0.3214 - acc: 0.9944 - val_loss: 0.3177 - val_acc: 0.9941\n",
      "Epoch 21/40\n",
      "15360/15475 [============================>.] - ETA: 0s - loss: 0.3199 - acc: 0.9950\n",
      "Epoch 00021: ReduceLROnPlateau reducing learning rate to 0.00010000000474974513.\n",
      "15475/15475 [==============================] - 23s 1ms/sample - loss: 0.3200 - acc: 0.9949 - val_loss: 0.3217 - val_acc: 0.9946\n",
      "Epoch 22/40\n",
      "15475/15475 [==============================] - 23s 1ms/sample - loss: 0.1747 - acc: 0.9953 - val_loss: 0.1425 - val_acc: 0.9941\n",
      "Epoch 23/40\n",
      "15475/15475 [==============================] - 23s 1ms/sample - loss: 0.1444 - acc: 0.9948 - val_loss: 0.1397 - val_acc: 0.9941\n",
      "Epoch 24/40\n",
      "15475/15475 [==============================] - 23s 1ms/sample - loss: 0.1435 - acc: 0.9948 - val_loss: 0.1392 - val_acc: 0.9941\n",
      "Epoch 25/40\n",
      "15475/15475 [==============================] - 24s 2ms/sample - loss: 0.1435 - acc: 0.9948 - val_loss: 0.1386 - val_acc: 0.9941\n",
      "Epoch 26/40\n",
      "15475/15475 [==============================] - 23s 1ms/sample - loss: 0.1422 - acc: 0.9950 - val_loss: 0.1383 - val_acc: 0.9941\n",
      "Epoch 27/40\n",
      "15475/15475 [==============================] - 23s 1ms/sample - loss: 0.1416 - acc: 0.9951 - val_loss: 0.1381 - val_acc: 0.9941\n",
      "Epoch 28/40\n",
      "15475/15475 [==============================] - 24s 2ms/sample - loss: 0.1428 - acc: 0.9948 - val_loss: 0.1379 - val_acc: 0.9941\n",
      "Epoch 29/40\n",
      "15360/15475 [============================>.] - ETA: 0s - loss: 0.1413 - acc: 0.9945Restoring model weights from the end of the best epoch.\n",
      "15475/15475 [==============================] - 23s 2ms/sample - loss: 0.1415 - acc: 0.9944 - val_loss: 0.1378 - val_acc: 0.9938\n",
      "Epoch 00029: early stopping\n",
      "9672/9672 [==============================] - 8s 829us/sample - loss: 0.1337 - acc: 0.9951\n",
      "Train on 15475 samples, validate on 3869 samples\n",
      "Epoch 1/40\n",
      "15475/15475 [==============================] - 26s 2ms/sample - loss: 2.0302 - acc: 0.8549 - val_loss: 1.0196 - val_acc: 0.9625\n",
      "Epoch 2/40\n",
      "15475/15475 [==============================] - 24s 2ms/sample - loss: 0.9466 - acc: 0.9627 - val_loss: 0.8805 - val_acc: 0.9798\n",
      "Epoch 3/40\n",
      "15475/15475 [==============================] - 26s 2ms/sample - loss: 0.8437 - acc: 0.9740 - val_loss: 0.8042 - val_acc: 0.9832\n",
      "Epoch 4/40\n",
      "15475/15475 [==============================] - 24s 2ms/sample - loss: 0.7712 - acc: 0.9788 - val_loss: 0.7477 - val_acc: 0.9824\n",
      "Epoch 5/40\n",
      "15475/15475 [==============================] - 24s 2ms/sample - loss: 0.7155 - acc: 0.9826 - val_loss: 0.6842 - val_acc: 0.9853\n",
      "Epoch 6/40\n",
      "15475/15475 [==============================] - 24s 2ms/sample - loss: 0.6664 - acc: 0.9871 - val_loss: 0.6414 - val_acc: 0.9876\n",
      "Epoch 7/40\n",
      "15475/15475 [==============================] - 24s 2ms/sample - loss: 0.6344 - acc: 0.9868 - val_loss: 0.6209 - val_acc: 0.9897\n",
      "Epoch 8/40\n",
      "15475/15475 [==============================] - 24s 2ms/sample - loss: 0.6126 - acc: 0.9891 - val_loss: 0.5961 - val_acc: 0.9915\n",
      "Epoch 9/40\n",
      "15475/15475 [==============================] - 26s 2ms/sample - loss: 0.5977 - acc: 0.9904 - val_loss: 0.5890 - val_acc: 0.9928\n",
      "Epoch 10/40\n",
      "15475/15475 [==============================] - 24s 2ms/sample - loss: 0.5897 - acc: 0.9903 - val_loss: 0.5661 - val_acc: 0.9941\n",
      "Epoch 11/40\n",
      "15475/15475 [==============================] - 25s 2ms/sample - loss: 0.5766 - acc: 0.9913 - val_loss: 0.5581 - val_acc: 0.9946\n",
      "Epoch 12/40\n",
      "15475/15475 [==============================] - 24s 2ms/sample - loss: 0.5675 - acc: 0.9922 - val_loss: 0.5514 - val_acc: 0.9943\n",
      "Epoch 13/40\n",
      "15475/15475 [==============================] - 24s 2ms/sample - loss: 0.5585 - acc: 0.9928 - val_loss: 0.5582 - val_acc: 0.9951\n",
      "Epoch 14/40\n",
      "15475/15475 [==============================] - 25s 2ms/sample - loss: 0.5529 - acc: 0.9930 - val_loss: 0.5380 - val_acc: 0.9946\n",
      "Epoch 15/40\n",
      "15475/15475 [==============================] - 24s 2ms/sample - loss: 0.5492 - acc: 0.9931 - val_loss: 0.5317 - val_acc: 0.9959\n",
      "Epoch 16/40\n",
      "15475/15475 [==============================] - 24s 2ms/sample - loss: 0.5392 - acc: 0.9935 - val_loss: 0.5335 - val_acc: 0.9951\n",
      "Epoch 17/40\n",
      "15475/15475 [==============================] - 24s 2ms/sample - loss: 0.5340 - acc: 0.9942 - val_loss: 0.5303 - val_acc: 0.9959\n",
      "Epoch 18/40\n",
      "15475/15475 [==============================] - 24s 2ms/sample - loss: 0.5297 - acc: 0.9939 - val_loss: 0.5231 - val_acc: 0.9951\n",
      "Epoch 19/40\n",
      "15475/15475 [==============================] - 24s 2ms/sample - loss: 0.5258 - acc: 0.9939 - val_loss: 0.5062 - val_acc: 0.9959\n",
      "Epoch 20/40\n",
      "15475/15475 [==============================] - 24s 2ms/sample - loss: 0.5232 - acc: 0.9939 - val_loss: 0.5092 - val_acc: 0.9953\n",
      "Epoch 21/40\n",
      "15475/15475 [==============================] - 24s 2ms/sample - loss: 0.5185 - acc: 0.9937 - val_loss: 0.5021 - val_acc: 0.9959\n",
      "Epoch 22/40\n",
      "15475/15475 [==============================] - 24s 2ms/sample - loss: 0.5158 - acc: 0.9938 - val_loss: 0.5070 - val_acc: 0.9956\n",
      "Epoch 23/40\n",
      "15475/15475 [==============================] - 26s 2ms/sample - loss: 0.5134 - acc: 0.9939 - val_loss: 0.5026 - val_acc: 0.9959\n",
      "Epoch 24/40\n",
      "15475/15475 [==============================] - 24s 2ms/sample - loss: 0.5088 - acc: 0.9948 - val_loss: 0.4996 - val_acc: 0.9953\n",
      "Epoch 25/40\n",
      "15475/15475 [==============================] - 24s 2ms/sample - loss: 0.5088 - acc: 0.9941 - val_loss: 0.4908 - val_acc: 0.9956\n",
      "Epoch 26/40\n",
      "15475/15475 [==============================] - 24s 2ms/sample - loss: 0.5060 - acc: 0.9942 - val_loss: 0.4952 - val_acc: 0.9959\n",
      "Epoch 27/40\n",
      "15475/15475 [==============================] - 24s 2ms/sample - loss: 0.5036 - acc: 0.9944 - val_loss: 0.4946 - val_acc: 0.9959\n",
      "Epoch 28/40\n",
      "15360/15475 [============================>.] - ETA: 0s - loss: 0.5008 - acc: 0.9944\n",
      "Epoch 00028: ReduceLROnPlateau reducing learning rate to 0.00010000000474974513.\n",
      "15475/15475 [==============================] - 24s 2ms/sample - loss: 0.5013 - acc: 0.9943 - val_loss: 0.4943 - val_acc: 0.9956\n",
      "Epoch 29/40\n",
      "15475/15475 [==============================] - 24s 2ms/sample - loss: 0.2084 - acc: 0.9946 - val_loss: 0.1469 - val_acc: 0.9956\n",
      "Epoch 30/40\n",
      "15475/15475 [==============================] - 24s 2ms/sample - loss: 0.1576 - acc: 0.9949 - val_loss: 0.1439 - val_acc: 0.9959\n",
      "Epoch 31/40\n",
      "15475/15475 [==============================] - 24s 2ms/sample - loss: 0.1572 - acc: 0.9948 - val_loss: 0.1431 - val_acc: 0.9959\n",
      "Epoch 32/40\n",
      "15475/15475 [==============================] - 24s 2ms/sample - loss: 0.1555 - acc: 0.9946 - val_loss: 0.1420 - val_acc: 0.9959\n",
      "Epoch 33/40\n",
      "15475/15475 [==============================] - 24s 2ms/sample - loss: 0.1555 - acc: 0.9946 - val_loss: 0.1425 - val_acc: 0.9959\n",
      "Epoch 34/40\n",
      "15475/15475 [==============================] - 24s 2ms/sample - loss: 0.1549 - acc: 0.9947 - val_loss: 0.1410 - val_acc: 0.9959\n",
      "Epoch 35/40\n",
      "15475/15475 [==============================] - 24s 2ms/sample - loss: 0.1549 - acc: 0.9944 - val_loss: 0.1420 - val_acc: 0.9959\n",
      "Epoch 36/40\n",
      "15475/15475 [==============================] - 24s 2ms/sample - loss: 0.1546 - acc: 0.9950 - val_loss: 0.1412 - val_acc: 0.9959\n",
      "Epoch 37/40\n",
      "15360/15475 [============================>.] - ETA: 0s - loss: 0.1543 - acc: 0.9947\n",
      "Epoch 00037: ReduceLROnPlateau reducing learning rate to 1.0000000474974514e-05.\n",
      "15475/15475 [==============================] - 24s 2ms/sample - loss: 0.1544 - acc: 0.9946 - val_loss: 0.1422 - val_acc: 0.9956\n",
      "Epoch 38/40\n",
      "15475/15475 [==============================] - 24s 2ms/sample - loss: 0.1260 - acc: 0.9944 - val_loss: 0.1074 - val_acc: 0.9959\n",
      "Epoch 39/40\n",
      "15475/15475 [==============================] - 24s 2ms/sample - loss: 0.1200 - acc: 0.9946 - val_loss: 0.1070 - val_acc: 0.9956\n",
      "Epoch 40/40\n",
      "15475/15475 [==============================] - 24s 2ms/sample - loss: 0.1203 - acc: 0.9947 - val_loss: 0.1068 - val_acc: 0.9956\n",
      "9672/9672 [==============================] - 9s 882us/sample - loss: 0.1084 - acc: 0.9960\n",
      "Train on 15475 samples, validate on 3869 samples\n",
      "Epoch 1/40\n",
      "15475/15475 [==============================] - 26s 2ms/sample - loss: 2.0112 - acc: 0.8737 - val_loss: 1.0057 - val_acc: 0.9687\n",
      "Epoch 2/40\n",
      "15475/15475 [==============================] - 24s 2ms/sample - loss: 0.9311 - acc: 0.9692 - val_loss: 0.8674 - val_acc: 0.9726\n",
      "Epoch 3/40\n",
      "15475/15475 [==============================] - 24s 2ms/sample - loss: 0.8297 - acc: 0.9760 - val_loss: 0.7925 - val_acc: 0.9840\n",
      "Epoch 4/40\n",
      "15475/15475 [==============================] - 23s 2ms/sample - loss: 0.7620 - acc: 0.9807 - val_loss: 0.7324 - val_acc: 0.9860\n",
      "Epoch 5/40\n",
      "15475/15475 [==============================] - 24s 2ms/sample - loss: 0.7048 - acc: 0.9849 - val_loss: 0.6713 - val_acc: 0.9863\n",
      "Epoch 6/40\n",
      "15475/15475 [==============================] - 24s 2ms/sample - loss: 0.6633 - acc: 0.9866 - val_loss: 0.6402 - val_acc: 0.9871\n",
      "Epoch 7/40\n",
      "15475/15475 [==============================] - 24s 2ms/sample - loss: 0.6305 - acc: 0.9887 - val_loss: 0.6537 - val_acc: 0.9850\n",
      "Epoch 8/40\n",
      "15475/15475 [==============================] - 24s 2ms/sample - loss: 0.6131 - acc: 0.9894 - val_loss: 0.5883 - val_acc: 0.9917\n",
      "Epoch 9/40\n",
      "15475/15475 [==============================] - 23s 2ms/sample - loss: 0.5944 - acc: 0.9906 - val_loss: 0.5769 - val_acc: 0.9930\n",
      "Epoch 10/40\n",
      "15475/15475 [==============================] - 23s 2ms/sample - loss: 0.5846 - acc: 0.9917 - val_loss: 0.5666 - val_acc: 0.9941\n",
      "Epoch 11/40\n",
      "15475/15475 [==============================] - 24s 2ms/sample - loss: 0.5735 - acc: 0.9918 - val_loss: 0.5913 - val_acc: 0.9907\n",
      "Epoch 12/40\n",
      "15475/15475 [==============================] - 24s 2ms/sample - loss: 0.5690 - acc: 0.9917 - val_loss: 0.5494 - val_acc: 0.9943\n",
      "Epoch 13/40\n",
      "15475/15475 [==============================] - 25s 2ms/sample - loss: 0.5557 - acc: 0.9936 - val_loss: 0.5454 - val_acc: 0.9948\n",
      "Epoch 14/40\n",
      "15475/15475 [==============================] - 24s 2ms/sample - loss: 0.5495 - acc: 0.9933 - val_loss: 0.5436 - val_acc: 0.9953\n",
      "Epoch 15/40\n",
      "15475/15475 [==============================] - 24s 2ms/sample - loss: 0.5432 - acc: 0.9937 - val_loss: 0.5338 - val_acc: 0.9946\n",
      "Epoch 16/40\n",
      "15475/15475 [==============================] - 24s 2ms/sample - loss: 0.5398 - acc: 0.9933 - val_loss: 0.5250 - val_acc: 0.9946\n",
      "Epoch 17/40\n",
      "15475/15475 [==============================] - 24s 2ms/sample - loss: 0.5347 - acc: 0.9931 - val_loss: 0.5225 - val_acc: 0.9941\n",
      "Epoch 18/40\n",
      "15475/15475 [==============================] - 24s 2ms/sample - loss: 0.5277 - acc: 0.9941 - val_loss: 0.5252 - val_acc: 0.9941\n",
      "Epoch 19/40\n",
      "15475/15475 [==============================] - 24s 2ms/sample - loss: 0.5258 - acc: 0.9937 - val_loss: 0.5159 - val_acc: 0.9956\n",
      "Epoch 20/40\n",
      "15475/15475 [==============================] - 23s 2ms/sample - loss: 0.5218 - acc: 0.9939 - val_loss: 0.5093 - val_acc: 0.9953\n",
      "Epoch 21/40\n",
      "15475/15475 [==============================] - 24s 2ms/sample - loss: 0.5169 - acc: 0.9944 - val_loss: 0.5092 - val_acc: 0.9953\n",
      "Epoch 22/40\n",
      "15475/15475 [==============================] - 24s 2ms/sample - loss: 0.5139 - acc: 0.9942 - val_loss: 0.4964 - val_acc: 0.9953\n",
      "Epoch 23/40\n",
      "15475/15475 [==============================] - 24s 2ms/sample - loss: 0.5115 - acc: 0.9945 - val_loss: 0.4971 - val_acc: 0.9953\n",
      "Epoch 24/40\n",
      "15475/15475 [==============================] - 24s 2ms/sample - loss: 0.5075 - acc: 0.9947 - val_loss: 0.5010 - val_acc: 0.9959\n",
      "Epoch 25/40\n",
      "15475/15475 [==============================] - 24s 2ms/sample - loss: 0.5052 - acc: 0.9943 - val_loss: 0.4940 - val_acc: 0.9956\n",
      "Epoch 26/40\n",
      "15475/15475 [==============================] - 23s 2ms/sample - loss: 0.5018 - acc: 0.9948 - val_loss: 0.4864 - val_acc: 0.9953\n",
      "Epoch 27/40\n",
      "15475/15475 [==============================] - 24s 2ms/sample - loss: 0.4998 - acc: 0.9950 - val_loss: 0.4939 - val_acc: 0.9956\n",
      "Epoch 28/40\n",
      "15475/15475 [==============================] - 24s 2ms/sample - loss: 0.5009 - acc: 0.9947 - val_loss: 0.4822 - val_acc: 0.9956\n",
      "Epoch 29/40\n",
      "15475/15475 [==============================] - 24s 2ms/sample - loss: 0.4947 - acc: 0.9951 - val_loss: 0.4871 - val_acc: 0.9953\n",
      "Epoch 30/40\n",
      "15475/15475 [==============================] - 24s 2ms/sample - loss: 0.4956 - acc: 0.9950 - val_loss: 0.4796 - val_acc: 0.9953\n",
      "Epoch 31/40\n",
      "15475/15475 [==============================] - 24s 2ms/sample - loss: 0.4932 - acc: 0.9949 - val_loss: 0.4892 - val_acc: 0.9953\n",
      "Epoch 32/40\n",
      "15475/15475 [==============================] - 25s 2ms/sample - loss: 0.4955 - acc: 0.9945 - val_loss: 0.4954 - val_acc: 0.9956\n",
      "Epoch 33/40\n",
      "15360/15475 [============================>.] - ETA: 0s - loss: 0.4906 - acc: 0.9951\n",
      "Epoch 00033: ReduceLROnPlateau reducing learning rate to 0.00010000000474974513.\n",
      "15475/15475 [==============================] - 24s 2ms/sample - loss: 0.4906 - acc: 0.9952 - val_loss: 0.4953 - val_acc: 0.9956\n",
      "Epoch 34/40\n",
      "15475/15475 [==============================] - 24s 2ms/sample - loss: 0.2014 - acc: 0.9952 - val_loss: 0.1404 - val_acc: 0.9956\n",
      "Epoch 35/40\n",
      "15475/15475 [==============================] - 24s 2ms/sample - loss: 0.1481 - acc: 0.9948 - val_loss: 0.1360 - val_acc: 0.9953\n",
      "Epoch 36/40\n",
      "15475/15475 [==============================] - 25s 2ms/sample - loss: 0.1462 - acc: 0.9950 - val_loss: 0.1366 - val_acc: 0.9953\n",
      "Epoch 37/40\n",
      "15475/15475 [==============================] - 25s 2ms/sample - loss: 0.1469 - acc: 0.9945 - val_loss: 0.1356 - val_acc: 0.9953\n",
      "Epoch 38/40\n",
      "15475/15475 [==============================] - 24s 2ms/sample - loss: 0.1457 - acc: 0.9953 - val_loss: 0.1366 - val_acc: 0.9953\n",
      "Epoch 39/40\n",
      "15360/15475 [============================>.] - ETA: 0s - loss: 0.1450 - acc: 0.9947Restoring model weights from the end of the best epoch.\n",
      "15475/15475 [==============================] - 24s 2ms/sample - loss: 0.1453 - acc: 0.9946 - val_loss: 0.1353 - val_acc: 0.9953\n",
      "Epoch 00039: early stopping\n",
      "9672/9672 [==============================] - 8s 862us/sample - loss: 0.1413 - acc: 0.9947\n",
      "Train on 15475 samples, validate on 3869 samples\n",
      "Epoch 1/40\n",
      "15475/15475 [==============================] - 26s 2ms/sample - loss: 2.0469 - acc: 0.8553 - val_loss: 1.0248 - val_acc: 0.9690\n",
      "Epoch 2/40\n",
      "15475/15475 [==============================] - 24s 2ms/sample - loss: 0.9491 - acc: 0.9665 - val_loss: 0.9043 - val_acc: 0.9744\n",
      "Epoch 3/40\n",
      "15475/15475 [==============================] - 24s 2ms/sample - loss: 0.8391 - acc: 0.9754 - val_loss: 0.7923 - val_acc: 0.9775\n",
      "Epoch 4/40\n",
      "15475/15475 [==============================] - 24s 2ms/sample - loss: 0.7657 - acc: 0.9778 - val_loss: 0.7357 - val_acc: 0.9853\n",
      "Epoch 5/40\n",
      "15475/15475 [==============================] - 24s 2ms/sample - loss: 0.7090 - acc: 0.9826 - val_loss: 0.6852 - val_acc: 0.9837\n",
      "Epoch 6/40\n",
      "15475/15475 [==============================] - 24s 2ms/sample - loss: 0.6639 - acc: 0.9860 - val_loss: 0.6360 - val_acc: 0.9922\n",
      "Epoch 7/40\n",
      "15475/15475 [==============================] - 24s 2ms/sample - loss: 0.6341 - acc: 0.9871 - val_loss: 0.6250 - val_acc: 0.9917\n",
      "Epoch 8/40\n",
      "15475/15475 [==============================] - 24s 2ms/sample - loss: 0.6111 - acc: 0.9896 - val_loss: 0.5967 - val_acc: 0.9922\n",
      "Epoch 9/40\n",
      "15475/15475 [==============================] - 24s 2ms/sample - loss: 0.5976 - acc: 0.9904 - val_loss: 0.5949 - val_acc: 0.9946\n",
      "Epoch 10/40\n",
      "15475/15475 [==============================] - 24s 2ms/sample - loss: 0.5845 - acc: 0.9916 - val_loss: 0.5664 - val_acc: 0.9933\n",
      "Epoch 11/40\n",
      "15475/15475 [==============================] - 24s 2ms/sample - loss: 0.5741 - acc: 0.9909 - val_loss: 0.5618 - val_acc: 0.9946\n",
      "Epoch 12/40\n",
      "15475/15475 [==============================] - 24s 2ms/sample - loss: 0.5650 - acc: 0.9919 - val_loss: 0.5486 - val_acc: 0.9943\n",
      "Epoch 13/40\n",
      "15475/15475 [==============================] - 24s 2ms/sample - loss: 0.5585 - acc: 0.9926 - val_loss: 0.5531 - val_acc: 0.9946\n",
      "Epoch 14/40\n",
      "15475/15475 [==============================] - 24s 2ms/sample - loss: 0.5521 - acc: 0.9927 - val_loss: 0.5452 - val_acc: 0.9915\n",
      "Epoch 15/40\n",
      "15475/15475 [==============================] - 24s 2ms/sample - loss: 0.5470 - acc: 0.9933 - val_loss: 0.5297 - val_acc: 0.9953\n",
      "Epoch 16/40\n",
      "15475/15475 [==============================] - 25s 2ms/sample - loss: 0.5382 - acc: 0.9933 - val_loss: 0.5208 - val_acc: 0.9943\n",
      "Epoch 17/40\n",
      "15475/15475 [==============================] - 24s 2ms/sample - loss: 0.5326 - acc: 0.9942 - val_loss: 0.5493 - val_acc: 0.9928\n",
      "Epoch 18/40\n",
      "15475/15475 [==============================] - 24s 2ms/sample - loss: 0.5287 - acc: 0.9939 - val_loss: 0.5214 - val_acc: 0.9943\n",
      "Epoch 19/40\n",
      "15475/15475 [==============================] - 24s 2ms/sample - loss: 0.5260 - acc: 0.9936 - val_loss: 0.5204 - val_acc: 0.9946\n",
      "Epoch 20/40\n",
      "15360/15475 [============================>.] - ETA: 0s - loss: 0.5193 - acc: 0.9949Restoring model weights from the end of the best epoch.\n",
      "15475/15475 [==============================] - 26s 2ms/sample - loss: 0.5193 - acc: 0.9949 - val_loss: 0.5283 - val_acc: 0.9925\n",
      "Epoch 00020: early stopping\n",
      "9672/9672 [==============================] - 8s 864us/sample - loss: 0.5180 - acc: 0.9950\n",
      "Train on 15475 samples, validate on 3869 samples\n",
      "Epoch 1/40\n",
      "15475/15475 [==============================] - 27s 2ms/sample - loss: 0.8977 - acc: 0.7725 - val_loss: 0.6534 - val_acc: 0.9139\n",
      "Epoch 2/40\n",
      "15475/15475 [==============================] - 23s 1ms/sample - loss: 0.6487 - acc: 0.8881 - val_loss: 0.5801 - val_acc: 0.9571\n",
      "Epoch 3/40\n",
      "15475/15475 [==============================] - 24s 2ms/sample - loss: 0.5966 - acc: 0.9212 - val_loss: 0.5213 - val_acc: 0.9731\n",
      "Epoch 4/40\n",
      "15475/15475 [==============================] - 23s 1ms/sample - loss: 0.5469 - acc: 0.9415 - val_loss: 0.4650 - val_acc: 0.9770\n",
      "Epoch 5/40\n",
      "15475/15475 [==============================] - 23s 1ms/sample - loss: 0.5031 - acc: 0.9510 - val_loss: 0.4198 - val_acc: 0.9791\n",
      "Epoch 6/40\n",
      "15475/15475 [==============================] - 23s 1ms/sample - loss: 0.4657 - acc: 0.9570 - val_loss: 0.3823 - val_acc: 0.9801\n",
      "Epoch 7/40\n",
      "15475/15475 [==============================] - 23s 1ms/sample - loss: 0.4314 - acc: 0.9614 - val_loss: 0.3569 - val_acc: 0.9829\n",
      "Epoch 8/40\n",
      "15475/15475 [==============================] - 23s 1ms/sample - loss: 0.4012 - acc: 0.9663 - val_loss: 0.3262 - val_acc: 0.9840\n",
      "Epoch 9/40\n",
      "15475/15475 [==============================] - 23s 1ms/sample - loss: 0.3755 - acc: 0.9702 - val_loss: 0.3064 - val_acc: 0.9832\n",
      "Epoch 10/40\n",
      "15475/15475 [==============================] - 24s 2ms/sample - loss: 0.3524 - acc: 0.9717 - val_loss: 0.2810 - val_acc: 0.9871\n",
      "Epoch 11/40\n",
      "15475/15475 [==============================] - 23s 1ms/sample - loss: 0.3315 - acc: 0.9738 - val_loss: 0.2684 - val_acc: 0.9884\n",
      "Epoch 12/40\n",
      "15475/15475 [==============================] - 23s 1ms/sample - loss: 0.3138 - acc: 0.9778 - val_loss: 0.2572 - val_acc: 0.9897\n",
      "Epoch 13/40\n",
      "15475/15475 [==============================] - 23s 1ms/sample - loss: 0.2998 - acc: 0.9792 - val_loss: 0.2472 - val_acc: 0.9881\n",
      "Epoch 14/40\n",
      "15475/15475 [==============================] - 23s 1ms/sample - loss: 0.2914 - acc: 0.9789 - val_loss: 0.2315 - val_acc: 0.9912\n",
      "Epoch 15/40\n",
      "15475/15475 [==============================] - 23s 1ms/sample - loss: 0.2754 - acc: 0.9818 - val_loss: 0.2227 - val_acc: 0.9917\n",
      "Epoch 16/40\n",
      "15475/15475 [==============================] - 23s 1ms/sample - loss: 0.2654 - acc: 0.9842 - val_loss: 0.2162 - val_acc: 0.9925\n",
      "Epoch 17/40\n",
      "15475/15475 [==============================] - 23s 2ms/sample - loss: 0.2585 - acc: 0.9831 - val_loss: 0.2111 - val_acc: 0.9935\n",
      "Epoch 18/40\n",
      "15475/15475 [==============================] - 23s 1ms/sample - loss: 0.2508 - acc: 0.9842 - val_loss: 0.2070 - val_acc: 0.9941\n",
      "Epoch 19/40\n",
      "15475/15475 [==============================] - 23s 1ms/sample - loss: 0.2444 - acc: 0.9849 - val_loss: 0.2010 - val_acc: 0.9930\n",
      "Epoch 20/40\n",
      "15475/15475 [==============================] - 23s 1ms/sample - loss: 0.2413 - acc: 0.9851 - val_loss: 0.1953 - val_acc: 0.9953\n",
      "Epoch 21/40\n",
      "15475/15475 [==============================] - 23s 1ms/sample - loss: 0.2334 - acc: 0.9862 - val_loss: 0.1889 - val_acc: 0.9953\n",
      "Epoch 22/40\n",
      "15475/15475 [==============================] - 23s 1ms/sample - loss: 0.2322 - acc: 0.9848 - val_loss: 0.1898 - val_acc: 0.9959\n",
      "Epoch 23/40\n",
      "15475/15475 [==============================] - 23s 1ms/sample - loss: 0.2280 - acc: 0.9853 - val_loss: 0.1851 - val_acc: 0.9959\n",
      "Epoch 24/40\n",
      "15475/15475 [==============================] - 23s 1ms/sample - loss: 0.2224 - acc: 0.9862 - val_loss: 0.1865 - val_acc: 0.9964\n",
      "Epoch 25/40\n",
      "15475/15475 [==============================] - 23s 1ms/sample - loss: 0.2218 - acc: 0.9855 - val_loss: 0.1791 - val_acc: 0.9961\n",
      "Epoch 26/40\n",
      "15475/15475 [==============================] - 23s 1ms/sample - loss: 0.2138 - acc: 0.9881 - val_loss: 0.1762 - val_acc: 0.9961\n",
      "Epoch 27/40\n",
      "15475/15475 [==============================] - 23s 1ms/sample - loss: 0.2139 - acc: 0.9866 - val_loss: 0.1751 - val_acc: 0.9964\n",
      "Epoch 28/40\n",
      "15475/15475 [==============================] - 23s 1ms/sample - loss: 0.2104 - acc: 0.9875 - val_loss: 0.1681 - val_acc: 0.9961\n",
      "Epoch 29/40\n",
      "15475/15475 [==============================] - 23s 1ms/sample - loss: 0.2118 - acc: 0.9864 - val_loss: 0.1676 - val_acc: 0.9961\n",
      "Epoch 30/40\n",
      "15475/15475 [==============================] - 23s 1ms/sample - loss: 0.2058 - acc: 0.9882 - val_loss: 0.1700 - val_acc: 0.9961\n",
      "Epoch 31/40\n",
      "15475/15475 [==============================] - 23s 1ms/sample - loss: 0.2044 - acc: 0.9873 - val_loss: 0.1679 - val_acc: 0.9961\n",
      "Epoch 32/40\n",
      "15475/15475 [==============================] - 23s 1ms/sample - loss: 0.2026 - acc: 0.9876 - val_loss: 0.1626 - val_acc: 0.9959\n",
      "Epoch 33/40\n",
      "15475/15475 [==============================] - 23s 1ms/sample - loss: 0.2034 - acc: 0.9871 - val_loss: 0.1649 - val_acc: 0.9961\n",
      "Epoch 34/40\n",
      "15475/15475 [==============================] - 23s 1ms/sample - loss: 0.2027 - acc: 0.9865 - val_loss: 0.1593 - val_acc: 0.9956\n",
      "Epoch 35/40\n",
      "15475/15475 [==============================] - 23s 1ms/sample - loss: 0.1979 - acc: 0.9880 - val_loss: 0.1622 - val_acc: 0.9956\n",
      "Epoch 36/40\n",
      "15475/15475 [==============================] - 23s 1ms/sample - loss: 0.2006 - acc: 0.9866 - val_loss: 0.1602 - val_acc: 0.9959\n",
      "Epoch 37/40\n",
      "15475/15475 [==============================] - 25s 2ms/sample - loss: 0.1961 - acc: 0.9874 - val_loss: 0.1576 - val_acc: 0.9959\n",
      "Epoch 38/40\n",
      "15475/15475 [==============================] - 23s 1ms/sample - loss: 0.1966 - acc: 0.9879 - val_loss: 0.1606 - val_acc: 0.9959\n",
      "Epoch 39/40\n",
      "15475/15475 [==============================] - 23s 1ms/sample - loss: 0.1941 - acc: 0.9883 - val_loss: 0.1546 - val_acc: 0.9961\n",
      "Epoch 40/40\n",
      "15475/15475 [==============================] - 23s 2ms/sample - loss: 0.1929 - acc: 0.9881 - val_loss: 0.1564 - val_acc: 0.9959\n",
      "9672/9672 [==============================] - 8s 809us/sample - loss: 0.1573 - acc: 0.9959\n",
      "Train on 15475 samples, validate on 3869 samples\n",
      "Epoch 1/40\n",
      "15475/15475 [==============================] - 25s 2ms/sample - loss: 0.9088 - acc: 0.6322 - val_loss: 0.6367 - val_acc: 0.7622\n",
      "Epoch 2/40\n",
      "15475/15475 [==============================] - 23s 1ms/sample - loss: 0.6298 - acc: 0.7407 - val_loss: 0.5429 - val_acc: 0.8940\n",
      "Epoch 3/40\n",
      "15475/15475 [==============================] - 23s 1ms/sample - loss: 0.5707 - acc: 0.8122 - val_loss: 0.4853 - val_acc: 0.9351\n",
      "Epoch 4/40\n",
      "15475/15475 [==============================] - 23s 2ms/sample - loss: 0.5214 - acc: 0.8743 - val_loss: 0.4431 - val_acc: 0.9550\n",
      "Epoch 5/40\n",
      "15475/15475 [==============================] - 23s 1ms/sample - loss: 0.4807 - acc: 0.9088 - val_loss: 0.4077 - val_acc: 0.9778\n",
      "Epoch 6/40\n",
      "15475/15475 [==============================] - 23s 1ms/sample - loss: 0.4511 - acc: 0.9148 - val_loss: 0.3765 - val_acc: 0.9816\n",
      "Epoch 7/40\n",
      "15475/15475 [==============================] - 24s 2ms/sample - loss: 0.4226 - acc: 0.9166 - val_loss: 0.3481 - val_acc: 0.9806\n",
      "Epoch 8/40\n",
      "15475/15475 [==============================] - 24s 2ms/sample - loss: 0.3954 - acc: 0.9498 - val_loss: 0.3244 - val_acc: 0.9850\n",
      "Epoch 9/40\n",
      "15475/15475 [==============================] - 24s 2ms/sample - loss: 0.3734 - acc: 0.9705 - val_loss: 0.3029 - val_acc: 0.9866\n",
      "Epoch 10/40\n",
      "15475/15475 [==============================] - 23s 1ms/sample - loss: 0.3530 - acc: 0.9741 - val_loss: 0.2901 - val_acc: 0.9850\n",
      "Epoch 11/40\n",
      "15475/15475 [==============================] - 23s 1ms/sample - loss: 0.3319 - acc: 0.9789 - val_loss: 0.2701 - val_acc: 0.9879\n",
      "Epoch 12/40\n",
      "15475/15475 [==============================] - 24s 2ms/sample - loss: 0.3167 - acc: 0.9807 - val_loss: 0.2559 - val_acc: 0.9902\n",
      "Epoch 13/40\n",
      "15475/15475 [==============================] - 23s 1ms/sample - loss: 0.3039 - acc: 0.9822 - val_loss: 0.2445 - val_acc: 0.9922\n",
      "Epoch 14/40\n",
      "15475/15475 [==============================] - 23s 1ms/sample - loss: 0.2900 - acc: 0.9835 - val_loss: 0.2343 - val_acc: 0.9922\n",
      "Epoch 15/40\n",
      "15475/15475 [==============================] - 23s 1ms/sample - loss: 0.2771 - acc: 0.9861 - val_loss: 0.2281 - val_acc: 0.9928\n",
      "Epoch 16/40\n",
      "15475/15475 [==============================] - 23s 1ms/sample - loss: 0.2664 - acc: 0.9855 - val_loss: 0.2162 - val_acc: 0.9930\n",
      "Epoch 17/40\n",
      "15475/15475 [==============================] - 23s 1ms/sample - loss: 0.2552 - acc: 0.9880 - val_loss: 0.2104 - val_acc: 0.9948\n",
      "Epoch 18/40\n",
      "15475/15475 [==============================] - 23s 1ms/sample - loss: 0.2508 - acc: 0.9884 - val_loss: 0.2065 - val_acc: 0.9935\n",
      "Epoch 19/40\n",
      "15475/15475 [==============================] - 23s 1ms/sample - loss: 0.2412 - acc: 0.9890 - val_loss: 0.1983 - val_acc: 0.9959\n",
      "Epoch 20/40\n",
      "15475/15475 [==============================] - 23s 1ms/sample - loss: 0.2367 - acc: 0.9891 - val_loss: 0.1889 - val_acc: 0.9953\n",
      "Epoch 21/40\n",
      "15475/15475 [==============================] - 23s 1ms/sample - loss: 0.2302 - acc: 0.9893 - val_loss: 0.1886 - val_acc: 0.9948\n",
      "Epoch 22/40\n",
      "15475/15475 [==============================] - 23s 1ms/sample - loss: 0.2236 - acc: 0.9900 - val_loss: 0.1846 - val_acc: 0.9961\n",
      "Epoch 23/40\n",
      "15475/15475 [==============================] - 23s 1ms/sample - loss: 0.2207 - acc: 0.9895 - val_loss: 0.1836 - val_acc: 0.9956\n",
      "Epoch 24/40\n",
      "15475/15475 [==============================] - 23s 1ms/sample - loss: 0.2172 - acc: 0.9899 - val_loss: 0.1764 - val_acc: 0.9961\n",
      "Epoch 25/40\n",
      "15475/15475 [==============================] - 23s 1ms/sample - loss: 0.2137 - acc: 0.9893 - val_loss: 0.1750 - val_acc: 0.9959\n",
      "Epoch 26/40\n",
      "15475/15475 [==============================] - 23s 2ms/sample - loss: 0.2086 - acc: 0.9894 - val_loss: 0.1741 - val_acc: 0.9956\n",
      "Epoch 27/40\n",
      "15475/15475 [==============================] - 23s 1ms/sample - loss: 0.2087 - acc: 0.9907 - val_loss: 0.1747 - val_acc: 0.9956\n",
      "Epoch 28/40\n",
      "15475/15475 [==============================] - 22s 1ms/sample - loss: 0.2071 - acc: 0.9894 - val_loss: 0.1689 - val_acc: 0.9961\n",
      "Epoch 29/40\n",
      "15475/15475 [==============================] - 23s 1ms/sample - loss: 0.2024 - acc: 0.9902 - val_loss: 0.1691 - val_acc: 0.9956\n",
      "Epoch 30/40\n",
      "15475/15475 [==============================] - 23s 1ms/sample - loss: 0.2019 - acc: 0.9901 - val_loss: 0.1645 - val_acc: 0.9956\n",
      "Epoch 31/40\n",
      "15475/15475 [==============================] - 24s 2ms/sample - loss: 0.1992 - acc: 0.9900 - val_loss: 0.1662 - val_acc: 0.9953\n",
      "Epoch 32/40\n",
      "15475/15475 [==============================] - 24s 2ms/sample - loss: 0.1969 - acc: 0.9904 - val_loss: 0.1661 - val_acc: 0.9959\n",
      "Epoch 33/40\n",
      "15360/15475 [============================>.] - ETA: 0s - loss: 0.1955 - acc: 0.9900\n",
      "Epoch 00033: ReduceLROnPlateau reducing learning rate to 0.00010000000474974513.\n",
      "15475/15475 [==============================] - 23s 2ms/sample - loss: 0.1954 - acc: 0.9901 - val_loss: 0.1722 - val_acc: 0.9959\n",
      "Epoch 34/40\n",
      "15475/15475 [==============================] - 23s 1ms/sample - loss: 0.1415 - acc: 0.9907 - val_loss: 0.0972 - val_acc: 0.9959\n",
      "Epoch 35/40\n",
      "15475/15475 [==============================] - 22s 1ms/sample - loss: 0.1236 - acc: 0.9902 - val_loss: 0.0937 - val_acc: 0.9959\n",
      "Epoch 36/40\n",
      "15475/15475 [==============================] - 23s 1ms/sample - loss: 0.1212 - acc: 0.9914 - val_loss: 0.0931 - val_acc: 0.9959\n",
      "Epoch 37/40\n",
      "15475/15475 [==============================] - 23s 1ms/sample - loss: 0.1214 - acc: 0.9909 - val_loss: 0.0925 - val_acc: 0.9959\n",
      "Epoch 38/40\n",
      "15475/15475 [==============================] - 23s 1ms/sample - loss: 0.1235 - acc: 0.9897 - val_loss: 0.0921 - val_acc: 0.9959\n",
      "Epoch 39/40\n",
      "15475/15475 [==============================] - 23s 1ms/sample - loss: 0.1224 - acc: 0.9900 - val_loss: 0.0921 - val_acc: 0.9959\n",
      "Epoch 40/40\n",
      "15475/15475 [==============================] - 23s 1ms/sample - loss: 0.1184 - acc: 0.9913 - val_loss: 0.0918 - val_acc: 0.9959\n",
      "9672/9672 [==============================] - 8s 846us/sample - loss: 0.0959 - acc: 0.9951\n",
      "Train on 15475 samples, validate on 3869 samples\n",
      "Epoch 1/40\n",
      "15475/15475 [==============================] - 24s 2ms/sample - loss: 0.8743 - acc: 0.7905 - val_loss: 0.6105 - val_acc: 0.9307\n",
      "Epoch 2/40\n",
      "15475/15475 [==============================] - 23s 1ms/sample - loss: 0.6087 - acc: 0.8556 - val_loss: 0.5255 - val_acc: 0.9574\n",
      "Epoch 3/40\n",
      "15475/15475 [==============================] - 23s 1ms/sample - loss: 0.5486 - acc: 0.8899 - val_loss: 0.4627 - val_acc: 0.9716\n",
      "Epoch 4/40\n",
      "15475/15475 [==============================] - 22s 1ms/sample - loss: 0.4978 - acc: 0.9020 - val_loss: 0.4045 - val_acc: 0.9754\n",
      "Epoch 5/40\n",
      "15475/15475 [==============================] - 23s 1ms/sample - loss: 0.4573 - acc: 0.9141 - val_loss: 0.3642 - val_acc: 0.9736\n",
      "Epoch 6/40\n",
      "15475/15475 [==============================] - 23s 1ms/sample - loss: 0.4185 - acc: 0.9174 - val_loss: 0.3327 - val_acc: 0.9804\n",
      "Epoch 7/40\n",
      "15475/15475 [==============================] - 23s 1ms/sample - loss: 0.3951 - acc: 0.9214 - val_loss: 0.3034 - val_acc: 0.9819\n",
      "Epoch 8/40\n",
      "15475/15475 [==============================] - 23s 1ms/sample - loss: 0.3696 - acc: 0.9532 - val_loss: 0.2806 - val_acc: 0.9842\n",
      "Epoch 9/40\n",
      "15475/15475 [==============================] - 23s 1ms/sample - loss: 0.3481 - acc: 0.9586 - val_loss: 0.2681 - val_acc: 0.9850\n",
      "Epoch 10/40\n",
      "15475/15475 [==============================] - 23s 1ms/sample - loss: 0.3289 - acc: 0.9644 - val_loss: 0.2479 - val_acc: 0.9860\n",
      "Epoch 11/40\n",
      "15475/15475 [==============================] - 24s 2ms/sample - loss: 0.3114 - acc: 0.9659 - val_loss: 0.2420 - val_acc: 0.9840\n",
      "Epoch 12/40\n",
      "15475/15475 [==============================] - 23s 1ms/sample - loss: 0.2962 - acc: 0.9693 - val_loss: 0.2291 - val_acc: 0.9902\n",
      "Epoch 13/40\n",
      "15475/15475 [==============================] - 23s 1ms/sample - loss: 0.2873 - acc: 0.9698 - val_loss: 0.2218 - val_acc: 0.9904\n",
      "Epoch 14/40\n",
      "15475/15475 [==============================] - 23s 1ms/sample - loss: 0.2773 - acc: 0.9707 - val_loss: 0.2102 - val_acc: 0.9922\n",
      "Epoch 15/40\n",
      "15475/15475 [==============================] - 24s 2ms/sample - loss: 0.2664 - acc: 0.9728 - val_loss: 0.2032 - val_acc: 0.9917\n",
      "Epoch 16/40\n",
      "15475/15475 [==============================] - 23s 1ms/sample - loss: 0.2577 - acc: 0.9745 - val_loss: 0.1993 - val_acc: 0.9912\n",
      "Epoch 17/40\n",
      "15475/15475 [==============================] - 23s 1ms/sample - loss: 0.2522 - acc: 0.9751 - val_loss: 0.1908 - val_acc: 0.9930\n",
      "Epoch 18/40\n",
      "15475/15475 [==============================] - 23s 1ms/sample - loss: 0.2446 - acc: 0.9751 - val_loss: 0.1894 - val_acc: 0.9925\n",
      "Epoch 19/40\n",
      "15475/15475 [==============================] - 23s 1ms/sample - loss: 0.2425 - acc: 0.9751 - val_loss: 0.1854 - val_acc: 0.9941\n",
      "Epoch 20/40\n",
      "15475/15475 [==============================] - 23s 1ms/sample - loss: 0.2340 - acc: 0.9777 - val_loss: 0.1816 - val_acc: 0.9935\n",
      "Epoch 21/40\n",
      "15475/15475 [==============================] - 23s 1ms/sample - loss: 0.2312 - acc: 0.9781 - val_loss: 0.1850 - val_acc: 0.9943\n",
      "Epoch 22/40\n",
      "15475/15475 [==============================] - 22s 1ms/sample - loss: 0.2303 - acc: 0.9765 - val_loss: 0.1753 - val_acc: 0.9941\n",
      "Epoch 23/40\n",
      "15475/15475 [==============================] - 23s 1ms/sample - loss: 0.2251 - acc: 0.9778 - val_loss: 0.1743 - val_acc: 0.9948\n",
      "Epoch 24/40\n",
      "15475/15475 [==============================] - 23s 1ms/sample - loss: 0.2265 - acc: 0.9747 - val_loss: 0.1733 - val_acc: 0.9941\n",
      "Epoch 25/40\n",
      "15475/15475 [==============================] - 22s 1ms/sample - loss: 0.2187 - acc: 0.9787 - val_loss: 0.1692 - val_acc: 0.9948\n",
      "Epoch 26/40\n",
      "15475/15475 [==============================] - 23s 1ms/sample - loss: 0.2204 - acc: 0.9773 - val_loss: 0.1688 - val_acc: 0.9956\n",
      "Epoch 27/40\n",
      "15475/15475 [==============================] - 23s 1ms/sample - loss: 0.2171 - acc: 0.9779 - val_loss: 0.1736 - val_acc: 0.9938\n",
      "Epoch 28/40\n",
      "15475/15475 [==============================] - 23s 1ms/sample - loss: 0.2162 - acc: 0.9774 - val_loss: 0.1690 - val_acc: 0.9948\n",
      "Epoch 29/40\n",
      "15475/15475 [==============================] - 23s 1ms/sample - loss: 0.2139 - acc: 0.9773 - val_loss: 0.1655 - val_acc: 0.9948\n",
      "Epoch 30/40\n",
      "15475/15475 [==============================] - 23s 1ms/sample - loss: 0.2095 - acc: 0.9791 - val_loss: 0.1619 - val_acc: 0.9946\n",
      "Epoch 31/40\n",
      "15475/15475 [==============================] - 23s 1ms/sample - loss: 0.2097 - acc: 0.9783 - val_loss: 0.1640 - val_acc: 0.9946\n",
      "Epoch 32/40\n",
      "15475/15475 [==============================] - 23s 1ms/sample - loss: 0.2088 - acc: 0.9784 - val_loss: 0.1646 - val_acc: 0.9946\n",
      "Epoch 33/40\n",
      "15360/15475 [============================>.] - ETA: 0s - loss: 0.2091 - acc: 0.9778\n",
      "Epoch 00033: ReduceLROnPlateau reducing learning rate to 0.00010000000474974513.\n",
      "15475/15475 [==============================] - 23s 2ms/sample - loss: 0.2090 - acc: 0.9778 - val_loss: 0.1628 - val_acc: 0.9941\n",
      "Epoch 34/40\n",
      "15475/15475 [==============================] - 23s 1ms/sample - loss: 0.1485 - acc: 0.9785 - val_loss: 0.0956 - val_acc: 0.9946\n",
      "Epoch 35/40\n",
      "15475/15475 [==============================] - 23s 1ms/sample - loss: 0.1392 - acc: 0.9785 - val_loss: 0.0935 - val_acc: 0.9946\n",
      "Epoch 36/40\n",
      "15475/15475 [==============================] - 23s 1ms/sample - loss: 0.1352 - acc: 0.9786 - val_loss: 0.0929 - val_acc: 0.9946\n",
      "Epoch 37/40\n",
      "15475/15475 [==============================] - 22s 1ms/sample - loss: 0.1349 - acc: 0.9796 - val_loss: 0.0930 - val_acc: 0.9943\n",
      "Epoch 38/40\n",
      "15475/15475 [==============================] - 23s 1ms/sample - loss: 0.1328 - acc: 0.9785 - val_loss: 0.0920 - val_acc: 0.9946\n",
      "Epoch 39/40\n",
      "15475/15475 [==============================] - 23s 1ms/sample - loss: 0.1343 - acc: 0.9780 - val_loss: 0.0918 - val_acc: 0.9946\n",
      "Epoch 40/40\n",
      "15475/15475 [==============================] - 23s 1ms/sample - loss: 0.1369 - acc: 0.9766 - val_loss: 0.0922 - val_acc: 0.9946\n",
      "9672/9672 [==============================] - 8s 784us/sample - loss: 0.0872 - acc: 0.9956\n",
      "Train on 15475 samples, validate on 3869 samples\n",
      "Epoch 1/40\n",
      "15475/15475 [==============================] - 26s 2ms/sample - loss: 1.2990 - acc: 0.7743 - val_loss: 0.7532 - val_acc: 0.9256\n",
      "Epoch 2/40\n",
      "15475/15475 [==============================] - 23s 2ms/sample - loss: 0.6998 - acc: 0.9259 - val_loss: 0.6200 - val_acc: 0.9680\n",
      "Epoch 3/40\n",
      "15475/15475 [==============================] - 23s 1ms/sample - loss: 0.6056 - acc: 0.9606 - val_loss: 0.5537 - val_acc: 0.9788\n",
      "Epoch 4/40\n",
      "15475/15475 [==============================] - 23s 1ms/sample - loss: 0.5404 - acc: 0.9721 - val_loss: 0.4937 - val_acc: 0.9783\n",
      "Epoch 5/40\n",
      "15475/15475 [==============================] - 24s 2ms/sample - loss: 0.4985 - acc: 0.9760 - val_loss: 0.4637 - val_acc: 0.9858\n",
      "Epoch 6/40\n",
      "15475/15475 [==============================] - 23s 2ms/sample - loss: 0.4668 - acc: 0.9807 - val_loss: 0.4331 - val_acc: 0.9879\n",
      "Epoch 7/40\n",
      "15475/15475 [==============================] - 24s 2ms/sample - loss: 0.4417 - acc: 0.9849 - val_loss: 0.4195 - val_acc: 0.9886\n",
      "Epoch 8/40\n",
      "15475/15475 [==============================] - 24s 2ms/sample - loss: 0.4220 - acc: 0.9861 - val_loss: 0.3949 - val_acc: 0.9910\n",
      "Epoch 9/40\n",
      "15475/15475 [==============================] - 23s 1ms/sample - loss: 0.4057 - acc: 0.9880 - val_loss: 0.4029 - val_acc: 0.9904\n",
      "Epoch 10/40\n",
      "15475/15475 [==============================] - 23s 1ms/sample - loss: 0.3933 - acc: 0.9900 - val_loss: 0.3656 - val_acc: 0.9925\n",
      "Epoch 11/40\n",
      "15475/15475 [==============================] - 23s 2ms/sample - loss: 0.3812 - acc: 0.9900 - val_loss: 0.3575 - val_acc: 0.9935\n",
      "Epoch 12/40\n",
      "15475/15475 [==============================] - 25s 2ms/sample - loss: 0.3724 - acc: 0.9915 - val_loss: 0.3513 - val_acc: 0.9943\n",
      "Epoch 13/40\n",
      "15475/15475 [==============================] - 23s 2ms/sample - loss: 0.3676 - acc: 0.9911 - val_loss: 0.3535 - val_acc: 0.9941\n",
      "Epoch 14/40\n",
      "15475/15475 [==============================] - 23s 1ms/sample - loss: 0.3613 - acc: 0.9917 - val_loss: 0.3343 - val_acc: 0.9948\n",
      "Epoch 15/40\n",
      "15475/15475 [==============================] - 23s 1ms/sample - loss: 0.3541 - acc: 0.9929 - val_loss: 0.3297 - val_acc: 0.9959\n",
      "Epoch 16/40\n",
      "15475/15475 [==============================] - 23s 1ms/sample - loss: 0.3498 - acc: 0.9928 - val_loss: 0.3269 - val_acc: 0.9961\n",
      "Epoch 17/40\n",
      "15475/15475 [==============================] - 23s 2ms/sample - loss: 0.3476 - acc: 0.9920 - val_loss: 0.3318 - val_acc: 0.9938\n",
      "Epoch 18/40\n",
      "15475/15475 [==============================] - 23s 1ms/sample - loss: 0.3392 - acc: 0.9934 - val_loss: 0.3192 - val_acc: 0.9964\n",
      "Epoch 19/40\n",
      "15475/15475 [==============================] - 23s 1ms/sample - loss: 0.3350 - acc: 0.9937 - val_loss: 0.3227 - val_acc: 0.9956\n",
      "Epoch 20/40\n",
      "15475/15475 [==============================] - 23s 2ms/sample - loss: 0.3334 - acc: 0.9936 - val_loss: 0.3074 - val_acc: 0.9956\n",
      "Epoch 21/40\n",
      "15475/15475 [==============================] - 23s 1ms/sample - loss: 0.3288 - acc: 0.9941 - val_loss: 0.3167 - val_acc: 0.9959\n",
      "Epoch 22/40\n",
      "15475/15475 [==============================] - 23s 1ms/sample - loss: 0.3283 - acc: 0.9935 - val_loss: 0.3140 - val_acc: 0.9951\n",
      "Epoch 23/40\n",
      "15475/15475 [==============================] - 23s 2ms/sample - loss: 0.3238 - acc: 0.9939 - val_loss: 0.3039 - val_acc: 0.9959\n",
      "Epoch 24/40\n",
      "15475/15475 [==============================] - 23s 1ms/sample - loss: 0.3241 - acc: 0.9934 - val_loss: 0.3010 - val_acc: 0.9959\n",
      "Epoch 25/40\n",
      "15475/15475 [==============================] - 23s 1ms/sample - loss: 0.3207 - acc: 0.9935 - val_loss: 0.3087 - val_acc: 0.9959\n",
      "Epoch 26/40\n",
      "15475/15475 [==============================] - 24s 2ms/sample - loss: 0.3162 - acc: 0.9941 - val_loss: 0.3000 - val_acc: 0.9959\n",
      "Epoch 27/40\n",
      "15475/15475 [==============================] - 23s 1ms/sample - loss: 0.3164 - acc: 0.9933 - val_loss: 0.3167 - val_acc: 0.9951\n",
      "Epoch 28/40\n",
      "15475/15475 [==============================] - 23s 1ms/sample - loss: 0.3147 - acc: 0.9945 - val_loss: 0.2924 - val_acc: 0.9959\n",
      "Epoch 29/40\n",
      "15475/15475 [==============================] - 23s 1ms/sample - loss: 0.3115 - acc: 0.9946 - val_loss: 0.3027 - val_acc: 0.9948\n",
      "Epoch 30/40\n",
      "15475/15475 [==============================] - 23s 2ms/sample - loss: 0.3107 - acc: 0.9937 - val_loss: 0.2870 - val_acc: 0.9953\n",
      "Epoch 31/40\n",
      "15475/15475 [==============================] - 23s 1ms/sample - loss: 0.3094 - acc: 0.9937 - val_loss: 0.2896 - val_acc: 0.9953\n",
      "Epoch 32/40\n",
      "15475/15475 [==============================] - 23s 2ms/sample - loss: 0.3073 - acc: 0.9937 - val_loss: 0.2964 - val_acc: 0.9953\n",
      "Epoch 33/40\n",
      "15360/15475 [============================>.] - ETA: 0s - loss: 0.3082 - acc: 0.9936\n",
      "Epoch 00033: ReduceLROnPlateau reducing learning rate to 0.00010000000474974513.\n",
      "15475/15475 [==============================] - 24s 2ms/sample - loss: 0.3082 - acc: 0.9936 - val_loss: 0.2958 - val_acc: 0.9951\n",
      "Epoch 34/40\n",
      "15475/15475 [==============================] - 23s 1ms/sample - loss: 0.1608 - acc: 0.9939 - val_loss: 0.1207 - val_acc: 0.9956\n",
      "Epoch 35/40\n",
      "15475/15475 [==============================] - 23s 1ms/sample - loss: 0.1322 - acc: 0.9939 - val_loss: 0.1163 - val_acc: 0.9953\n",
      "Epoch 36/40\n",
      "15475/15475 [==============================] - 23s 2ms/sample - loss: 0.1301 - acc: 0.9942 - val_loss: 0.1155 - val_acc: 0.9953\n",
      "Epoch 37/40\n",
      "15475/15475 [==============================] - 23s 1ms/sample - loss: 0.1302 - acc: 0.9940 - val_loss: 0.1148 - val_acc: 0.9953\n",
      "Epoch 38/40\n",
      "15475/15475 [==============================] - 23s 2ms/sample - loss: 0.1302 - acc: 0.9936 - val_loss: 0.1151 - val_acc: 0.9953\n",
      "Epoch 39/40\n",
      "15475/15475 [==============================] - 24s 2ms/sample - loss: 0.1313 - acc: 0.9932 - val_loss: 0.1147 - val_acc: 0.9953\n",
      "Epoch 40/40\n",
      "15475/15475 [==============================] - 23s 1ms/sample - loss: 0.1297 - acc: 0.9936 - val_loss: 0.1145 - val_acc: 0.9953\n",
      "9672/9672 [==============================] - 8s 857us/sample - loss: 0.1153 - acc: 0.9961\n",
      "Train on 15475 samples, validate on 3869 samples\n",
      "Epoch 1/40\n",
      "15475/15475 [==============================] - 26s 2ms/sample - loss: 1.3265 - acc: 0.7773 - val_loss: 0.7677 - val_acc: 0.9630\n",
      "Epoch 2/40\n",
      "15475/15475 [==============================] - 23s 1ms/sample - loss: 0.7231 - acc: 0.9473 - val_loss: 0.6356 - val_acc: 0.9716\n",
      "Epoch 3/40\n",
      "15475/15475 [==============================] - 24s 2ms/sample - loss: 0.6251 - acc: 0.9632 - val_loss: 0.5602 - val_acc: 0.9785\n",
      "Epoch 4/40\n",
      "15475/15475 [==============================] - 23s 1ms/sample - loss: 0.5560 - acc: 0.9709 - val_loss: 0.5129 - val_acc: 0.9767\n",
      "Epoch 5/40\n",
      "15475/15475 [==============================] - 23s 1ms/sample - loss: 0.5087 - acc: 0.9750 - val_loss: 0.4710 - val_acc: 0.9832\n",
      "Epoch 6/40\n",
      "15475/15475 [==============================] - 23s 1ms/sample - loss: 0.4742 - acc: 0.9795 - val_loss: 0.4452 - val_acc: 0.9860\n",
      "Epoch 7/40\n",
      "15475/15475 [==============================] - 23s 1ms/sample - loss: 0.4477 - acc: 0.9830 - val_loss: 0.4179 - val_acc: 0.9871\n",
      "Epoch 8/40\n",
      "15475/15475 [==============================] - 24s 2ms/sample - loss: 0.4282 - acc: 0.9840 - val_loss: 0.3992 - val_acc: 0.9891\n",
      "Epoch 9/40\n",
      "15475/15475 [==============================] - 23s 2ms/sample - loss: 0.4068 - acc: 0.9874 - val_loss: 0.3811 - val_acc: 0.9912\n",
      "Epoch 10/40\n",
      "15475/15475 [==============================] - 23s 1ms/sample - loss: 0.3942 - acc: 0.9887 - val_loss: 0.3662 - val_acc: 0.9910\n",
      "Epoch 11/40\n",
      "15475/15475 [==============================] - 23s 2ms/sample - loss: 0.3820 - acc: 0.9899 - val_loss: 0.3549 - val_acc: 0.9941\n",
      "Epoch 12/40\n",
      "15475/15475 [==============================] - 23s 1ms/sample - loss: 0.3731 - acc: 0.9908 - val_loss: 0.3474 - val_acc: 0.9925\n",
      "Epoch 13/40\n",
      "15475/15475 [==============================] - 23s 1ms/sample - loss: 0.3639 - acc: 0.9918 - val_loss: 0.3455 - val_acc: 0.9948\n",
      "Epoch 14/40\n",
      "15475/15475 [==============================] - 23s 2ms/sample - loss: 0.3581 - acc: 0.9926 - val_loss: 0.3625 - val_acc: 0.9928\n",
      "Epoch 15/40\n",
      "15475/15475 [==============================] - 23s 1ms/sample - loss: 0.3558 - acc: 0.9918 - val_loss: 0.3279 - val_acc: 0.9956\n",
      "Epoch 16/40\n",
      "15475/15475 [==============================] - 23s 1ms/sample - loss: 0.3466 - acc: 0.9922 - val_loss: 0.3249 - val_acc: 0.9959\n",
      "Epoch 17/40\n",
      "15475/15475 [==============================] - 23s 1ms/sample - loss: 0.3399 - acc: 0.9937 - val_loss: 0.3258 - val_acc: 0.9961\n",
      "Epoch 18/40\n",
      "15475/15475 [==============================] - 23s 1ms/sample - loss: 0.3392 - acc: 0.9928 - val_loss: 0.3132 - val_acc: 0.9953\n",
      "Epoch 19/40\n",
      "15475/15475 [==============================] - 23s 1ms/sample - loss: 0.3344 - acc: 0.9934 - val_loss: 0.3157 - val_acc: 0.9953\n",
      "Epoch 20/40\n",
      "15475/15475 [==============================] - 23s 1ms/sample - loss: 0.3288 - acc: 0.9942 - val_loss: 0.3062 - val_acc: 0.9956\n",
      "Epoch 21/40\n",
      "15475/15475 [==============================] - 23s 2ms/sample - loss: 0.3268 - acc: 0.9936 - val_loss: 0.3137 - val_acc: 0.9953\n",
      "Epoch 22/40\n",
      "15475/15475 [==============================] - 23s 1ms/sample - loss: 0.3220 - acc: 0.9939 - val_loss: 0.3085 - val_acc: 0.9959\n",
      "Epoch 23/40\n",
      "15360/15475 [============================>.] - ETA: 0s - loss: 0.3200 - acc: 0.9936\n",
      "Epoch 00023: ReduceLROnPlateau reducing learning rate to 0.00010000000474974513.\n",
      "15475/15475 [==============================] - 23s 2ms/sample - loss: 0.3202 - acc: 0.9936 - val_loss: 0.3127 - val_acc: 0.9956\n",
      "Epoch 24/40\n",
      "15475/15475 [==============================] - 23s 1ms/sample - loss: 0.1743 - acc: 0.9941 - val_loss: 0.1307 - val_acc: 0.9953\n",
      "Epoch 25/40\n",
      "15475/15475 [==============================] - 23s 1ms/sample - loss: 0.1449 - acc: 0.9942 - val_loss: 0.1276 - val_acc: 0.9953\n",
      "Epoch 26/40\n",
      "15475/15475 [==============================] - 23s 2ms/sample - loss: 0.1434 - acc: 0.9942 - val_loss: 0.1281 - val_acc: 0.9956\n",
      "Epoch 27/40\n",
      "15475/15475 [==============================] - 23s 1ms/sample - loss: 0.1425 - acc: 0.9943 - val_loss: 0.1264 - val_acc: 0.9953\n",
      "Epoch 28/40\n",
      "15475/15475 [==============================] - 24s 2ms/sample - loss: 0.1417 - acc: 0.9946 - val_loss: 0.1268 - val_acc: 0.9956\n",
      "Epoch 29/40\n",
      "15475/15475 [==============================] - 23s 1ms/sample - loss: 0.1412 - acc: 0.9948 - val_loss: 0.1261 - val_acc: 0.9953\n",
      "Epoch 30/40\n",
      "15475/15475 [==============================] - 24s 2ms/sample - loss: 0.1426 - acc: 0.9941 - val_loss: 0.1262 - val_acc: 0.9956\n",
      "Epoch 31/40\n",
      "15360/15475 [============================>.] - ETA: 0s - loss: 0.1421 - acc: 0.9943Restoring model weights from the end of the best epoch.\n",
      "15475/15475 [==============================] - 24s 2ms/sample - loss: 0.1423 - acc: 0.9942 - val_loss: 0.1273 - val_acc: 0.9956\n",
      "Epoch 00031: early stopping\n",
      "9672/9672 [==============================] - 8s 796us/sample - loss: 0.1305 - acc: 0.9948\n",
      "Train on 15475 samples, validate on 3869 samples\n",
      "Epoch 1/40\n",
      "15475/15475 [==============================] - 26s 2ms/sample - loss: 1.2656 - acc: 0.8466 - val_loss: 0.6992 - val_acc: 0.9540\n",
      "Epoch 2/40\n",
      "15475/15475 [==============================] - 23s 1ms/sample - loss: 0.6617 - acc: 0.9529 - val_loss: 0.5771 - val_acc: 0.9729\n",
      "Epoch 3/40\n",
      "15475/15475 [==============================] - 25s 2ms/sample - loss: 0.5733 - acc: 0.9667 - val_loss: 0.5358 - val_acc: 0.9664\n",
      "Epoch 4/40\n",
      "15475/15475 [==============================] - 26s 2ms/sample - loss: 0.5185 - acc: 0.9729 - val_loss: 0.4847 - val_acc: 0.9785\n",
      "Epoch 5/40\n",
      "15475/15475 [==============================] - 23s 2ms/sample - loss: 0.4811 - acc: 0.9799 - val_loss: 0.4415 - val_acc: 0.9850\n",
      "Epoch 6/40\n",
      "15475/15475 [==============================] - 27s 2ms/sample - loss: 0.4507 - acc: 0.9846 - val_loss: 0.4310 - val_acc: 0.9894\n",
      "Epoch 7/40\n",
      "15475/15475 [==============================] - 24s 2ms/sample - loss: 0.4297 - acc: 0.9867 - val_loss: 0.4196 - val_acc: 0.9917\n",
      "Epoch 8/40\n",
      "15475/15475 [==============================] - 23s 2ms/sample - loss: 0.4126 - acc: 0.9877 - val_loss: 0.3951 - val_acc: 0.9873\n",
      "Epoch 9/40\n",
      "15475/15475 [==============================] - 23s 1ms/sample - loss: 0.3951 - acc: 0.9903 - val_loss: 0.3701 - val_acc: 0.9943\n",
      "Epoch 10/40\n",
      "15475/15475 [==============================] - 23s 2ms/sample - loss: 0.3807 - acc: 0.9917 - val_loss: 0.3596 - val_acc: 0.9935\n",
      "Epoch 11/40\n",
      "15475/15475 [==============================] - 23s 1ms/sample - loss: 0.3717 - acc: 0.9922 - val_loss: 0.3507 - val_acc: 0.9946\n",
      "Epoch 12/40\n",
      "15475/15475 [==============================] - 23s 1ms/sample - loss: 0.3664 - acc: 0.9923 - val_loss: 0.3533 - val_acc: 0.9951\n",
      "Epoch 13/40\n",
      "15475/15475 [==============================] - 25s 2ms/sample - loss: 0.3558 - acc: 0.9936 - val_loss: 0.3524 - val_acc: 0.9922\n",
      "Epoch 14/40\n",
      "15475/15475 [==============================] - 23s 1ms/sample - loss: 0.3549 - acc: 0.9925 - val_loss: 0.3503 - val_acc: 0.9948\n",
      "Epoch 15/40\n",
      "15475/15475 [==============================] - 23s 1ms/sample - loss: 0.3475 - acc: 0.9934 - val_loss: 0.3365 - val_acc: 0.9946\n",
      "Epoch 16/40\n",
      "15475/15475 [==============================] - 23s 1ms/sample - loss: 0.3420 - acc: 0.9940 - val_loss: 0.3241 - val_acc: 0.9946\n",
      "Epoch 17/40\n",
      "15475/15475 [==============================] - 23s 1ms/sample - loss: 0.3372 - acc: 0.9937 - val_loss: 0.3418 - val_acc: 0.9941\n",
      "Epoch 18/40\n",
      "15475/15475 [==============================] - 23s 1ms/sample - loss: 0.3360 - acc: 0.9938 - val_loss: 0.3338 - val_acc: 0.9951\n",
      "Epoch 19/40\n",
      "15360/15475 [============================>.] - ETA: 0s - loss: 0.3319 - acc: 0.9941\n",
      "Epoch 00019: ReduceLROnPlateau reducing learning rate to 0.00010000000474974513.\n",
      "15475/15475 [==============================] - 24s 2ms/sample - loss: 0.3319 - acc: 0.9942 - val_loss: 0.3263 - val_acc: 0.9943\n",
      "Epoch 20/40\n",
      "15475/15475 [==============================] - 23s 2ms/sample - loss: 0.1818 - acc: 0.9946 - val_loss: 0.1476 - val_acc: 0.9948\n",
      "Epoch 21/40\n",
      "15475/15475 [==============================] - 23s 1ms/sample - loss: 0.1548 - acc: 0.9939 - val_loss: 0.1458 - val_acc: 0.9943\n",
      "Epoch 22/40\n",
      "15475/15475 [==============================] - 23s 1ms/sample - loss: 0.1520 - acc: 0.9939 - val_loss: 0.1461 - val_acc: 0.9948\n",
      "Epoch 23/40\n",
      "15475/15475 [==============================] - 23s 1ms/sample - loss: 0.1535 - acc: 0.9941 - val_loss: 0.1441 - val_acc: 0.9943\n",
      "Epoch 24/40\n",
      "15475/15475 [==============================] - 23s 1ms/sample - loss: 0.1525 - acc: 0.9939 - val_loss: 0.1451 - val_acc: 0.9943\n",
      "Epoch 25/40\n",
      "15475/15475 [==============================] - 23s 1ms/sample - loss: 0.1520 - acc: 0.9938 - val_loss: 0.1440 - val_acc: 0.9941\n",
      "Epoch 26/40\n",
      "15360/15475 [============================>.] - ETA: 0s - loss: 0.1503 - acc: 0.9947\n",
      "Epoch 00026: ReduceLROnPlateau reducing learning rate to 1.0000000474974514e-05.\n",
      "15475/15475 [==============================] - 23s 1ms/sample - loss: 0.1504 - acc: 0.9946 - val_loss: 0.1448 - val_acc: 0.9941\n",
      "Epoch 27/40\n",
      "15475/15475 [==============================] - 23s 1ms/sample - loss: 0.1370 - acc: 0.9947 - val_loss: 0.1270 - val_acc: 0.9941\n",
      "Epoch 28/40\n",
      "15475/15475 [==============================] - 23s 2ms/sample - loss: 0.1343 - acc: 0.9943 - val_loss: 0.1267 - val_acc: 0.9941\n",
      "Epoch 29/40\n",
      "15475/15475 [==============================] - 23s 2ms/sample - loss: 0.1344 - acc: 0.9941 - val_loss: 0.1265 - val_acc: 0.9941\n",
      "Epoch 30/40\n",
      "15475/15475 [==============================] - 23s 1ms/sample - loss: 0.1342 - acc: 0.9939 - val_loss: 0.1264 - val_acc: 0.9941\n",
      "Epoch 31/40\n",
      "15360/15475 [============================>.] - ETA: 0s - loss: 0.1334 - acc: 0.9947Restoring model weights from the end of the best epoch.\n",
      "15475/15475 [==============================] - 25s 2ms/sample - loss: 0.1338 - acc: 0.9947 - val_loss: 0.1264 - val_acc: 0.9941\n",
      "Epoch 00031: early stopping\n",
      "9672/9672 [==============================] - 8s 824us/sample - loss: 0.1221 - acc: 0.9951\n",
      "Train on 15475 samples, validate on 3869 samples\n",
      "Epoch 1/40\n",
      "15475/15475 [==============================] - 27s 2ms/sample - loss: 2.0353 - acc: 0.8540 - val_loss: 1.0226 - val_acc: 0.9633\n",
      "Epoch 2/40\n",
      "15475/15475 [==============================] - 24s 2ms/sample - loss: 0.9508 - acc: 0.9613 - val_loss: 0.9089 - val_acc: 0.9543\n",
      "Epoch 3/40\n",
      "15475/15475 [==============================] - 24s 2ms/sample - loss: 0.8444 - acc: 0.9724 - val_loss: 0.7991 - val_acc: 0.9827\n",
      "Epoch 4/40\n",
      "15475/15475 [==============================] - 24s 2ms/sample - loss: 0.7747 - acc: 0.9782 - val_loss: 0.7366 - val_acc: 0.9858\n",
      "Epoch 5/40\n",
      "15475/15475 [==============================] - 24s 2ms/sample - loss: 0.7138 - acc: 0.9830 - val_loss: 0.6853 - val_acc: 0.9840\n",
      "Epoch 6/40\n",
      "15475/15475 [==============================] - 24s 2ms/sample - loss: 0.6703 - acc: 0.9849 - val_loss: 0.6469 - val_acc: 0.9884\n",
      "Epoch 7/40\n",
      "15475/15475 [==============================] - 24s 2ms/sample - loss: 0.6364 - acc: 0.9888 - val_loss: 0.6182 - val_acc: 0.9910\n",
      "Epoch 8/40\n",
      "15475/15475 [==============================] - 24s 2ms/sample - loss: 0.6143 - acc: 0.9893 - val_loss: 0.5933 - val_acc: 0.9897\n",
      "Epoch 9/40\n",
      "15475/15475 [==============================] - 24s 2ms/sample - loss: 0.6010 - acc: 0.9895 - val_loss: 0.5880 - val_acc: 0.9938\n",
      "Epoch 10/40\n",
      "15475/15475 [==============================] - 25s 2ms/sample - loss: 0.5904 - acc: 0.9895 - val_loss: 0.5780 - val_acc: 0.9938\n",
      "Epoch 11/40\n",
      "15475/15475 [==============================] - 24s 2ms/sample - loss: 0.5809 - acc: 0.9913 - val_loss: 0.5680 - val_acc: 0.9943\n",
      "Epoch 12/40\n",
      "15475/15475 [==============================] - 24s 2ms/sample - loss: 0.5739 - acc: 0.9912 - val_loss: 0.5480 - val_acc: 0.9951\n",
      "Epoch 13/40\n",
      "15475/15475 [==============================] - 24s 2ms/sample - loss: 0.5621 - acc: 0.9928 - val_loss: 0.5405 - val_acc: 0.9946\n",
      "Epoch 14/40\n",
      "15475/15475 [==============================] - 24s 2ms/sample - loss: 0.5594 - acc: 0.9917 - val_loss: 0.5396 - val_acc: 0.9951\n",
      "Epoch 15/40\n",
      "15475/15475 [==============================] - 24s 2ms/sample - loss: 0.5489 - acc: 0.9933 - val_loss: 0.5260 - val_acc: 0.9959\n",
      "Epoch 16/40\n",
      "15475/15475 [==============================] - 24s 2ms/sample - loss: 0.5411 - acc: 0.9939 - val_loss: 0.5413 - val_acc: 0.9956\n",
      "Epoch 17/40\n",
      "15475/15475 [==============================] - 24s 2ms/sample - loss: 0.5390 - acc: 0.9937 - val_loss: 0.5164 - val_acc: 0.9946\n",
      "Epoch 18/40\n",
      "15475/15475 [==============================] - 25s 2ms/sample - loss: 0.5321 - acc: 0.9938 - val_loss: 0.5114 - val_acc: 0.9956\n",
      "Epoch 19/40\n",
      "15475/15475 [==============================] - 24s 2ms/sample - loss: 0.5303 - acc: 0.9935 - val_loss: 0.5243 - val_acc: 0.9948\n",
      "Epoch 20/40\n",
      "15475/15475 [==============================] - 24s 2ms/sample - loss: 0.5274 - acc: 0.9937 - val_loss: 0.5060 - val_acc: 0.9956\n",
      "Epoch 21/40\n",
      "15475/15475 [==============================] - 24s 2ms/sample - loss: 0.5217 - acc: 0.9942 - val_loss: 0.5122 - val_acc: 0.9959\n",
      "Epoch 22/40\n",
      "15475/15475 [==============================] - 24s 2ms/sample - loss: 0.5198 - acc: 0.9935 - val_loss: 0.5012 - val_acc: 0.9956\n",
      "Epoch 23/40\n",
      "15475/15475 [==============================] - 24s 2ms/sample - loss: 0.5186 - acc: 0.9937 - val_loss: 0.4972 - val_acc: 0.9956\n",
      "Epoch 24/40\n",
      "15475/15475 [==============================] - 25s 2ms/sample - loss: 0.5139 - acc: 0.9939 - val_loss: 0.5033 - val_acc: 0.9956\n",
      "Epoch 25/40\n",
      "15475/15475 [==============================] - 24s 2ms/sample - loss: 0.5127 - acc: 0.9935 - val_loss: 0.4933 - val_acc: 0.9956\n",
      "Epoch 26/40\n",
      "15475/15475 [==============================] - 24s 2ms/sample - loss: 0.5104 - acc: 0.9939 - val_loss: 0.4902 - val_acc: 0.9956\n",
      "Epoch 27/40\n",
      "15475/15475 [==============================] - 25s 2ms/sample - loss: 0.5095 - acc: 0.9943 - val_loss: 0.4898 - val_acc: 0.9951\n",
      "Epoch 28/40\n",
      "15475/15475 [==============================] - 25s 2ms/sample - loss: 0.5045 - acc: 0.9936 - val_loss: 0.4930 - val_acc: 0.9953\n",
      "Epoch 29/40\n",
      "15475/15475 [==============================] - 24s 2ms/sample - loss: 0.5047 - acc: 0.9937 - val_loss: 0.4886 - val_acc: 0.9956\n",
      "Epoch 30/40\n",
      "15475/15475 [==============================] - 24s 2ms/sample - loss: 0.5031 - acc: 0.9942 - val_loss: 0.4833 - val_acc: 0.9953\n",
      "Epoch 31/40\n",
      "15475/15475 [==============================] - 24s 2ms/sample - loss: 0.5028 - acc: 0.9933 - val_loss: 0.4913 - val_acc: 0.9951\n",
      "Epoch 32/40\n",
      "15475/15475 [==============================] - 24s 2ms/sample - loss: 0.5002 - acc: 0.9942 - val_loss: 0.4884 - val_acc: 0.9943\n",
      "Epoch 33/40\n",
      "15360/15475 [============================>.] - ETA: 0s - loss: 0.5002 - acc: 0.9941\n",
      "Epoch 00033: ReduceLROnPlateau reducing learning rate to 0.00010000000474974513.\n",
      "15475/15475 [==============================] - 24s 2ms/sample - loss: 0.5001 - acc: 0.9941 - val_loss: 0.4895 - val_acc: 0.9951\n",
      "Epoch 34/40\n",
      "15475/15475 [==============================] - 24s 2ms/sample - loss: 0.2043 - acc: 0.9935 - val_loss: 0.1414 - val_acc: 0.9951\n",
      "Epoch 35/40\n",
      "15475/15475 [==============================] - 24s 2ms/sample - loss: 0.1553 - acc: 0.9943 - val_loss: 0.1386 - val_acc: 0.9953\n",
      "Epoch 36/40\n",
      "15475/15475 [==============================] - 25s 2ms/sample - loss: 0.1539 - acc: 0.9936 - val_loss: 0.1391 - val_acc: 0.9953\n",
      "Epoch 37/40\n",
      "15475/15475 [==============================] - 24s 2ms/sample - loss: 0.1556 - acc: 0.9941 - val_loss: 0.1378 - val_acc: 0.9953\n",
      "Epoch 38/40\n",
      "15475/15475 [==============================] - 24s 2ms/sample - loss: 0.1542 - acc: 0.9942 - val_loss: 0.1386 - val_acc: 0.9953\n",
      "Epoch 39/40\n",
      "15360/15475 [============================>.] - ETA: 0s - loss: 0.1543 - acc: 0.9937Restoring model weights from the end of the best epoch.\n",
      "15475/15475 [==============================] - 25s 2ms/sample - loss: 0.1545 - acc: 0.9936 - val_loss: 0.1376 - val_acc: 0.9953\n",
      "Epoch 00039: early stopping\n",
      "9672/9672 [==============================] - 8s 848us/sample - loss: 0.1398 - acc: 0.9958\n",
      "Train on 15475 samples, validate on 3869 samples\n",
      "Epoch 1/40\n",
      "15475/15475 [==============================] - 27s 2ms/sample - loss: 2.0385 - acc: 0.9000 - val_loss: 1.0237 - val_acc: 0.9731\n",
      "Epoch 2/40\n",
      "15475/15475 [==============================] - 24s 2ms/sample - loss: 0.9494 - acc: 0.9665 - val_loss: 0.8669 - val_acc: 0.9765\n",
      "Epoch 3/40\n",
      "15475/15475 [==============================] - 25s 2ms/sample - loss: 0.8396 - acc: 0.9739 - val_loss: 0.8001 - val_acc: 0.9819\n",
      "Epoch 4/40\n",
      "15475/15475 [==============================] - 24s 2ms/sample - loss: 0.7657 - acc: 0.9789 - val_loss: 0.7333 - val_acc: 0.9822\n",
      "Epoch 5/40\n",
      "15475/15475 [==============================] - 24s 2ms/sample - loss: 0.7080 - acc: 0.9835 - val_loss: 0.6852 - val_acc: 0.9894\n",
      "Epoch 6/40\n",
      "15475/15475 [==============================] - 24s 2ms/sample - loss: 0.6639 - acc: 0.9868 - val_loss: 0.6416 - val_acc: 0.9873\n",
      "Epoch 7/40\n",
      "15475/15475 [==============================] - 24s 2ms/sample - loss: 0.6314 - acc: 0.9886 - val_loss: 0.6209 - val_acc: 0.9917\n",
      "Epoch 8/40\n",
      "15475/15475 [==============================] - 24s 2ms/sample - loss: 0.6124 - acc: 0.9902 - val_loss: 0.5930 - val_acc: 0.9922\n",
      "Epoch 9/40\n",
      "15475/15475 [==============================] - 24s 2ms/sample - loss: 0.6000 - acc: 0.9896 - val_loss: 0.5893 - val_acc: 0.9910\n",
      "Epoch 10/40\n",
      "15475/15475 [==============================] - 24s 2ms/sample - loss: 0.5885 - acc: 0.9914 - val_loss: 0.5621 - val_acc: 0.9941\n",
      "Epoch 11/40\n",
      "15475/15475 [==============================] - 24s 2ms/sample - loss: 0.5776 - acc: 0.9928 - val_loss: 0.5693 - val_acc: 0.9933\n",
      "Epoch 12/40\n",
      "15475/15475 [==============================] - 24s 2ms/sample - loss: 0.5723 - acc: 0.9918 - val_loss: 0.5576 - val_acc: 0.9917\n",
      "Epoch 13/40\n",
      "15475/15475 [==============================] - 24s 2ms/sample - loss: 0.5611 - acc: 0.9926 - val_loss: 0.5578 - val_acc: 0.9917\n",
      "Epoch 14/40\n",
      "15475/15475 [==============================] - 25s 2ms/sample - loss: 0.5575 - acc: 0.9924 - val_loss: 0.5528 - val_acc: 0.9946\n",
      "Epoch 15/40\n",
      "15475/15475 [==============================] - 24s 2ms/sample - loss: 0.5486 - acc: 0.9948 - val_loss: 0.5410 - val_acc: 0.9941\n",
      "Epoch 16/40\n",
      "15475/15475 [==============================] - 24s 2ms/sample - loss: 0.5445 - acc: 0.9934 - val_loss: 0.5322 - val_acc: 0.9948\n",
      "Epoch 17/40\n",
      "15475/15475 [==============================] - 24s 2ms/sample - loss: 0.5402 - acc: 0.9941 - val_loss: 0.5189 - val_acc: 0.9956\n",
      "Epoch 18/40\n",
      "15475/15475 [==============================] - 24s 2ms/sample - loss: 0.5333 - acc: 0.9945 - val_loss: 0.5208 - val_acc: 0.9953\n",
      "Epoch 19/40\n",
      "15475/15475 [==============================] - 24s 2ms/sample - loss: 0.5298 - acc: 0.9944 - val_loss: 0.5183 - val_acc: 0.9953\n",
      "Epoch 20/40\n",
      "15475/15475 [==============================] - 24s 2ms/sample - loss: 0.5302 - acc: 0.9937 - val_loss: 0.5109 - val_acc: 0.9953\n",
      "Epoch 21/40\n",
      "15475/15475 [==============================] - 24s 2ms/sample - loss: 0.5239 - acc: 0.9944 - val_loss: 0.5491 - val_acc: 0.9941\n",
      "Epoch 22/40\n",
      "15475/15475 [==============================] - 24s 2ms/sample - loss: 0.5230 - acc: 0.9942 - val_loss: 0.5049 - val_acc: 0.9951\n",
      "Epoch 23/40\n",
      "15475/15475 [==============================] - 24s 2ms/sample - loss: 0.5172 - acc: 0.9944 - val_loss: 0.5147 - val_acc: 0.9948\n",
      "Epoch 24/40\n",
      "15475/15475 [==============================] - 24s 2ms/sample - loss: 0.5188 - acc: 0.9939 - val_loss: 0.4944 - val_acc: 0.9953\n",
      "Epoch 25/40\n",
      "15475/15475 [==============================] - 24s 2ms/sample - loss: 0.5146 - acc: 0.9944 - val_loss: 0.4982 - val_acc: 0.9953\n",
      "Epoch 26/40\n",
      "15475/15475 [==============================] - 24s 2ms/sample - loss: 0.5131 - acc: 0.9941 - val_loss: 0.4921 - val_acc: 0.9953\n",
      "Epoch 27/40\n",
      "15475/15475 [==============================] - 24s 2ms/sample - loss: 0.5119 - acc: 0.9943 - val_loss: 0.4965 - val_acc: 0.9953\n",
      "Epoch 28/40\n",
      "15475/15475 [==============================] - 24s 2ms/sample - loss: 0.5087 - acc: 0.9936 - val_loss: 0.4950 - val_acc: 0.9953\n",
      "Epoch 29/40\n",
      "15360/15475 [============================>.] - ETA: 0s - loss: 0.5053 - acc: 0.9945\n",
      "Epoch 00029: ReduceLROnPlateau reducing learning rate to 0.00010000000474974513.\n",
      "15475/15475 [==============================] - 24s 2ms/sample - loss: 0.5053 - acc: 0.9944 - val_loss: 0.4956 - val_acc: 0.9953\n",
      "Epoch 30/40\n",
      "15475/15475 [==============================] - 24s 2ms/sample - loss: 0.2096 - acc: 0.9948 - val_loss: 0.1510 - val_acc: 0.9953\n",
      "Epoch 31/40\n",
      "15475/15475 [==============================] - 24s 2ms/sample - loss: 0.1636 - acc: 0.9943 - val_loss: 0.1499 - val_acc: 0.9951\n",
      "Epoch 32/40\n",
      "15475/15475 [==============================] - 24s 2ms/sample - loss: 0.1610 - acc: 0.9946 - val_loss: 0.1507 - val_acc: 0.9953\n",
      "Epoch 33/40\n",
      "15475/15475 [==============================] - 24s 2ms/sample - loss: 0.1608 - acc: 0.9946 - val_loss: 0.1487 - val_acc: 0.9953\n",
      "Epoch 34/40\n",
      "15475/15475 [==============================] - 24s 2ms/sample - loss: 0.1609 - acc: 0.9943 - val_loss: 0.1488 - val_acc: 0.9953\n",
      "Epoch 35/40\n",
      "15475/15475 [==============================] - 24s 2ms/sample - loss: 0.1602 - acc: 0.9946 - val_loss: 0.1479 - val_acc: 0.9953\n",
      "Epoch 36/40\n",
      "15475/15475 [==============================] - 24s 2ms/sample - loss: 0.1601 - acc: 0.9948 - val_loss: 0.1478 - val_acc: 0.9951\n",
      "Epoch 37/40\n",
      "15475/15475 [==============================] - 24s 2ms/sample - loss: 0.1615 - acc: 0.9946 - val_loss: 0.1472 - val_acc: 0.9951\n",
      "Epoch 38/40\n",
      "15475/15475 [==============================] - 24s 2ms/sample - loss: 0.1606 - acc: 0.9939 - val_loss: 0.1481 - val_acc: 0.9951\n",
      "Epoch 39/40\n",
      "15475/15475 [==============================] - 24s 2ms/sample - loss: 0.1597 - acc: 0.9946 - val_loss: 0.1475 - val_acc: 0.9953\n",
      "Epoch 40/40\n",
      "15360/15475 [============================>.] - ETA: 0s - loss: 0.1601 - acc: 0.9945\n",
      "Epoch 00040: ReduceLROnPlateau reducing learning rate to 1.0000000474974514e-05.\n",
      "15475/15475 [==============================] - 24s 2ms/sample - loss: 0.1601 - acc: 0.9945 - val_loss: 0.1482 - val_acc: 0.9953\n",
      "9672/9672 [==============================] - 8s 823us/sample - loss: 0.1533 - acc: 0.9947\n",
      "Train on 15475 samples, validate on 3869 samples\n",
      "Epoch 1/40\n",
      "15475/15475 [==============================] - 29s 2ms/sample - loss: 2.0897 - acc: 0.7726 - val_loss: 1.0597 - val_acc: 0.9325\n",
      "Epoch 2/40\n",
      "15475/15475 [==============================] - 25s 2ms/sample - loss: 0.9714 - acc: 0.9446 - val_loss: 0.8964 - val_acc: 0.9700\n",
      "Epoch 3/40\n",
      "15475/15475 [==============================] - 24s 2ms/sample - loss: 0.8554 - acc: 0.9720 - val_loss: 0.8118 - val_acc: 0.9822\n",
      "Epoch 4/40\n",
      "15475/15475 [==============================] - 24s 2ms/sample - loss: 0.7776 - acc: 0.9788 - val_loss: 0.7467 - val_acc: 0.9837\n",
      "Epoch 5/40\n",
      "15475/15475 [==============================] - 24s 2ms/sample - loss: 0.7187 - acc: 0.9827 - val_loss: 0.6954 - val_acc: 0.9832\n",
      "Epoch 6/40\n",
      "15475/15475 [==============================] - 24s 2ms/sample - loss: 0.6748 - acc: 0.9859 - val_loss: 0.6369 - val_acc: 0.9897\n",
      "Epoch 7/40\n",
      "15475/15475 [==============================] - 24s 2ms/sample - loss: 0.6402 - acc: 0.9871 - val_loss: 0.6201 - val_acc: 0.9912\n",
      "Epoch 8/40\n",
      "15475/15475 [==============================] - 24s 2ms/sample - loss: 0.6202 - acc: 0.9882 - val_loss: 0.5963 - val_acc: 0.9915\n",
      "Epoch 9/40\n",
      "15475/15475 [==============================] - 25s 2ms/sample - loss: 0.6039 - acc: 0.9906 - val_loss: 0.5817 - val_acc: 0.9928\n",
      "Epoch 10/40\n",
      "15475/15475 [==============================] - 24s 2ms/sample - loss: 0.5917 - acc: 0.9905 - val_loss: 0.5762 - val_acc: 0.9917\n",
      "Epoch 11/40\n",
      "15475/15475 [==============================] - 24s 2ms/sample - loss: 0.5819 - acc: 0.9914 - val_loss: 0.5816 - val_acc: 0.9897\n",
      "Epoch 12/40\n",
      "15475/15475 [==============================] - 24s 2ms/sample - loss: 0.5737 - acc: 0.9920 - val_loss: 0.5518 - val_acc: 0.9938\n",
      "Epoch 13/40\n",
      "15475/15475 [==============================] - 24s 2ms/sample - loss: 0.5609 - acc: 0.9932 - val_loss: 0.5519 - val_acc: 0.9935\n",
      "Epoch 14/40\n",
      "15475/15475 [==============================] - 24s 2ms/sample - loss: 0.5551 - acc: 0.9933 - val_loss: 0.5417 - val_acc: 0.9935\n",
      "Epoch 15/40\n",
      "15475/15475 [==============================] - 24s 2ms/sample - loss: 0.5502 - acc: 0.9924 - val_loss: 0.5483 - val_acc: 0.9946\n",
      "Epoch 16/40\n",
      "15475/15475 [==============================] - 24s 2ms/sample - loss: 0.5447 - acc: 0.9935 - val_loss: 0.5229 - val_acc: 0.9946\n",
      "Epoch 17/40\n",
      "15475/15475 [==============================] - 24s 2ms/sample - loss: 0.5368 - acc: 0.9933 - val_loss: 0.5221 - val_acc: 0.9948\n",
      "Epoch 18/40\n",
      "15475/15475 [==============================] - 24s 2ms/sample - loss: 0.5347 - acc: 0.9934 - val_loss: 0.5191 - val_acc: 0.9941\n",
      "Epoch 19/40\n",
      "15475/15475 [==============================] - 24s 2ms/sample - loss: 0.5267 - acc: 0.9942 - val_loss: 0.5166 - val_acc: 0.9948\n",
      "Epoch 20/40\n",
      "15475/15475 [==============================] - 24s 2ms/sample - loss: 0.5251 - acc: 0.9941 - val_loss: 0.5129 - val_acc: 0.9941\n",
      "Epoch 21/40\n",
      "15475/15475 [==============================] - 24s 2ms/sample - loss: 0.5200 - acc: 0.9944 - val_loss: 0.5252 - val_acc: 0.9948\n",
      "Epoch 22/40\n",
      "15475/15475 [==============================] - 24s 2ms/sample - loss: 0.5206 - acc: 0.9931 - val_loss: 0.5076 - val_acc: 0.9948\n",
      "Epoch 23/40\n",
      "15475/15475 [==============================] - 24s 2ms/sample - loss: 0.5131 - acc: 0.9941 - val_loss: 0.5035 - val_acc: 0.9946\n",
      "Epoch 24/40\n",
      "15475/15475 [==============================] - 24s 2ms/sample - loss: 0.5122 - acc: 0.9942 - val_loss: 0.5055 - val_acc: 0.9943\n",
      "Epoch 25/40\n",
      "15475/15475 [==============================] - 24s 2ms/sample - loss: 0.5097 - acc: 0.9942 - val_loss: 0.5033 - val_acc: 0.9943\n",
      "Epoch 26/40\n",
      "15475/15475 [==============================] - 25s 2ms/sample - loss: 0.5098 - acc: 0.9939 - val_loss: 0.4976 - val_acc: 0.9938\n",
      "Epoch 27/40\n",
      "15475/15475 [==============================] - 24s 2ms/sample - loss: 0.5042 - acc: 0.9942 - val_loss: 0.5116 - val_acc: 0.9933\n",
      "Epoch 28/40\n",
      "15475/15475 [==============================] - 24s 2ms/sample - loss: 0.5055 - acc: 0.9945 - val_loss: 0.5010 - val_acc: 0.9935\n",
      "Epoch 29/40\n",
      "15475/15475 [==============================] - 24s 2ms/sample - loss: 0.5026 - acc: 0.9944 - val_loss: 0.4946 - val_acc: 0.9935\n",
      "Epoch 30/40\n",
      "15475/15475 [==============================] - 24s 2ms/sample - loss: 0.4999 - acc: 0.9943 - val_loss: 0.5383 - val_acc: 0.9863\n",
      "Epoch 31/40\n",
      "15475/15475 [==============================] - 24s 2ms/sample - loss: 0.5001 - acc: 0.9935 - val_loss: 0.4902 - val_acc: 0.9935\n",
      "Epoch 32/40\n",
      "15475/15475 [==============================] - 24s 2ms/sample - loss: 0.4961 - acc: 0.9945 - val_loss: 0.4930 - val_acc: 0.9938\n",
      "Epoch 33/40\n",
      "15475/15475 [==============================] - 24s 2ms/sample - loss: 0.4952 - acc: 0.9946 - val_loss: 0.4911 - val_acc: 0.9943\n",
      "Epoch 34/40\n",
      "15475/15475 [==============================] - 24s 2ms/sample - loss: 0.4938 - acc: 0.9945 - val_loss: 0.4892 - val_acc: 0.9935\n",
      "Epoch 35/40\n",
      "15360/15475 [============================>.] - ETA: 0s - loss: 0.4929 - acc: 0.9939Restoring model weights from the end of the best epoch.\n",
      "15475/15475 [==============================] - 25s 2ms/sample - loss: 0.4931 - acc: 0.9939 - val_loss: 0.4943 - val_acc: 0.9941\n",
      "Epoch 00035: early stopping\n",
      "9672/9672 [==============================] - 8s 836us/sample - loss: 0.4834 - acc: 0.9946\n",
      "Train on 23212 samples, validate on 5804 samples\n",
      "Epoch 1/40\n",
      "23212/23212 [==============================] - 41s 2ms/sample - loss: 0.8459 - acc: 0.7660 - val_loss: 0.6446 - val_acc: 0.9220\n",
      "Epoch 2/40\n",
      "23212/23212 [==============================] - 37s 2ms/sample - loss: 0.6342 - acc: 0.8990 - val_loss: 0.5341 - val_acc: 0.9655\n",
      "Epoch 3/40\n",
      "23212/23212 [==============================] - 38s 2ms/sample - loss: 0.5546 - acc: 0.9266 - val_loss: 0.4498 - val_acc: 0.9709\n",
      "Epoch 4/40\n",
      "23212/23212 [==============================] - 37s 2ms/sample - loss: 0.4881 - acc: 0.9348 - val_loss: 0.3882 - val_acc: 0.9781\n",
      "Epoch 5/40\n",
      "23212/23212 [==============================] - 37s 2ms/sample - loss: 0.4351 - acc: 0.9428 - val_loss: 0.3402 - val_acc: 0.9812\n",
      "Epoch 6/40\n",
      "23212/23212 [==============================] - 37s 2ms/sample - loss: 0.3895 - acc: 0.9475 - val_loss: 0.3077 - val_acc: 0.9857\n",
      "Epoch 7/40\n",
      "23212/23212 [==============================] - 38s 2ms/sample - loss: 0.3526 - acc: 0.9506 - val_loss: 0.2781 - val_acc: 0.9869\n",
      "Epoch 8/40\n",
      "23212/23212 [==============================] - 37s 2ms/sample - loss: 0.3255 - acc: 0.9608 - val_loss: 0.2512 - val_acc: 0.9883\n",
      "Epoch 9/40\n",
      "23212/23212 [==============================] - 37s 2ms/sample - loss: 0.3003 - acc: 0.9651 - val_loss: 0.2346 - val_acc: 0.9914\n",
      "Epoch 10/40\n",
      "23212/23212 [==============================] - 37s 2ms/sample - loss: 0.2821 - acc: 0.9691 - val_loss: 0.2242 - val_acc: 0.9919\n",
      "Epoch 11/40\n",
      "23212/23212 [==============================] - 36s 2ms/sample - loss: 0.2662 - acc: 0.9713 - val_loss: 0.2120 - val_acc: 0.9931\n",
      "Epoch 12/40\n",
      "23212/23212 [==============================] - 37s 2ms/sample - loss: 0.2529 - acc: 0.9738 - val_loss: 0.1986 - val_acc: 0.9938\n",
      "Epoch 13/40\n",
      "23212/23212 [==============================] - 36s 2ms/sample - loss: 0.2452 - acc: 0.9737 - val_loss: 0.1947 - val_acc: 0.9948\n",
      "Epoch 14/40\n",
      "23212/23212 [==============================] - 36s 2ms/sample - loss: 0.2361 - acc: 0.9750 - val_loss: 0.1865 - val_acc: 0.9957\n",
      "Epoch 15/40\n",
      "23212/23212 [==============================] - 36s 2ms/sample - loss: 0.2294 - acc: 0.9763 - val_loss: 0.1801 - val_acc: 0.9955\n",
      "Epoch 16/40\n",
      "23212/23212 [==============================] - 36s 2ms/sample - loss: 0.2234 - acc: 0.9766 - val_loss: 0.1773 - val_acc: 0.9953\n",
      "Epoch 17/40\n",
      "23212/23212 [==============================] - 37s 2ms/sample - loss: 0.2208 - acc: 0.9776 - val_loss: 0.1709 - val_acc: 0.9955\n",
      "Epoch 18/40\n",
      "23212/23212 [==============================] - 38s 2ms/sample - loss: 0.2181 - acc: 0.9767 - val_loss: 0.1676 - val_acc: 0.9962\n",
      "Epoch 19/40\n",
      "23212/23212 [==============================] - 36s 2ms/sample - loss: 0.2147 - acc: 0.9761 - val_loss: 0.1734 - val_acc: 0.9959\n",
      "Epoch 20/40\n",
      "23212/23212 [==============================] - 36s 2ms/sample - loss: 0.2101 - acc: 0.9771 - val_loss: 0.1628 - val_acc: 0.9959\n",
      "Epoch 21/40\n",
      "23212/23212 [==============================] - 37s 2ms/sample - loss: 0.2061 - acc: 0.9782 - val_loss: 0.1616 - val_acc: 0.9962\n",
      "Epoch 22/40\n",
      "23212/23212 [==============================] - 36s 2ms/sample - loss: 0.2071 - acc: 0.9760 - val_loss: 0.1570 - val_acc: 0.9960\n",
      "Epoch 23/40\n",
      "23212/23212 [==============================] - 37s 2ms/sample - loss: 0.2024 - acc: 0.9788 - val_loss: 0.1678 - val_acc: 0.9959\n",
      "Epoch 24/40\n",
      "23212/23212 [==============================] - 36s 2ms/sample - loss: 0.2021 - acc: 0.9776 - val_loss: 0.1599 - val_acc: 0.9962\n",
      "Epoch 25/40\n",
      "23040/23212 [============================>.] - ETA: 0s - loss: 0.1993 - acc: 0.9780\n",
      "Epoch 00025: ReduceLROnPlateau reducing learning rate to 0.00010000000474974513.\n",
      "23212/23212 [==============================] - 37s 2ms/sample - loss: 0.1993 - acc: 0.9779 - val_loss: 0.1603 - val_acc: 0.9960\n",
      "Epoch 26/40\n",
      "23212/23212 [==============================] - 37s 2ms/sample - loss: 0.1383 - acc: 0.9781 - val_loss: 0.0865 - val_acc: 0.9960\n",
      "Epoch 27/40\n",
      "23212/23212 [==============================] - 36s 2ms/sample - loss: 0.1279 - acc: 0.9786 - val_loss: 0.0850 - val_acc: 0.9960\n",
      "Epoch 28/40\n",
      "23212/23212 [==============================] - 36s 2ms/sample - loss: 0.1264 - acc: 0.9786 - val_loss: 0.0840 - val_acc: 0.9960\n",
      "Epoch 29/40\n",
      "23212/23212 [==============================] - 37s 2ms/sample - loss: 0.1252 - acc: 0.9782 - val_loss: 0.0843 - val_acc: 0.9960\n",
      "Epoch 30/40\n",
      "23212/23212 [==============================] - 36s 2ms/sample - loss: 0.1264 - acc: 0.9773 - val_loss: 0.0836 - val_acc: 0.9960\n",
      "Epoch 31/40\n",
      "23212/23212 [==============================] - 37s 2ms/sample - loss: 0.1265 - acc: 0.9779 - val_loss: 0.0835 - val_acc: 0.9960\n",
      "Epoch 32/40\n",
      "23212/23212 [==============================] - 37s 2ms/sample - loss: 0.1259 - acc: 0.9767 - val_loss: 0.0833 - val_acc: 0.9960\n",
      "Epoch 33/40\n",
      "23212/23212 [==============================] - 37s 2ms/sample - loss: 0.1279 - acc: 0.9763 - val_loss: 0.0837 - val_acc: 0.9960\n",
      "Epoch 34/40\n",
      "23040/23212 [============================>.] - ETA: 0s - loss: 0.1260 - acc: 0.9784Restoring model weights from the end of the best epoch.\n",
      "23212/23212 [==============================] - 38s 2ms/sample - loss: 0.1261 - acc: 0.9782 - val_loss: 0.0835 - val_acc: 0.9960\n",
      "Epoch 00034: early stopping\n",
      "--- 4.872645437187618 horas ---\n"
     ]
    }
   ],
   "source": [
    "reduce_lr=ReduceLROnPlateau(monitor='val_loss',patience=3,verbose=1)\n",
    "early_stopping=EarlyStopping(monitor='val_loss',min_delta=0.001,patience=4,restore_best_weights=True,verbose=1)\n",
    "callbacks=[reduce_lr,early_stopping]\n",
    "\n",
    "tok=time.time()\n",
    "grid.fit(X_train,y_train,validation_split=0.2,batch_size=512,epochs=40,callbacks=callbacks,verbose=1)\n",
    "tiempo=(time.time()-tok)/60/60\n",
    "print('--- %s horas ---' % tiempo)"
   ]
  },
  {
   "cell_type": "code",
   "execution_count": 83,
   "metadata": {},
   "outputs": [
    {
     "name": "stdout",
     "output_type": "stream",
     "text": [
      "0.99552\n",
      "{'batch_size': 512, 'epochs': 15, 'verbose': 1, 'units': 10, 'dropout_rate': 0.5, 'build_fn': <function model3 at 0x0000027ADFB19C18>}\n"
     ]
    }
   ],
   "source": [
    "print(grid.best_score_.round(5))\n",
    "print(grid.best_estimator_.get_params())"
   ]
  },
  {
   "cell_type": "code",
   "execution_count": 84,
   "metadata": {},
   "outputs": [
    {
     "name": "stdout",
     "output_type": "stream",
     "text": [
      "3869/3869 [==============================] - 3s 658us/sample\n",
      "Accuracy= 0.9968984233652106\n",
      "29016/29016 [==============================] - 37s 1ms/sample\n",
      "Accuracy= 0.9957264957264957\n"
     ]
    }
   ],
   "source": [
    "y_pred_grid =grid.predict(X_test)\n",
    "res_3_test=accuracy_score(y_test, y_pred_grid)\n",
    "print('Accuracy=', res_3_test)\n",
    "\n",
    "y_train_grid=grid.predict(X_train)\n",
    "res_3_train=accuracy_score(y_train, y_train_grid)\n",
    "print('Accuracy=', res_3_train)\n"
   ]
  },
  {
   "cell_type": "code",
   "execution_count": 87,
   "metadata": {},
   "outputs": [
    {
     "data": {
      "text/html": [
       "<div>\n",
       "<style scoped>\n",
       "    .dataframe tbody tr th:only-of-type {\n",
       "        vertical-align: middle;\n",
       "    }\n",
       "\n",
       "    .dataframe tbody tr th {\n",
       "        vertical-align: top;\n",
       "    }\n",
       "\n",
       "    .dataframe thead th {\n",
       "        text-align: right;\n",
       "    }\n",
       "</style>\n",
       "<table border=\"1\" class=\"dataframe\">\n",
       "  <thead>\n",
       "    <tr style=\"text-align: right;\">\n",
       "      <th></th>\n",
       "      <th>Model</th>\n",
       "      <th>Train Acc</th>\n",
       "      <th>Test Acc</th>\n",
       "      <th>Train Acc - Test Acc</th>\n",
       "    </tr>\n",
       "  </thead>\n",
       "  <tbody>\n",
       "    <tr>\n",
       "      <th>1</th>\n",
       "      <td>Modelo 1</td>\n",
       "      <td>99.969</td>\n",
       "      <td>99.1212</td>\n",
       "      <td>0.847763</td>\n",
       "    </tr>\n",
       "    <tr>\n",
       "      <th>2</th>\n",
       "      <td>Modelo 2</td>\n",
       "      <td>99.5726</td>\n",
       "      <td>99.6123</td>\n",
       "      <td>-0.039655</td>\n",
       "    </tr>\n",
       "    <tr>\n",
       "      <th>3</th>\n",
       "      <td>Modelo 3</td>\n",
       "      <td>0.995726</td>\n",
       "      <td>0.996898</td>\n",
       "      <td>-0.00117193</td>\n",
       "    </tr>\n",
       "  </tbody>\n",
       "</table>\n",
       "</div>"
      ],
      "text/plain": [
       "      Model Train Acc  Test Acc Train Acc - Test Acc\n",
       "1  Modelo 1    99.969   99.1212             0.847763\n",
       "2  Modelo 2   99.5726   99.6123            -0.039655\n",
       "3  Modelo 3  0.995726  0.996898          -0.00117193"
      ]
     },
     "execution_count": 87,
     "metadata": {},
     "output_type": "execute_result"
    }
   ],
   "source": [
    "df_Results.loc[3,'Model']='Modelo 3'\n",
    "df_Results.loc[3,'Train Acc']=res_3_train\n",
    "df_Results.loc[3,'Test Acc']=res_3_test\n",
    "df_Results.loc[3,'Train Acc - Test Acc']=res_3_train-res_3_test\n",
    "\n",
    "df_Results"
   ]
  },
  {
   "cell_type": "code",
   "execution_count": null,
   "metadata": {},
   "outputs": [],
   "source": []
  }
 ],
 "metadata": {
  "accelerator": "TPU",
  "colab": {
   "collapsed_sections": [],
   "name": "Untitled.ipynb",
   "provenance": []
  },
  "kernelspec": {
   "display_name": "Python 3",
   "language": "python",
   "name": "python3"
  },
  "language_info": {
   "codemirror_mode": {
    "name": "ipython",
    "version": 3
   },
   "file_extension": ".py",
   "mimetype": "text/x-python",
   "name": "python",
   "nbconvert_exporter": "python",
   "pygments_lexer": "ipython3",
   "version": "3.7.7"
  }
 },
 "nbformat": 4,
 "nbformat_minor": 4
}
